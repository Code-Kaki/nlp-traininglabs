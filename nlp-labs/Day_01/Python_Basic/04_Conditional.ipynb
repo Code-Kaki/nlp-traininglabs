{
 "cells": [
  {
   "cell_type": "markdown",
   "metadata": {},
   "source": [
    "> **Copyright (c) 2020 Skymind Holdings Berhad**<br><br>\n",
    "> **Copyright (c) 2021 Skymind Education Group Sdn. Bhd.**<br>\n",
    "<br>\n",
    "Licensed under the Apache License, Version 2.0 (the \\\"License\\\");\n",
    "<br>you may not use this file except in compliance with the License.\n",
    "<br>You may obtain a copy of the License at http://www.apache.org/licenses/LICENSE-2.0/\n",
    "<br>\n",
    "<br>Unless required by applicable law or agreed to in writing, software\n",
    "<br>distributed under the License is distributed on an \\\"AS IS\\\" BASIS,\n",
    "<br>WITHOUT WARRANTIES OR CONDITIONS OF ANY KIND, either express or implied.\n",
    "<br>See the License for the specific language governing permissions and\n",
    "<br>limitations under the License.\n",
    "<br>\n",
    "<br>\n",
    "**SPDX-License-Identifier: Apache-2.0**\n",
    "<br>"
   ]
  },
  {
   "cell_type": "markdown",
   "metadata": {},
   "source": [
    "# Introduction\n",
    "\n",
    "In the last tutorial, you have learned how to use for-loop together with python sequences. Now, you will be introduced to the basic of conditional expression."
   ]
  },
  {
   "cell_type": "markdown",
   "metadata": {},
   "source": [
    "# Notebook Content\n",
    "\n",
    "* [Conditional](#Conditional)\n",
    "\n",
    "\n",
    "* [Logical Operator](#Logical-Operator)\n",
    "\n",
    "\n",
    "* [The in and not in Operators](#The-in-and-not-in-Operators)\n",
    "\n",
    "\n",
    "* [Precedence of Operators](#Precedence-of-Operators)\n",
    "\n",
    "\n",
    "* [Conditional Execution](#Conditional-Execution)\n",
    "\n",
    "\n",
    "* [Nested Conditionals](#Nested-Conditionals)\n",
    "\n",
    "\n",
    "* [Chained Conditionals](#Chained-Conditionals)\n",
    "\n",
    "\n",
    "* [Challenges](#Challenge-1)"
   ]
  },
  {
   "cell_type": "markdown",
   "metadata": {
    "id": "X-Xp0_4BDbel"
   },
   "source": [
    "# Conditional\n",
    "- Boolean Values\n",
    "  - *True*\n",
    "  - *False*\n",
    "  \n",
    "  **IMPORTANT:** **Capitalization** is important and *True* or *False* are **not strings**\n",
    "- Boolean Expressions\n",
    "  - An expression that evaluates to a boolean value\n",
    "  - 6 common comparison operators:\n",
    "\n",
    "        x == y               # x is equal to y\n",
    "        x != y               # x is not equal to y\n",
    "        x > y                # x is greater than y\n",
    "        x < y                # x is less than y\n",
    "        x >= y               # x is greater than or equal to y\n",
    "        x <= y               # x is less than or equal to y"
   ]
  },
  {
   "cell_type": "code",
   "execution_count": 1,
   "metadata": {
    "colab": {
     "base_uri": "https://localhost:8080/"
    },
    "executionInfo": {
     "elapsed": 1161,
     "status": "ok",
     "timestamp": 1606738757778,
     "user": {
      "displayName": "Tan chee lam",
      "photoUrl": "https://lh3.googleusercontent.com/a-/AOh14GiJr326PVTrMvSfwUW6T-z0ZonqXE15R45mf30M=s64",
      "userId": "10981313530642734552"
     },
     "user_tz": -480
    },
    "id": "UxG9Qh0VFcfF",
    "outputId": "39d8dcea-5d43-42da-a6ca-cedf6242f84c"
   },
   "outputs": [
    {
     "name": "stdout",
     "output_type": "stream",
     "text": [
      "<class 'bool'>\n",
      "<class 'str'>\n",
      "True\n",
      "False\n",
      "False\n",
      "True\n"
     ]
    }
   ],
   "source": [
    "print(type(True))\n",
    "print(type(\"true\"))\n",
    "\n",
    "print(5 == 5)\n",
    "print(5 == 10)\n",
    "print(15 > 20)\n",
    "print(15 <= 20)"
   ]
  },
  {
   "cell_type": "markdown",
   "metadata": {
    "id": "OBnlt9WtF9yU"
   },
   "source": [
    "# Logical Operator\n",
    "> <img src=\"https://ieda.ust.hk/dfaculty/ajay/courses/alp/ieem110/lecs/numsys/Image126.gif\">\n",
    "\n",
    "- and - Return *True* only when both expressions are *True*\n",
    "- or - Return *True* when either expression is *True* \n",
    "- not - Negate a boolean expression value.\n",
    "\n",
    "\n",
    "\n",
    "\n"
   ]
  },
  {
   "cell_type": "code",
   "execution_count": 2,
   "metadata": {
    "colab": {
     "base_uri": "https://localhost:8080/"
    },
    "executionInfo": {
     "elapsed": 1423,
     "status": "ok",
     "timestamp": 1606739521036,
     "user": {
      "displayName": "Tan chee lam",
      "photoUrl": "https://lh3.googleusercontent.com/a-/AOh14GiJr326PVTrMvSfwUW6T-z0ZonqXE15R45mf30M=s64",
      "userId": "10981313530642734552"
     },
     "user_tz": -480
    },
    "id": "URdWkD_VIcEv",
    "outputId": "25b82ae2-c0e0-47d5-ed93-65e4f9b39426"
   },
   "outputs": [
    {
     "name": "stdout",
     "output_type": "stream",
     "text": [
      "True\n",
      "False\n"
     ]
    }
   ],
   "source": [
    "x = 5\n",
    "print(x>0 and x<10)\n",
    "print(x<0 and x<7)"
   ]
  },
  {
   "cell_type": "code",
   "execution_count": 3,
   "metadata": {
    "colab": {
     "base_uri": "https://localhost:8080/"
    },
    "executionInfo": {
     "elapsed": 1158,
     "status": "ok",
     "timestamp": 1606739581557,
     "user": {
      "displayName": "Tan chee lam",
      "photoUrl": "https://lh3.googleusercontent.com/a-/AOh14GiJr326PVTrMvSfwUW6T-z0ZonqXE15R45mf30M=s64",
      "userId": "10981313530642734552"
     },
     "user_tz": -480
    },
    "id": "BgvqK7lxI6G5",
    "outputId": "ded92906-9446-4815-e90a-aa91bdea9ed9"
   },
   "outputs": [
    {
     "name": "stdout",
     "output_type": "stream",
     "text": [
      "False\n",
      "True\n"
     ]
    }
   ],
   "source": [
    "n = 25\n",
    "print(n%2 == 0 or n%3 == 0)\n",
    "print(n%5 == 0 or n%7 == 0)"
   ]
  },
  {
   "cell_type": "code",
   "execution_count": 4,
   "metadata": {
    "colab": {
     "base_uri": "https://localhost:8080/"
    },
    "executionInfo": {
     "elapsed": 927,
     "status": "ok",
     "timestamp": 1606739782977,
     "user": {
      "displayName": "Tan chee lam",
      "photoUrl": "https://lh3.googleusercontent.com/a-/AOh14GiJr326PVTrMvSfwUW6T-z0ZonqXE15R45mf30M=s64",
      "userId": "10981313530642734552"
     },
     "user_tz": -480
    },
    "id": "YPTbMUHRJGmm",
    "outputId": "55586d9a-70e5-4eb8-f9a6-dec23b192a3b"
   },
   "outputs": [
    {
     "name": "stdout",
     "output_type": "stream",
     "text": [
      "False\n",
      "True\n"
     ]
    }
   ],
   "source": [
    "m = 10\n",
    "print(not m%2 == 0)\n",
    "print(m-7 != 0)"
   ]
  },
  {
   "cell_type": "markdown",
   "metadata": {
    "id": "KaNVWX8nJ4P2"
   },
   "source": [
    "# The **in** and **not in** Operators\n",
    "- *in* is used to determine whether an element is found in the sequence (string, list or tuple)\n"
   ]
  },
  {
   "cell_type": "code",
   "execution_count": 5,
   "metadata": {
    "colab": {
     "base_uri": "https://localhost:8080/"
    },
    "executionInfo": {
     "elapsed": 1551,
     "status": "ok",
     "timestamp": 1606740701490,
     "user": {
      "displayName": "Tan chee lam",
      "photoUrl": "https://lh3.googleusercontent.com/a-/AOh14GiJr326PVTrMvSfwUW6T-z0ZonqXE15R45mf30M=s64",
      "userId": "10981313530642734552"
     },
     "user_tz": -480
    },
    "id": "Vxfo8APHNWIo",
    "outputId": "c748b28d-524f-475e-9e2c-e20620f57c62"
   },
   "outputs": [
    {
     "name": "stdout",
     "output_type": "stream",
     "text": [
      "True\n",
      "False\n",
      "True\n",
      "False\n"
     ]
    }
   ],
   "source": [
    "print('p' in 'apple')\n",
    "print('i' in 'apple')\n",
    "print('ap' in 'apple')\n",
    "print('pa' in 'apple')"
   ]
  },
  {
   "cell_type": "code",
   "execution_count": 6,
   "metadata": {
    "colab": {
     "base_uri": "https://localhost:8080/"
    },
    "executionInfo": {
     "elapsed": 971,
     "status": "ok",
     "timestamp": 1606740733668,
     "user": {
      "displayName": "Tan chee lam",
      "photoUrl": "https://lh3.googleusercontent.com/a-/AOh14GiJr326PVTrMvSfwUW6T-z0ZonqXE15R45mf30M=s64",
      "userId": "10981313530642734552"
     },
     "user_tz": -480
    },
    "id": "-paIYgtFNcjQ",
    "outputId": "1cade98b-71c3-4bfd-ebd3-cc868422caf1"
   },
   "outputs": [
    {
     "name": "stdout",
     "output_type": "stream",
     "text": [
      "True\n",
      "True\n",
      "True\n",
      "True\n"
     ]
    }
   ],
   "source": [
    "print('a' in 'a')\n",
    "print('apple' in 'apple')\n",
    "print('' in 'a')\n",
    "print('' in 'apple')\n",
    "# Empty string is the subset of all string"
   ]
  },
  {
   "cell_type": "code",
   "execution_count": 7,
   "metadata": {
    "colab": {
     "base_uri": "https://localhost:8080/"
    },
    "executionInfo": {
     "elapsed": 1073,
     "status": "ok",
     "timestamp": 1606740786809,
     "user": {
      "displayName": "Tan chee lam",
      "photoUrl": "https://lh3.googleusercontent.com/a-/AOh14GiJr326PVTrMvSfwUW6T-z0ZonqXE15R45mf30M=s64",
      "userId": "10981313530642734552"
     },
     "user_tz": -480
    },
    "id": "Tc5OeV2NNkZo",
    "outputId": "efa41dfc-9436-49c5-ffc1-f76ddbdfe7d9"
   },
   "outputs": [
    {
     "name": "stdout",
     "output_type": "stream",
     "text": [
      "False\n",
      "False\n"
     ]
    }
   ],
   "source": [
    "print('wow' not in ['gee wiz', 'gosh golly', 'wow', 'amazing'])\n",
    "print(\"a\" in [\"apple\", \"absolutely\", \"application\", \"nope\"])"
   ]
  },
  {
   "cell_type": "markdown",
   "metadata": {
    "id": "LXC50rSVOXjI"
   },
   "source": [
    "# Precedence of Operators\n",
    "\n",
    "![Operator Precedences.png](data:image/png;base64,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)"
   ]
  },
  {
   "cell_type": "markdown",
   "metadata": {
    "id": "2-E7pLqKTzaK"
   },
   "source": [
    "<h3> Test </h3>\n",
    "What is the boolean value for the expression below:\n",
    "\n",
    "    5 * 3 > 10 and 4 + 6 == 11"
   ]
  },
  {
   "cell_type": "code",
   "execution_count": 8,
   "metadata": {
    "colab": {
     "base_uri": "https://localhost:8080/"
    },
    "executionInfo": {
     "elapsed": 1045,
     "status": "ok",
     "timestamp": 1606742597578,
     "user": {
      "displayName": "Tan chee lam",
      "photoUrl": "https://lh3.googleusercontent.com/a-/AOh14GiJr326PVTrMvSfwUW6T-z0ZonqXE15R45mf30M=s64",
      "userId": "10981313530642734552"
     },
     "user_tz": -480
    },
    "id": "0_L5hjvFUkXK",
    "outputId": "d7ef90a9-fe14-44c8-ba1d-4bc5eadbdaab"
   },
   "outputs": [
    {
     "name": "stdout",
     "output_type": "stream",
     "text": [
      "False\n"
     ]
    }
   ],
   "source": [
    "print(5 * 3 > 10 and 4 + 6 == 11)"
   ]
  },
  {
   "cell_type": "markdown",
   "metadata": {
    "id": "GwZewh-nViDC"
   },
   "source": [
    "# Conditional Execution\n",
    "    if BOOLEAN EXPRESSION:\n",
    "    STATEMENTS_1        # executed if condition evaluates to True\n",
    "    else:\n",
    "    STATEMENTS_2        # executed if condition evaluates to False\n",
    "\n",
    "- Excecute the **if-statement block** when the conditional expression is *True*\n",
    "- Excecute the **else-statement block** when the conditional expression is *False*\n",
    "\n",
    "  <img src=\"https://fopp.umsi.education/books/published/fopp/_images/flowchart_if_else.png\">"
   ]
  },
  {
   "cell_type": "code",
   "execution_count": 9,
   "metadata": {
    "colab": {
     "base_uri": "https://localhost:8080/"
    },
    "executionInfo": {
     "elapsed": 957,
     "status": "ok",
     "timestamp": 1606743407864,
     "user": {
      "displayName": "Tan chee lam",
      "photoUrl": "https://lh3.googleusercontent.com/a-/AOh14GiJr326PVTrMvSfwUW6T-z0ZonqXE15R45mf30M=s64",
      "userId": "10981313530642734552"
     },
     "user_tz": -480
    },
    "id": "tQ73V8lCWOCD",
    "outputId": "b0c21c55-55ce-442e-d4c5-56d8532d2ed6"
   },
   "outputs": [
    {
     "name": "stdout",
     "output_type": "stream",
     "text": [
      "Is less than 100\n"
     ]
    }
   ],
   "source": [
    "x = 50 + 30\n",
    "\n",
    "if x < 100:\n",
    "  print(\"Is less than 100\") # block of code\n",
    "else:\n",
    "  print(\"Is more than or equal to 100\")"
   ]
  },
  {
   "cell_type": "markdown",
   "metadata": {
    "id": "DUjDBOj2YeE8"
   },
   "source": [
    "# Nested Conditionals\n",
    "    if x < y:\n",
    "        print(\"x is less than y\") # statement_a\n",
    "    else:\n",
    "        if x > y:\n",
    "            print(\"x is greater than y\") # statement_b\n",
    "        else:\n",
    "            print(\"x and y must be equal\") # statement_c\n",
    "\n",
    "<img src=\"https://fopp.umsi.education/books/published/fopp/_images/flowchart_nested_conditional.png\">"
   ]
  },
  {
   "cell_type": "code",
   "execution_count": 10,
   "metadata": {
    "colab": {
     "base_uri": "https://localhost:8080/"
    },
    "executionInfo": {
     "elapsed": 945,
     "status": "ok",
     "timestamp": 1606743872339,
     "user": {
      "displayName": "Tan chee lam",
      "photoUrl": "https://lh3.googleusercontent.com/a-/AOh14GiJr326PVTrMvSfwUW6T-z0ZonqXE15R45mf30M=s64",
      "userId": "10981313530642734552"
     },
     "user_tz": -480
    },
    "id": "rtB0U6YFZcW2",
    "outputId": "742cf9a8-12fc-40e8-d24f-6ed7c2e032cb"
   },
   "outputs": [
    {
     "name": "stdout",
     "output_type": "stream",
     "text": [
      "x and y must be equal\n"
     ]
    }
   ],
   "source": [
    "x = 10\n",
    "y = 10\n",
    "\n",
    "if x < y:\n",
    "    print(\"x is less than y\")\n",
    "else:\n",
    "    if x > y:\n",
    "        print(\"x is greater than y\")\n",
    "    else:\n",
    "        print(\"x and y must be equal\")"
   ]
  },
  {
   "cell_type": "markdown",
   "metadata": {
    "id": "YoPE3ib0Zhud"
   },
   "source": [
    "# Chained Conditionals\n",
    "- Using *elif* statement\n",
    "- Provide more conditionals\n",
    "\n",
    "      if x < y:\n",
    "          print(\"x is less than y\")\n",
    "      elif x > y:\n",
    "          print(\"x is greater than y\")\n",
    "      else:\n",
    "          print(\"x and y must be equal\")\n",
    "\n",
    "  <img src=\"https://fopp.umsi.education/books/published/fopp/_images/flowchart_chained_conditional.png\">"
   ]
  },
  {
   "cell_type": "code",
   "execution_count": 11,
   "metadata": {
    "colab": {
     "base_uri": "https://localhost:8080/"
    },
    "executionInfo": {
     "elapsed": 1000,
     "status": "ok",
     "timestamp": 1606744481753,
     "user": {
      "displayName": "Tan chee lam",
      "photoUrl": "https://lh3.googleusercontent.com/a-/AOh14GiJr326PVTrMvSfwUW6T-z0ZonqXE15R45mf30M=s64",
      "userId": "10981313530642734552"
     },
     "user_tz": -480
    },
    "id": "QiqZh7LJbpOt",
    "outputId": "8b860f26-1cde-4360-8b26-7133c4ec9f6f"
   },
   "outputs": [
    {
     "name": "stdout",
     "output_type": "stream",
     "text": [
      "c\n"
     ]
    }
   ],
   "source": [
    "x = 3\n",
    "y = 5\n",
    "z = 2\n",
    "\n",
    "if x < y and x < z:\n",
    "    print(\"a\")\n",
    "elif y < x and y < z:\n",
    "    print(\"b\")\n",
    "else:\n",
    "    print(\"c\")"
   ]
  },
  {
   "cell_type": "markdown",
   "metadata": {
    "id": "4XOkY6-UcR3d"
   },
   "source": [
    "# Challenge 1\n",
    "Write code that asks the user to **enter a numeric score (0-100)**. In response, it should print out the **score** and corresponding letter **grade**, according to the table below.\n",
    "\n",
    "![score.png](data:image/png;base64,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)\n",
    "\n",
    "The square and round brackets denote closed and open intervals. A closed interval includes the number, and open interval excludes it. So **79.99999 gets grade C** , but **80 gets grade B**.\n",
    "\n"
   ]
  },
  {
   "cell_type": "code",
   "execution_count": 12,
   "metadata": {
    "colab": {
     "base_uri": "https://localhost:8080/"
    },
    "executionInfo": {
     "elapsed": 5650,
     "status": "ok",
     "timestamp": 1606745267812,
     "user": {
      "displayName": "Tan chee lam",
      "photoUrl": "https://lh3.googleusercontent.com/a-/AOh14GiJr326PVTrMvSfwUW6T-z0ZonqXE15R45mf30M=s64",
      "userId": "10981313530642734552"
     },
     "user_tz": -480
    },
    "id": "_zcEFTtaeib_",
    "outputId": "bd54f614-8d7f-467b-9887-26b361004986"
   },
   "outputs": [
    {
     "name": "stdout",
     "output_type": "stream",
     "text": [
      "Enter your score: 89\n",
      "B\n"
     ]
    }
   ],
   "source": [
    "score = float(input('Enter your score: '))\n",
    "grade = None\n",
    "\n",
    "if score >= 90:\n",
    "    grade = 'A'\n",
    "elif score >= 80:\n",
    "    grade = 'B'\n",
    "elif score >= 70:\n",
    "    grade = 'C'\n",
    "elif score >= 60:\n",
    "    grade = 'D'\n",
    "else:\n",
    "    grade = 'F'\n",
    "\n",
    "print(grade)"
   ]
  },
  {
   "cell_type": "markdown",
   "metadata": {
    "id": "8zsZFjULez8V"
   },
   "source": [
    "# Challenge 2\n",
    "A year is a **leap year** if it is **divisible by 4**. If the year can be **evenly divided by 100**, it is **NOT a leap year**, unless the year is also **evenly divisible by 400**. Then it is a leap year. Write code that asks the user to input a year and output **True if it’s a leap year**, or **False otherwise**. Use if statements.\n",
    "\n",
    "![leap.png](data:image/png;base64,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)"
   ]
  },
  {
   "cell_type": "code",
   "execution_count": 13,
   "metadata": {
    "colab": {
     "base_uri": "https://localhost:8080/"
    },
    "executionInfo": {
     "elapsed": 1150,
     "status": "ok",
     "timestamp": 1606746943697,
     "user": {
      "displayName": "Tan chee lam",
      "photoUrl": "https://lh3.googleusercontent.com/a-/AOh14GiJr326PVTrMvSfwUW6T-z0ZonqXE15R45mf30M=s64",
      "userId": "10981313530642734552"
     },
     "user_tz": -480
    },
    "id": "LCZP4rovkoBg",
    "outputId": "e737b6e3-f186-422c-98f9-b775da389eee"
   },
   "outputs": [
    {
     "name": "stdout",
     "output_type": "stream",
     "text": [
      "True\n",
      "False\n",
      "False\n",
      "False\n",
      "False\n",
      "True\n",
      "True\n"
     ]
    }
   ],
   "source": [
    "years = [1944, 2011, 1986, 1800, 1900, 2000, 2056]\n",
    "\n",
    "# year = int(input('Enter a year: '))\n",
    "# isLeap = year % 4 == 0 and year % 100 != 0 or year % 400 == 0\n",
    "# print(isLeap)\n",
    "\n",
    "for year in years:\n",
    "  isLeap = year % 4 == 0 and year % 100 != 0 or year % 400 == 0\n",
    "  print(isLeap)"
   ]
  },
  {
   "cell_type": "markdown",
   "metadata": {
    "id": "t2Pc41A7ljpx"
   },
   "source": [
    "# Challenge 3\n",
    "Calculate the **sum of all even numbers** in the *num_list* below:\n",
    "\n",
    "    num_list = [5, 1, 20, 88, 16, 17, 23, 25, 66, 45, 86, 72]\n",
    "\n",
    "Create the variable *sum* to store the value."
   ]
  },
  {
   "cell_type": "code",
   "execution_count": 14,
   "metadata": {
    "colab": {
     "base_uri": "https://localhost:8080/"
    },
    "executionInfo": {
     "elapsed": 1120,
     "status": "ok",
     "timestamp": 1606747339155,
     "user": {
      "displayName": "Tan chee lam",
      "photoUrl": "https://lh3.googleusercontent.com/a-/AOh14GiJr326PVTrMvSfwUW6T-z0ZonqXE15R45mf30M=s64",
      "userId": "10981313530642734552"
     },
     "user_tz": -480
    },
    "id": "GwuYwRzLmgWZ",
    "outputId": "d19bd791-78ee-4d5d-e307-7c0e2d4f8e9f"
   },
   "outputs": [
    {
     "name": "stdout",
     "output_type": "stream",
     "text": [
      "348\n"
     ]
    }
   ],
   "source": [
    "num_list = [5, 1, 20, 88, 16, 17, 23, 25, 66, 45, 86, 72]\n",
    "sum = 0\n",
    "\n",
    "for num in num_list:\n",
    "  if num % 2 == 0:\n",
    "    sum += num\n",
    "\n",
    "print(sum)"
   ]
  },
  {
   "cell_type": "markdown",
   "metadata": {
    "id": "WjV-07gwmyhh"
   },
   "source": [
    "# Challenge 4\n",
    "Get the user to enter some text and print out True if it’s a **palindrome**, False otherwise.\n",
    "\n",
    "Palindrome is a sequence of characters which reads the same backward as forward\n",
    "\n",
    "<img src=\"https://uselessetymology.files.wordpress.com/2019/10/palindrome-useless-etymology-12.png?w=1088\">"
   ]
  },
  {
   "cell_type": "code",
   "execution_count": 15,
   "metadata": {
    "colab": {
     "base_uri": "https://localhost:8080/"
    },
    "executionInfo": {
     "elapsed": 5701,
     "status": "ok",
     "timestamp": 1606747750723,
     "user": {
      "displayName": "Tan chee lam",
      "photoUrl": "https://lh3.googleusercontent.com/a-/AOh14GiJr326PVTrMvSfwUW6T-z0ZonqXE15R45mf30M=s64",
      "userId": "10981313530642734552"
     },
     "user_tz": -480
    },
    "id": "u84dCLqRnVyx",
    "outputId": "19b76542-cde4-45a5-8e9d-d23a6ace4c63"
   },
   "outputs": [
    {
     "name": "stdout",
     "output_type": "stream",
     "text": [
      "Enter some text: racecar\n",
      "True\n"
     ]
    }
   ],
   "source": [
    "txt = input(\"Enter some text: \")\n",
    "\n",
    "def isPalindrome(txt):\n",
    "    for i in range(len(txt)):\n",
    "        if txt[i] != txt[-1 - i]:\n",
    "            return False\n",
    "    return True\n",
    "\n",
    "output = isPalindrome(txt)\n",
    "print(output)"
   ]
  },
  {
   "cell_type": "markdown",
   "metadata": {},
   "source": [
    "# Contributors\n",
    "\n",
    "**Author**\n",
    "<br>Chee Lam"
   ]
  },
  {
   "cell_type": "markdown",
   "metadata": {},
   "source": [
    "# References\n",
    "\n",
    "1. [Python Documentation](https://docs.python.org/3/)\n",
    "2. [Coursera Python Specialization Course](https://www.coursera.org/specializations/python-3-programming)"
   ]
  }
 ],
 "metadata": {
  "colab": {
   "authorship_tag": "ABX9TyOi+G3pjHnvN+UR+aHKgpRM",
   "collapsed_sections": [],
   "name": "Conditional.ipynb",
   "provenance": []
  },
  "kernelspec": {
   "display_name": "Python 3",
   "language": "python",
   "name": "python3"
  },
  "language_info": {
   "codemirror_mode": {
    "name": "ipython",
    "version": 3
   },
   "file_extension": ".py",
   "mimetype": "text/x-python",
   "name": "python",
   "nbconvert_exporter": "python",
   "pygments_lexer": "ipython3",
   "version": "3.8.8"
  }
 },
 "nbformat": 4,
 "nbformat_minor": 1
}
