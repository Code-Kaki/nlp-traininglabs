{
 "cells": [
  {
   "cell_type": "markdown",
   "metadata": {},
   "source": [
    "> **Copyright (c) 2020 Skymind Holdings Berhad**<br><br>\n",
    "> **Copyright (c) 2021 Skymind Education Group Sdn. Bhd.**<br>\n",
    "<br>\n",
    "Licensed under the Apache License, Version 2.0 (the \\\"License\\\");\n",
    "<br>you may not use this file except in compliance with the License.\n",
    "<br>You may obtain a copy of the License at http://www.apache.org/licenses/LICENSE-2.0/\n",
    "<br>\n",
    "<br>Unless required by applicable law or agreed to in writing, software\n",
    "<br>distributed under the License is distributed on an \\\"AS IS\\\" BASIS,\n",
    "<br>WITHOUT WARRANTIES OR CONDITIONS OF ANY KIND, either express or implied.\n",
    "<br>See the License for the specific language governing permissions and\n",
    "<br>limitations under the License.\n",
    "<br>\n",
    "<br>\n",
    "**SPDX-License-Identifier: Apache-2.0**\n",
    "<br>"
   ]
  },
  {
   "cell_type": "markdown",
   "metadata": {},
   "source": [
    "# Introduction\n",
    "\n",
    "In this notebook, you will learn what is python function and how to construct it."
   ]
  },
  {
   "cell_type": "markdown",
   "metadata": {},
   "source": [
    "# Notebook Content\n",
    "\n",
    "* [Function Definition](#Function-Definition)\n",
    "\n",
    "\n",
    "* [Function Invocation](#Function-Invocation)\n",
    "\n",
    "\n",
    "* [Parameters](#Parameters)\n",
    "\n",
    "\n",
    "* [Return Value](#Return-Value)\n",
    "\n",
    "\n",
    "* [Examples](#Example-1)\n",
    "\n",
    "\n",
    "* [Challenges](#Challenge-1)"
   ]
  },
  {
   "cell_type": "markdown",
   "metadata": {
    "id": "OHFyoTRfs1pc"
   },
   "source": [
    "# Function Definition\n",
    "- A function can have **multiple inputs value (arguments)** but can only consist of **one output value**\n",
    "<img src=\"https://fopp.umsi.education/books/published/fopp/_images/function_calls.gif\">\n",
    "\n",
    "      def name( parameters ):\n",
    "        statements\n",
    "\n",
    "    - header line must **begins with a keyword (def)** and **ends with a colon**\n",
    "    - **parameters** specify what **input needed** in order to use the new function\n",
    "    - **body** consisting of one or more **Python statements** with same **indentation**"
   ]
  },
  {
   "cell_type": "code",
   "execution_count": 1,
   "metadata": {
    "id": "EhzQ8HkHwNOk"
   },
   "outputs": [],
   "source": [
    "# Function without parameter\n",
    "def printHello():\n",
    "  print(\"Hello\")\n",
    "  print(\"Nice to meet you\")\n",
    "\n",
    "# Function with parameter\n",
    "def greeting(name):\n",
    "  print(\"Hello\", name)\n",
    "  print(\"Nice to meet you\")\n"
   ]
  },
  {
   "cell_type": "markdown",
   "metadata": {
    "id": "ybjNa_CTxsAy"
   },
   "source": [
    "# Function Invocation\n",
    "- We need a **function call** to execute the function\n",
    "- To invoke a function, put **function name** followed by **parentheses**\n",
    "- **Parenthesis** is the required syntax\n",
    "- Input **required arguments** if any\n",
    "- **IMPORTANT**: Function must be declared before it is invoked\n",
    "\n",
    "      function_name() # Function Invocation"
   ]
  },
  {
   "cell_type": "code",
   "execution_count": 2,
   "metadata": {
    "colab": {
     "base_uri": "https://localhost:8080/"
    },
    "executionInfo": {
     "elapsed": 1211,
     "status": "ok",
     "timestamp": 1606750780068,
     "user": {
      "displayName": "Tan chee lam",
      "photoUrl": "https://lh3.googleusercontent.com/a-/AOh14GiJr326PVTrMvSfwUW6T-z0ZonqXE15R45mf30M=s64",
      "userId": "10981313530642734552"
     },
     "user_tz": -480
    },
    "id": "2HQtw6ejzm4c",
    "outputId": "f04cfec9-0319-4017-cb4f-b5c48954a9d9"
   },
   "outputs": [
    {
     "name": "stdout",
     "output_type": "stream",
     "text": [
      "<class 'function'>\n",
      "Hello\n",
      "Nice to meet you\n",
      "<class 'NoneType'>\n"
     ]
    }
   ],
   "source": [
    "print(type(printHello))\n",
    "print(type(printHello()))"
   ]
  },
  {
   "cell_type": "code",
   "execution_count": 3,
   "metadata": {
    "id": "QxH3RW2ozzXD"
   },
   "outputs": [],
   "source": [
    "# This code will run into error\n",
    "\n",
    "# greeting()"
   ]
  },
  {
   "cell_type": "markdown",
   "metadata": {
    "id": "k9W6mCIL0YYZ"
   },
   "source": [
    "# Parameters\n",
    "- A parameter is the **information needed** by the function to execute the sequential flow (function body)\n",
    "- If there are multiple parameters needed, use **comma(,)** to seperate the parameter name\n",
    "      def function_name(parameter_1, parameter_2, parameter_3):\n",
    "          function_body\n",
    "\n",
    "\n",
    "The parameter and argument are quite similiar in general but usually we **use \"parameter\" on function declaration** while **\"argument\" is used on function invocation**."
   ]
  },
  {
   "cell_type": "code",
   "execution_count": 4,
   "metadata": {
    "colab": {
     "base_uri": "https://localhost:8080/"
    },
    "executionInfo": {
     "elapsed": 829,
     "status": "ok",
     "timestamp": 1606752093598,
     "user": {
      "displayName": "Tan chee lam",
      "photoUrl": "https://lh3.googleusercontent.com/a-/AOh14GiJr326PVTrMvSfwUW6T-z0ZonqXE15R45mf30M=s64",
      "userId": "10981313530642734552"
     },
     "user_tz": -480
    },
    "id": "fymyEB2z3idA",
    "outputId": "d140f974-01bb-4f7c-c871-4a33c7ee9d4b"
   },
   "outputs": [
    {
     "name": "stdout",
     "output_type": "stream",
     "text": [
      "5 + 6 = 11\n"
     ]
    }
   ],
   "source": [
    "def displaySum(n1, n2):\n",
    "  print(n1, \"+\", n2, \"=\", n1 + n2)\n",
    "\n",
    "displaySum(5, 6)"
   ]
  },
  {
   "cell_type": "markdown",
   "metadata": {
    "id": "-xqG8XLo6jPw"
   },
   "source": [
    "# Return Value\n",
    "- A function can either return a value or nothing (*Void* / *None*)\n",
    "- A function with return value is called **fruitful functions** (Python jargon)\n",
    "  <img src=\"https://fopp.umsi.education/books/published/fopp/_images/blackboxfun.png\">"
   ]
  },
  {
   "cell_type": "code",
   "execution_count": 5,
   "metadata": {
    "colab": {
     "base_uri": "https://localhost:8080/"
    },
    "executionInfo": {
     "elapsed": 858,
     "status": "ok",
     "timestamp": 1606753226971,
     "user": {
      "displayName": "Tan chee lam",
      "photoUrl": "https://lh3.googleusercontent.com/a-/AOh14GiJr326PVTrMvSfwUW6T-z0ZonqXE15R45mf30M=s64",
      "userId": "10981313530642734552"
     },
     "user_tz": -480
    },
    "id": "8WwnhseI8ZIP",
    "outputId": "f12a6475-7691-4698-cfe3-22b83b1c2aeb"
   },
   "outputs": [
    {
     "name": "stdout",
     "output_type": "stream",
     "text": [
      "40\n",
      "20\n",
      "True\n"
     ]
    }
   ],
   "source": [
    "def add(n1, n2):\n",
    "  return n1 + n2\n",
    "\n",
    "def minus(n1, n2):\n",
    "  return n1 - n2\n",
    "\n",
    "def isEven(num):\n",
    "  return num % 2 == 0\n",
    "\n",
    "print(add(10, 30))\n",
    "print(minus(30, 10))\n",
    "print(isEven(minus(10, 8)))"
   ]
  },
  {
   "cell_type": "markdown",
   "metadata": {
    "id": "E9c1RAY_9MHI"
   },
   "source": [
    "# Example 1\n",
    "Write a function called *subtract_three* that takes an **integer or any number** as input, and **returns that number minus three**."
   ]
  },
  {
   "cell_type": "code",
   "execution_count": 6,
   "metadata": {
    "id": "ygCY6frI9cx5"
   },
   "outputs": [],
   "source": [
    "def subtract_three(num):\n",
    "  return num - 3"
   ]
  },
  {
   "cell_type": "markdown",
   "metadata": {
    "id": "4GgWqyki9n35"
   },
   "source": [
    "# Example 2\n",
    "Write a function called *decision* that takes **a string** as input, and then **checks the number of characters**. If it has **over 17 characters**, return “This is a long string”, if it is **shorter or has 17 characters**, return “This is a short string”."
   ]
  },
  {
   "cell_type": "code",
   "execution_count": 7,
   "metadata": {
    "id": "SgfmwyeY9tHv"
   },
   "outputs": [],
   "source": [
    "def decision(a_str):\n",
    "  if len(a_str) > 17:\n",
    "    return \"This is a long string\"\n",
    "  else:\n",
    "    return \"This is a short string\""
   ]
  },
  {
   "cell_type": "markdown",
   "metadata": {
    "id": "tGlNFmMk-Ucp"
   },
   "source": [
    "# Example 3\n",
    "Write a function that will return the **number of digits** in an integer."
   ]
  },
  {
   "cell_type": "code",
   "execution_count": 8,
   "metadata": {
    "colab": {
     "base_uri": "https://localhost:8080/"
    },
    "executionInfo": {
     "elapsed": 2237,
     "status": "ok",
     "timestamp": 1606788046558,
     "user": {
      "displayName": "Tan chee lam",
      "photoUrl": "https://lh3.googleusercontent.com/a-/AOh14GiJr326PVTrMvSfwUW6T-z0ZonqXE15R45mf30M=s64",
      "userId": "10981313530642734552"
     },
     "user_tz": -480
    },
    "id": "SO-X1fflB1pu",
    "outputId": "71c9ada0-0cf1-45fa-9bb1-73c17172a05c"
   },
   "outputs": [
    {
     "name": "stdout",
     "output_type": "stream",
     "text": [
      "5\n"
     ]
    }
   ],
   "source": [
    "def numDigits(n):\n",
    "    return len(str(n))\n",
    "\n",
    "print(numDigits(10000))"
   ]
  },
  {
   "cell_type": "markdown",
   "metadata": {
    "id": "ycu52LQ1EXfW"
   },
   "source": [
    "# Example 4\n",
    "Write a function that **mirrors its string argument**, generating a string containing the original string and the string backwards."
   ]
  },
  {
   "cell_type": "code",
   "execution_count": 9,
   "metadata": {
    "colab": {
     "base_uri": "https://localhost:8080/"
    },
    "executionInfo": {
     "elapsed": 945,
     "status": "ok",
     "timestamp": 1606789894936,
     "user": {
      "displayName": "Tan chee lam",
      "photoUrl": "https://lh3.googleusercontent.com/a-/AOh14GiJr326PVTrMvSfwUW6T-z0ZonqXE15R45mf30M=s64",
      "userId": "10981313530642734552"
     },
     "user_tz": -480
    },
    "id": "eY0_ayapEcx3",
    "outputId": "cad1eaeb-d2fb-43c3-f051-ca4bcabc0472"
   },
   "outputs": [
    {
     "name": "stdout",
     "output_type": "stream",
     "text": [
      "HelloolleH\n"
     ]
    }
   ],
   "source": [
    "def reverse(a_str):\n",
    "  return a_str[::-1]\n",
    "\n",
    "# [<start_index> : <stop_index> : step]\n",
    "\n",
    "def mirror_1(a_str):\n",
    "  return a_str + reverse(a_str)\n",
    "\n",
    "print(mirror_1(\"Hello\"))"
   ]
  },
  {
   "cell_type": "code",
   "execution_count": 10,
   "metadata": {
    "colab": {
     "base_uri": "https://localhost:8080/"
    },
    "executionInfo": {
     "elapsed": 930,
     "status": "ok",
     "timestamp": 1606790104097,
     "user": {
      "displayName": "Tan chee lam",
      "photoUrl": "https://lh3.googleusercontent.com/a-/AOh14GiJr326PVTrMvSfwUW6T-z0ZonqXE15R45mf30M=s64",
      "userId": "10981313530642734552"
     },
     "user_tz": -480
    },
    "id": "KMS26EA_JBor",
    "outputId": "d127d2c1-62a2-4548-83b9-80676a3f801f"
   },
   "outputs": [
    {
     "name": "stdout",
     "output_type": "stream",
     "text": [
      "HelloolleH\n"
     ]
    }
   ],
   "source": [
    "def mirror_2(a_str):\n",
    "  return a_str + \"\".join(reversed(a_str))\n",
    "\n",
    "print(mirror_2(\"Hello\"))"
   ]
  },
  {
   "cell_type": "markdown",
   "metadata": {
    "id": "sD6xCDTkJ12T"
   },
   "source": [
    "# Challenge 1\n",
    "Write a function that **removes all occurrences** of a given letter from a string.\n",
    "\n",
    "Create your own function."
   ]
  },
  {
   "cell_type": "code",
   "execution_count": 11,
   "metadata": {
    "colab": {
     "base_uri": "https://localhost:8080/"
    },
    "executionInfo": {
     "elapsed": 975,
     "status": "ok",
     "timestamp": 1606790862275,
     "user": {
      "displayName": "Tan chee lam",
      "photoUrl": "https://lh3.googleusercontent.com/a-/AOh14GiJr326PVTrMvSfwUW6T-z0ZonqXE15R45mf30M=s64",
      "userId": "10981313530642734552"
     },
     "user_tz": -480
    },
    "id": "k7c90vhjKB-j",
    "outputId": "660b81ad-18cc-481f-b518-c8b394219b40"
   },
   "outputs": [
    {
     "name": "stdout",
     "output_type": "stream",
     "text": [
      "CDICOVERY\n"
     ]
    }
   ],
   "source": [
    "def removeLetter(a_str, letter):\n",
    "  temp = \"\"\n",
    "  for char in a_str:\n",
    "    if char != letter:\n",
    "      temp += char\n",
    "  return temp\n",
    "\n",
    "print(removeLetter(\"CSDISCOVERY\", \"S\"))"
   ]
  },
  {
   "cell_type": "markdown",
   "metadata": {
    "id": "0afwfHdBM7dk"
   },
   "source": [
    "# Challenge 2\n",
    "Write a function *replace(s, old, new)* that replaces all occurences of **old** with **new** in a string **s**\n",
    "\n",
    "    test(replace('Mississippi', 'i', 'I'), 'MIssIssIppI')\n",
    "\n",
    "    s = 'I love spom!  Spom is my favorite food.  Spom, spom, spom, yum!'\n",
    "\n",
    "    test(replace(s, 'om', 'am'),\n",
    "          'I love spam!  Spam is my favorite food.  Spam, spam, spam, yum!')\n",
    "\n",
    "    test(replace(s, 'o', 'a'),\n",
    "          'I lave spam!  Spam is my favarite faad.  Spam, spam, spam, yum!')\n",
    "\n",
    "*Hint*: use the *split* and *join* methods"
   ]
  },
  {
   "cell_type": "code",
   "execution_count": 12,
   "metadata": {
    "colab": {
     "base_uri": "https://localhost:8080/"
    },
    "executionInfo": {
     "elapsed": 938,
     "status": "ok",
     "timestamp": 1606791159519,
     "user": {
      "displayName": "Tan chee lam",
      "photoUrl": "https://lh3.googleusercontent.com/a-/AOh14GiJr326PVTrMvSfwUW6T-z0ZonqXE15R45mf30M=s64",
      "userId": "10981313530642734552"
     },
     "user_tz": -480
    },
    "id": "it6e6tjpNjt3",
    "outputId": "11b6db94-3d7d-4765-90fe-295dbfc0c1f6"
   },
   "outputs": [
    {
     "name": "stdout",
     "output_type": "stream",
     "text": [
      "I love spam!  Spam is my favorite food.  Spam, spam, spam, yum!\n"
     ]
    }
   ],
   "source": [
    "def replace(s, old, new):\n",
    "    arr = s.split(old)\n",
    "    return new.join(arr)\n",
    "\n",
    "s = 'I love spom!  Spom is my favorite food.  Spom, spom, spom, yum!'\n",
    "\n",
    "print(replace(s, 'om', 'am'))"
   ]
  },
  {
   "cell_type": "markdown",
   "metadata": {
    "id": "FoD0gNOSN3XI"
   },
   "source": [
    "# Challenge 3\n",
    "Write a Python function that will **generate a list of 100 random integers** between 0 and 1000 and another function to **return the maximum value**.\n",
    "\n",
    "Constraint: Two functions are required"
   ]
  },
  {
   "cell_type": "code",
   "execution_count": 13,
   "metadata": {
    "colab": {
     "base_uri": "https://localhost:8080/"
    },
    "executionInfo": {
     "elapsed": 879,
     "status": "ok",
     "timestamp": 1606791864206,
     "user": {
      "displayName": "Tan chee lam",
      "photoUrl": "https://lh3.googleusercontent.com/a-/AOh14GiJr326PVTrMvSfwUW6T-z0ZonqXE15R45mf30M=s64",
      "userId": "10981313530642734552"
     },
     "user_tz": -480
    },
    "id": "Y0eVyUK4OiM5",
    "outputId": "b298e543-4730-4aac-8112-cfd0be1d4288"
   },
   "outputs": [
    {
     "name": "stdout",
     "output_type": "stream",
     "text": [
      "[919, 282, 184, 912, 245, 388, 41, 855, 634, 371, 73, 602, 155, 107, 584, 0, 987, 931, 221, 291, 627, 650, 474, 739, 988, 248, 32, 575, 615, 936, 348, 475, 547, 782, 330, 444, 566, 303, 269, 553, 592, 1, 774, 958, 926, 655, 997, 828, 131, 97, 606, 214, 402, 648, 945, 944, 574, 780, 580, 660, 942, 979, 696, 835, 619, 450, 263, 728, 773, 591, 497, 879, 347, 104, 308, 694, 932, 784, 900, 685, 867, 651, 910, 635, 763, 109, 179, 284, 110, 380, 851, 557, 148, 993, 189, 531, 55, 56, 347, 822]\n",
      "997\n"
     ]
    }
   ],
   "source": [
    "import random\n",
    "\n",
    "def randomList(total, min, max):\n",
    "  temp = []\n",
    "  for _ in range(total):\n",
    "    temp.append(random.randint(min, max))\n",
    "  return temp\n",
    "\n",
    "def getMaximum(lst):\n",
    "  max = 0\n",
    "  for num in lst:\n",
    "    if num > max:\n",
    "      max = num\n",
    "  return max\n",
    "\n",
    "randList = randomList(100, 0, 1000)\n",
    "print(randList)\n",
    "print(getMaximum(randList))"
   ]
  },
  {
   "cell_type": "markdown",
   "metadata": {
    "id": "d9oQaazDQsiw"
   },
   "source": [
    "# Challenge 4\n",
    "Write a function *sum_of_even_squares(xs)* that computes the **sum of the squares of the even numbers** in the list xs. For example, sum_of_squares([2, 3, 4]) should return 4+16 which is 20"
   ]
  },
  {
   "cell_type": "code",
   "execution_count": 14,
   "metadata": {
    "colab": {
     "base_uri": "https://localhost:8080/"
    },
    "executionInfo": {
     "elapsed": 980,
     "status": "ok",
     "timestamp": 1606792275096,
     "user": {
      "displayName": "Tan chee lam",
      "photoUrl": "https://lh3.googleusercontent.com/a-/AOh14GiJr326PVTrMvSfwUW6T-z0ZonqXE15R45mf30M=s64",
      "userId": "10981313530642734552"
     },
     "user_tz": -480
    },
    "id": "SCwxHKYuRtWZ",
    "outputId": "975ae41d-efda-4afd-8757-87563cf2ef45"
   },
   "outputs": [
    {
     "name": "stdout",
     "output_type": "stream",
     "text": [
      "52\n"
     ]
    }
   ],
   "source": [
    "def sum_of_even_squares(xs):\n",
    "  sum = 0\n",
    "  for x in xs:\n",
    "    if x % 2 == 0:\n",
    "      sum += x**2\n",
    "  return sum\n",
    "\n",
    "print(sum_of_even_squares([3,4,5,6,7]))"
   ]
  },
  {
   "cell_type": "markdown",
   "metadata": {},
   "source": [
    "# Contributors\n",
    "\n",
    "**Author**\n",
    "<br>Chee Lam"
   ]
  },
  {
   "cell_type": "markdown",
   "metadata": {},
   "source": [
    "# References\n",
    "\n",
    "1. [Python Documentation](https://docs.python.org/3/)\n",
    "2. [Coursera Python Specialization Course](https://www.coursera.org/specializations/python-3-programming)"
   ]
  }
 ],
 "metadata": {
  "colab": {
   "authorship_tag": "ABX9TyOZWbK31XHiuzRCIjSipLJD",
   "collapsed_sections": [],
   "name": "Functions.ipynb",
   "provenance": []
  },
  "kernelspec": {
   "display_name": "Python 3",
   "language": "python",
   "name": "python3"
  },
  "language_info": {
   "codemirror_mode": {
    "name": "ipython",
    "version": 3
   },
   "file_extension": ".py",
   "mimetype": "text/x-python",
   "name": "python",
   "nbconvert_exporter": "python",
   "pygments_lexer": "ipython3",
   "version": "3.8.8"
  }
 },
 "nbformat": 4,
 "nbformat_minor": 1
}
