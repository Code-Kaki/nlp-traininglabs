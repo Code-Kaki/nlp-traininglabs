{
 "cells": [
  {
   "cell_type": "markdown",
   "metadata": {},
   "source": [
    "![license_header_logo](../../../images/license_header_logo.png)\n",
    "\n",
    "> **Copyright (c) 2021 CertifAI Sdn. Bhd.**<br>\n",
    "<br>\n",
    "This program is part of OSRFramework. You can redistribute it and/or modify\n",
    "<br>it under the terms of the GNU Affero General Public License as published by\n",
    "<br>the Free Software Foundation, either version 3 of the License, or\n",
    "<br>(at your option) any later version.\n",
    "<br>\n",
    "<br>This program is distributed in the hope that it will be useful\n",
    "<br>but WITHOUT ANY WARRANTY; without even the implied warranty of\n",
    "<br>MERCHANTABILITY or FITNESS FOR A PARTICULAR PURPOSE.  See the\n",
    "<br>GNU Affero General Public License for more details.\n",
    "<br>\n",
    "<br>You should have received a copy of the GNU Affero General Public License\n",
    "<br>along with this program.  If not, see <http://www.gnu.org/licenses/>.\n",
    "<br>"
   ]
  },
  {
   "cell_type": "markdown",
   "metadata": {},
   "source": [
    "# Introduction\n",
    "\n",
    "In this notebook, you will be learning the basic of python which including python data types as well as variable."
   ]
  },
  {
   "cell_type": "markdown",
   "metadata": {},
   "source": [
    "# Notebook Content\n",
    "\n",
    "* [Basic Data Types](#Basic-Data-Types)\n",
    "\n",
    "\n",
    "* [Operator](#Operator)\n",
    "\n",
    "\n",
    "* [Identify Data Type](#Identify-Data-Type)\n",
    "\n",
    "\n",
    "* [Type Conversion Function](#Type-Conversion-Function)\n",
    "\n",
    "\n",
    "* [Variables](#Variables)\n",
    "\n",
    "\n",
    "* [Rules in Defining Variable](#Rules-in-Defining-Variable)\n",
    "\n",
    "\n",
    "* [Statement & Expression](#Statement-&-Expression)\n",
    "\n",
    "\n",
    "* [Reassignment](#Reassignment)\n",
    "\n",
    "\n",
    "* [User Input](#User-Input)\n",
    "\n",
    "\n",
    "* [Challenges](#Challenge-1)"
   ]
  },
  {
   "cell_type": "markdown",
   "metadata": {
    "id": "lRSlpmKBampB"
   },
   "source": [
    "# Value\n",
    "**Value** is one of the fundamental things — like a word or a number — that a program manipulates.\n",
    "\n",
    "# Basic Data Types\n",
    "1. **Integer**\n",
    "\n",
    " E.g 1, 2, 3, 773, 9901, 91834859\n",
    "\n",
    "2. **Floating-point value**\n",
    "\n",
    " E.g 3.142, 1.2520, 5525.25\n",
    "\n",
    "3. **String**\n",
    "\n",
    " E.g \"abcdefg\", \"Hello World\"\n",
    "4. **Boolean**\n",
    "\n",
    " E.g True / False\n",
    "\n",
    " # Print()\n",
    " The *print()* function is used to display the parameter value in the output console\n"
   ]
  },
  {
   "cell_type": "code",
   "execution_count": 1,
   "metadata": {
    "cellView": "code",
    "colab": {
     "base_uri": "https://localhost:8080/"
    },
    "executionInfo": {
     "elapsed": 1796,
     "status": "ok",
     "timestamp": 1606644441097,
     "user": {
      "displayName": "Tan chee lam",
      "photoUrl": "https://lh3.googleusercontent.com/a-/AOh14GiJr326PVTrMvSfwUW6T-z0ZonqXE15R45mf30M=s64",
      "userId": "10981313530642734552"
     },
     "user_tz": -480
    },
    "id": "YOZsA2MZZ5hb",
    "outputId": "5e91bfe5-e3c8-469d-e0be-99952d691ebe"
   },
   "outputs": [
    {
     "name": "stdout",
     "output_type": "stream",
     "text": [
      "1\n"
     ]
    }
   ],
   "source": [
    "print(1)"
   ]
  },
  {
   "cell_type": "code",
   "execution_count": 2,
   "metadata": {
    "colab": {
     "base_uri": "https://localhost:8080/"
    },
    "executionInfo": {
     "elapsed": 1728,
     "status": "ok",
     "timestamp": 1606644454201,
     "user": {
      "displayName": "Tan chee lam",
      "photoUrl": "https://lh3.googleusercontent.com/a-/AOh14GiJr326PVTrMvSfwUW6T-z0ZonqXE15R45mf30M=s64",
      "userId": "10981313530642734552"
     },
     "user_tz": -480
    },
    "id": "cpGRmEQGeLBb",
    "outputId": "23b4ca2a-8517-4305-d67b-84ed5c6856fa"
   },
   "outputs": [
    {
     "name": "stdout",
     "output_type": "stream",
     "text": [
      "3.142\n"
     ]
    }
   ],
   "source": [
    "print(3.142)"
   ]
  },
  {
   "cell_type": "code",
   "execution_count": 3,
   "metadata": {
    "colab": {
     "base_uri": "https://localhost:8080/"
    },
    "executionInfo": {
     "elapsed": 1035,
     "status": "ok",
     "timestamp": 1606644469563,
     "user": {
      "displayName": "Tan chee lam",
      "photoUrl": "https://lh3.googleusercontent.com/a-/AOh14GiJr326PVTrMvSfwUW6T-z0ZonqXE15R45mf30M=s64",
      "userId": "10981313530642734552"
     },
     "user_tz": -480
    },
    "id": "MhyZZWn0eN8p",
    "outputId": "2c796e61-6d0e-467c-c60e-52462562af0a"
   },
   "outputs": [
    {
     "name": "stdout",
     "output_type": "stream",
     "text": [
      "Hello World!\n"
     ]
    }
   ],
   "source": [
    "print(\"Hello World!\")"
   ]
  },
  {
   "cell_type": "code",
   "execution_count": 4,
   "metadata": {
    "colab": {
     "base_uri": "https://localhost:8080/"
    },
    "executionInfo": {
     "elapsed": 954,
     "status": "ok",
     "timestamp": 1606644490098,
     "user": {
      "displayName": "Tan chee lam",
      "photoUrl": "https://lh3.googleusercontent.com/a-/AOh14GiJr326PVTrMvSfwUW6T-z0ZonqXE15R45mf30M=s64",
      "userId": "10981313530642734552"
     },
     "user_tz": -480
    },
    "id": "4pL2wrMCeTOL",
    "outputId": "43e39c11-b627-47ac-c00a-8938852eab50"
   },
   "outputs": [
    {
     "name": "stdout",
     "output_type": "stream",
     "text": [
      "False\n"
     ]
    }
   ],
   "source": [
    "print(False)"
   ]
  },
  {
   "cell_type": "markdown",
   "metadata": {
    "id": "HVrDBctKqeDV"
   },
   "source": [
    "# Operator\n",
    "1. Sum (+) \n",
    "\n",
    "  Sum two number **A + B**\n",
    "\n",
    "\n",
    "2. Minus (-) \n",
    "\n",
    "  Minus two numbers **A - B**\n",
    "\n",
    "\n",
    "3. Multiply (*) \n",
    "  \n",
    "  Multiply two numbers **A * B**\n",
    "\n",
    "\n",
    "4. Divide (/) \n",
    "\n",
    "  Divide two numbers **A / B**\n",
    "\n",
    "\n",
    "5. Modulo (%)\n",
    "\n",
    "  Get the remainder **A % B**\n",
    "\n",
    "\n",
    "6. Division without remainder (//)\n",
    "\n",
    "  Divide two numbers without remainder **A // B**\n",
    "\n",
    "7. Exponentiation (**)\n",
    "\n",
    "  Power operator **A ** B**"
   ]
  },
  {
   "cell_type": "code",
   "execution_count": 5,
   "metadata": {
    "colab": {
     "base_uri": "https://localhost:8080/"
    },
    "executionInfo": {
     "elapsed": 1736,
     "status": "ok",
     "timestamp": 1606651074218,
     "user": {
      "displayName": "Tan chee lam",
      "photoUrl": "https://lh3.googleusercontent.com/a-/AOh14GiJr326PVTrMvSfwUW6T-z0ZonqXE15R45mf30M=s64",
      "userId": "10981313530642734552"
     },
     "user_tz": -480
    },
    "id": "PKhLOLN-3H7N",
    "outputId": "5d323a67-ae67-4d41-d67a-cc5ebf690fa9"
   },
   "outputs": [
    {
     "name": "stdout",
     "output_type": "stream",
     "text": [
      "579\n"
     ]
    }
   ],
   "source": [
    "print(123 + 456)"
   ]
  },
  {
   "cell_type": "code",
   "execution_count": 6,
   "metadata": {
    "colab": {
     "base_uri": "https://localhost:8080/"
    },
    "executionInfo": {
     "elapsed": 984,
     "status": "ok",
     "timestamp": 1606651097918,
     "user": {
      "displayName": "Tan chee lam",
      "photoUrl": "https://lh3.googleusercontent.com/a-/AOh14GiJr326PVTrMvSfwUW6T-z0ZonqXE15R45mf30M=s64",
      "userId": "10981313530642734552"
     },
     "user_tz": -480
    },
    "id": "33rnU17-3eWV",
    "outputId": "53b19514-cc7a-4410-c064-22b798232e65"
   },
   "outputs": [
    {
     "name": "stdout",
     "output_type": "stream",
     "text": [
      "135\n"
     ]
    }
   ],
   "source": [
    "print(789 - 654)"
   ]
  },
  {
   "cell_type": "code",
   "execution_count": 7,
   "metadata": {
    "colab": {
     "base_uri": "https://localhost:8080/"
    },
    "executionInfo": {
     "elapsed": 914,
     "status": "ok",
     "timestamp": 1606651134753,
     "user": {
      "displayName": "Tan chee lam",
      "photoUrl": "https://lh3.googleusercontent.com/a-/AOh14GiJr326PVTrMvSfwUW6T-z0ZonqXE15R45mf30M=s64",
      "userId": "10981313530642734552"
     },
     "user_tz": -480
    },
    "id": "Qw4Ogxxp3ls1",
    "outputId": "24b234b8-4c45-45c4-e9eb-21c1c8a67b69"
   },
   "outputs": [
    {
     "name": "stdout",
     "output_type": "stream",
     "text": [
      "1904\n"
     ]
    }
   ],
   "source": [
    "print(34 * 56)"
   ]
  },
  {
   "cell_type": "code",
   "execution_count": 8,
   "metadata": {
    "colab": {
     "base_uri": "https://localhost:8080/"
    },
    "executionInfo": {
     "elapsed": 1048,
     "status": "ok",
     "timestamp": 1606651161822,
     "user": {
      "displayName": "Tan chee lam",
      "photoUrl": "https://lh3.googleusercontent.com/a-/AOh14GiJr326PVTrMvSfwUW6T-z0ZonqXE15R45mf30M=s64",
      "userId": "10981313530642734552"
     },
     "user_tz": -480
    },
    "id": "QXrO_CK43tPF",
    "outputId": "da08ad3c-789c-478a-aae9-4140fd3a8815"
   },
   "outputs": [
    {
     "name": "stdout",
     "output_type": "stream",
     "text": [
      "333.3333333333333\n"
     ]
    }
   ],
   "source": [
    "print(1000 / 3)"
   ]
  },
  {
   "cell_type": "code",
   "execution_count": 9,
   "metadata": {
    "colab": {
     "base_uri": "https://localhost:8080/"
    },
    "executionInfo": {
     "elapsed": 1067,
     "status": "ok",
     "timestamp": 1606651179576,
     "user": {
      "displayName": "Tan chee lam",
      "photoUrl": "https://lh3.googleusercontent.com/a-/AOh14GiJr326PVTrMvSfwUW6T-z0ZonqXE15R45mf30M=s64",
      "userId": "10981313530642734552"
     },
     "user_tz": -480
    },
    "id": "up5b9c493z_1",
    "outputId": "f3593991-c0e6-4883-8f23-c9a28d23fb4f"
   },
   "outputs": [
    {
     "name": "stdout",
     "output_type": "stream",
     "text": [
      "1\n"
     ]
    }
   ],
   "source": [
    "print(1000 % 3)"
   ]
  },
  {
   "cell_type": "code",
   "execution_count": 10,
   "metadata": {
    "colab": {
     "base_uri": "https://localhost:8080/"
    },
    "executionInfo": {
     "elapsed": 1056,
     "status": "ok",
     "timestamp": 1606651193774,
     "user": {
      "displayName": "Tan chee lam",
      "photoUrl": "https://lh3.googleusercontent.com/a-/AOh14GiJr326PVTrMvSfwUW6T-z0ZonqXE15R45mf30M=s64",
      "userId": "10981313530642734552"
     },
     "user_tz": -480
    },
    "id": "Zzrc8LvE34G2",
    "outputId": "9ed073a7-24c7-4741-e549-bdae02d5ff04"
   },
   "outputs": [
    {
     "name": "stdout",
     "output_type": "stream",
     "text": [
      "333\n"
     ]
    }
   ],
   "source": [
    "print(1000 // 3)"
   ]
  },
  {
   "cell_type": "code",
   "execution_count": 11,
   "metadata": {
    "colab": {
     "base_uri": "https://localhost:8080/"
    },
    "executionInfo": {
     "elapsed": 2692,
     "status": "ok",
     "timestamp": 1606654184193,
     "user": {
      "displayName": "Tan chee lam",
      "photoUrl": "https://lh3.googleusercontent.com/a-/AOh14GiJr326PVTrMvSfwUW6T-z0ZonqXE15R45mf30M=s64",
      "userId": "10981313530642734552"
     },
     "user_tz": -480
    },
    "id": "arXvXn2bDOv5",
    "outputId": "495dd013-0302-4e92-a98f-c449fc6b55bc"
   },
   "outputs": [
    {
     "name": "stdout",
     "output_type": "stream",
     "text": [
      "1024\n"
     ]
    }
   ],
   "source": [
    "print(2 ** 10)"
   ]
  },
  {
   "cell_type": "markdown",
   "metadata": {
    "id": "o9hiMQ7j5R-B"
   },
   "source": [
    "# Identify Data Type\n",
    "\n",
    "*type()* - python build in function to identify data type"
   ]
  },
  {
   "cell_type": "code",
   "execution_count": 12,
   "metadata": {
    "colab": {
     "base_uri": "https://localhost:8080/"
    },
    "executionInfo": {
     "elapsed": 906,
     "status": "ok",
     "timestamp": 1606651727275,
     "user": {
      "displayName": "Tan chee lam",
      "photoUrl": "https://lh3.googleusercontent.com/a-/AOh14GiJr326PVTrMvSfwUW6T-z0ZonqXE15R45mf30M=s64",
      "userId": "10981313530642734552"
     },
     "user_tz": -480
    },
    "id": "hvSx8Ajp5nfO",
    "outputId": "a481b1fe-6f17-40c2-d6d3-61f968e7ac06"
   },
   "outputs": [
    {
     "data": {
      "text/plain": [
       "int"
      ]
     },
     "execution_count": 12,
     "metadata": {},
     "output_type": "execute_result"
    }
   ],
   "source": [
    "type(12)"
   ]
  },
  {
   "cell_type": "markdown",
   "metadata": {
    "id": "BWvOaOpJ6aSX"
   },
   "source": [
    "# Type Conversion Function\n",
    "- *int()*\n",
    "- *float()*\n",
    "- *str()*"
   ]
  },
  {
   "cell_type": "code",
   "execution_count": 13,
   "metadata": {
    "colab": {
     "base_uri": "https://localhost:8080/"
    },
    "executionInfo": {
     "elapsed": 1155,
     "status": "ok",
     "timestamp": 1606651970889,
     "user": {
      "displayName": "Tan chee lam",
      "photoUrl": "https://lh3.googleusercontent.com/a-/AOh14GiJr326PVTrMvSfwUW6T-z0ZonqXE15R45mf30M=s64",
      "userId": "10981313530642734552"
     },
     "user_tz": -480
    },
    "id": "ckGDpTJd6zAF",
    "outputId": "ba7e668a-9154-4d34-a798-074a7283f7f0"
   },
   "outputs": [
    {
     "name": "stdout",
     "output_type": "stream",
     "text": [
      "3\n"
     ]
    }
   ],
   "source": [
    "print(int(3.142))"
   ]
  },
  {
   "cell_type": "code",
   "execution_count": 14,
   "metadata": {
    "colab": {
     "base_uri": "https://localhost:8080/"
    },
    "executionInfo": {
     "elapsed": 966,
     "status": "ok",
     "timestamp": 1606651990477,
     "user": {
      "displayName": "Tan chee lam",
      "photoUrl": "https://lh3.googleusercontent.com/a-/AOh14GiJr326PVTrMvSfwUW6T-z0ZonqXE15R45mf30M=s64",
      "userId": "10981313530642734552"
     },
     "user_tz": -480
    },
    "id": "ae5ONhh_6472",
    "outputId": "d8866f49-8dbc-49a4-d4d2-8c989791f834"
   },
   "outputs": [
    {
     "name": "stdout",
     "output_type": "stream",
     "text": [
      "<class 'float'>\n"
     ]
    }
   ],
   "source": [
    "print(type(float(99)))"
   ]
  },
  {
   "cell_type": "code",
   "execution_count": 15,
   "metadata": {
    "id": "ZSP-C83_6_cf"
   },
   "outputs": [],
   "source": [
    "# This code will run into error, why ?\n",
    "\n",
    "# val = 50 + 5\n",
    "# print(\"The value of 50 + 5 is \" + val)"
   ]
  },
  {
   "cell_type": "markdown",
   "metadata": {
    "id": "1JpUj9C68TqG"
   },
   "source": [
    "# Variables\n",
    "\n",
    "- A variable is used to store a value or refer to a value\n",
    "- Using assignment token (=)\n",
    "- pi = 3.14159"
   ]
  },
  {
   "cell_type": "code",
   "execution_count": 16,
   "metadata": {
    "id": "I7AdogOt80Aw"
   },
   "outputs": [],
   "source": [
    "message = \"What's up, Doc?\"\n",
    "n = 17\n",
    "pi = 3.14159"
   ]
  },
  {
   "cell_type": "code",
   "execution_count": 17,
   "metadata": {
    "colab": {
     "base_uri": "https://localhost:8080/"
    },
    "executionInfo": {
     "elapsed": 980,
     "status": "ok",
     "timestamp": 1606652586572,
     "user": {
      "displayName": "Tan chee lam",
      "photoUrl": "https://lh3.googleusercontent.com/a-/AOh14GiJr326PVTrMvSfwUW6T-z0ZonqXE15R45mf30M=s64",
      "userId": "10981313530642734552"
     },
     "user_tz": -480
    },
    "id": "WL3a7ASv9GxY",
    "outputId": "8a6f03c5-9dcf-4dde-aa09-ab149d2387f8"
   },
   "outputs": [
    {
     "name": "stdout",
     "output_type": "stream",
     "text": [
      "What's up, Doc? <class 'str'>\n",
      "17 <class 'int'>\n",
      "3.14159 <class 'float'>\n"
     ]
    }
   ],
   "source": [
    "\n",
    "print(message, type(message))\n",
    "print(n, type(n))\n",
    "print(pi, type(pi))"
   ]
  },
  {
   "cell_type": "markdown",
   "metadata": {
    "id": "Drn7pBRB91Ip"
   },
   "source": [
    "# Rules in Defining Variable\n",
    "- lowercase (conventional)\n",
    "- May contain both letters and digits\n",
    "- Must begin with a letter or an underscore\n",
    "- Case sensitive (Bruce vs bruce)\n",
    "- Cannot consist of keywords\n",
    " - class\n",
    " - and\n",
    " - as\n",
    " - assert\n",
    " - reference: https://www.w3schools.com/python/python_ref_keywords.asp"
   ]
  },
  {
   "cell_type": "markdown",
   "metadata": {
    "id": "QtUM1nr1_HI5"
   },
   "source": [
    "Is this a legal variable name in Python: \n",
    "\n",
    "=================\n",
    "\n",
    "**A_good_grade_is_A+**\n",
    "\n",
    "=================\n",
    "\n",
    "What's your answer ?"
   ]
  },
  {
   "cell_type": "markdown",
   "metadata": {
    "id": "1NCyHuOz_yM5"
   },
   "source": [
    "# Statement & Expression\n",
    "- A statement is an instruction that the Python interpreter can execute.\n",
    "- An expression is a combination of literals, variable names, operators, and calls to functions."
   ]
  },
  {
   "cell_type": "markdown",
   "metadata": {
    "id": "WwxY24jsBe2g"
   },
   "source": [
    "Identify statement & expression for the code below:\n",
    "\n",
    "    if 300 > 100:\n",
    "      print(300 + 100)"
   ]
  },
  {
   "cell_type": "markdown",
   "metadata": {
    "id": "TRNih_V0Cdbx"
   },
   "source": [
    "# Reassignment\n",
    "Update where the new value of the variable depends on the old."
   ]
  },
  {
   "cell_type": "code",
   "execution_count": 18,
   "metadata": {
    "colab": {
     "base_uri": "https://localhost:8080/"
    },
    "executionInfo": {
     "elapsed": 936,
     "status": "ok",
     "timestamp": 1606654237785,
     "user": {
      "displayName": "Tan chee lam",
      "photoUrl": "https://lh3.googleusercontent.com/a-/AOh14GiJr326PVTrMvSfwUW6T-z0ZonqXE15R45mf30M=s64",
      "userId": "10981313530642734552"
     },
     "user_tz": -480
    },
    "id": "NMmR0UnMCq8S",
    "outputId": "c8267abd-4de9-4683-ac11-bf763f11ca77"
   },
   "outputs": [
    {
     "name": "stdout",
     "output_type": "stream",
     "text": [
      "6\n",
      "9\n",
      "8\n"
     ]
    }
   ],
   "source": [
    "x = 6        # initialize x\n",
    "print(x)\n",
    "x = x + 3    # increment x by 3\n",
    "print(x)\n",
    "x -= 1       # decrement x by 1\n",
    "print(x)"
   ]
  },
  {
   "cell_type": "markdown",
   "metadata": {
    "id": "Pqa6vMQGDvUi"
   },
   "source": [
    "# User Input\n",
    "Our programs get more interesting if they don’t do exactly the same thing every time they run. One way to make them more interesting is to get input from the user. Luckily, in Python there is a built-in function to accomplish this task. It is called *input()*.\n",
    "\n",
    "    n = input(\"Please enter your name: \")\n",
    "\n",
    "The parameter( \"*Please enter your name*\" ) is prompted string."
   ]
  },
  {
   "cell_type": "code",
   "execution_count": 19,
   "metadata": {
    "colab": {
     "base_uri": "https://localhost:8080/"
    },
    "executionInfo": {
     "elapsed": 11688,
     "status": "ok",
     "timestamp": 1606654763065,
     "user": {
      "displayName": "Tan chee lam",
      "photoUrl": "https://lh3.googleusercontent.com/a-/AOh14GiJr326PVTrMvSfwUW6T-z0ZonqXE15R45mf30M=s64",
      "userId": "10981313530642734552"
     },
     "user_tz": -480
    },
    "id": "4dQHkR4dECqY",
    "outputId": "5fa6fe8a-c727-4ac1-80d7-6487c676a732"
   },
   "outputs": [
    {
     "name": "stdout",
     "output_type": "stream",
     "text": [
      "Please enter your name: John\n",
      "Hello John\n"
     ]
    }
   ],
   "source": [
    "n = input(\"Please enter your name: \")\n",
    "print(\"Hello\", n)"
   ]
  },
  {
   "cell_type": "markdown",
   "metadata": {
    "id": "ieCyDpKpGeeD"
   },
   "source": [
    "# Challenge 1\n",
    "\n",
    "\n",
    "Many people keep time using a **24 hour clock** (11 is 11am and 23 is 11pm, 0 is midnight). If it is currently 13 and you set your alarm to go off in 50 hours, it will be 15 (3pm). Write a Python program to solve the general version of the above problem. **Ask the user for the time now** (in hour), and then **ask for the number of hours** to wait for the alarm. Your program should output **what the time will be on the clock when the alarm goes off**.\n",
    "\n"
   ]
  },
  {
   "cell_type": "code",
   "execution_count": 20,
   "metadata": {
    "colab": {
     "base_uri": "https://localhost:8080/"
    },
    "executionInfo": {
     "elapsed": 11639,
     "status": "ok",
     "timestamp": 1606655462758,
     "user": {
      "displayName": "Tan chee lam",
      "photoUrl": "https://lh3.googleusercontent.com/a-/AOh14GiJr326PVTrMvSfwUW6T-z0ZonqXE15R45mf30M=s64",
      "userId": "10981313530642734552"
     },
     "user_tz": -480
    },
    "id": "gx4TjViOHJzZ",
    "outputId": "a5bfb8f9-2613-4cbe-d645-98a5296ba8aa"
   },
   "outputs": [
    {
     "name": "stdout",
     "output_type": "stream",
     "text": [
      "Enter time now [hours]: 16\n",
      "Number of hours to wait: 5\n",
      "Time after 5 hours from 16:00 is 21:00\n"
     ]
    }
   ],
   "source": [
    "time = input('Enter time now [hours]: ')\n",
    "waiting = input('Number of hours to wait: ')\n",
    "next = (int(time) + int(waiting)) % 24\n",
    "print('Time after', waiting, 'hours from', time + ':00 is', str(next) + ':00')\n"
   ]
  },
  {
   "cell_type": "markdown",
   "metadata": {
    "id": "yVskxcObITgE"
   },
   "source": [
    "# Challenge 2\n",
    "\n",
    "It is possible to name the days 0 thru 6 where day **0 is Sunday** and day **6 is Saturday**. If you go on a wonderful holiday leaving on day number 3 (a Wednesday) and you return home after 10 nights you would return home on a Saturday (day 6). Write a general version of the program which **asks for the starting day number**, and the **length of your stay**, and it will tell you the number of day of the week you will return on."
   ]
  },
  {
   "cell_type": "code",
   "execution_count": 21,
   "metadata": {
    "colab": {
     "base_uri": "https://localhost:8080/"
    },
    "executionInfo": {
     "elapsed": 11280,
     "status": "ok",
     "timestamp": 1606655704531,
     "user": {
      "displayName": "Tan chee lam",
      "photoUrl": "https://lh3.googleusercontent.com/a-/AOh14GiJr326PVTrMvSfwUW6T-z0ZonqXE15R45mf30M=s64",
      "userId": "10981313530642734552"
     },
     "user_tz": -480
    },
    "id": "lDXiCYTlI18J",
    "outputId": "201b264b-3734-4875-bccd-24096ba1d32d"
   },
   "outputs": [
    {
     "name": "stdout",
     "output_type": "stream",
     "text": [
      "Starting day [0-6]: 5\n",
      "Length of stay: 11\n",
      "I will be back on Tuesday\n"
     ]
    }
   ],
   "source": [
    "currentDay = input('Starting day [0-6]: ')\n",
    "duration = input('Length of stay: ')\n",
    "nextDay = (int(currentDay) + int(duration)) % 7\n",
    "\n",
    "day = {\n",
    "    0: 'Sunday',\n",
    "    1: 'Monday',\n",
    "    2: 'Tuesday',\n",
    "    3: 'Wednesday',\n",
    "    4: 'Thursday',\n",
    "    5: 'Friday',\n",
    "    6: 'Saturday'\n",
    "}\n",
    "\n",
    "print('I will be back on', day.get(nextDay, 'Syntax Error'))"
   ]
  },
  {
   "cell_type": "markdown",
   "metadata": {
    "id": "IUgYeymSJNhq"
   },
   "source": [
    "# Challenge 3\n",
    "\n",
    "Take the sentence: \n",
    "\n",
    "    All work and no play makes Jack a dull boy.\n",
    "\n",
    "Store each word in a separate variable, then print out the sentence on one line using *print()*"
   ]
  },
  {
   "cell_type": "code",
   "execution_count": 22,
   "metadata": {
    "colab": {
     "base_uri": "https://localhost:8080/"
    },
    "executionInfo": {
     "elapsed": 1015,
     "status": "ok",
     "timestamp": 1606655969037,
     "user": {
      "displayName": "Tan chee lam",
      "photoUrl": "https://lh3.googleusercontent.com/a-/AOh14GiJr326PVTrMvSfwUW6T-z0ZonqXE15R45mf30M=s64",
      "userId": "10981313530642734552"
     },
     "user_tz": -480
    },
    "id": "tYXIt3JqKDZk",
    "outputId": "bda29e1e-d781-45f1-b969-7599475c0601"
   },
   "outputs": [
    {
     "name": "stdout",
     "output_type": "stream",
     "text": [
      "All work and no play makes Jack a dull boy\n"
     ]
    }
   ],
   "source": [
    "w1 = 'All'\n",
    "w2 = 'work'\n",
    "w3 = 'and'\n",
    "w4 = 'no'\n",
    "w5 = 'play'\n",
    "w6 = 'makes'\n",
    "w7 = 'Jack'\n",
    "w8 = 'a'\n",
    "w9 = 'dull'\n",
    "w10 = 'boy'\n",
    "\n",
    "print(w1, w2, w3, w4, w5, w6, w7, w8, w9, w10)"
   ]
  },
  {
   "cell_type": "markdown",
   "metadata": {
    "id": "DFXk7h_2KWO6"
   },
   "source": [
    "# Challenge 4\n",
    "\n",
    "Write a program that will **compute the area of a rectangle**. Prompt the user to enter the width and height of the rectangle and store the values in variables called *width* and *height*. Print a nice message with the answer."
   ]
  },
  {
   "cell_type": "code",
   "execution_count": 23,
   "metadata": {
    "colab": {
     "base_uri": "https://localhost:8080/"
    },
    "executionInfo": {
     "elapsed": 7462,
     "status": "ok",
     "timestamp": 1606656133849,
     "user": {
      "displayName": "Tan chee lam",
      "photoUrl": "https://lh3.googleusercontent.com/a-/AOh14GiJr326PVTrMvSfwUW6T-z0ZonqXE15R45mf30M=s64",
      "userId": "10981313530642734552"
     },
     "user_tz": -480
    },
    "id": "c33exAnzKthi",
    "outputId": "772be9eb-509b-49c8-e011-6dcb61ade599",
    "scrolled": false
   },
   "outputs": [
    {
     "name": "stdout",
     "output_type": "stream",
     "text": [
      "Width: 120\n",
      "Height: 180\n",
      "The area of rectangle is  21600.0\n"
     ]
    }
   ],
   "source": [
    "width = float(input('Width: '))\n",
    "height = float(input('Height: '))\n",
    "area = width * height\n",
    "print('The area of rectangle is ', area)"
   ]
  },
  {
   "cell_type": "markdown",
   "metadata": {},
   "source": [
    "# Contributors\n",
    "\n",
    "**Author**\n",
    "<br>Chee Lam"
   ]
  },
  {
   "cell_type": "markdown",
   "metadata": {},
   "source": [
    "# References\n",
    "\n",
    "1. [Python Documentation](https://docs.python.org/3/)\n",
    "2. [Coursera Python Specialization Course](https://www.coursera.org/specializations/python-3-programming)"
   ]
  }
 ],
 "metadata": {
  "colab": {
   "collapsed_sections": [
    "ieCyDpKpGeeD"
   ],
   "name": "01_Variable_Statement_Expression.ipynb",
   "provenance": []
  },
  "kernelspec": {
   "display_name": "Python 3 (ipykernel)",
   "language": "python",
   "name": "python3"
  },
  "language_info": {
   "codemirror_mode": {
    "name": "ipython",
    "version": 3
   },
   "file_extension": ".py",
   "mimetype": "text/x-python",
   "name": "python",
   "nbconvert_exporter": "python",
   "pygments_lexer": "ipython3",
   "version": "3.9.6"
  }
 },
 "nbformat": 4,
 "nbformat_minor": 1
}
