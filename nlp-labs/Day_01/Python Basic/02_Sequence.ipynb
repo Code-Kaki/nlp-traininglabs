{
 "cells": [
  {
   "cell_type": "markdown",
   "metadata": {},
   "source": [
    "![license_header_logo](../../../images/license_header_logo.png)\n",
    "\n",
    "> **Copyright (c) 2021 CertifAI Sdn. Bhd.**<br>\n",
    "<br>\n",
    "This program is part of OSRFramework. You can redistribute it and/or modify\n",
    "<br>it under the terms of the GNU Affero General Public License as published by\n",
    "<br>the Free Software Foundation, either version 3 of the License, or\n",
    "<br>(at your option) any later version.\n",
    "<br>\n",
    "<br>This program is distributed in the hope that it will be useful\n",
    "<br>but WITHOUT ANY WARRANTY; without even the implied warranty of\n",
    "<br>MERCHANTABILITY or FITNESS FOR A PARTICULAR PURPOSE.  See the\n",
    "<br>GNU Affero General Public License for more details.\n",
    "<br>\n",
    "<br>You should have received a copy of the GNU Affero General Public License\n",
    "<br>along with this program.  If not, see <http://www.gnu.org/licenses/>.\n",
    "<br>"
   ]
  },
  {
   "cell_type": "markdown",
   "metadata": {},
   "source": [
    "# Introduction\n",
    "\n",
    "In the last tutorial, you have learned the python datatypes and variables. Now you will be introduced to the python sequences and related operations."
   ]
  },
  {
   "cell_type": "markdown",
   "metadata": {},
   "source": [
    "# Notebook Content\n",
    "\n",
    "* [Python Sequence](#Python-Sequence)\n",
    "\n",
    "\n",
    "* [Index Operator](#Index-Operator)\n",
    "\n",
    "\n",
    "* [Sequence Length](#Length)\n",
    "\n",
    "\n",
    "* [Slice Operator](#Slice-Operator)\n",
    "\n",
    "\n",
    "* [Concatenation and Repetition](#Concatenation-and-Repetition)\n",
    "\n",
    "\n",
    "* [Count](#Count)\n",
    "\n",
    "\n",
    "* [Split vs Join](#Split-vs-Join)\n",
    "\n",
    "\n",
    "* [Challenges](#Challenge-1)"
   ]
  },
  {
   "cell_type": "markdown",
   "metadata": {
    "id": "-jhj6-ssMAGV"
   },
   "source": [
    "# Python Sequence\n",
    "1) **Strings**\n",
    "- Strings is the as sequential collections of characters\n",
    "- *Empty string* is a string that contains no characters\n",
    "\n",
    "2) **Lists**\n",
    "- List is a **mutable** sequential collection of Python data values\n",
    "- Values inside a list are called elements\n",
    "- Each element can be of any data type\n",
    "\n",
    "3) **Tuples**\n",
    "- A tuple is a **immutable** sequence of items of any type\n",
    "- Comma-separated sequence of values, enclosed in parentheses\n",
    "\n",
    "\n",
    "**Each type of sequence can be accessed by using index**"
   ]
  },
  {
   "cell_type": "code",
   "execution_count": 1,
   "metadata": {
    "executionInfo": {
     "elapsed": 1035,
     "status": "ok",
     "timestamp": 1606657431067,
     "user": {
      "displayName": "Tan chee lam",
      "photoUrl": "https://lh3.googleusercontent.com/a-/AOh14GiJr326PVTrMvSfwUW6T-z0ZonqXE15R45mf30M=s64",
      "userId": "10981313530642734552"
     },
     "user_tz": -480
    },
    "id": "yhWfVWzFNI57"
   },
   "outputs": [],
   "source": [
    "val_1 = \"I love programming\"\n",
    "val_2 = [1, 3.142, False, \"apple\", val_1]\n",
    "val_3 = (1, 3.142, False, \"apple\", val_1)"
   ]
  },
  {
   "cell_type": "code",
   "execution_count": 2,
   "metadata": {
    "colab": {
     "base_uri": "https://localhost:8080/"
    },
    "executionInfo": {
     "elapsed": 1005,
     "status": "ok",
     "timestamp": 1606657458354,
     "user": {
      "displayName": "Tan chee lam",
      "photoUrl": "https://lh3.googleusercontent.com/a-/AOh14GiJr326PVTrMvSfwUW6T-z0ZonqXE15R45mf30M=s64",
      "userId": "10981313530642734552"
     },
     "user_tz": -480
    },
    "id": "02g6QhgZPukT",
    "outputId": "0b125c57-2ffd-47e3-d196-0a154063c0c1"
   },
   "outputs": [
    {
     "name": "stdout",
     "output_type": "stream",
     "text": [
      "<class 'str'>\n",
      "<class 'list'>\n",
      "<class 'tuple'>\n"
     ]
    }
   ],
   "source": [
    "print(type(val_1))\n",
    "print(type(val_2))\n",
    "print(type(val_3))"
   ]
  },
  {
   "cell_type": "code",
   "execution_count": 3,
   "metadata": {
    "colab": {
     "base_uri": "https://localhost:8080/"
    },
    "executionInfo": {
     "elapsed": 940,
     "status": "ok",
     "timestamp": 1606657593112,
     "user": {
      "displayName": "Tan chee lam",
      "photoUrl": "https://lh3.googleusercontent.com/a-/AOh14GiJr326PVTrMvSfwUW6T-z0ZonqXE15R45mf30M=s64",
      "userId": "10981313530642734552"
     },
     "user_tz": -480
    },
    "id": "bUKoY2IpP2GD",
    "outputId": "61686eb7-fc96-4850-9dcc-929746ceb187"
   },
   "outputs": [
    {
     "name": "stdout",
     "output_type": "stream",
     "text": [
      "I love programming\n",
      "[1, 3.142, False, 'apple', 'I love programming']\n",
      "(1, 3.142, False, 'apple', 'I love programming')\n"
     ]
    }
   ],
   "source": [
    "print(val_1)\n",
    "print(val_2)\n",
    "print(val_3)"
   ]
  },
  {
   "cell_type": "markdown",
   "metadata": {
    "id": "eJBc-qv5Qc6T"
   },
   "source": [
    "# Index Operator\n",
    "- Select a single character / element / item from a string / list / tuple\n",
    "- Use index value\n",
    "\n",
    "\n",
    "> ![indexvalues.png](data:image/png;base64,iVBORw0KGgoAAAANSUhEUgAAAioAAAByCAYAAAB9cvoAAAAPNGlDQ1BJQ0MgUHJvZmlsZQAAeAGtWHk4lN3fP/fMmMmSJQxZxxIRhexrlpF9XyLZxr43Yw+JUvYlWmTJliUiKYkKSVLWtEiiklSoJ7Jl+Z2hnud6f+/1XO8/75nLfX/O93y3+3zOfZ/zBQALj0tQkB8KAOAfEEy2OKhFOGRnT8CNAAz8sQMC4HEhUYI0zcyMoMq/tIUXAKEOPZOk+voXpX8TM5JhQAAQCajA5rmFD1Cx6xa2ouKw4KBgqONFxSQvFzeIoyCWIFtZaENcATGj5xa+TcWuW7iLikNJnlTbVwBgdwS4eQcAgJuGWN3NnUKCw9S4bm4Ukj/EGQCg1P39A6F/5n4o300KIkNb5iWIhanzAu+wOcPYSgwA0LT8IwskA1DnBABP4j8ykSkA8LVQPvaPbM5ic64QfB/FY7/MpjuEQQv6eruxMScCc8sCYC1zY+NX8cbGWgkA6DcAtPqRQsihm7rwQZAeAP6v/tYz/7ZAQ3KoBPMBb/AacUJWUf3oERoC9tm2Z/SqjBjmQlZ+9gCOop2F3NG8GnzjBIrAhlCU8C+RENFJMWvxdgkxyYy9y1Ku0s/268m2ySsoFCiuKduoXFH9ri6nEXqgUXNFW00nntihu6QnqG9o4GN4yijPuM6kw3TY7LsFvaWYlYV1lE217Ygdnb3cYTsHypFYx1NOsc4UlyzXFtJXd14PK88zXu3eK777/Fz90wOqAs8GeR7VIe+hcAWzhLCEcoTxh++O2Bcpe0w1Sjv6YIzuca1YxRPicdzxDPGrJ2dPvU94cfrxmabEK0kZyREpLqmGaYrpuzO4M5mzaLLmz45ld+VUn0s/73/B8OKeXIbc75de5t3LLygILTS8zHd5tqi5OKHEopS/dLas9UpWeXDF4UpilfRV3mpc9WzNwLWrtVF1xOus17/Vv7nR29B2886t2say27lNyXeONbu1aNyludt0j3Jf9v5q65O2kvbYB84dmg8FO9GdHx51dpU8juo2fyL05MfTlp6EXpM+fN/b/rIBz0HRwU/PSoYcn3M9f/4i+6XVK45Xo8Mlr0kjAiNv3+SMGr/FvG0eCx6XGv/2rv495YPMh28TVz7aTzJM3vnkNYWf6vgc8kX0y+jXvGmrGfRM7uyu2aJvnN8Svi1/z/vL9QdxjmEufZ5lPuUn3c+cBfGFF4uVS9eW11edNzYg/xzADJQjO5FqlDfaDhNDM4JLpI2mv83IzVzAys3uz5G08zi3Ns8wnwp/JuGDoKrQReFVETvRFjER8dQ9c5L2e9ukdkmflBmXVZfLlP+gKKsUrtysMq8moX5YIxmugrfaGB0C8YCuzUEfvUj9BIN0wwtGhcalJhWmlWZXzestHlqOWv2wwdpyHtptt99e/fBBB9MjNo6OTiTnAJdQ1xOkDLdC91qPB569Xo+8G3wKfRP9gv1dA8wC1YMkj/KRmSloymLwbMhk6FjY6/BXES8jh471RDVH58dEHrePVTshFEcfNx8/dvLpqaaEstPpZyITPZNMkxVSeFI2UsfTWtMLMpIyA7Jszqpk8+eAnLFzd89fuHD0ol4uX+7cpYd5OfkeBXKFqMK+y4VFR4utS9RKd5Uxli1cGS1/UFFRmVIVdNWqWrGGu2b12tva+3XF1+Pq3W4QG4QaVm4+uXWx0e+2RhNr0+c7bc35LZF37e4p3+drRbd+butpv/2goOPMQ0qn/SOlLqauD48bu88+CXxq3CPRu713tq+/v3YgddDzmfrQjqGJ57Uvwl6qvFx91T5c8zp35PSbo6O2b1XGuMbmx/velcCVoDFBOzH48dyk3SeeT6NT+Z8dvgh8mf/6eDprxnaWa/blt+zvpn/h/ur4cWJOcx4zP/izaiF9MWEpZ/nxL5M1/03+GYEUIIFysIyQkDeoU2hHTDjNAC6V1o9emWGWMYl5O4vfjmbWNXYxvBGHL+exnXFcCdypPOd4i/lq+JsIDwSeCPYJDQh372oRqRLN2R0l5iJO3CMuwSLxS/LT3qF996QKpSNkzPcL7p+VbZQ7Lq+rQK8wpFioFKBMVBFQRal+VOtSr9I4fcBZU0pzUeu29jEdC6KCLt/BbQfn9Mb0nxrcNrxslGDsaaJj8tk01Wy/2TvzcxZmlmyWI1al1gE2CrbA9umhXDsPeyn7hcN3HI4dUTuy7tjmdMrZyIXVZdg1n+ToxuM27H7Ow8Jzh+eQ13nvIz4EnzHfPD9bfyb/zoCYQIXAH0F1R4+S5clLlFvBQSHCIS9DE8JkwkbDz0TIRryPzDpGjMJG9UVfivE5rhJLHzt8oiTOI14g/uXJxFN2CVKnt5+ePtObeD0pOzk8xTZVLo0p7VV6aoZwxt1MxyxcVsNZn2zh7Hc5l885nec/P3Gh+iIlVyF3+VJTXli+XP58QUNhyGWly+tFD4uTS8xL8aUjZUVXvMvlK7AVryvrq9Ku+lTr1PDVLF57VltXl3E9HK4v2wbTm3q31BulbxOa6Jq+3xlqvtWSdzf2nud9i1bNNsV22QeyHfIPlTqVHyl2yTwW6WbrXnky3iPZW9mvN8g4tP0FaRj/xmv8zMfO6U+L0VT+t/Y+6p6AlQfg/GcADpsBYHUJgDQbAERLAWB3BsBsO5QpAZTDboASOAgQIh/4s39wAUVgAfeQ4yATlIAG0AGegffgO1hHGBBuRAJRRUwQZyQYOYMUIA3IU2QShULxo9RRTqg4VAWqD7WEFkSboqPQV9EjmO0YTUwophozQcNHY0eTTTOAZcIaY5Ox3ThanAEuBTewbec20rbabeu0prQltMt05nRX6WnoXejvMXAzRDKMbtfdXs9IYDzLRMsUx7TBHM28xhKzA+w4wYpmPcGGsMWyA/Y4PA0+hYOTo5JTi/P9ziQuNa7n3N7cqzxpvAK8N/j0+Eb4gwg4QpGAmsCoYKyQibDiLq5d8yKP4Mp2FBMRmxVv3HNKwlpSWHJhb8++Sqlk6WAZ1/2WsrpyKvJ7FYQVuZU4lblUBFUl1VTU9TWsDjhqemoFaEfr5BCv677QA/rSBu7w+9dtvGIqZuZuXmsJrOytW2xFDmXYrRx2duh0ZHdydC5zmSbJu512H/M09OrycfAd8peA67T/KA85gNIagg8NDnsRQYwciWqKSY4lnpiNTziFTyg+I5XYmmyV8jEtPmNP5tjZwhy/8+oX2XO/5/UVtF1uLG4ufXClr2Kw6ll197WOuqH6mZscjdpNoc2X77bdH25b6hDt9OpqeSLUk9K3Mug0dOfFwrDTG+Wx1g+3Jn2mzL64zjz+izx/c9FhmfKLZdVlTXJtaT1pA7sRv/n9EARa4AgIBamQ/UbQDUbBLAIQFkQQkUWIiC3ijUQh6Ugp0oT0I59RaMi9GsoRcl+JeonGohXRvugC9CAGh1HFBEPmP/5mfhDLjDXFZmAHcXicA64E93Wb/Lb4bQO0ArQhtN10gnQxdCP0qvQFDCgGH4ah7Qcg70KMuUysTBnMzMzZLFwsxTv2wq+WMes4Wwg7hj0Dz4+/zkHkGOEM2cm6s57LmmuFu4hHn+cnbyGfMd8KfznBWoBG4IYgSUhQ6Idw564CkTBR091iYlixD+KtewolYiQd96rt49u3ITUmfV+meP8Z2Qi5GPkUhfOKxUqVyjdUWlQfqPWov9b4emBNi1FbXIdI9NLNONii982A2VDNyNP4gkmPGZ25vkWm5ai1lE2C7YSdnv01B64jqY5rzt4uN0k0blbu5R6rXjbeDb7sfmH+o4E6QdfJ/JTMEHRoZNj3CN/Iuaj0GJnjvSf84mlPliQonX6a6Jg0kxKZhku/mCmQ1ZCtldN73usib+5oXmGB+WWaosYSnzKuKz0VCVXEauaaidr26/U3am7eb+xsIjeLtIzcy28ltSt07Hy4/mj+8fJT+l7hfpPBY0N1L2aGJUaUR4ljoe/qJ2gmHaYefhWeifk2+AMzz7FAtziwHLgytopfw66NrudvmGzyrwT8QTZ87/vBF8g7Hr7x2ogDEoacRa4jg8hPFA9KF0VBlaBeoZnRBuhEdA+GHeOIqcT8pNGmOUvzEauMzcLO4AxxdfDdPr1tmTaQ9jOdO917emf6MQZnhk/bwxkZGauZzJnWmGtYXHaw7+hmjWATYRtgj8FL4t9zFHC671Ti4uH6xF3O48kryjvFd5U/kKAkgBN4I3hb6NMudhFZUb3d5mKHxB33+EiES8btzdxXLtUpPbOfU5YoR5EvUOhRAsrqKvGqveq8Gl4H6uG5VU/nii7dwTC9KQN7w0fGUibZZoh5nCWTVZWN5SGUXf1hxyNoxzinFZcA13duh93feFK8+X0++vn6jweaB90jS1ByQ+hC48ORiJRjHtFlx1tP3IsvPRV92jxRNGkl5X5acoZLlma2+Dn8BXDxy6W+/LrCnKLoEr8yu3KtSkLVYnXHtZQ6q3rhG4s3uxrPN7k087b034to5WlrfxD0UKRzqquhO+mpW69yP9vAp2e3nke83Pdq/HX6G5XRz2OF7w5/EJ5Ynnw/NfZF+2vUdNFM02z7t/vfK/5K/mE9xznXOx/6k/9n7YLSQsfigcXaJf6ltKW5ZYPl4uXlFbOV0pWJX8K/3H+V/ZpcFVn1WM1cvbs6tca6prHms5az1rY2vc65rrd+fP3W+vSG0Ib9RuZGF5X/rXqJun8AOu1Av0AywUhbZ7P7/3fx9wuBNdlm2wGvDAGuJqbwTsVTQcFm1FoQD/9WKKGWRHhnhuUQs4e3rv5vTHBz0TGEmAfKpSK9tE0ghnUaYuRB1rWAGPpBDvm4GMB9DzBC7OMeYG35Wx4e5LdZ41J1koKCtaj6nBDnuVOIf3QaIr2sbH/bdpJDLKwhFoY6Q76BhlR9aqwlN3ed37mhMAF+JkZQDnNGsXkH61PzZ4NYHOgCF0AGnsAdSAIjoA10fl8JUE6A/UA46g4oUG9iU++Pls1m3/u/rCSBx6a/0E0bXzAJbfydvOPI0NeW98fw5EeGOgF/JFJXpT5Lrf7pbUb024z6x8IQ9v6nZMvTVnZbI97ADWr9kZP+WFAj+9d7hF4IjFC28cKIYGQwchgtjBpGHaMECBg8hgtIYmQxivAMoIFRgWNKvdON03/nsjU3rn8/oyHMwx2EbM5IwN/S/xUVnkzAVu0OZxlg4drIi6eidhZI9X+1YPdwWNcDoB0YFEH29vQKJmjC/1y4SxD0A0h7JQgyUtLS4D8Ao2t6LtFV+gAAAAlwSFlzAAALEwAACxMBAJqcGAAAIABJREFUeAHtnX2MXUd5xsfFxh/VBhxiWpI/fGgghUqxW4IUlCZpbPxHXMmyVXAo4IhNoXZKJRKk0iipBLdQ1diAii1K7aStLZEYFZOqDorsIhLXTUBBIi5x/khEYq4tcCBxalMv2BtsuH2fe++zOzt7vu7e87XO80rvzpw5c2ae85s5c95z7t1d52QiIAIiIAIiIAIiIAIiIAIiIAIiIAIiIAIiIAIiIAIiIAIiIAIiIAIiIAIiIAIiIAIiIAIiIAIiIAIiIAIi8ColMKei815i/aw3X27+E/MvmI+ZN82uNkE3m3+uIcKuMh0tc7L6iuUfN2+arTJBGF/ofNF8t/lJ8zptjXX+fvOPmJ+tUUhkfV8W0/8CK/u2eSdmX1VF862jD5vjuhwx/6r5N8zrMlx/0JRm30vbWfI+XI8b+3383NL7zE/0t+tMwO1DfQE/tHS3eV1zHlqy1lCsF9ebv8l8r/m3zKuwLG24H37KfLf5MfMqLI+mvzAh4IX19XnzfzQve3yzdI2YBrCiHbDMI+Z1rmfUMqP0E33xOAHf3zmj1so9iPp+o9xucrXeslrU46dtK68qwMwj9PsJOj+f5+CS6kSeJtxc6jSMlz9+fr5ObViIfC3Mn7byOuY/+qSGtLQObSatG8DF6apznqfpQjBQh5FR3DghCOV+P8UaUoWxzzht6B/MUKdlXpWlaVpkIrg/TBG4lGnsL45V0tqBYxDAzDq7whTzhNdYHid9i1fWhJOCRmhqe7riBsd2V2a8YMAOExJ6cFMjy52Wb4K1TAQ1geNcc398UVa1QQM1IY2qFhD0Ry0YR98xxnXNM/RLXXiQwDauRQQpKMcY1mFYI9C37/610K5DlPUJXeACPpE55pivq455bhLcR805jpHlEQiMmrMs6+2UVS3E8q6hh6w3aGub4yYMRx5le8zLsCxtmPt4aEbACR1wXBNlWpYm9k094AZWGE9fJ8qKtDy6MPepC5ywvcS83S9HOuuMT9sfDZTjBHGyZU+IoNvYTUL307puIBTYsgz0hG+dGKy0WbHmFDqgM7xgOL6YwFUb5xx0waOqBXj9zbE8NDQlsKQ0XI/QFd4cMF4oD69XK6rNEEBBE7yu65K8ELD41rIN6Bo1r8MYWC4OOm/ZdpXjyPHx03CsOLdQx9/n3/j88uCUZrzpa2Le74drKvchxfpVpvl9Me9rQt/kgjEOrW0FOA7aizRq8dNQV2QdYn+4pqEeytvms84gGuKx2PjGSduEk4I2XOiRObTCw8GxokoNEXQct6hf3gRuANIyx3cacEP2jfojv7CCPBYYcMONBbqQj8zrMs7zlgnA0wreqCD4xCJUpzGYw7zHUxoWvMi8bl0mYZphDOseR86rcHFu16iNNwawCdcr3nyr+kglzxp6dZ/VHktD43yMwh0FbGdpw9qF63SRObSBJ8a7TMvShL65dsR9Z6wsXnl0Yc3A+r4KIj3D+gZ2uCZmlfkXEiaDb008KWgEaHh44fvaq8qHzNAvb76YKE0zLER4Zc+LCBzjzqEs3VyceaFQR1RWhznapSbOKz+t6+MVyMb8gRYy8nWVvUij/7wGLdAWBgh5jy+qHoI5MmpbnrpQhifeKue5dTdh1BSuV9QHrVUaOGRpintbx/kYlSg2TRu7HbUM9Fd1DWRpwv7Q/DVlSbizoO0sXewGDzZYx1rmHPc1lp9V5p9s+KTGfYcadEbUBODhhV+3zMgEcCIgReTbNPP1IR/3yrIszZhf7J+fy/MmHJXVaY52W1aHurBAI5hjsIlyvGGpw/iRATSA0ypzBAPUOmr5ug1znHrC9aMObdQSpuBXl3EuISUjvLGjxqq1pa2huKFBV9yXj3FtYF9kXpalaWOf1NGUQIW6kEJ/y5xjW2bwnoeVSemOF/UwRSA1qyztZLmv6gspDSA1AXhTAhUs1ofMOQnalueN2LKNMuhChD9qTr1lXkzWzYSBC/pEIEDD3EJZxIIaUvSNRQ/j6FvLNqANuqs2zG30DQ9vGmv65XXosq6nGAOn1pTSejZ4DSLAw0KMoABBJjm2LF+HLbJOqSEurXoc09bQtCCA+6ISIaZpY7fU0bRAhUEex7jst7F5WJEZPgrCNcFrBBqbeo+i5impvyDixH3DDQ0nVPWF5GsI84MMTnhsGdurrFFOTKThF2vL6HPQNjGOmKihIWCoanyjfl/oD8FJu+/YpqMsnINWVJvhQoY2XNx1GHig/yjoPO2aDaqWuunrqHvR89eFMODka3jwrMugr2WOuQ9HftQc41vVg4J11TWfFcbQN9z8oQnBQGiHrCBuPob1htlO08Z2mxio+G8/MZ5VXA9prNA/vroRji8Y4jrAOM66tyqEjBuab7wJh090fp2q82mDU7UWfocn6cKuWk9cf1i0oQ8eGm/E7XBHCdsIlKCBc42awjTuwipBzpQmW7YFD63uQB3jAj5RIGxuvxws6zQGuofqFNHv2w+asEb4xn3gWYfh4QVraWgtK8D4Vv3RYtoayjHFx1ShQSu8zJtwmjbqaVqggvkPLrge4x4IqbvoNI0VP26MC0b4q9NR0YLKbo9RdNvriBc3BiDuZL2qlWbTBqdSIdYZJ+ho1R0P0J/PKxxHTlg84dVlXHRCbVXqwRyHY5H2bY9toLzqJ15q4HUZ3jTIDPOvTiOfuJtwHbo4jqEe8qprnjM49+f4IgNEvVUH5/6aEPbtr/v+22F+rNEueWDTtLFrjieujyosTRMfZjCWqFelpekaNSHQdCgQxAdG7MOD9qwyf3LiYh41x4nA2+ZNMl9reJFVrZOMktK6FsaQAwMS6EQeFzrGlbrrnLBcdCLTU5cxIAAP3HxHzX0+ZT5BWleJ5s913Oygk09K0Frl01ucSM4fvLVrgnEuQRc4tcyxUFNnZPk6zNc1agLg1IR9VZs/r+LWUF8v8gxIodkPtsrQnaUNfVJfVYFKmqY1podjyYCU20wjiC7B0nTxbTk0QNeoOb9PhrKm3JtMymCGxYZgmbatbO5gzZRe248ika/TyCkpbdJk8IMVX2/ZC0/W+HDRwZNJneYHK+SDC7zum/Ai09A2pyamkZXVaVgXqKVOHWHfo54u6kPqvx0Ij6liO+76Q1kdlmcNbZkwnx/yuCmXbXm08e3OaNli+u2nafIDlZAXt6OSdKbpQpf+VxOoBWlpb4ghqCrDyf3SfNx8rKpO1U8lBBBlX9bv6ayluBHLJgngOnu9OW7CF8ybxAcB0yXmuDbr/keSJqHRhnG83Hye+XnzJvxDQpPR/W7Hm/qa8E9BMceabP6ce9mE4iYnm30E8BD42r7s2TDvZh9hKRYBERABERABERABERABERABERABERABERABERABERABERABERABERABERABERABERABERABERABERABERABERABERABERABERABERABERABERABERABERABERABERABERABERABERABERABERABERABERABERABERABERABERABERABERABERABERABERABERABERABERABERABERABERABERABERABERABERABERABERABERABERABERABERABERABERABERABERCBhhCYk1NHUr2k8pzNDl2tk9CCdMWDEa94Lkml4pVEJr5cvOK5JJWKVxKZ+HLxiueSVDpbeCXpnDivrBu6vx953ycascxv+Bsl5nlCfhpq5D7IkK7eYJAJUvHqMYn76XPCfvGKozRZJl6TLPLkxCsPpck64jXJIk9uNvHC+UCvr5n5aefq37T8nX45bvbYhifleax/HMuKTP0TY1/hybHc7zeuzN8/bF66BiMoXuI1GIHBamt+iddgBAarrfk1c15k92trAs7tMJ3Sw9wpW1M3cHOHIzh5TT8N86xjuyeCGOTLMJ6I3zb0+IY6NNZncMXyolP247crXT6NqXnxmsoja0u8sghN3S9eU3lkbYlXFqGp+8VrKo+sLfJiyuCEgcqvrAG4X466UywuUGHw4QcpqIdg5bQ5yptmODHpyj8q4pWfFWqKl3gNRmCw2ppf4jUYgcFqN3l+LbZTwb2bAQsf8hG4TFhcoMKdOADBCYOU11p+TqeDc26WzTGTrvxjIl75WaGmeInXYAQGq635JV6DERisdpPnl51JN67wzggBy7SXDmGgggpwBCl+oDLPtueby0RABERABERABESgCAJhoII3IXDEHxNvVcJAhR0zWMF+OIKUhdypVAREQAREQAREQASGJIC4AvEGghP/eypTmo0LVBik4GMfOCIeBSpTsGlDBERABERABERgSAIIVBikIFCBT3mbgvaTAhUGK9ivQAWkZCIgAiIgAiIgAkUSQKCC4ORC3/FyBHkY37R0I5de0eRPBin6jsokE+VEQAREQAREQASKJYBPa/AdWLwUQZCCuAOOOGTCUJBk/OiHb1XQmEwEREAEREAEREAEiiCAQAUxBoMVBChTghR0EgYqrMBypAxY8BGQTAREQAREQAREQASKIIAABY5YA/GHH3vYZs9YyG2kjGh4ILYR8cBlIiACIiACIiACIlAEAcQVfBnixx5T2o4LVFiB0Q3qsCHuUyoCIiACIiACIiACwxBAoIIYg464Y5qlBSqozGCF6bQGVCACIiACIiACIiACMyDgByixQQraTAtUcFDoM9ChQ0RABERABERABERgGoEwxogNVuK+d+If6Lca24BfIT1/2h0+8F13/q3XumuvxP8hks1KAmNH3YH/fM699d2r3JWL46bPrDwriW4SgdNH3UNfe9AdPP4zd6npmn/Vje5977nZLR1pksimabngnn/sW+4nS97hbnjbGxskrqm6GoRIUsLYwo9B8MfgUt+oFItv7Afur1avdhsf/EGx7V7srV047rbfus5tfehoI8507LmH3er1q92DPxhrhB6JuLgInD682y2/9C1u7e13uS8+/IQ7+PBmd9dtq110yXK3+/DJi+tkCz2bcffwjavdjQ/9sNBWh2+sqbqGPzO1UB2BtI9+ilUxb567xFp88wL9OZbBwJ5xj96/zx04dnaww8qqPQ+/9u7c6xbpXz+VhfhV2+7px9x7rrnNHXEb3P5nTrnOU4+6R5/quFPP73drrfS2a3a4F161cLJPfP5Nzt00v3l/RaKpurKJqkZTCFQXqPTP+ExTzryvY/z4Abdp5SZ34Oj4hLKjD33Grbvn6672dwb2NmXre5e5fabs4B3L3D1ff3ZCY92Zw/vvdfesW+7sX4i75evucYdP868e16jMeO35zCa3HJqWr3Qf3/6QO9kAWSBy/MBWd+tn9rjHHtre1bfzcO2zq8aBiu/66a/d6w7arh1Hvuxuftvkx8OLr7zZfWHvnbbnSfej0/HHVlF64eRht3XTyu6cnzNnudu0tTnzq4rzv2j6aOg60Ztf69zKlcvduk3b3aOP7nH33LPbHa97DWsgLwQueGTGy4/fNr/S/A/MV5i/17wzYzv3ZGetHb9i25MzbiLpwGF0nXlyBz4D62x78tRE80e2rei4Zds6kyUTuwbKDKOr29H5lzoP3L22q8+5tZ0djxwbqP+kysPoOnOkxwttrLhzW2fXtrt7+tbu6pxL6jBn+TC6Op0TnS3Luv/cqnP3tgc6u7Zs6OnauLdmXb2TP7KD4+g6y1Zs7Ox7flhane755URbabWZjeOZzo4VNn7LtnReKkntzHT1xZw70tlgc96Wws62vfs7e7dt7M2vDQ90zgypdyhdE32Pdf7pJte56YvFra8Xp66GrhNnnpyYX1t27ejcvba3lmHdf2LICTbcOJbLy7QhrlhpjjgD8cZvmSP+QBwy8SJF34aM+ySq++nG/Pr/wt3cJe4Df/9Zt3/zPje247P25mepjV0zbMOOJ9xXNl3bFbPMPeGuueMpd8Ii/ytrmlEvHPiSu+uIcw88c8594G0LTNcH3A2/c5l7y/r17r8+dd7dfHlNwiaGq/dN0G2PnHAfW3n5RKkyJDDPjVyB/OscRq9pdvTfv+TuN1F7j33TvXcp5tLN7pnLF7m3r/+ge/Bv/sSNdudc01RLT0igqevEs9/Y2Z1fu47sc6NX21oxeotbeuul7nabdHG3qPC8ytpuCq+6V++y+F487Y6f7X4EdeaVhnxHpU/2+ut+b4LxvPkIgNvu5XMWqNT0mxk/Pf6jrp5/3vk592P7VZFX5s93pw58sVt25EdjFqhMfpQwIbzSDD7qWeuuv05BSjz2c27shO3BVIq1C25s7JxbODJSywPEyz9+zlRtcX/UDVJ6AqPfXd7NnDlrE7+R4VVPp35OEmjqOnH2ZZtfy3a49yBI6dpit2rtRufuf3FSfA25pvBSoBI7+ImrZWztV2PhK+enf3BaZ+TPvv/35VPuZzYguHUsXLHFbVnxilt2WYOm+XkT1sRXBrVP4hG39F3LnNv8uHtufJN7R8Do5KOfdG9892a365kz9vaCi3lVosfd0acP2qc+7wuG7pWqBKifggg0dZ146ac2v97wvoLOsrhmmsKr8hX8kvk89eJgFtHS/Hn8LZbT7jv799mkWV1Es8O3gRubWVO59dQ14SfeWKxw9973D+5a3uTsi9L37Dzu3npF1Te2JvCYbRrmumtW2cfVmz/pPr19o/uPv77BO4HjbtffbbbtO90Nb6ljLBe4q6+3b9jd/rg7dmGTu7q/ap46+VJX42X6DThvrJqebeY6ccVSm18WpE/Or3H3P99+wmC+uWagzeA18WWVqmjs+7d/dTt373Q7d/Z9+3a357HjVXU/rZ+R6Pe73xS+feu97ukXjrsD229zt1uckvwKeloT5RYsXNT9dlH78HfcsycxaZpr/ZiqFoFvX/Nn1u9B964/3WrjeNIdf/ohd2u02m3efNzNrTwcT0ZQJ6NkVc3Ys2Tl7W6bfW1/3103upUf3+m++/Sz7tnDFmyujNxd9sC5YcettX0HKrpunUG63234y53u2RdOu+OHv+42vPuTFhtvc6v1/ZRmTKAcKpq6TkTX4cG4N78OH7U/qrn1z936L9qX7szqXDOayguBS0m/9cNvzfPbzJPpsL8JZJonvvs+eOZ854kd/W/wd7/Vv7azEd+4XrGjId/mP9/Zd/eyDs7RffqJwU8v5ohheJ17ZldXy44jk19FP7ILv2GzoXNkyF9kGUYXTvPYf+/o2IcHPVbddEPnkRPnYwgMVjSsLvRWFCNfeRG6/PaKyg+l69yxzq6J33TjWC7rbNn3zNDyhtJlvR/Z2/8NN86xZXd2nnypGfOr0xnr7Lqpmb/10zRdTV0njj2yo2Nxem/9Wra2n/9059iQU2zYeV8mL9OW67d+5lhF3xCo4LMZBCuLzH/THF/YeL35G8z32vVqSbMMf8tjWF1jp0+6MfvaxaWLl7gFBT2BF6GLpMfH7G3KwpFCtBWpi/qKSAvRNW5Puy+ecfMWXeLeuGRxIV+8LERXEYCCNi5mXeNjJ92Lp/AF8nnu0isudyMFXJNF8Lpguk68dMZdmLvQLV16ueZXMCer2CxiHF3D1onxFw67b37vF+6GP77BLXZ2I7LXwIe3r3TX/Ms6d+apj7lhPvBsMi+bL+vNT5mfNsefWfu5Ob5iiC+A4WXSr80Luc7Qzqy3EQtQhpkMZQNYYL/tIMtBYMFiu4HU/Rs+OXSqSiqBBSNLGvm/feZ2dS1J1a6ds4BAw9aJ8z993K1de4dbcfcD7sub/tCdPLjT3XjHQbdiy982475UM68CnlNmwaSURBEQAREQARFoKIGRd9zm9m9ru9V3fNC9Hd8bN9uwZb+7b8qXynvlr8af+uinxFEv5JVbCfqkazCo4iVegxEYrLbml3hNErjgxsfPufPnF7qRIj7vtIabPL9Mnj76mRx85URABERABESg6QTmugUL7LuI/BMLTZdbkb7Kfz25ovNSNyIgAiIgAiIgAhcBAQUqF8Eg6hREQAREQARE4GIloEDlYh1ZnZcIiIAIiIAIXAQE0gIV/sEUphfB6eoUREAEREAEREAEGkSAMQbTadLiAhVU9h0HcXtaAyoQAREQAREQAREQgRkQwB90C+MLbiPtWlygwn2szIZ+xR1KRUAEREAEREAERGBIAogvGGMwndZkXKDCAAWVmUeQgkZkIiACIiACIiACIlAEAcYWjC8Yc0xpO/zLtKhEw4F0++cD3b+737E/HhP+kTjWrzOVrsHoi5d4DUZgsNqaX+I1GIHBamt+XSS87DQQWyBYYcDCQMWPRRL/1w8rI1BBQwxUbrH868zxjwrxDwsXmuMfGMJf0/cyAhmKxskgz5PithV1DW+I4NDg68G2dPW4kaUh6bISr96cAg/OJ80v0Eg2ziHxSmbk7xEvn0Z2XryyGfk1mswLMQT+uSB83Bz/cBD/eND+y677P3OUh8GKFU218I0K9uKk6ViI4GgI/80QHTEosWx3HzrCPrQV91GSFRdi1ISUb3qYRwcMRBCgIM8bcFlBCvqESVePQ96f4pWXVK+eeIkX17bBSOSrrfmVjxNriRdJ5Ev5soNxAgIVOuIJ/pdkPvSAL45BOmFxgQp2ohKDFHTwS3M0+lpzBALcj04QuMzrl5cVqKA/XKxIeRJIYUx5MTMwYcDC8l7tYn9K12A8xUu8dD1OrmOYDVq/pl8TWiemM0kraTIvaEMs4ccRCFR+YX7WHDEEgxW8EOH93bKTFheooGFUhvMjHzSEumgcho4RvPhBStmBAXTBmCLPixx5GhZCBkyoy4WRKesVlVIPU7QrXcl0yYmpeCWzwh5yYipe4pVOYLC9nFdMNb/S+ZETU/FK54V7IeIFxBJwxA18o8IUZQhk+HIEx/h8Y7+jggpwNo4GcOOHoxyNoAyd4A0L3qZwPwMEKyrNqA+BB/JM0SHzSP089pVt0jUYYfESr8EIDFZb80u8BiMwWG3Nr3y8wIkBiP/iAy8/+J0V/40K6uIYGNNpgQp3IBhB0IGDEO3gpg9jp2iYHwPhTYv/NoV1Ub8oQ79wBkLIUyP6YJ8o8wMU5FnGOqhflEnXYCTFS7x0PfbWMq1fydeC1olkNnF7ms4L+his4CUH36wgjkB84QcquC5QH+mExX30g51hRd780Rk6wnF8k4IgBQEE6pQRDFizXYMmGPvAtp/v7rQf0MLFEGV+PWwXbdI1GFHxEi9et4ORyFdb8ysfJ9YSL5LIl4pXPk6sBV5+8IEghXEEYgkEKihjOeta0aTFBSpseLJW72bPcnSC4xAFMUBhWtYCxMmBFH2wH2yjb1gYnPAYv36vZnE/2Yd05WMqXvk4sZZ4kUS+VLzycWIt8SKJfKl45ePEWj4v5HGPhiOGQIrgBMEKtumsw2NtVy/g6GZifqAiDobxIGwjMID7H/cwWLDiUg06EHgwRWfc9suolwEN6pVp7Jsp+pKuZOLkxFS8kllhDzkxFS/xSicw2F7OK6aaX+n8yImpeGXzQg0/CGHAgpgCHJGiDPlplnYj5z4EIcjDGaRwGw2GQQqPw74ijSfAlP1gm3qQD/dTA+tzu6iU/TFlP9iWrumUyYmpeE1n5JeQE1Px8ulMz5MTU/GazsgvISem4uXTmZ4nJ6biNZ2RX0JOfoo8gxLmsQ1j2tvq/yTkKYXBBuv4AQnK6H511vXLisjzJP22UAaHLubZP1PWD7dZPmwqXYMRFC/xAgFdj5Nrltav6deE1onpTNJKZiMvnA90U3tsgMKTHnTBSKufto/9FZHyxPK2JV15SfXqiZd4DUJA1+MgtCYX5rxH6XrMS6pXT7xmD69B147Bzky1RUAEREAEREAEREAEREAEREAEREAEREAEREAEREAEREAEREAEREAEREAEREAEREAEREAEREAEREAEREAEREAEREAEREAEREAEREAEREAEREAEREAEREAEREAEREAEREAEREAEREAEREAEREAEREAEREAEsglU9Vf8qORqy9xs/jkWpKRrbN/7zT9ifjalXhG7snStsk7Wm4+Zv2i+2/ykedmWpesqE9Ayhy7YV8wf7+bK/5GlDXPrU+a7zY+ZV2FZmpaYCIzjcvOfmH/BnOwsW4lB44f6Pf3Q0t3mZc/vfnepCebSxn6Nn1t6n/mJ/nYdCTjNz+j4exn7y9wNbR82x1waMf+q+TfM67TIOr8sRsACK/u2eVP+Euga01LV2h6DY1pRXev7NCFeQZ1ruycjMYvrM++9PLGRpu7AhQL3/29QnNaoXw91MWBlW5qu71vn3O+nny9blNdvHK+Wt9/X1bbyKgJQ9hmnzSQ4XPyo0zKvytI0fcJEcL+fvrMqcdYPbmR+38yDVZ2WpKuKOR533v7/vyGjuDRp7sW1WWQZFuk4PaetvC5NOL92gi5orWIdhYYsi6wC2TVBU53rexKrlseIrJC2zatY262bTKOuOud7pshBKlxhlW8xB+Q8JzfXq4f6kXkZlkdXyzqmZtSHNpyLX2abhVoeXbixUcP1lsdkwUXPsp2WL8OytEEHbvy4wVELAoQyLUsT+kYd6sHTHHT64zhi22XbR60DaogsjyfyUXOWZb09sKqlGHhAA26ykTnmuD+/wK4Ogy6Mke++rnYdoqxPzB2OGeY2tjF/wA/l0FuXURfWBN/BDTrrNswtakQa1SyoZf1TD+Y59PnrQh1z35/jVa7tduqZBh7g0zYntybMq0zheSrwhPw07eTCCDfK08kM6vh6mA91ta1d7FsUtM+n8yVBeRGb1OKnoa6WdYT94dsABivtIoTEtOFrYt7Xxv65D2nZgYrfF/O+JpwG5xSCBd84jmVrRJ+8kS32BVi+ZQ7doTYrqsQYQCEw8K1lG9A1at4UQ0CQNMZVaSSvPUGHWAvqHEc8aaP/sh5SgtOd0SavQ45hNKNWijuobU1By6KgSa4LGNOqrWUdQlPVa3ue8+S4+Wm41uZpp5F1sLhgcY7MeYJJJ8cJgsWAr6NxXBmWR1fLOoYOLAK+HbINnEvkFxaUz6O8GH4NAAAGfklEQVSL/aOub5FtQFfbLywwn6UNnHBx48LHQg4tGNMyLUsT+gYPaAl5QSvKsb9Mw3xHP/Bw7jO4wyJeh/GaC29wYAK9UR2iEvokwzo18WaLNQ1vwTB+0IOn8TqNc7llIvDki6dx3Ozq1mUSusZ5VsXazj6z0pZVqHp9z9JU19qepQv786y1edppdB3cxLjQhIs1hHPBxgIJ44IQdbfK+5Gliz1fbRm89qIunAuOLcuydMX1zeDuUFmi+u1maUO1UXMwwgJVhSVp8oOEkBkWdGjknCtTJ/qBh3OfC3gVGuLODzdbaoMG6kEZ3gKFzKyoFqOuMKCqWswh6xBs/HWA/Kqa63HnzPWTWvy0zo+joJXa2n3hZBf1t5uQVL2+p51z3DVX1dqepov7oI/zK1zPWKeRKRY7PEUzjYvi004O9XniaANWxGSmHqaD6uop6f2kPqZYxGdq1MN0GF3QEJlTF9LwzYEV5TZqYjpTbXhygpYiFm9qYTqIJn/ehcdx36HcdLIrUiNT9smFBinL8MTLccN8L9Oohyk1oE9qCNOyNaFv6mHq68J+GOYztcXt71Yq+Af1MGW//AgPesBnlTmCJ+obtXyZRj1MqatlnVIDrj3ceDnnUI43LGUa9TClLqTUhX2wItb2Xkv5flITU2rzj6ZGpsOs7367SXlqYRqnCcdG5tSEdJi13Q7PNOphGqeL6yb0zKpAxb94IT5ukNNOrm3H4DhcXLQiJvOwuqgFKQZuifmoObTCZ/p0V5QuTFrcZKmnbXnoHMaK0lZkoDKMprR5x31F3pCTtCKQ5zjFpRi7Mi1JF+cP9uPJFwsTbmrU2LJ8mZaky++TgUDLLyw5H6fLfzsX/kbUGtMDZnWNY2R946EgvJG1rKxOXeCB/ote263J3BY3luHBRa7vYdtx21mayljb43SEZVm6UJ/rJsZ1VgUqe0wwJiQWfKTYDi3p5CKriBOG83i0wTKk2Mbxg9owutAXApPwy48ox0VHXdge1IbVhf5WmfuMwi9fDaqJ9YvQhraKDFSG0eTfXMI5hPEdZhzJzE/TtKL/ljnmORz5UXNomGnQa4fmsjhd/jUZ3uCuslaLZhMnNE6XX88fv2GDcL/drHySrrYdCC5R0ICvM5xnQdWhNpN0JTUKZtB7KKlCQeVxuiJrG33Di17brcncFqcNB5e1vucRlqQJx5a1tg+ri8f768asClR4Amlp0skhEMBEDiM5TnCmZQFJ0oWFm32H58WLvx3uKHA7SRe64HcroA8BQdWWpo1aigxU2GZamqaJcwsLk29cEMKnY79OUXkEkugvtJYVYBzLfjUf9ovttJsr95U5x+M0hWV8KDgU7qhpGzwwXlHQ/9x+OeZaHdayTuGhlRGMh30kbde9tifpQnnd63uStrrX9iRdfnnaWuvXm5X5QU+ON7qrSj7bJF1+eaiBfycETwllmd9/GKQdsk6xWI6W1XlGu2naeCjH7xMsKDlN0wQN4IWbDI03YpSH48s6RaYMlvy+FlkH6B8ejnGRfae1xf7DIIrjV+YcT9PFfXssA42hPu6vOuVcwvc/fCMvXJt1GMcRgZ1v5Ff2Gzu/z6w8WfnXQtYxRe/314tQRxXre9L5YP5gLEeTKjSg3GdX17pVGgb/xpDn5DiZo9IU9RpO08UJi4mDPDS1zbkoIPoty9J0sf+ktOybS5o28uD4VRWopGny94HNqDnZtSm45JQ80O9o36kB++oyXxduvi1zLpbQF5nXaWSEJ+AmmD+XEHxifvtfWo37qLgK3QygwAvByah525z8qvzYzLpNNc65KLVW+TvrXN+Tzo7jlZSWvbYn6fLL/WsA+YvK/CgM+SzjZF6SVXHI/Vm6/MnsT54wCh9SxrTD03T5OuLyZU/mNG08Ef6Fx1EWlJxmafJf9ZJZ2zTNLVmX33zcXEJZ3TZqAsjET4v63tNMzw9jQz0zbaOM4xZZo5g71MY0KqOzAdr0gxVqQjDVlCCPp1LV2s7+0tK4axLsyl7fkzRx3JLSstf2JF1+edZa69ctJI8OZdkE8DRyWb/aWUvr+hw6W6lqZBHAW7Bfmo+bj2VVLmE/5tKbzM+b4x9cXjBvgmEtuNx8njm01fkPCa37WWEIAC4xx3yq4p+U5oGCcXy9OYI8zC2tVQYhw7S+ZwDSbhEQAREQAREQAREQAREQAREQAREQAREQAREQAREQAREQAREQAREoiMD/A+szip4+Zr6mAAAAAElFTkSuQmCC)\n",
    "\n",
    "- Indexed left to right using **positive numbers** from postion 0 to position 13\n",
    "- Indexed right to left using **negative numbers** where -1 is the rightmost index"
   ]
  },
  {
   "cell_type": "code",
   "execution_count": 4,
   "metadata": {
    "colab": {
     "base_uri": "https://localhost:8080/"
    },
    "executionInfo": {
     "elapsed": 993,
     "status": "ok",
     "timestamp": 1606658218131,
     "user": {
      "displayName": "Tan chee lam",
      "photoUrl": "https://lh3.googleusercontent.com/a-/AOh14GiJr326PVTrMvSfwUW6T-z0ZonqXE15R45mf30M=s64",
      "userId": "10981313530642734552"
     },
     "user_tz": -480
    },
    "id": "HcRT793IR-Sd",
    "outputId": "d4002c74-65cf-4f54-f2a4-00ca87b6bc1d"
   },
   "outputs": [
    {
     "name": "stdout",
     "output_type": "stream",
     "text": [
      "m: t\n",
      "last character: e\n"
     ]
    }
   ],
   "source": [
    "school = \"Luther College\"\n",
    "m = school[2]\n",
    "print(\"m:\", m)\n",
    "\n",
    "lastchar = school[-1]\n",
    "print(\"last character:\", lastchar)"
   ]
  },
  {
   "cell_type": "code",
   "execution_count": 5,
   "metadata": {
    "colab": {
     "base_uri": "https://localhost:8080/"
    },
    "executionInfo": {
     "elapsed": 944,
     "status": "ok",
     "timestamp": 1606658249705,
     "user": {
      "displayName": "Tan chee lam",
      "photoUrl": "https://lh3.googleusercontent.com/a-/AOh14GiJr326PVTrMvSfwUW6T-z0ZonqXE15R45mf30M=s64",
      "userId": "10981313530642734552"
     },
     "user_tz": -480
    },
    "id": "EnH-bBJpSyAt",
    "outputId": "eafa0b87-a109-4e98-e7d9-0c12e185d9d5"
   },
   "outputs": [
    {
     "name": "stdout",
     "output_type": "stream",
     "text": [
      "87\n",
      "123\n",
      "8398\n"
     ]
    }
   ],
   "source": [
    "numbers = [17, 123, 87, 34, 66, 8398, 44]\n",
    "print(numbers[2])\n",
    "print(numbers[9-8])\n",
    "print(numbers[-2])"
   ]
  },
  {
   "cell_type": "code",
   "execution_count": 6,
   "metadata": {
    "colab": {
     "base_uri": "https://localhost:8080/"
    },
    "executionInfo": {
     "elapsed": 1134,
     "status": "ok",
     "timestamp": 1606658264915,
     "user": {
      "displayName": "Tan chee lam",
      "photoUrl": "https://lh3.googleusercontent.com/a-/AOh14GiJr326PVTrMvSfwUW6T-z0ZonqXE15R45mf30M=s64",
      "userId": "10981313530642734552"
     },
     "user_tz": -480
    },
    "id": "UBxxEr9NS2qs",
    "outputId": "a8e153ec-abc2-4ca7-b514-271a56e02363"
   },
   "outputs": [
    {
     "name": "stdout",
     "output_type": "stream",
     "text": [
      "1.99\n",
      "100.98\n",
      "20.95\n"
     ]
    }
   ],
   "source": [
    "prices = (1.99, 2.00, 5.50, 20.95, 100.98)\n",
    "print(prices[0])\n",
    "print(prices[-1])\n",
    "print(prices[3-5])"
   ]
  },
  {
   "cell_type": "markdown",
   "metadata": {
    "id": "w0kc4-A1TDVU"
   },
   "source": [
    "# Length\n",
    "- To determine number of elements in the sequence (string, list, tuple)\n",
    "\n",
    "- Use *len()* function"
   ]
  },
  {
   "cell_type": "code",
   "execution_count": 7,
   "metadata": {
    "colab": {
     "base_uri": "https://localhost:8080/"
    },
    "executionInfo": {
     "elapsed": 2147,
     "status": "ok",
     "timestamp": 1606658501818,
     "user": {
      "displayName": "Tan chee lam",
      "photoUrl": "https://lh3.googleusercontent.com/a-/AOh14GiJr326PVTrMvSfwUW6T-z0ZonqXE15R45mf30M=s64",
      "userId": "10981313530642734552"
     },
     "user_tz": -480
    },
    "id": "SqyenYPRTj5E",
    "outputId": "caaafcd8-e93d-438c-d14c-db17e812b660"
   },
   "outputs": [
    {
     "name": "stdout",
     "output_type": "stream",
     "text": [
      "6\n"
     ]
    }
   ],
   "source": [
    "fruit = \"Banana\"\n",
    "length = len(fruit)\n",
    "print(length)"
   ]
  },
  {
   "cell_type": "code",
   "execution_count": 8,
   "metadata": {
    "colab": {
     "base_uri": "https://localhost:8080/"
    },
    "executionInfo": {
     "elapsed": 1845,
     "status": "ok",
     "timestamp": 1606658579959,
     "user": {
      "displayName": "Tan chee lam",
      "photoUrl": "https://lh3.googleusercontent.com/a-/AOh14GiJr326PVTrMvSfwUW6T-z0ZonqXE15R45mf30M=s64",
      "userId": "10981313530642734552"
     },
     "user_tz": -480
    },
    "id": "D6eSpQfET26M",
    "outputId": "57851576-752d-48ed-c9dc-e56dcc2c9dea"
   },
   "outputs": [
    {
     "name": "stdout",
     "output_type": "stream",
     "text": [
      "5\n"
     ]
    }
   ],
   "source": [
    "a_list = [3, 67, \"cat\", 3.14, False]\n",
    "print(len(a_list))"
   ]
  },
  {
   "cell_type": "code",
   "execution_count": 9,
   "metadata": {
    "colab": {
     "base_uri": "https://localhost:8080/"
    },
    "executionInfo": {
     "elapsed": 924,
     "status": "ok",
     "timestamp": 1606658667609,
     "user": {
      "displayName": "Tan chee lam",
      "photoUrl": "https://lh3.googleusercontent.com/a-/AOh14GiJr326PVTrMvSfwUW6T-z0ZonqXE15R45mf30M=s64",
      "userId": "10981313530642734552"
     },
     "user_tz": -480
    },
    "id": "c4bbQ4HgUIWl",
    "outputId": "6bfdf0aa-b4cf-416c-f2a2-56057214379c"
   },
   "outputs": [
    {
     "name": "stdout",
     "output_type": "stream",
     "text": [
      "8\n"
     ]
    }
   ],
   "source": [
    "a_tuple = (\"hi\", \"morning\", \"dog\", \"506\", \"caterpillar\", \"balloons\", 106, \"yo-yo\")\n",
    "print(len(a_tuple))"
   ]
  },
  {
   "cell_type": "markdown",
   "metadata": {
    "id": "S_QLK19PUdQs"
   },
   "source": [
    "# Slice Operator\n",
    "    [n:m]\n",
    "    where n = starting index (inclusive)\n",
    "          m = ending index   (exclusive)\n",
    "\n",
    "\n",
    "- If you omit the first index (n), the slice starts at the beginning of the string\n",
    "- If you omit the second index (m), the slice goes to the end of the string"
   ]
  },
  {
   "cell_type": "code",
   "execution_count": 10,
   "metadata": {
    "colab": {
     "base_uri": "https://localhost:8080/"
    },
    "executionInfo": {
     "elapsed": 886,
     "status": "ok",
     "timestamp": 1606659490168,
     "user": {
      "displayName": "Tan chee lam",
      "photoUrl": "https://lh3.googleusercontent.com/a-/AOh14GiJr326PVTrMvSfwUW6T-z0ZonqXE15R45mf30M=s64",
      "userId": "10981313530642734552"
     },
     "user_tz": -480
    },
    "id": "JHxOFbkdWeIl",
    "outputId": "eb442c92-3e54-4c3c-db65-2015ce27bf58"
   },
   "outputs": [
    {
     "name": "stdout",
     "output_type": "stream",
     "text": [
      "ISC\n",
      "CS\n",
      "DISCOVERY\n"
     ]
    }
   ],
   "source": [
    "title = \"CSDISCOVERY\"\n",
    "print(title[3:6])\n",
    "print(title[:2])\n",
    "print(title[2:])"
   ]
  },
  {
   "cell_type": "code",
   "execution_count": 11,
   "metadata": {
    "colab": {
     "base_uri": "https://localhost:8080/"
    },
    "executionInfo": {
     "elapsed": 931,
     "status": "ok",
     "timestamp": 1606659511584,
     "user": {
      "displayName": "Tan chee lam",
      "photoUrl": "https://lh3.googleusercontent.com/a-/AOh14GiJr326PVTrMvSfwUW6T-z0ZonqXE15R45mf30M=s64",
      "userId": "10981313530642734552"
     },
     "user_tz": -480
    },
    "id": "dORpjNtfXma0",
    "outputId": "b600ce39-25c4-4e34-e240-4a134935eae4"
   },
   "outputs": [
    {
     "name": "stdout",
     "output_type": "stream",
     "text": [
      "['b', 'c']\n",
      "['a', 'b', 'c', 'd']\n",
      "['d', 'e', 'f']\n",
      "['a', 'b', 'c', 'd', 'e', 'f']\n"
     ]
    }
   ],
   "source": [
    "a_list = ['a', 'b', 'c', 'd', 'e', 'f']\n",
    "print(a_list[1:3])\n",
    "print(a_list[:4])\n",
    "print(a_list[3:])\n",
    "print(a_list[:])"
   ]
  },
  {
   "cell_type": "code",
   "execution_count": 12,
   "metadata": {
    "colab": {
     "base_uri": "https://localhost:8080/"
    },
    "executionInfo": {
     "elapsed": 864,
     "status": "ok",
     "timestamp": 1606659666009,
     "user": {
      "displayName": "Tan chee lam",
      "photoUrl": "https://lh3.googleusercontent.com/a-/AOh14GiJr326PVTrMvSfwUW6T-z0ZonqXE15R45mf30M=s64",
      "userId": "10981313530642734552"
     },
     "user_tz": -480
    },
    "id": "Nsn4On66XuSW",
    "outputId": "5a00f265-89be-45ed-bd4e-2e3c49b42dc2"
   },
   "outputs": [
    {
     "name": "stdout",
     "output_type": "stream",
     "text": [
      "(1967, 'Duplicity', 2009, 'Actress')\n",
      "('Julia', 'Roberts', 1967, 'Eat Pray Love', 2010, 'Actress', 'Atlanta, Georgia')\n"
     ]
    }
   ],
   "source": [
    "julia = (\"Julia\", \"Roberts\", 1967, \"Duplicity\", 2009, \"Actress\", \"Atlanta, Georgia\")\n",
    "print(julia[2:6])\n",
    "\n",
    "julia = julia[:3] + (\"Eat Pray Love\", 2010) + julia[5:]\n",
    "print(julia)"
   ]
  },
  {
   "cell_type": "markdown",
   "metadata": {
    "id": "tTPjxugYYS4d"
   },
   "source": [
    "# Concatenation and Repetition\n",
    "- Using + operator in concatenation\n",
    " - str + str\n",
    " - list + list\n",
    " - tuple + tuple\n",
    "\n",
    "- Using * operator in repetition"
   ]
  },
  {
   "cell_type": "code",
   "execution_count": 13,
   "metadata": {
    "colab": {
     "base_uri": "https://localhost:8080/"
    },
    "executionInfo": {
     "elapsed": 1012,
     "status": "ok",
     "timestamp": 1606660419454,
     "user": {
      "displayName": "Tan chee lam",
      "photoUrl": "https://lh3.googleusercontent.com/a-/AOh14GiJr326PVTrMvSfwUW6T-z0ZonqXE15R45mf30M=s64",
      "userId": "10981313530642734552"
     },
     "user_tz": -480
    },
    "id": "dT9FOrTwa3j4",
    "outputId": "ea348d96-86ef-4d65-ad7f-61dc4afae2bd"
   },
   "outputs": [
    {
     "name": "stdout",
     "output_type": "stream",
     "text": [
      "[1, 3, 5, 2, 4, 6]\n"
     ]
    }
   ],
   "source": [
    "a_list = [1,3,5]\n",
    "b_list = [2,4,6]\n",
    "print(a_list + b_list)"
   ]
  },
  {
   "cell_type": "code",
   "execution_count": 14,
   "metadata": {
    "colab": {
     "base_uri": "https://localhost:8080/"
    },
    "executionInfo": {
     "elapsed": 890,
     "status": "ok",
     "timestamp": 1606660595817,
     "user": {
      "displayName": "Tan chee lam",
      "photoUrl": "https://lh3.googleusercontent.com/a-/AOh14GiJr326PVTrMvSfwUW6T-z0ZonqXE15R45mf30M=s64",
      "userId": "10981313530642734552"
     },
     "user_tz": -480
    },
    "id": "G5zjq9P8bwAu",
    "outputId": "182bb4e8-f9cf-4494-91af-bb276d382125"
   },
   "outputs": [
    {
     "name": "stdout",
     "output_type": "stream",
     "text": [
      "[1, 3, 5, 1, 3, 5, 1, 3, 5]\n"
     ]
    }
   ],
   "source": [
    "alist = [1,3,5]\n",
    "print(alist * 3)"
   ]
  },
  {
   "cell_type": "markdown",
   "metadata": {
    "id": "hhPfiUGocCe8"
   },
   "source": [
    "Why the following code runs into error ?\n",
    "\n",
    "    print(['first'] + \"second\")\n",
    "\n",
    "How to resolve it ?"
   ]
  },
  {
   "cell_type": "markdown",
   "metadata": {
    "id": "mA-kyE-NcTD2"
   },
   "source": [
    "# Count\n",
    "- Build in method in sequence data types\n",
    "- Returns the number of times that the argument occured\n",
    "- Matched elements must have same type and value with the argument\n",
    "\n",
    "**Important**: When you use *count()* on a string, the argument can only be a string\n",
    "\n",
    "    string = \"2322322\"\n",
    "    print(string.count(2)) # Error!"
   ]
  },
  {
   "cell_type": "code",
   "execution_count": 15,
   "metadata": {
    "colab": {
     "base_uri": "https://localhost:8080/"
    },
    "executionInfo": {
     "elapsed": 892,
     "status": "ok",
     "timestamp": 1606662418239,
     "user": {
      "displayName": "Tan chee lam",
      "photoUrl": "https://lh3.googleusercontent.com/a-/AOh14GiJr326PVTrMvSfwUW6T-z0ZonqXE15R45mf30M=s64",
      "userId": "10981313530642734552"
     },
     "user_tz": -480
    },
    "id": "_qxaGuNtiVp5",
    "outputId": "5180648c-e7b8-46e0-d176-6c75396735eb"
   },
   "outputs": [
    {
     "name": "stdout",
     "output_type": "stream",
     "text": [
      "5\n",
      "2\n"
     ]
    }
   ],
   "source": [
    "a = \"I have had an apple on my desk before!\"\n",
    "print(a.count(\"e\"))\n",
    "print(a.count(\"ha\"))"
   ]
  },
  {
   "cell_type": "code",
   "execution_count": 16,
   "metadata": {
    "colab": {
     "base_uri": "https://localhost:8080/"
    },
    "executionInfo": {
     "elapsed": 835,
     "status": "ok",
     "timestamp": 1606662515428,
     "user": {
      "displayName": "Tan chee lam",
      "photoUrl": "https://lh3.googleusercontent.com/a-/AOh14GiJr326PVTrMvSfwUW6T-z0ZonqXE15R45mf30M=s64",
      "userId": "10981313530642734552"
     },
     "user_tz": -480
    },
    "id": "IhZp0nmZiwIo",
    "outputId": "db937c5d-6711-4617-9765-fef19f088e4f"
   },
   "outputs": [
    {
     "name": "stdout",
     "output_type": "stream",
     "text": [
      "0\n",
      "3\n",
      "0\n",
      "2\n"
     ]
    }
   ],
   "source": [
    "z = ['atoms', 4, 'neutron', 6, 'proton', 4, 'electron', 4, 'electron', 'atoms']\n",
    "print(z.count(\"4\"))\n",
    "print(z.count(4))\n",
    "print(z.count(\"a\"))\n",
    "print(z.count(\"electron\"))"
   ]
  },
  {
   "cell_type": "markdown",
   "metadata": {
    "id": "05U_OsygjybJ"
   },
   "source": [
    "# Index\n",
    "- Build in method in sequence data types\n",
    "- Returns the leftmost index where the argument is found\n",
    "- Error will occur if cannot find the argument\n",
    "\n",
    "      seasons = [\"winter\", \"spring\", \"summer\", \"fall\"]\n",
    "      print(seasons.index(\"autumn\"))  # Error!\n",
    "\n",
    "**Important**: It takes only string argument when *index()* is used on strings"
   ]
  },
  {
   "cell_type": "code",
   "execution_count": 17,
   "metadata": {
    "colab": {
     "base_uri": "https://localhost:8080/"
    },
    "executionInfo": {
     "elapsed": 911,
     "status": "ok",
     "timestamp": 1606663002262,
     "user": {
      "displayName": "Tan chee lam",
      "photoUrl": "https://lh3.googleusercontent.com/a-/AOh14GiJr326PVTrMvSfwUW6T-z0ZonqXE15R45mf30M=s64",
      "userId": "10981313530642734552"
     },
     "user_tz": -480
    },
    "id": "5BOMpBQKk1G9",
    "outputId": "e91214cc-b7a4-44d8-f8c6-de99936240f0"
   },
   "outputs": [
    {
     "name": "stdout",
     "output_type": "stream",
     "text": [
      "14\n",
      "9\n"
     ]
    }
   ],
   "source": [
    "music = \"Pull out your music and dancing can begin\"\n",
    "\n",
    "print(music.index(\"m\"))\n",
    "print(music.index(\"your\"))"
   ]
  },
  {
   "cell_type": "code",
   "execution_count": 18,
   "metadata": {
    "colab": {
     "base_uri": "https://localhost:8080/"
    },
    "executionInfo": {
     "elapsed": 907,
     "status": "ok",
     "timestamp": 1606663154982,
     "user": {
      "displayName": "Tan chee lam",
      "photoUrl": "https://lh3.googleusercontent.com/a-/AOh14GiJr326PVTrMvSfwUW6T-z0ZonqXE15R45mf30M=s64",
      "userId": "10981313530642734552"
     },
     "user_tz": -480
    },
    "id": "2NbvyG7ulNgx",
    "outputId": "67cd784d-8e45-423c-d369-1cf6797b63f6"
   },
   "outputs": [
    {
     "name": "stdout",
     "output_type": "stream",
     "text": [
      "0\n",
      "3\n",
      "6\n"
     ]
    }
   ],
   "source": [
    "bio = [\"Metatarsal\", \"Metatarsal\", \"Fibula\", [], \"Tibia\", \"Tibia\", 43, \"Femur\", \"Occipital\", \"Metatarsal\"]\n",
    "\n",
    "print(bio.index(\"Metatarsal\")) # There are two Metatarsal in the bio list\n",
    "print(bio.index([])) # Even we can find the index of empty list\n",
    "print(bio.index(43))"
   ]
  },
  {
   "cell_type": "markdown",
   "metadata": {
    "id": "kpJmzG8lmzLC"
   },
   "source": [
    "# Split vs Join\n",
    "\n",
    "## - *split()*\n",
    "  - Breaks a string into a list of words\n",
    "        str.split(sep=None, maxsplit=-1)\n",
    "          where sep = delimiter string\n",
    "           maxsplit = Number of times to split\n",
    "  - By default, **whitespace** is delimiter and maxsplit is -1 (**no limit**)\n",
    "\n",
    "    <img src=\"https://fopp.umsi.education/books/published/fopp/_images/split_default.gif\">\n",
    "\n",
    "  - Delimiter can be used to **specify characters** to use as word boundaries\n",
    "\n",
    "    <img src=\"https://fopp.umsi.education/books/published/fopp/_images/split_on_e.jpeg\">\n",
    "\n",
    "\n",
    "## - *join()*\n",
    "  - The reverse of *split()*\n",
    "  - Join the list with the **seperator (glue)** between each of the elements\n",
    "        str.join(iterable)\n",
    "          iterable = sequence of strings\n",
    "\n",
    "    <img src=https://fopp.umsi.education/books/published/fopp/_images/join.gif>\n",
    "\n",
    "  - **TypeError** will be raised if iterator is non-sting value\n"
   ]
  },
  {
   "cell_type": "code",
   "execution_count": 19,
   "metadata": {
    "colab": {
     "base_uri": "https://localhost:8080/"
    },
    "executionInfo": {
     "elapsed": 863,
     "status": "ok",
     "timestamp": 1606665497698,
     "user": {
      "displayName": "Tan chee lam",
      "photoUrl": "https://lh3.googleusercontent.com/a-/AOh14GiJr326PVTrMvSfwUW6T-z0ZonqXE15R45mf30M=s64",
      "userId": "10981313530642734552"
     },
     "user_tz": -480
    },
    "id": "prdpkf-0tkcM",
    "outputId": "28369273-1f7b-4815-8eea-5e05ded61eea"
   },
   "outputs": [
    {
     "name": "stdout",
     "output_type": "stream",
     "text": [
      "['The', 'rain', 'in', 'Spain...']\n"
     ]
    }
   ],
   "source": [
    "song = \"The rain in Spain...\"\n",
    "word_list_1 = song.split()\n",
    "print(word_list_1)"
   ]
  },
  {
   "cell_type": "code",
   "execution_count": 20,
   "metadata": {
    "colab": {
     "base_uri": "https://localhost:8080/"
    },
    "executionInfo": {
     "elapsed": 1158,
     "status": "ok",
     "timestamp": 1606665500017,
     "user": {
      "displayName": "Tan chee lam",
      "photoUrl": "https://lh3.googleusercontent.com/a-/AOh14GiJr326PVTrMvSfwUW6T-z0ZonqXE15R45mf30M=s64",
      "userId": "10981313530642734552"
     },
     "user_tz": -480
    },
    "id": "mkDC8TtjuNq1",
    "outputId": "d8e5d2a4-9d40-49a9-a7b4-c6606f4619a4"
   },
   "outputs": [
    {
     "name": "stdout",
     "output_type": "stream",
     "text": [
      "['The r', 'n in Sp', 'n...']\n"
     ]
    }
   ],
   "source": [
    "word_list_2 = song.split('ai')\n",
    "print(word_list_2)"
   ]
  },
  {
   "cell_type": "code",
   "execution_count": 21,
   "metadata": {
    "colab": {
     "base_uri": "https://localhost:8080/"
    },
    "executionInfo": {
     "elapsed": 893,
     "status": "ok",
     "timestamp": 1606665659614,
     "user": {
      "displayName": "Tan chee lam",
      "photoUrl": "https://lh3.googleusercontent.com/a-/AOh14GiJr326PVTrMvSfwUW6T-z0ZonqXE15R45mf30M=s64",
      "userId": "10981313530642734552"
     },
     "user_tz": -480
    },
    "id": "HVfSuysFuf9K",
    "outputId": "92674348-9b74-4a84-fb49-eef6f05cb176"
   },
   "outputs": [
    {
     "name": "stdout",
     "output_type": "stream",
     "text": [
      "red;blue;green\n",
      "red blue green\n"
     ]
    }
   ],
   "source": [
    "colours = [\"red\", \"blue\", \"green\"]\n",
    "glue = ';'\n",
    "joining = glue.join(colours)\n",
    "print(joining)\n",
    "\n",
    "print(\" \".join(colours))"
   ]
  },
  {
   "cell_type": "markdown",
   "metadata": {
    "id": "Qpb041_SvS5E"
   },
   "source": [
    "# Challenge 1\n",
    "Write a program that extracts the **last three items** in the list sports and assigns it to the variable **last**.\n",
    "\n",
    "      sports = ['cricket', 'football', 'volleyball', 'baseball', 'softball', 'track and field', 'curling', 'ping pong', 'hockey']\n",
    "\n",
    "Make sure to write your code so that it works no matter how many items are in the list."
   ]
  },
  {
   "cell_type": "code",
   "execution_count": 22,
   "metadata": {
    "colab": {
     "base_uri": "https://localhost:8080/"
    },
    "executionInfo": {
     "elapsed": 1057,
     "status": "ok",
     "timestamp": 1606665861251,
     "user": {
      "displayName": "Tan chee lam",
      "photoUrl": "https://lh3.googleusercontent.com/a-/AOh14GiJr326PVTrMvSfwUW6T-z0ZonqXE15R45mf30M=s64",
      "userId": "10981313530642734552"
     },
     "user_tz": -480
    },
    "id": "Wzvuk-T1vpdD",
    "outputId": "4640fd54-f4f4-40c9-89fd-ff4475c65568"
   },
   "outputs": [
    {
     "name": "stdout",
     "output_type": "stream",
     "text": [
      "['curling', 'ping pong', 'hockey']\n"
     ]
    }
   ],
   "source": [
    "sports = ['cricket', 'football', 'volleyball', 'baseball', 'softball', 'track and field', 'curling', 'ping pong', 'hockey']\n",
    "last = sports[-3:]\n",
    "print(last)"
   ]
  },
  {
   "cell_type": "markdown",
   "metadata": {
    "id": "eZyP4hawv6cD"
   },
   "source": [
    "# Challenge 2\n",
    "Write code to determine **how many 9’s** are in the list nums and assign that value to the variable **how_many**.\n",
    "\n",
    "      nums = [4, 2, 23.4, 9, 545, 9, 1, 234.001, 5, 49, 8, 9 , 34, 52, 1, -2, 9.1, 4]\n",
    "\n",
    "Do not use a for loop to do this."
   ]
  },
  {
   "cell_type": "code",
   "execution_count": 23,
   "metadata": {
    "colab": {
     "base_uri": "https://localhost:8080/"
    },
    "executionInfo": {
     "elapsed": 1708,
     "status": "ok",
     "timestamp": 1606666126524,
     "user": {
      "displayName": "Tan chee lam",
      "photoUrl": "https://lh3.googleusercontent.com/a-/AOh14GiJr326PVTrMvSfwUW6T-z0ZonqXE15R45mf30M=s64",
      "userId": "10981313530642734552"
     },
     "user_tz": -480
    },
    "id": "SrX3DxNdwqVL",
    "outputId": "bd673151-4d63-4106-f676-10f87e1247a5"
   },
   "outputs": [
    {
     "name": "stdout",
     "output_type": "stream",
     "text": [
      "3\n"
     ]
    }
   ],
   "source": [
    "nums = [4, 2, 23.4, 9, 545, 9, 1, 234.001, 5, 49, 8, 9 , 34, 52, 1, -2, 9.1, 4]\n",
    "how_many = nums.count(9)\n",
    "print(how_many)"
   ]
  },
  {
   "cell_type": "markdown",
   "metadata": {
    "id": "5Y7c0iYMw42M"
   },
   "source": [
    "# Challenge 3\n",
    "Write code that **uses slicing** to **get rid of the the second 8** so that here are only two 8’s in the list bound to the variable **nums**.\n",
    "\n",
    "      nums = [4, 2, 8, 23.4, 8, 9, 545, 9, 1, 234.001, 5, 49, 8, 9 , 34, 52, 1, -2, 9.1, 4]\n"
   ]
  },
  {
   "cell_type": "code",
   "execution_count": 24,
   "metadata": {
    "colab": {
     "base_uri": "https://localhost:8080/"
    },
    "executionInfo": {
     "elapsed": 895,
     "status": "ok",
     "timestamp": 1606666465891,
     "user": {
      "displayName": "Tan chee lam",
      "photoUrl": "https://lh3.googleusercontent.com/a-/AOh14GiJr326PVTrMvSfwUW6T-z0ZonqXE15R45mf30M=s64",
      "userId": "10981313530642734552"
     },
     "user_tz": -480
    },
    "id": "WPMJQkcByIK9",
    "outputId": "50d2d780-8208-42e9-f690-aba85c2506a1"
   },
   "outputs": [
    {
     "name": "stdout",
     "output_type": "stream",
     "text": [
      "[4, 2, 8, 23.4, 9, 545, 9, 1, 234.001, 5, 49, 8, 9, 34, 52, 1, -2, 9.1, 4]\n"
     ]
    }
   ],
   "source": [
    "nums = [4, 2, 8, 23.4, 8, 9, 545, 9, 1, 234.001, 5, 49, 8, 9 , 34, 52, 1, -2, 9.1, 4]\n",
    "nums = nums[:4] + nums[5:]\n",
    "print(nums)"
   ]
  },
  {
   "cell_type": "markdown",
   "metadata": {
    "id": "ohA-uCDNyNHT"
   },
   "source": [
    "# Challenge 4\n",
    "Create a variable called **wrds** and assign to it a list whose elements are the **words in the string sent**.\n",
    "\n",
    "    sent = \"The bicentennial for our university was in 2017\"\n",
    "\n",
    "Assign the number of elements in wrds to the variable **num_lst**."
   ]
  },
  {
   "cell_type": "code",
   "execution_count": 25,
   "metadata": {
    "colab": {
     "base_uri": "https://localhost:8080/"
    },
    "executionInfo": {
     "elapsed": 815,
     "status": "ok",
     "timestamp": 1606666796132,
     "user": {
      "displayName": "Tan chee lam",
      "photoUrl": "https://lh3.googleusercontent.com/a-/AOh14GiJr326PVTrMvSfwUW6T-z0ZonqXE15R45mf30M=s64",
      "userId": "10981313530642734552"
     },
     "user_tz": -480
    },
    "id": "BQNobON7zPzM",
    "outputId": "ebafc2a9-1930-41fd-adfa-47edeb51798c",
    "scrolled": true
   },
   "outputs": [
    {
     "name": "stdout",
     "output_type": "stream",
     "text": [
      "['The', 'bicentennial', 'for', 'our', 'university', 'was', 'in', '2017']\n",
      "8\n"
     ]
    }
   ],
   "source": [
    "sent = \"The bicentennial for our university was in 2017\"\n",
    "wrds = sent.split()\n",
    "num_lst = len(wrds)\n",
    "\n",
    "print(wrds)\n",
    "print(num_lst)"
   ]
  },
  {
   "cell_type": "markdown",
   "metadata": {},
   "source": [
    "# Contributors\n",
    "\n",
    "**Author**\n",
    "<br>Chee Lam"
   ]
  },
  {
   "cell_type": "markdown",
   "metadata": {},
   "source": [
    "# References\n",
    "\n",
    "1. [Python Documentation](https://docs.python.org/3/)\n",
    "2. [Coursera Python Specialization Course](https://www.coursera.org/specializations/python-3-programming)"
   ]
  }
 ],
 "metadata": {
  "colab": {
   "authorship_tag": "ABX9TyNtqdd1uxfVnnxmWcNgGhNk",
   "collapsed_sections": [],
   "name": "Sequence.ipynb",
   "provenance": []
  },
  "kernelspec": {
   "display_name": "Python 3 (ipykernel)",
   "language": "python",
   "name": "python3"
  },
  "language_info": {
   "codemirror_mode": {
    "name": "ipython",
    "version": 3
   },
   "file_extension": ".py",
   "mimetype": "text/x-python",
   "name": "python",
   "nbconvert_exporter": "python",
   "pygments_lexer": "ipython3",
   "version": "3.9.6"
  }
 },
 "nbformat": 4,
 "nbformat_minor": 1
}
