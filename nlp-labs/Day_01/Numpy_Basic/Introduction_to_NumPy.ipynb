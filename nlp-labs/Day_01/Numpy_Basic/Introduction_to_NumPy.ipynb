{
 "cells": [
  {
   "cell_type": "markdown",
   "id": "c730b369",
   "metadata": {},
   "source": [
    "> **Copyright (c) 2020 Skymind Holdings Berhad**<br><br>\n",
    "> **Copyright (c) 2021 Skymind Education Group Sdn. Bhd.**<br>\n",
    "<br>\n",
    "Licensed under the Apache License, Version 2.0 (the \\\"License\\\");\n",
    "<br>you may not use this file except in compliance with the License.\n",
    "<br>You may obtain a copy of the License at http://www.apache.org/licenses/LICENSE-2.0/\n",
    "<br>\n",
    "<br>Unless required by applicable law or agreed to in writing, software\n",
    "<br>distributed under the License is distributed on an \\\"AS IS\\\" BASIS,\n",
    "<br>WITHOUT WARRANTIES OR CONDITIONS OF ANY KIND, either express or implied.\n",
    "<br>See the License for the specific language governing permissions and\n",
    "<br>limitations under the License.\n",
    "<br>\n",
    "<br>\n",
    "**SPDX-License-Identifier: Apache-2.0**\n",
    "<br>"
   ]
  },
  {
   "cell_type": "markdown",
   "id": "d407be03",
   "metadata": {},
   "source": [
    "# Introduction\n",
    "\n",
    "This notebook is to introduce the basic of Numpy in managing arrays. Numpy is a useful library which will be used all the time during the whole course. This tutorial consists of two major parts, which are:\n",
    "\n",
    "1. Creating NumPy Array\n",
    "2. Manipulating Numpy Array"
   ]
  },
  {
   "cell_type": "markdown",
   "id": "e7286a59",
   "metadata": {},
   "source": [
    "# Notebook Content\n",
    "\n",
    "* [Creating Arrays](#Creating-Arrays)\n",
    "    * [0-Dimensional Arrays](#0-Dimensional-Array)\n",
    "    * [1-Dimensional Arrays](#1-Dimensional-Array)\n",
    "    * [2-Dimensional Arrays](#2-Dimensional-Array)\n",
    "    * [3-Dimensional Arrays](#3-Dimensional-Array)\n",
    "    * [Higher Dimensional Arrays](#Higher-Dimensional-Array)\n",
    "    * [Array of Zeros](#Array-of-Zeros)\n",
    "    * [Array of Ones](#Array-of-Ones)\n",
    "    * [Array with Specific Number](#Array-with-Specific-Number)\n",
    "    * [Identity Matrix](#Identity-Matrix)\n",
    "    * [Array with Random Values](#Array-with-Random-Values)\n",
    "    \n",
    "    \n",
    "    \n",
    "* [Properties of ndarray](#Properties-of-ndarray)\n",
    "    * [numpy.ndarray.shape](#numpy.ndarray.shape)\n",
    "    * [numpy.ndarray.ndim](#numpy.ndarray.ndim)\n",
    "    * [numpy.ndarray.size](#numpy.ndarray.size)\n",
    "    * [numpy.ndarray.itemsize](#numpy.ndarray.itemsize)\n",
    "    * [numpy.ndarray.dtype](#numpy.ndarray.dtype)\n",
    "    \n",
    "    \n",
    "* [Access Element in Array](#Access-Element-in-Array)\n",
    "    * [Get the first row](#Get-the-first-row)\n",
    "    * [Get the first element](#Get-the-first-element)\n",
    "    * [Get the 2nd element in the 3rd row](#Get-the-2nd-element-in-the-3rd-row)\n",
    "    * [Retrieve list of elements](#Retrieve-list-of-elements)\n",
    "    * [Boolean array indexing](#Boolean-array-indexing)\n",
    "    \n",
    "\n",
    "* [Array Slicing](#Array-Slicing)\n",
    "\n",
    "\n",
    "* [Math Operation in ndarray](#Math-Operation-in-ndarray)\n",
    "    * [Addition](#Addition)\n",
    "    * [Subtraction](#Subtraction)\n",
    "    * [Element-Wise Multiplication](#Element-Wise-Multiplication)\n",
    "    * [Division](#Division)\n",
    "    * [Matrix Multiplication](#Matrix-Multiplication)\n",
    "    * [Square Root](#Square-Root)\n",
    "    * [Sum All Elements](#Sum-All-Elements)\n",
    "    * [Maximum Value](#Maximum-Value)\n",
    "    * [Mean](#Mean)\n",
    "    * [Standard Deviation](#Standard-Deviation)\n",
    "    \n",
    "\n",
    "* [Array Manipulation](#Array-Manipulation)\n",
    "    * [Changing Shape](#Changing-Shape)\n",
    "        * [numpy.ndarray.reshape](#numpy.ndarray.reshape)\n",
    "        * [numpy.ndarray.flat](#numpy.ndarray.flat)\n",
    "    * [Transpose Operations](#Transpose-Operations)\n",
    "        * [numpy.ndarray.transpose](#numpy.ndarray.transpose)\n",
    "        * [numpy.swapaxes](#numpy.swapaxes)\n",
    "    * [Joining Array](#Joining-Array)\n",
    "        * [numpy.concatenate](#numpy.concatenate)\n",
    "        * [numpy.stack](#numpy.stack)"
   ]
  },
  {
   "cell_type": "markdown",
   "id": "b11e5341",
   "metadata": {},
   "source": [
    "# Import Library"
   ]
  },
  {
   "cell_type": "code",
   "execution_count": 1,
   "id": "854d2577",
   "metadata": {},
   "outputs": [],
   "source": [
    "import numpy as np\n",
    "\n",
    "SEED = 2021\n",
    "np.random.seed(SEED)"
   ]
  },
  {
   "cell_type": "markdown",
   "id": "47970b82",
   "metadata": {},
   "source": [
    "# Creating Arrays"
   ]
  },
  {
   "cell_type": "code",
   "execution_count": 2,
   "id": "54c87281",
   "metadata": {},
   "outputs": [
    {
     "name": "stdout",
     "output_type": "stream",
     "text": [
      "['a' 'b' 'c' 'd']\n",
      "<class 'numpy.ndarray'>\n"
     ]
    }
   ],
   "source": [
    "# Create ndarray\n",
    "arr = np.array(['a', 'b', 'c', 'd'])\n",
    "\n",
    "# Display array\n",
    "print(arr)\n",
    "\n",
    "# Show the datatype of arr\n",
    "print(type(arr))"
   ]
  },
  {
   "cell_type": "markdown",
   "id": "5767b179",
   "metadata": {},
   "source": [
    "### 0 Dimensional Array"
   ]
  },
  {
   "cell_type": "code",
   "execution_count": 3,
   "id": "ca95e86f",
   "metadata": {},
   "outputs": [
    {
     "name": "stdout",
     "output_type": "stream",
     "text": [
      "100\n",
      "Dimension: 0\n"
     ]
    }
   ],
   "source": [
    "# Also known as scalar\n",
    "scalar = np.array(100)\n",
    "\n",
    "# Display scalar vector\n",
    "print(scalar)\n",
    "\n",
    "# Show the dimension of scalar\n",
    "print(\"Dimension:\", scalar.ndim)"
   ]
  },
  {
   "cell_type": "markdown",
   "id": "4ca2d846",
   "metadata": {},
   "source": [
    "### 1 Dimensional Array"
   ]
  },
  {
   "cell_type": "code",
   "execution_count": 4,
   "id": "60eff349",
   "metadata": {},
   "outputs": [
    {
     "name": "stdout",
     "output_type": "stream",
     "text": [
      "[1 2 3 4 5 6 7]\n",
      "Dimension: 1\n"
     ]
    }
   ],
   "source": [
    "# Create 1D array\n",
    "D1_arr = np.array([1, 2, 3, 4, 5, 6, 7])\n",
    "\n",
    "# Display 1D array\n",
    "print(D1_arr)\n",
    "\n",
    "# Show the dimension\n",
    "print(\"Dimension:\", D1_arr.ndim)"
   ]
  },
  {
   "cell_type": "markdown",
   "id": "96a36089",
   "metadata": {},
   "source": [
    "### 2 Dimensional Array"
   ]
  },
  {
   "cell_type": "code",
   "execution_count": 5,
   "id": "056105e5",
   "metadata": {},
   "outputs": [
    {
     "name": "stdout",
     "output_type": "stream",
     "text": [
      "[[1 2 3]\n",
      " [4 5 6]\n",
      " [7 8 9]]\n",
      "Dimension: 2\n"
     ]
    }
   ],
   "source": [
    "# Create 2D array\n",
    "D2_arr = np.array([[1, 2, 3],\n",
    "                   [4, 5, 6],\n",
    "                   [7, 8, 9]])\n",
    "\n",
    "# Display 2D array\n",
    "print(D2_arr)\n",
    "\n",
    "# Show the dimension\n",
    "print(\"Dimension:\", D2_arr.ndim)"
   ]
  },
  {
   "cell_type": "markdown",
   "id": "94d6c629",
   "metadata": {},
   "source": [
    "### 3 Dimensional Array"
   ]
  },
  {
   "cell_type": "code",
   "execution_count": 6,
   "id": "87b25d78",
   "metadata": {},
   "outputs": [
    {
     "name": "stdout",
     "output_type": "stream",
     "text": [
      "[[[1 2 3]\n",
      "  [4 5 6]]\n",
      "\n",
      " [[1 2 3]\n",
      "  [4 5 6]]]\n",
      "Dimension: 3\n"
     ]
    }
   ],
   "source": [
    "# Create 3D array\n",
    "D3_arr = np.array([[[1, 2, 3], [4, 5, 6]], [[1, 2, 3], [4, 5, 6]]])\n",
    "\n",
    "# Display 3D array\n",
    "print(D3_arr)\n",
    "\n",
    "# Show the dimension\n",
    "print(\"Dimension:\", D3_arr.ndim)"
   ]
  },
  {
   "cell_type": "markdown",
   "id": "c70c1fc4",
   "metadata": {},
   "source": [
    "### Higher Dimensional Array"
   ]
  },
  {
   "cell_type": "code",
   "execution_count": 7,
   "id": "ff656c38",
   "metadata": {},
   "outputs": [
    {
     "name": "stdout",
     "output_type": "stream",
     "text": [
      "[[[[['S' 'K' 'Y' 'M' 'I' 'N' 'D']]]]]\n",
      "Dimension: 5\n"
     ]
    }
   ],
   "source": [
    "# Create 5 dimension array\n",
    "nd_arr = np.array(['S', 'K', 'Y', 'M', 'I', 'N', 'D'], ndmin=5)\n",
    "\n",
    "# Display 5D array\n",
    "print(nd_arr)\n",
    "\n",
    "# Show the dimension\n",
    "print(\"Dimension:\", nd_arr.ndim)"
   ]
  },
  {
   "cell_type": "markdown",
   "id": "5fe5db28",
   "metadata": {},
   "source": [
    "### Array of Zeros"
   ]
  },
  {
   "cell_type": "code",
   "execution_count": 8,
   "id": "10a232b6",
   "metadata": {},
   "outputs": [
    {
     "name": "stdout",
     "output_type": "stream",
     "text": [
      "[[0. 0.]\n",
      " [0. 0.]]\n"
     ]
    }
   ],
   "source": [
    "# Required parameter shape in tuple\n",
    "arr = np.zeros(shape=(2,2))\n",
    "\n",
    "print(arr)"
   ]
  },
  {
   "cell_type": "markdown",
   "id": "19479bcb",
   "metadata": {},
   "source": [
    "### Array of Ones"
   ]
  },
  {
   "cell_type": "code",
   "execution_count": 9,
   "id": "577d9fae",
   "metadata": {},
   "outputs": [
    {
     "name": "stdout",
     "output_type": "stream",
     "text": [
      "[[1. 1. 1. 1.]\n",
      " [1. 1. 1. 1.]\n",
      " [1. 1. 1. 1.]]\n"
     ]
    }
   ],
   "source": [
    "# Required parameter shape in tuple\n",
    "arr = np.ones(shape=(3, 4))\n",
    "\n",
    "print(arr)"
   ]
  },
  {
   "cell_type": "markdown",
   "id": "6b0e81ef",
   "metadata": {},
   "source": [
    "### Array with Specific Number"
   ]
  },
  {
   "cell_type": "code",
   "execution_count": 10,
   "id": "bf438626",
   "metadata": {},
   "outputs": [
    {
     "name": "stdout",
     "output_type": "stream",
     "text": [
      "[[6 6 6 6]\n",
      " [6 6 6 6]\n",
      " [6 6 6 6]\n",
      " [6 6 6 6]]\n"
     ]
    }
   ],
   "source": [
    "# Required parameter shape in tuple and fill_value\n",
    "arr = np.full(shape=(4, 4), fill_value=6)\n",
    "\n",
    "print(arr)"
   ]
  },
  {
   "cell_type": "markdown",
   "id": "982fde7b",
   "metadata": {},
   "source": [
    "### Identity Matrix"
   ]
  },
  {
   "cell_type": "code",
   "execution_count": 11,
   "id": "85b7627f",
   "metadata": {},
   "outputs": [
    {
     "name": "stdout",
     "output_type": "stream",
     "text": [
      "[[1. 0.]\n",
      " [0. 1.]]\n"
     ]
    }
   ],
   "source": [
    "# Required parameter N, Number of rows\n",
    "arr = np.eye(N=2)\n",
    "\n",
    "print(arr)"
   ]
  },
  {
   "cell_type": "markdown",
   "id": "b02de532",
   "metadata": {},
   "source": [
    "### Array with Random Values"
   ]
  },
  {
   "cell_type": "code",
   "execution_count": 12,
   "id": "28bcd4c2",
   "metadata": {},
   "outputs": [
    {
     "name": "stdout",
     "output_type": "stream",
     "text": [
      "[[0.60597828 0.73336936 0.13894716 0.31267308]\n",
      " [0.99724328 0.12816238 0.17899311 0.75292543]\n",
      " [0.66216051 0.78431013 0.0968944  0.05857129]\n",
      " [0.96239599 0.61655744 0.08662996 0.56127236]]\n"
     ]
    }
   ],
   "source": [
    "# Create a random valued array\n",
    "arr = np.random.random(size=(4, 4),)\n",
    "\n",
    "print(arr)"
   ]
  },
  {
   "cell_type": "markdown",
   "id": "3263db4d",
   "metadata": {},
   "source": [
    "# Properties of ndarray"
   ]
  },
  {
   "cell_type": "markdown",
   "id": "83cfb5ea",
   "metadata": {},
   "source": [
    "### numpy.ndarray.shape\n",
    "Get the current shape of an array"
   ]
  },
  {
   "cell_type": "code",
   "execution_count": 13,
   "id": "4041b357",
   "metadata": {},
   "outputs": [
    {
     "name": "stdout",
     "output_type": "stream",
     "text": [
      "Shape: (2, 3)\n"
     ]
    }
   ],
   "source": [
    "arr = np.array([[1, 2, 3], [4, 5, 6]])\n",
    "\n",
    "print(\"Shape:\", arr.shape)"
   ]
  },
  {
   "cell_type": "markdown",
   "id": "c3bfc035",
   "metadata": {},
   "source": [
    "### numpy.ndarray.ndim\n",
    "Number of array dimensions"
   ]
  },
  {
   "cell_type": "code",
   "execution_count": 14,
   "id": "272647af",
   "metadata": {},
   "outputs": [
    {
     "name": "stdout",
     "output_type": "stream",
     "text": [
      "Dimension: 2\n"
     ]
    }
   ],
   "source": [
    "print(\"Dimension:\", arr.ndim)"
   ]
  },
  {
   "cell_type": "markdown",
   "id": "83418e69",
   "metadata": {},
   "source": [
    "### numpy.ndarray.size\n",
    "Number of elements in the array."
   ]
  },
  {
   "cell_type": "code",
   "execution_count": 15,
   "id": "42b9524f",
   "metadata": {},
   "outputs": [
    {
     "name": "stdout",
     "output_type": "stream",
     "text": [
      "Size: 6\n"
     ]
    }
   ],
   "source": [
    "print(\"Size:\", arr.size)"
   ]
  },
  {
   "cell_type": "markdown",
   "id": "b78fc921",
   "metadata": {},
   "source": [
    "### numpy.ndarray.itemsize\n",
    "Length of one array element in bytes"
   ]
  },
  {
   "cell_type": "code",
   "execution_count": 16,
   "id": "84812c85",
   "metadata": {},
   "outputs": [
    {
     "name": "stdout",
     "output_type": "stream",
     "text": [
      "Item Size in (byte): 4\n"
     ]
    }
   ],
   "source": [
    "print(\"Item Size in (byte):\", arr.itemsize)"
   ]
  },
  {
   "cell_type": "markdown",
   "id": "adfc8ce9",
   "metadata": {},
   "source": [
    "### numpy.ndarray.dtype\n",
    "Data-type of the array’s elements"
   ]
  },
  {
   "cell_type": "code",
   "execution_count": 17,
   "id": "69fdef1f",
   "metadata": {},
   "outputs": [
    {
     "name": "stdout",
     "output_type": "stream",
     "text": [
      "Item datatype: int32\n"
     ]
    }
   ],
   "source": [
    "print(\"Item datatype:\", arr.dtype)"
   ]
  },
  {
   "cell_type": "markdown",
   "id": "52ae15e4",
   "metadata": {},
   "source": [
    "# Access Element in Array"
   ]
  },
  {
   "cell_type": "code",
   "execution_count": 18,
   "id": "dbb3d95a",
   "metadata": {
    "scrolled": true
   },
   "outputs": [
    {
     "name": "stdout",
     "output_type": "stream",
     "text": [
      "[[0.61652471 0.96384302 0.57430429 0.37116085]\n",
      " [0.45214524 0.20185025 0.56930512 0.19509597]\n",
      " [0.58370402 0.47631347 0.5178144  0.82309863]\n",
      " [0.73222503 0.06905627 0.67212894 0.64348481]]\n"
     ]
    }
   ],
   "source": [
    "# Use index to access the element in the array\n",
    "arr = np.random.random(size=(4,4))\n",
    "\n",
    "print(arr)"
   ]
  },
  {
   "cell_type": "markdown",
   "id": "e30850f3",
   "metadata": {},
   "source": [
    "### Get the first row"
   ]
  },
  {
   "cell_type": "code",
   "execution_count": 19,
   "id": "2d26e960",
   "metadata": {},
   "outputs": [
    {
     "name": "stdout",
     "output_type": "stream",
     "text": [
      "1st row: [0.61652471 0.96384302 0.57430429 0.37116085]\n"
     ]
    }
   ],
   "source": [
    "print(\"1st row:\", arr[0])"
   ]
  },
  {
   "cell_type": "markdown",
   "id": "e1407a10",
   "metadata": {},
   "source": [
    "### Get the first element"
   ]
  },
  {
   "cell_type": "code",
   "execution_count": 20,
   "id": "087e4c4f",
   "metadata": {},
   "outputs": [
    {
     "name": "stdout",
     "output_type": "stream",
     "text": [
      "1st element: 0.6165247086179901\n"
     ]
    }
   ],
   "source": [
    "print(\"1st element:\", arr[0, 0])"
   ]
  },
  {
   "cell_type": "markdown",
   "id": "46ac18f9",
   "metadata": {},
   "source": [
    "### Get the 2nd element in the 3rd row"
   ]
  },
  {
   "cell_type": "code",
   "execution_count": 21,
   "id": "e03c2dc7",
   "metadata": {},
   "outputs": [
    {
     "name": "stdout",
     "output_type": "stream",
     "text": [
      "2nd element in the 3rd row: 0.4763134735921163\n"
     ]
    }
   ],
   "source": [
    "print(\"2nd element in the 3rd row:\", arr[2, 1])"
   ]
  },
  {
   "cell_type": "markdown",
   "id": "86d0f53e",
   "metadata": {},
   "source": [
    "### Retrieve list of elements"
   ]
  },
  {
   "cell_type": "code",
   "execution_count": 22,
   "id": "7c194160",
   "metadata": {},
   "outputs": [
    {
     "name": "stdout",
     "output_type": "stream",
     "text": [
      "[0.57430429 0.20185025 0.58370402]\n",
      "[0.5743042944546707, 0.20185024783461958, 0.583704016323978]\n"
     ]
    }
   ],
   "source": [
    "# Integer array indexing\n",
    "print(arr[[0, 1, 2], [2, 1, 0]])\n",
    "\n",
    "# Is similar to\n",
    "print([arr[0, 2], arr[1, 1], arr[2, 0]])"
   ]
  },
  {
   "cell_type": "code",
   "execution_count": 23,
   "id": "a10bcdbe",
   "metadata": {},
   "outputs": [],
   "source": [
    "rows = np.arange(4) # [0 1 2 3]\n",
    "columns = [2, 3, 2, 1]"
   ]
  },
  {
   "cell_type": "code",
   "execution_count": 24,
   "id": "e2af040a",
   "metadata": {},
   "outputs": [
    {
     "name": "stdout",
     "output_type": "stream",
     "text": [
      "[0.57430429 0.19509597 0.5178144  0.06905627]\n"
     ]
    }
   ],
   "source": [
    "print(arr[rows, columns])"
   ]
  },
  {
   "cell_type": "markdown",
   "id": "ce91baff",
   "metadata": {},
   "source": [
    "### Boolean array indexing"
   ]
  },
  {
   "cell_type": "code",
   "execution_count": 25,
   "id": "a4bd02f5",
   "metadata": {},
   "outputs": [
    {
     "name": "stdout",
     "output_type": "stream",
     "text": [
      "[[ True  True  True False]\n",
      " [False False  True False]\n",
      " [ True False  True  True]\n",
      " [ True False  True  True]]\n"
     ]
    }
   ],
   "source": [
    "# Find the elements of a that are bigger than 0.5;\n",
    "# this returns a numpy array of Booleans of the same\n",
    "# shape as a, where each slot of bool_idx tells\n",
    "# whether that element of a is > 0.5.\n",
    "\n",
    "bool_idx = (arr > 0.5)\n",
    "print(bool_idx)"
   ]
  },
  {
   "cell_type": "code",
   "execution_count": 26,
   "id": "09e64611",
   "metadata": {},
   "outputs": [
    {
     "name": "stdout",
     "output_type": "stream",
     "text": [
      "[0.61652471 0.96384302 0.57430429 0.56930512 0.58370402 0.5178144\n",
      " 0.82309863 0.73222503 0.67212894 0.64348481]\n"
     ]
    }
   ],
   "source": [
    "# Return all elements that more than 0.5 to a list\n",
    "print(arr[bool_idx])"
   ]
  },
  {
   "cell_type": "markdown",
   "id": "c32a8502",
   "metadata": {},
   "source": [
    "# Array Slicing"
   ]
  },
  {
   "cell_type": "code",
   "execution_count": 27,
   "id": "27c7a6e2",
   "metadata": {},
   "outputs": [],
   "source": [
    "# Create the following rank 2 array with shape (3, 4)\n",
    "# [[ 1  2  3  4]\n",
    "#  [ 5  6  7  8]\n",
    "#  [ 9 10 11 12]]\n",
    "\n",
    "a = np.array([[1,2,3,4], \n",
    "              [5,6,7,8],\n",
    "              [9,10,11,12]])"
   ]
  },
  {
   "cell_type": "code",
   "execution_count": 28,
   "id": "1c217367",
   "metadata": {},
   "outputs": [
    {
     "name": "stdout",
     "output_type": "stream",
     "text": [
      "[[2 3]\n",
      " [6 7]]\n"
     ]
    }
   ],
   "source": [
    "# Use slicing to pull out the subarray consisting of the first 2 rows with 2nd and 3rd columns\n",
    "# b is the following array of shape (2, 2):\n",
    "\n",
    "b = a[:2, 1:3]\n",
    "\n",
    "print(b)"
   ]
  },
  {
   "cell_type": "code",
   "execution_count": 29,
   "id": "633ed2c5",
   "metadata": {},
   "outputs": [
    {
     "name": "stdout",
     "output_type": "stream",
     "text": [
      "[[10  3]\n",
      " [ 6  7]]\n"
     ]
    }
   ],
   "source": [
    "# Assign the first element in b to 10\n",
    "b[0, 0] = 10\n",
    "\n",
    "print(b)"
   ]
  },
  {
   "cell_type": "code",
   "execution_count": 30,
   "id": "69fb2d3b",
   "metadata": {
    "scrolled": true
   },
   "outputs": [],
   "source": [
    "# Two ways of accessing the data in the middle row of the array.\n",
    "# Mixing integer indexing with slices yields an array of lower rank,\n",
    "# while using only slices yields an array of the same rank as the\n",
    "# original array:\n",
    "row_r1 = a[1, :]    # Rank 1 view of the second row of a\n",
    "row_r2 = a[1:2, :]  # Rank 2 view of the second row of a"
   ]
  },
  {
   "cell_type": "code",
   "execution_count": 31,
   "id": "1c9fbea5",
   "metadata": {},
   "outputs": [
    {
     "name": "stdout",
     "output_type": "stream",
     "text": [
      "[5 6 7 8] (4,)\n"
     ]
    }
   ],
   "source": [
    "print(row_r1, row_r1.shape)"
   ]
  },
  {
   "cell_type": "code",
   "execution_count": 32,
   "id": "400062bf",
   "metadata": {},
   "outputs": [
    {
     "name": "stdout",
     "output_type": "stream",
     "text": [
      "[[5 6 7 8]] (1, 4)\n"
     ]
    }
   ],
   "source": [
    "print(row_r2, row_r2.shape)"
   ]
  },
  {
   "cell_type": "code",
   "execution_count": 33,
   "id": "d52d7c53",
   "metadata": {},
   "outputs": [],
   "source": [
    "# We can make the same distinction when accessing columns of an array:\n",
    "col_r1 = a[:, 1]\n",
    "col_r2 = a[:, 1:2]"
   ]
  },
  {
   "cell_type": "code",
   "execution_count": 34,
   "id": "c15b6ec8",
   "metadata": {},
   "outputs": [
    {
     "name": "stdout",
     "output_type": "stream",
     "text": [
      "[10  6 10] (3,)\n"
     ]
    }
   ],
   "source": [
    "print(col_r1, col_r1.shape)"
   ]
  },
  {
   "cell_type": "code",
   "execution_count": 35,
   "id": "078a1c33",
   "metadata": {},
   "outputs": [
    {
     "name": "stdout",
     "output_type": "stream",
     "text": [
      "[[10]\n",
      " [ 6]\n",
      " [10]] (3, 1)\n"
     ]
    }
   ],
   "source": [
    "print(col_r2, col_r2.shape)"
   ]
  },
  {
   "cell_type": "markdown",
   "id": "7980da11",
   "metadata": {},
   "source": [
    "# Math Operation in ndarray"
   ]
  },
  {
   "cell_type": "code",
   "execution_count": 36,
   "id": "6c4012e1",
   "metadata": {},
   "outputs": [],
   "source": [
    "# Create a random int array with size=(4,4)\n",
    "\n",
    "x = np.random.randint(0, high=99, size=(4,4))\n",
    "y = np.random.randint(0, high=99, size=(4,4))"
   ]
  },
  {
   "cell_type": "code",
   "execution_count": 37,
   "id": "a555a27c",
   "metadata": {
    "scrolled": true
   },
   "outputs": [
    {
     "name": "stdout",
     "output_type": "stream",
     "text": [
      "x:\n",
      " [[76 53 11 19]\n",
      " [33 78 17 89]\n",
      " [50  7 27 63]\n",
      " [51  9 25 71]]\n",
      "\n",
      "y:\n",
      " [[84 27 75 27]\n",
      " [19 31 50 89]\n",
      " [27 18 53 32]\n",
      " [20 95 87  3]]\n"
     ]
    }
   ],
   "source": [
    "print(\"x:\\n\", x)\n",
    "print(\"\\ny:\\n\", y)"
   ]
  },
  {
   "cell_type": "markdown",
   "id": "8c7b74f3",
   "metadata": {},
   "source": [
    "### Addition"
   ]
  },
  {
   "cell_type": "code",
   "execution_count": 38,
   "id": "df6aa180",
   "metadata": {},
   "outputs": [],
   "source": [
    "# Matrix addition operation\n",
    "\n",
    "z = x + y"
   ]
  },
  {
   "cell_type": "code",
   "execution_count": 39,
   "id": "81d4dffb",
   "metadata": {},
   "outputs": [
    {
     "name": "stdout",
     "output_type": "stream",
     "text": [
      "[[160  80  86  46]\n",
      " [ 52 109  67 178]\n",
      " [ 77  25  80  95]\n",
      " [ 71 104 112  74]]\n"
     ]
    }
   ],
   "source": [
    "print(z)"
   ]
  },
  {
   "cell_type": "code",
   "execution_count": 40,
   "id": "d7bb8fbc",
   "metadata": {
    "scrolled": true
   },
   "outputs": [
    {
     "name": "stdout",
     "output_type": "stream",
     "text": [
      "[[77 55 14 23]\n",
      " [34 80 20 93]\n",
      " [51  9 30 67]\n",
      " [52 11 28 75]]\n"
     ]
    }
   ],
   "source": [
    "# Addition with 1D array\n",
    "arr = np.array([1, 2, 3, 4])\n",
    "\n",
    "# Add arr to all rows in x\n",
    "print(np.add(x, arr))"
   ]
  },
  {
   "cell_type": "code",
   "execution_count": 41,
   "id": "3ec781f6",
   "metadata": {
    "scrolled": true
   },
   "outputs": [
    {
     "name": "stdout",
     "output_type": "stream",
     "text": [
      "[[86 63 21 29]\n",
      " [43 88 27 99]\n",
      " [60 17 37 73]\n",
      " [61 19 35 81]]\n"
     ]
    }
   ],
   "source": [
    "# Addition with scalar value (broadcast)\n",
    "num = 10\n",
    "\n",
    "# Add 10 to all elements in x\n",
    "print(np.add(x, num))"
   ]
  },
  {
   "cell_type": "markdown",
   "id": "6321aa54",
   "metadata": {},
   "source": [
    "### Subtraction"
   ]
  },
  {
   "cell_type": "code",
   "execution_count": 42,
   "id": "31a368b1",
   "metadata": {},
   "outputs": [],
   "source": [
    "# Matrix subtraction operation\n",
    "\n",
    "z = x - y"
   ]
  },
  {
   "cell_type": "code",
   "execution_count": 43,
   "id": "ccbc900c",
   "metadata": {},
   "outputs": [
    {
     "name": "stdout",
     "output_type": "stream",
     "text": [
      "[[ -8  26 -64  -8]\n",
      " [ 14  47 -33   0]\n",
      " [ 23 -11 -26  31]\n",
      " [ 31 -86 -62  68]]\n"
     ]
    }
   ],
   "source": [
    "print(z)"
   ]
  },
  {
   "cell_type": "code",
   "execution_count": 44,
   "id": "614f2df0",
   "metadata": {},
   "outputs": [
    {
     "name": "stdout",
     "output_type": "stream",
     "text": [
      "[[74 49  5 11]\n",
      " [31 74 11 81]\n",
      " [48  3 21 55]\n",
      " [49  5 19 63]]\n"
     ]
    }
   ],
   "source": [
    "# Subtraction with 1D array\n",
    "arr = np.array([2, 4, 6, 8])\n",
    "\n",
    "# Subtract arr to all rows in x\n",
    "print(np.subtract(x, arr))"
   ]
  },
  {
   "cell_type": "code",
   "execution_count": 45,
   "id": "246a04ef",
   "metadata": {},
   "outputs": [
    {
     "name": "stdout",
     "output_type": "stream",
     "text": [
      "[[ 56  33  -9  -1]\n",
      " [ 13  58  -3  69]\n",
      " [ 30 -13   7  43]\n",
      " [ 31 -11   5  51]]\n"
     ]
    }
   ],
   "source": [
    "# Subtraction with scalar value\n",
    "num = 20\n",
    "\n",
    "# Subtract 20 to all element in x\n",
    "print(np.subtract(x, num))"
   ]
  },
  {
   "cell_type": "markdown",
   "id": "3b4ba93b",
   "metadata": {},
   "source": [
    "### Element-Wise Multiplication"
   ]
  },
  {
   "cell_type": "code",
   "execution_count": 46,
   "id": "f295a9b8",
   "metadata": {},
   "outputs": [
    {
     "name": "stdout",
     "output_type": "stream",
     "text": [
      "[[6384 1431  825  513]\n",
      " [ 627 2418  850 7921]\n",
      " [1350  126 1431 2016]\n",
      " [1020  855 2175  213]]\n"
     ]
    }
   ],
   "source": [
    "z = x * y\n",
    "print(z)"
   ]
  },
  {
   "cell_type": "code",
   "execution_count": 47,
   "id": "ded4631f",
   "metadata": {},
   "outputs": [
    {
     "name": "stdout",
     "output_type": "stream",
     "text": [
      "[[152 159  44  95]\n",
      " [ 66 234  68 445]\n",
      " [100  21 108 315]\n",
      " [102  27 100 355]]\n"
     ]
    }
   ],
   "source": [
    "# Multiplication with 1D array\n",
    "arr = [2, 3, 4, 5]\n",
    "\n",
    "# Element wise multiplication\n",
    "print(np.multiply(x, arr))"
   ]
  },
  {
   "cell_type": "code",
   "execution_count": 48,
   "id": "b7132e90",
   "metadata": {},
   "outputs": [
    {
     "name": "stdout",
     "output_type": "stream",
     "text": [
      "[[1064  742  154  266]\n",
      " [ 462 1092  238 1246]\n",
      " [ 700   98  378  882]\n",
      " [ 714  126  350  994]]\n"
     ]
    }
   ],
   "source": [
    "# Multiplication with scalar\n",
    "num = 14\n",
    "\n",
    "print(np.multiply(x, num))"
   ]
  },
  {
   "cell_type": "markdown",
   "id": "8280f42e",
   "metadata": {},
   "source": [
    "### Division"
   ]
  },
  {
   "cell_type": "code",
   "execution_count": 49,
   "id": "7b3ccf20",
   "metadata": {},
   "outputs": [
    {
     "name": "stdout",
     "output_type": "stream",
     "text": [
      "[[ 0.9047619   1.96296296  0.14666667  0.7037037 ]\n",
      " [ 1.73684211  2.51612903  0.34        1.        ]\n",
      " [ 1.85185185  0.38888889  0.50943396  1.96875   ]\n",
      " [ 2.55        0.09473684  0.28735632 23.66666667]]\n"
     ]
    }
   ],
   "source": [
    "# Element wise division\n",
    "z = x / y\n",
    "\n",
    "print(z)"
   ]
  },
  {
   "cell_type": "code",
   "execution_count": 50,
   "id": "e38d454c",
   "metadata": {},
   "outputs": [
    {
     "name": "stdout",
     "output_type": "stream",
     "text": [
      "[[76.  26.5 11.   9.5]\n",
      " [33.  39.  17.  44.5]\n",
      " [50.   3.5 27.  31.5]\n",
      " [51.   4.5 25.  35.5]]\n"
     ]
    }
   ],
   "source": [
    "# Division with 1D array\n",
    "arr = [1, 2, 1, 2]\n",
    "\n",
    "print(np.divide(x, arr))"
   ]
  },
  {
   "cell_type": "code",
   "execution_count": 51,
   "id": "9b18f2ef",
   "metadata": {},
   "outputs": [
    {
     "name": "stdout",
     "output_type": "stream",
     "text": [
      "[[38.  26.5  5.5  9.5]\n",
      " [16.5 39.   8.5 44.5]\n",
      " [25.   3.5 13.5 31.5]\n",
      " [25.5  4.5 12.5 35.5]]\n"
     ]
    }
   ],
   "source": [
    "# Division with scalar\n",
    "num = 2\n",
    "\n",
    "print(np.divide(x, num))"
   ]
  },
  {
   "cell_type": "markdown",
   "id": "3596ad60",
   "metadata": {},
   "source": [
    "### Matrix Multiplication"
   ]
  },
  {
   "cell_type": "code",
   "execution_count": 52,
   "id": "3c02ba4f",
   "metadata": {},
   "outputs": [],
   "source": [
    "# Using np.dot to perform matrix multiplication\n",
    "# Matrix 1: shape = (3,4)\n",
    "# Matrix 2: shape = (4,2)\n",
    "# Shape of M1 dot M2 = (3,2)\n",
    "\n",
    "M1 = np.random.randint(0, 9, size=(3,4))\n",
    "M2 = np.random.randint(0, 19, size=(4,2))"
   ]
  },
  {
   "cell_type": "code",
   "execution_count": 53,
   "id": "022ccb00",
   "metadata": {},
   "outputs": [
    {
     "name": "stdout",
     "output_type": "stream",
     "text": [
      "Answer:\n",
      "[[ 78  89]\n",
      " [154 195]\n",
      " [167 193]]\n",
      "\n",
      "Shape: (3, 2)\n"
     ]
    }
   ],
   "source": [
    "# Matrix multiplication\n",
    "ans = M1.dot(M2)\n",
    "\n",
    "print(\"Answer:\")\n",
    "print(ans)\n",
    "\n",
    "print(\"\\nShape:\", ans.shape)"
   ]
  },
  {
   "cell_type": "markdown",
   "id": "7b9a2ff9",
   "metadata": {},
   "source": [
    "### Square Root"
   ]
  },
  {
   "cell_type": "code",
   "execution_count": 54,
   "id": "5d0e1909",
   "metadata": {},
   "outputs": [
    {
     "name": "stdout",
     "output_type": "stream",
     "text": [
      "[[8.71779789 7.28010989 3.31662479 4.35889894]\n",
      " [5.74456265 8.83176087 4.12310563 9.43398113]\n",
      " [7.07106781 2.64575131 5.19615242 7.93725393]\n",
      " [7.14142843 3.         5.         8.42614977]]\n"
     ]
    }
   ],
   "source": [
    "print(np.sqrt(x))"
   ]
  },
  {
   "cell_type": "markdown",
   "id": "2efe08c4",
   "metadata": {},
   "source": [
    "### Sum All Elements"
   ]
  },
  {
   "cell_type": "code",
   "execution_count": 55,
   "id": "f17fba0b",
   "metadata": {},
   "outputs": [
    {
     "name": "stdout",
     "output_type": "stream",
     "text": [
      "Sum of all element in matrix x: 679\n",
      "Sum of each column in matrix x: [210 147  80 242]\n",
      "Sum of each row in matrix x: [159 217 147 156]\n"
     ]
    }
   ],
   "source": [
    "# Compute sum of all elements\n",
    "print(\"Sum of all element in matrix x:\", np.sum(x))\n",
    "\n",
    "# Compute sum of each column\n",
    "print(\"Sum of each column in matrix x:\", np.sum(x, axis=0))\n",
    "\n",
    "# Compute sum of each row\n",
    "print(\"Sum of each row in matrix x:\", np.sum(x, axis=1))"
   ]
  },
  {
   "cell_type": "markdown",
   "id": "302423de",
   "metadata": {},
   "source": [
    "### Maximum Value"
   ]
  },
  {
   "cell_type": "code",
   "execution_count": 56,
   "id": "2b64ea65",
   "metadata": {},
   "outputs": [
    {
     "name": "stdout",
     "output_type": "stream",
     "text": [
      "[[76 53 11 19]\n",
      " [33 78 17 89]\n",
      " [50  7 27 63]\n",
      " [51  9 25 71]]\n"
     ]
    }
   ],
   "source": [
    "print(x)"
   ]
  },
  {
   "cell_type": "code",
   "execution_count": 57,
   "id": "ff11135b",
   "metadata": {},
   "outputs": [
    {
     "name": "stdout",
     "output_type": "stream",
     "text": [
      "Maximum value in matrix X: 89\n",
      "Maximum value along vertical axis(Column): [76 78 27 89]\n",
      "Maximum value along the horizontal axis(Row): [76 89 63 71]\n"
     ]
    }
   ],
   "source": [
    "# Maximum value in matrix x\n",
    "print(\"Maximum value in matrix X:\", np.max(x))\n",
    "\n",
    "# Maximum value along the vertical axis\n",
    "print(\"Maximum value along vertical axis(Column):\", np.max(x, axis=0))\n",
    "\n",
    "# Maximum value along the horizontal axis\n",
    "print(\"Maximum value along the horizontal axis(Row):\", np.max(x, axis=1))"
   ]
  },
  {
   "cell_type": "markdown",
   "id": "fd25b406",
   "metadata": {},
   "source": [
    "### Mean"
   ]
  },
  {
   "cell_type": "code",
   "execution_count": 58,
   "id": "c27eb13f",
   "metadata": {},
   "outputs": [
    {
     "name": "stdout",
     "output_type": "stream",
     "text": [
      "Mean: 42.4375\n"
     ]
    }
   ],
   "source": [
    "# Mean of all elements\n",
    "print(\"Mean:\", np.mean(x))"
   ]
  },
  {
   "cell_type": "markdown",
   "id": "db413b6e",
   "metadata": {},
   "source": [
    "### Standard Deviation"
   ]
  },
  {
   "cell_type": "code",
   "execution_count": 59,
   "id": "58f4ddb7",
   "metadata": {},
   "outputs": [
    {
     "name": "stdout",
     "output_type": "stream",
     "text": [
      "Standard Deviation: 26.492849860858684\n"
     ]
    }
   ],
   "source": [
    "# Compute the standard deviation\n",
    "print(\"Standard Deviation:\", np.std(x))"
   ]
  },
  {
   "cell_type": "markdown",
   "id": "de360fcf",
   "metadata": {},
   "source": [
    "# Array Manipulation"
   ]
  },
  {
   "cell_type": "markdown",
   "id": "08912e3c",
   "metadata": {},
   "source": [
    "## Changing Shape"
   ]
  },
  {
   "cell_type": "markdown",
   "id": "11c48a69",
   "metadata": {},
   "source": [
    "### numpy.ndarray.reshape\n",
    "Gives a new shape to an array without changing its data."
   ]
  },
  {
   "cell_type": "code",
   "execution_count": 60,
   "id": "b6202928",
   "metadata": {},
   "outputs": [
    {
     "name": "stdout",
     "output_type": "stream",
     "text": [
      "[[6 3]\n",
      " [1 3]\n",
      " [6 1]]\n"
     ]
    }
   ],
   "source": [
    "arr = np.random.randint(0, 9, size=(3,2))\n",
    "\n",
    "print(arr)"
   ]
  },
  {
   "cell_type": "code",
   "execution_count": 61,
   "id": "1a035387",
   "metadata": {},
   "outputs": [
    {
     "name": "stdout",
     "output_type": "stream",
     "text": [
      "[[6 3 1]\n",
      " [3 6 1]]\n"
     ]
    }
   ],
   "source": [
    "# Reshape to (2,3)\n",
    "print(arr.reshape((2,3)))"
   ]
  },
  {
   "cell_type": "markdown",
   "id": "d339c5f1",
   "metadata": {},
   "source": [
    "### numpy.ndarray.flat\n",
    "A 1-D iterator over the array."
   ]
  },
  {
   "cell_type": "code",
   "execution_count": 62,
   "id": "377dd722",
   "metadata": {},
   "outputs": [
    {
     "name": "stdout",
     "output_type": "stream",
     "text": [
      "[8 0 5 0 7 0 1 3 6 4 7 4 1 7 1 4 6 6 7 4 5 2 3 2 0 0 7 4 6 1 7 4 4 7 4 3 7\n",
      " 2 5 5 2 7 4 1 6 6 7 4 3 2 8 0 5 8 1 6 6 3 7 5 4 4 3 1 3 7 2 1 5 7 8 2 8 8\n",
      " 7 8 3 0 3 3 8 3 1 5 7 2 0 2 2 7 1 0 1 6 3 2 2 2 3 3]\n"
     ]
    }
   ],
   "source": [
    "z = np.random.randint(0, 9, size=(10,10))\n",
    "\n",
    "# Create a new copy of flatten array\n",
    "print(z.flatten())"
   ]
  },
  {
   "cell_type": "markdown",
   "id": "c937b706",
   "metadata": {},
   "source": [
    "## Transpose Operations"
   ]
  },
  {
   "cell_type": "markdown",
   "id": "b40d2cfb",
   "metadata": {},
   "source": [
    "### numpy.ndarray.transpose\n",
    "Returns a view of the array with axes transposed."
   ]
  },
  {
   "cell_type": "code",
   "execution_count": 63,
   "id": "4bd63e52",
   "metadata": {},
   "outputs": [
    {
     "name": "stdout",
     "output_type": "stream",
     "text": [
      "[[5 0 8]\n",
      " [1 1 3]]\n",
      "\n",
      "Shape: (2, 3) \n",
      "\n",
      "[[5 0 8]\n",
      " [1 1 3]]\n"
     ]
    }
   ],
   "source": [
    "arr = np.random.randint(0, 9, size=(3,2))\n",
    "\n",
    "z = np.transpose(arr)\n",
    "print(z)\n",
    "\n",
    "print(\"\\nShape:\", z.shape, \"\\n\")\n",
    "\n",
    "# Similar function\n",
    "print(arr.T)"
   ]
  },
  {
   "cell_type": "markdown",
   "id": "485ec3e4",
   "metadata": {},
   "source": [
    "### numpy.swapaxes\n",
    "Interchange two axes of an array."
   ]
  },
  {
   "cell_type": "code",
   "execution_count": 64,
   "id": "3e9f6197",
   "metadata": {},
   "outputs": [
    {
     "name": "stdout",
     "output_type": "stream",
     "text": [
      "[[0 1 1 4]\n",
      " [5 7 2 5]\n",
      " [0 2 6 6]\n",
      " [4 3 4 4]]\n",
      "Original shape: (4, 4)\n"
     ]
    }
   ],
   "source": [
    "x = np.random.randint(0, 9, size=(4,4))\n",
    "\n",
    "print(x)\n",
    "print(\"Original shape:\", x.shape)"
   ]
  },
  {
   "cell_type": "code",
   "execution_count": 65,
   "id": "bf91c78c",
   "metadata": {},
   "outputs": [],
   "source": [
    "# Swap between axis 0 and 1, similar to transpose\n",
    "y = np.swapaxes(x, 0, 1)"
   ]
  },
  {
   "cell_type": "code",
   "execution_count": 66,
   "id": "372e6580",
   "metadata": {},
   "outputs": [
    {
     "name": "stdout",
     "output_type": "stream",
     "text": [
      "[[0 5 0 4]\n",
      " [1 7 2 3]\n",
      " [1 2 6 4]\n",
      " [4 5 6 4]]\n"
     ]
    }
   ],
   "source": [
    "print(y)"
   ]
  },
  {
   "cell_type": "markdown",
   "id": "edb99691",
   "metadata": {},
   "source": [
    "## Joining Array"
   ]
  },
  {
   "cell_type": "code",
   "execution_count": 67,
   "id": "9d5f0869",
   "metadata": {},
   "outputs": [],
   "source": [
    "x = np.random.randint(0, 9, size=(4,4))\n",
    "y = np.random.randint(0, 9, size=(4,4))"
   ]
  },
  {
   "cell_type": "code",
   "execution_count": 68,
   "id": "8ab1ead9",
   "metadata": {},
   "outputs": [
    {
     "name": "stdout",
     "output_type": "stream",
     "text": [
      "x:\n",
      "[[1 2 1 7]\n",
      " [4 4 1 0]\n",
      " [2 5 4 4]\n",
      " [7 4 8 1]]\n",
      "\n",
      "y:\n",
      "[[2 7 5 8]\n",
      " [5 3 0 5]\n",
      " [5 6 4 8]\n",
      " [8 4 5 8]]\n"
     ]
    }
   ],
   "source": [
    "print(\"x:\")\n",
    "print(x)\n",
    "\n",
    "print(\"\\ny:\")\n",
    "print(y)"
   ]
  },
  {
   "cell_type": "markdown",
   "id": "70802c2e",
   "metadata": {},
   "source": [
    "### numpy.concatenate\n",
    "Join a sequence of arrays along an existing axis."
   ]
  },
  {
   "cell_type": "code",
   "execution_count": 69,
   "id": "5dfb0609",
   "metadata": {},
   "outputs": [
    {
     "name": "stdout",
     "output_type": "stream",
     "text": [
      "[[1 2 1 7]\n",
      " [4 4 1 0]\n",
      " [2 5 4 4]\n",
      " [7 4 8 1]\n",
      " [2 7 5 8]\n",
      " [5 3 0 5]\n",
      " [5 6 4 8]\n",
      " [8 4 5 8]]\n"
     ]
    }
   ],
   "source": [
    "# Vertically joined\n",
    "print(np.concatenate((x,y), axis=0))"
   ]
  },
  {
   "cell_type": "code",
   "execution_count": 70,
   "id": "f321e6f8",
   "metadata": {},
   "outputs": [
    {
     "name": "stdout",
     "output_type": "stream",
     "text": [
      "[[1 2 1 7 2 7 5 8]\n",
      " [4 4 1 0 5 3 0 5]\n",
      " [2 5 4 4 5 6 4 8]\n",
      " [7 4 8 1 8 4 5 8]]\n"
     ]
    }
   ],
   "source": [
    "# Horizontally joined\n",
    "print(np.concatenate((x,y), axis=1))"
   ]
  },
  {
   "cell_type": "markdown",
   "id": "4fc754cf",
   "metadata": {},
   "source": [
    "### numpy.stack\n",
    "Join a sequence of arrays along a new axis."
   ]
  },
  {
   "cell_type": "code",
   "execution_count": 71,
   "id": "cdcef9cd",
   "metadata": {
    "scrolled": true
   },
   "outputs": [
    {
     "name": "stdout",
     "output_type": "stream",
     "text": [
      "[[[1 2 1 7]\n",
      "  [4 4 1 0]\n",
      "  [2 5 4 4]\n",
      "  [7 4 8 1]]\n",
      "\n",
      " [[2 7 5 8]\n",
      "  [5 3 0 5]\n",
      "  [5 6 4 8]\n",
      "  [8 4 5 8]]]\n"
     ]
    }
   ],
   "source": [
    "# Vertically stack\n",
    "print(np.stack((x,y), axis=0))"
   ]
  },
  {
   "cell_type": "code",
   "execution_count": 72,
   "id": "9df78494",
   "metadata": {
    "scrolled": false
   },
   "outputs": [
    {
     "name": "stdout",
     "output_type": "stream",
     "text": [
      "[[[1 2 1 7]\n",
      "  [2 7 5 8]]\n",
      "\n",
      " [[4 4 1 0]\n",
      "  [5 3 0 5]]\n",
      "\n",
      " [[2 5 4 4]\n",
      "  [5 6 4 8]]\n",
      "\n",
      " [[7 4 8 1]\n",
      "  [8 4 5 8]]]\n"
     ]
    }
   ],
   "source": [
    "# Horizontally stack\n",
    "print(np.stack((x,y), axis=1))"
   ]
  },
  {
   "cell_type": "markdown",
   "id": "f1b7019e",
   "metadata": {},
   "source": [
    "# Contributors\n",
    "\n",
    "**Author**\n",
    "<br>Chee Lam"
   ]
  },
  {
   "cell_type": "markdown",
   "id": "627c6b9b",
   "metadata": {},
   "source": [
    "# References\n",
    "\n",
    "1. [Numpy Documentation](https://numpy.org/doc/stable/reference/index.html)\n",
    "2. [Numpy Array Manipulation](https://www.tutorialspoint.com/numpy/numpy_array_manipulation.htm)\n",
    "3. [NumPy Creating Arrays](https://www.w3schools.com/python/numpy/numpy_creating_arrays.asp)"
   ]
  }
 ],
 "metadata": {
  "kernelspec": {
   "display_name": "Python 3",
   "language": "python",
   "name": "python3"
  },
  "language_info": {
   "codemirror_mode": {
    "name": "ipython",
    "version": 3
   },
   "file_extension": ".py",
   "mimetype": "text/x-python",
   "name": "python",
   "nbconvert_exporter": "python",
   "pygments_lexer": "ipython3",
   "version": "3.8.8"
  }
 },
 "nbformat": 4,
 "nbformat_minor": 5
}
