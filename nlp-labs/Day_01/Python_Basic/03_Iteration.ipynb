{
 "cells": [
  {
   "cell_type": "markdown",
   "metadata": {},
   "source": [
    "> **Copyright (c) 2020 Skymind Holdings Berhad**<br><br>\n",
    "> **Copyright (c) 2021 Skymind Education Group Sdn. Bhd.**<br>\n",
    "<br>\n",
    "Licensed under the Apache License, Version 2.0 (the \\\"License\\\");\n",
    "<br>you may not use this file except in compliance with the License.\n",
    "<br>You may obtain a copy of the License at http://www.apache.org/licenses/LICENSE-2.0/\n",
    "<br>\n",
    "<br>Unless required by applicable law or agreed to in writing, software\n",
    "<br>distributed under the License is distributed on an \\\"AS IS\\\" BASIS,\n",
    "<br>WITHOUT WARRANTIES OR CONDITIONS OF ANY KIND, either express or implied.\n",
    "<br>See the License for the specific language governing permissions and\n",
    "<br>limitations under the License.\n",
    "<br>\n",
    "<br>\n",
    "**SPDX-License-Identifier: Apache-2.0**\n",
    "<br>"
   ]
  },
  {
   "cell_type": "markdown",
   "metadata": {},
   "source": [
    "# Introduction\n",
    "\n",
    "In the last tutorial, you have learned the python sequence (string, list, tuple). Now you will be introduced to the python looping algorithms."
   ]
  },
  {
   "cell_type": "markdown",
   "metadata": {},
   "source": [
    "# Notebook Content\n",
    "\n",
    "* [The for Loop](#The-for-Loop)\n",
    "\n",
    "\n",
    "* [Flow of Execution](#Flow-of-Execution)\n",
    "\n",
    "\n",
    "* [Strings and For Loop](#Strings-and-for-Loop)\n",
    "\n",
    "\n",
    "* [Lists / Tuples and for Loop](#Lists-/-Tuples-and-for-Loop)\n",
    "\n",
    "\n",
    "* [range()](#range())\n",
    "\n",
    "\n",
    "* [Accumulator Pattern](#Accumulator-Pattern)\n",
    "\n",
    "\n",
    "* [Challenges](#Challenge-1)"
   ]
  },
  {
   "cell_type": "markdown",
   "metadata": {
    "id": "t_RtSoehdumo"
   },
   "source": [
    "**Iteration** is the repetition of some codes over and over again."
   ]
  },
  {
   "cell_type": "markdown",
   "metadata": {
    "id": "jipomZABfIyX"
   },
   "source": [
    "# The **for** Loop\n",
    "\n",
    "- Iterate each element in an iterable variable or collection.\n",
    "      for <loop_var_name> in <sequence>:\n",
    "        loop_body\n",
    "\n",
    "    - **loop_var_name** (iterator variable) is needed in for loop statement\n",
    "    - **sequence** can be a list, tuple, string or any iterable data type\n",
    "    - **colon** is required at the end of the line\n",
    "    - loop **syntax** must be followed exactly\n",
    "    - **indentation** is required  at loop_body\n"
   ]
  },
  {
   "cell_type": "code",
   "execution_count": 1,
   "metadata": {
    "colab": {
     "base_uri": "https://localhost:8080/"
    },
    "executionInfo": {
     "elapsed": 1717,
     "status": "ok",
     "timestamp": 1606730154537,
     "user": {
      "displayName": "Tan chee lam",
      "photoUrl": "https://lh3.googleusercontent.com/a-/AOh14GiJr326PVTrMvSfwUW6T-z0ZonqXE15R45mf30M=s64",
      "userId": "10981313530642734552"
     },
     "user_tz": -480
    },
    "id": "p-gy88z_klWx",
    "outputId": "c32bcb7a-73e3-48f1-ceb7-12dc42561de9"
   },
   "outputs": [
    {
     "name": "stdout",
     "output_type": "stream",
     "text": [
      "Joe is joining PYTHON workshop\n",
      "Amy is joining PYTHON workshop\n",
      "Brad is joining PYTHON workshop\n",
      "Angelina is joining PYTHON workshop\n",
      "Zuki is joining PYTHON workshop\n",
      "Thandi is joining PYTHON workshop\n",
      "Paris is joining PYTHON workshop\n"
     ]
    }
   ],
   "source": [
    "participants = [\"Joe\", \"Amy\", \"Brad\", \"Angelina\", \"Zuki\", \"Thandi\", \"Paris\"]\n",
    "\n",
    "for name in participants:\n",
    "  print(name, \"is joining PYTHON workshop\")"
   ]
  },
  {
   "cell_type": "markdown",
   "metadata": {
    "id": "5zZEskQploJ5"
   },
   "source": [
    "# Flow of Execution\n",
    "1. Python compiler checks if there are still more **items to be processed** for each iteration.\n",
    "2. If there are **none left** (**terminate condition** met), the loop has **finished**.\n",
    "\n",
    "   Program execution continues at the next statement after the loop body.\n",
    "3. If **there are items** still to be processed, the loop variable is updated to refer to the **next item** in the list.\n",
    "4. At the end of each execution of the body of the loop, Python returns to the for statement, to see if there are more items to be handled.\n",
    "<img src=\"https://fopp.umsi.education/books/published/fopp/_images/new_flowchart_for.png\">"
   ]
  },
  {
   "cell_type": "markdown",
   "metadata": {
    "id": "bGGnKTObo4_5"
   },
   "source": [
    "# Strings and **for** Loop\n",
    "- Since a **string** is simply a **sequence of characters**, the *for* loop iterates over each character automatically.\n",
    "- Process the characters in a string or items in a sequence one at a time from **left to right**."
   ]
  },
  {
   "cell_type": "code",
   "execution_count": 2,
   "metadata": {
    "colab": {
     "base_uri": "https://localhost:8080/"
    },
    "executionInfo": {
     "elapsed": 1114,
     "status": "ok",
     "timestamp": 1606731402169,
     "user": {
      "displayName": "Tan chee lam",
      "photoUrl": "https://lh3.googleusercontent.com/a-/AOh14GiJr326PVTrMvSfwUW6T-z0ZonqXE15R45mf30M=s64",
      "userId": "10981313530642734552"
     },
     "user_tz": -480
    },
    "id": "MEyo4lN0pZub",
    "outputId": "eb7b1c1c-736b-4c41-f3e8-132b6fc0b42c"
   },
   "outputs": [
    {
     "name": "stdout",
     "output_type": "stream",
     "text": [
      "H\n",
      "e\n",
      "l\n",
      "l\n",
      "o\n",
      " \n",
      "W\n",
      "o\n",
      "r\n",
      "l\n",
      "d\n",
      "!\n"
     ]
    }
   ],
   "source": [
    "for char in \"Hello World!\":\n",
    "  print(char)"
   ]
  },
  {
   "cell_type": "markdown",
   "metadata": {
    "id": "eXFCOfkXqKUa"
   },
   "source": [
    "# Lists / Tuples and **for** Loop\n",
    "- A list or tuple is a **sequence of items**, so the for loop iterates over each item in the list automatically.\n",
    "- This is called **list / tuple traversal**."
   ]
  },
  {
   "cell_type": "code",
   "execution_count": 3,
   "metadata": {
    "colab": {
     "base_uri": "https://localhost:8080/"
    },
    "executionInfo": {
     "elapsed": 1087,
     "status": "ok",
     "timestamp": 1606731774653,
     "user": {
      "displayName": "Tan chee lam",
      "photoUrl": "https://lh3.googleusercontent.com/a-/AOh14GiJr326PVTrMvSfwUW6T-z0ZonqXE15R45mf30M=s64",
      "userId": "10981313530642734552"
     },
     "user_tz": -480
    },
    "id": "r2ItBmwYrIVz",
    "outputId": "47688810-a972-4d01-e504-6c83b24f1c49"
   },
   "outputs": [
    {
     "name": "stdout",
     "output_type": "stream",
     "text": [
      "apple\n",
      "orange\n",
      "banana\n",
      "cherry\n"
     ]
    }
   ],
   "source": [
    "fruits = [\"apple\", \"orange\", \"banana\", \"cherry\"]\n",
    "\n",
    "for fruit in fruits:\n",
    "  print(fruit)"
   ]
  },
  {
   "cell_type": "markdown",
   "metadata": {
    "id": "eSSCaThfra48"
   },
   "source": [
    "# *range()*\n",
    "- Versatile function to create iterables yielding arithmetic progressions\n",
    "- The arguments must be integers\n",
    "\n",
    "      range(start, stop[, step])\n",
    "      \n",
    "      start = starting value [inclusive]\n",
    "       stop = maximum value  [exclusive]\n",
    "       step = value added to loop_variable on each iteration\n",
    "\n",
    "    - If the **start** argument is omitted, it defaults to 0\n",
    "    - If the **step** argument is omitted, it defaults to 1\n",
    "    - The **stop** argument is required\n",
    "    - **ValueError** is raised when step is 0\n"
   ]
  },
  {
   "cell_type": "code",
   "execution_count": 4,
   "metadata": {
    "colab": {
     "base_uri": "https://localhost:8080/"
    },
    "executionInfo": {
     "elapsed": 885,
     "status": "ok",
     "timestamp": 1606733590079,
     "user": {
      "displayName": "Tan chee lam",
      "photoUrl": "https://lh3.googleusercontent.com/a-/AOh14GiJr326PVTrMvSfwUW6T-z0ZonqXE15R45mf30M=s64",
      "userId": "10981313530642734552"
     },
     "user_tz": -480
    },
    "id": "lk6zpkq5yGzG",
    "outputId": "81da35ce-b1e6-4067-a4da-2ebaf435f567"
   },
   "outputs": [
    {
     "name": "stdout",
     "output_type": "stream",
     "text": [
      "0\n",
      "1\n",
      "2\n",
      "3\n",
      "4\n",
      "5\n",
      "6\n",
      "7\n",
      "8\n",
      "9\n"
     ]
    }
   ],
   "source": [
    "for cnt in range(10):\n",
    "  print(cnt)"
   ]
  },
  {
   "cell_type": "code",
   "execution_count": 5,
   "metadata": {
    "colab": {
     "base_uri": "https://localhost:8080/"
    },
    "executionInfo": {
     "elapsed": 1169,
     "status": "ok",
     "timestamp": 1606733694722,
     "user": {
      "displayName": "Tan chee lam",
      "photoUrl": "https://lh3.googleusercontent.com/a-/AOh14GiJr326PVTrMvSfwUW6T-z0ZonqXE15R45mf30M=s64",
      "userId": "10981313530642734552"
     },
     "user_tz": -480
    },
    "id": "TZUXt-j7yhne",
    "outputId": "fe4f1233-c56c-40cc-f333-3250332aee84"
   },
   "outputs": [
    {
     "name": "stdout",
     "output_type": "stream",
     "text": [
      "10\n",
      "20\n",
      "30\n",
      "40\n",
      "50\n",
      "60\n",
      "70\n",
      "80\n",
      "90\n"
     ]
    }
   ],
   "source": [
    "for cnt in range(10, 100, 10):\n",
    "  print(cnt)"
   ]
  },
  {
   "cell_type": "markdown",
   "metadata": {
    "id": "OKcYQhG-zR4m"
   },
   "source": [
    "# Accumulator Pattern\n",
    "- To get the **sum** of elements (numbers) in the sequence\n",
    "- To get the **maximum / minimum** value of elements in the sequence\n",
    "- The anatomy of the accumulation pattern includes:\n",
    "  - **initializing** an “accumulator” variable\n",
    "  - **iterating** sequence\n",
    "  - **updating** the accumulator variable on each iteration\n"
   ]
  },
  {
   "cell_type": "markdown",
   "metadata": {
    "id": "0LRKEBVb79iy"
   },
   "source": [
    "# Example 1\n",
    "Computes the **sum of the numbers** in a list"
   ]
  },
  {
   "cell_type": "code",
   "execution_count": 6,
   "metadata": {
    "colab": {
     "base_uri": "https://localhost:8080/"
    },
    "executionInfo": {
     "elapsed": 975,
     "status": "ok",
     "timestamp": 1606736245436,
     "user": {
      "displayName": "Tan chee lam",
      "photoUrl": "https://lh3.googleusercontent.com/a-/AOh14GiJr326PVTrMvSfwUW6T-z0ZonqXE15R45mf30M=s64",
      "userId": "10981313530642734552"
     },
     "user_tz": -480
    },
    "id": "YjbaiaMw8HRC",
    "outputId": "bee16db2-93cf-42f4-ecff-c79299504970"
   },
   "outputs": [
    {
     "name": "stdout",
     "output_type": "stream",
     "text": [
      "55\n"
     ]
    }
   ],
   "source": [
    "nums = [1, 2, 3, 4, 5, 6, 7, 8, 9, 10]\n",
    "\n",
    "accum = 0 # initializing\n",
    "for num in nums: # iterating\n",
    "  accum += num # updating\n",
    "\n",
    "print(accum)"
   ]
  },
  {
   "cell_type": "markdown",
   "metadata": {
    "id": "l8Z2TbCY8_ya"
   },
   "source": [
    "# Example 2\n",
    "Identify the **largest number** from a list"
   ]
  },
  {
   "cell_type": "code",
   "execution_count": 7,
   "metadata": {
    "colab": {
     "base_uri": "https://localhost:8080/"
    },
    "executionInfo": {
     "elapsed": 970,
     "status": "ok",
     "timestamp": 1606736550967,
     "user": {
      "displayName": "Tan chee lam",
      "photoUrl": "https://lh3.googleusercontent.com/a-/AOh14GiJr326PVTrMvSfwUW6T-z0ZonqXE15R45mf30M=s64",
      "userId": "10981313530642734552"
     },
     "user_tz": -480
    },
    "id": "g_ql2jBQ9IV6",
    "outputId": "56fe0cd7-7fe0-4c22-f0f7-17448702e802"
   },
   "outputs": [
    {
     "name": "stdout",
     "output_type": "stream",
     "text": [
      "83\n"
     ]
    }
   ],
   "source": [
    "nums = [36, 75, 20, 5, 66, 83, 4, 15, 22, 60, 0, 10]\n",
    "\n",
    "max = 0\n",
    "for num in nums:\n",
    "  if num > max:\n",
    "    max = num\n",
    "\n",
    "print(max)"
   ]
  },
  {
   "cell_type": "markdown",
   "metadata": {
    "id": "nds_ySOw-NQ6"
   },
   "source": [
    "# Challenge 1\n",
    "Write one for loop to **print out each element** and **element TYPE** of the list *several_things*.\n",
    "\n",
    "    several_things = [\"hello\", 2, 4, 6.0, 7.5, 234352354, \"the end\", \"\", 99]\n",
    " "
   ]
  },
  {
   "cell_type": "code",
   "execution_count": 8,
   "metadata": {
    "colab": {
     "base_uri": "https://localhost:8080/"
    },
    "executionInfo": {
     "elapsed": 986,
     "status": "ok",
     "timestamp": 1606737022142,
     "user": {
      "displayName": "Tan chee lam",
      "photoUrl": "https://lh3.googleusercontent.com/a-/AOh14GiJr326PVTrMvSfwUW6T-z0ZonqXE15R45mf30M=s64",
      "userId": "10981313530642734552"
     },
     "user_tz": -480
    },
    "id": "px3hV4-f-3l7",
    "outputId": "ee05e8b0-ef2f-49a1-df5b-ae7bcd2ab1e8"
   },
   "outputs": [
    {
     "name": "stdout",
     "output_type": "stream",
     "text": [
      "hello <class 'str'>\n",
      "2 <class 'int'>\n",
      "4 <class 'int'>\n",
      "6.0 <class 'float'>\n",
      "7.5 <class 'float'>\n",
      "234352354 <class 'int'>\n",
      "the end <class 'str'>\n",
      " <class 'str'>\n",
      "99 <class 'int'>\n"
     ]
    }
   ],
   "source": [
    "several_things = [\"hello\", 2, 4, 6.0, 7.5, 234352354, \"the end\", \"\", 99]\n",
    "\n",
    "for thing in several_things:\n",
    "  print(thing, type(thing))"
   ]
  },
  {
   "cell_type": "markdown",
   "metadata": {
    "id": "3raKoyJH_Z_1"
   },
   "source": [
    "# Challenge 2\n",
    "Write code that uses iteration to print out the **length of each element** of the list stored in *str_list*.\n",
    "\n",
    "    str_list = [\"hello\", \"\", \"goodbye\", \"wonderful\", \"I love Python\"]"
   ]
  },
  {
   "cell_type": "code",
   "execution_count": 9,
   "metadata": {
    "colab": {
     "base_uri": "https://localhost:8080/"
    },
    "executionInfo": {
     "elapsed": 1134,
     "status": "ok",
     "timestamp": 1606737161509,
     "user": {
      "displayName": "Tan chee lam",
      "photoUrl": "https://lh3.googleusercontent.com/a-/AOh14GiJr326PVTrMvSfwUW6T-z0ZonqXE15R45mf30M=s64",
      "userId": "10981313530642734552"
     },
     "user_tz": -480
    },
    "id": "rME29H_P_v8c",
    "outputId": "ded5c48e-59e9-4172-895d-f299be169e8f"
   },
   "outputs": [
    {
     "name": "stdout",
     "output_type": "stream",
     "text": [
      "5\n",
      "0\n",
      "7\n",
      "9\n",
      "13\n"
     ]
    }
   ],
   "source": [
    "str_list = [\"hello\", \"\", \"goodbye\", \"wonderful\", \"I love Python\"]\n",
    "\n",
    "for string in str_list:\n",
    "  print(len(string))"
   ]
  },
  {
   "cell_type": "markdown",
   "metadata": {
    "id": "a1EXj_yb_4H6"
   },
   "source": [
    "# Challenge 3\n",
    "*addition_str* is a string with a list of numbers separated by the + sign.\n",
    "\n",
    "Write code that uses the accumulation pattern to take the **sum of all of the numbers** and assigns it to *sum_val*.\n",
    "\n",
    "    addition_str = \"2+5+10+20\""
   ]
  },
  {
   "cell_type": "code",
   "execution_count": 10,
   "metadata": {
    "colab": {
     "base_uri": "https://localhost:8080/"
    },
    "executionInfo": {
     "elapsed": 1034,
     "status": "ok",
     "timestamp": 1606737629179,
     "user": {
      "displayName": "Tan chee lam",
      "photoUrl": "https://lh3.googleusercontent.com/a-/AOh14GiJr326PVTrMvSfwUW6T-z0ZonqXE15R45mf30M=s64",
      "userId": "10981313530642734552"
     },
     "user_tz": -480
    },
    "id": "N00oH4I8BO3L",
    "outputId": "7bbe99d7-2113-4ce7-92ae-8e7a3bab7e5c"
   },
   "outputs": [
    {
     "name": "stdout",
     "output_type": "stream",
     "text": [
      "37\n"
     ]
    }
   ],
   "source": [
    "addition_str = \"2+5+10+20\"\n",
    "\n",
    "accum = 0\n",
    "for num in addition_str.split('+'):\n",
    "  accum += int(num)\n",
    "\n",
    "print(accum)"
   ]
  },
  {
   "cell_type": "markdown",
   "metadata": {
    "id": "400t6vQHCngl"
   },
   "source": [
    "# Challenge 4\n",
    "Write code to create a list of numbers from **0 to 67** and assign that list to the variable nums."
   ]
  },
  {
   "cell_type": "code",
   "execution_count": 11,
   "metadata": {
    "colab": {
     "base_uri": "https://localhost:8080/"
    },
    "executionInfo": {
     "elapsed": 1467,
     "status": "ok",
     "timestamp": 1606737960451,
     "user": {
      "displayName": "Tan chee lam",
      "photoUrl": "https://lh3.googleusercontent.com/a-/AOh14GiJr326PVTrMvSfwUW6T-z0ZonqXE15R45mf30M=s64",
      "userId": "10981313530642734552"
     },
     "user_tz": -480
    },
    "id": "8Urn5RuFCvsD",
    "outputId": "1aa3ef06-02d0-4f87-b2ba-98bd071dc304",
    "scrolled": true
   },
   "outputs": [
    {
     "name": "stdout",
     "output_type": "stream",
     "text": [
      "[0, 1, 2, 3, 4, 5, 6, 7, 8, 9, 10, 11, 12, 13, 14, 15, 16, 17, 18, 19, 20, 21, 22, 23, 24, 25, 26, 27, 28, 29, 30, 31, 32, 33, 34, 35, 36, 37, 38, 39, 40, 41, 42, 43, 44, 45, 46, 47, 48, 49, 50, 51, 52, 53, 54, 55, 56, 57, 58, 59, 60, 61, 62, 63, 64, 65, 66, 67]\n"
     ]
    }
   ],
   "source": [
    "nums = list(range(68))\n",
    "print(nums)"
   ]
  },
  {
   "cell_type": "markdown",
   "metadata": {},
   "source": [
    "# Contributors\n",
    "\n",
    "**Author**\n",
    "<br>Chee Lam"
   ]
  },
  {
   "cell_type": "markdown",
   "metadata": {},
   "source": [
    "# References\n",
    "\n",
    "1. [Python Documentation](https://docs.python.org/3/)\n",
    "2. [Coursera Python Specialization Course](https://www.coursera.org/specializations/python-3-programming)"
   ]
  }
 ],
 "metadata": {
  "colab": {
   "authorship_tag": "ABX9TyNtUqgFX3tJxpdbd2jfzHdW",
   "collapsed_sections": [],
   "name": "Iteration.ipynb",
   "provenance": []
  },
  "kernelspec": {
   "display_name": "Python 3",
   "language": "python",
   "name": "python3"
  },
  "language_info": {
   "codemirror_mode": {
    "name": "ipython",
    "version": 3
   },
   "file_extension": ".py",
   "mimetype": "text/x-python",
   "name": "python",
   "nbconvert_exporter": "python",
   "pygments_lexer": "ipython3",
   "version": "3.8.8"
  }
 },
 "nbformat": 4,
 "nbformat_minor": 1
}
