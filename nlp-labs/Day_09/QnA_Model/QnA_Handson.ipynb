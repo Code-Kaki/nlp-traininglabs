{
 "cells": [
  {
   "cell_type": "markdown",
   "id": "7433a297",
   "metadata": {},
   "source": [
    "![license_header_logo.png](attachment:license_header_logo.png)\n",
    "\n",
    "Copyright (c) 2021 CertifAI Sdn. Bhd.\n",
    "\n",
    "This program is part of OSRFramework. You can redistribute it and/or modify\n",
    "it under the terms of the GNU Affero General Public License as published by\n",
    "the Free Software Foundation, either version 3 of the License, or\n",
    "(at your option) any later version.\n",
    "\n",
    "This program is distributed in the hope that it will be useful,\n",
    "but WITHOUT ANY WARRANTY; without even the implied warranty of\n",
    "MERCHANTABILITY or FITNESS FOR A PARTICULAR PURPOSE. See the\n",
    "GNU Affero General Public License for more details.\n",
    "\n",
    "You should have received a copy of the GNU Affero General Public License\n",
    "along with this program. If not, see http://www.gnu.org/licenses/."
   ]
  },
  {
   "cell_type": "markdown",
   "id": "937127ea",
   "metadata": {},
   "source": [
    "INSTRUCTION: Follow the steps in the commented line for each section and run the code."
   ]
  },
  {
   "cell_type": "code",
   "execution_count": null,
   "id": "8ed6f16d",
   "metadata": {},
   "outputs": [],
   "source": [
    "\"\"\"\n",
    "install torch(PyTorch) and transformers\n",
    "to install them type in your terminal:\n",
    "pip install torch\n",
    "pip install transformers\n",
    "\"\"\""
   ]
  },
  {
   "cell_type": "code",
   "execution_count": null,
   "id": "fe73c1d1",
   "metadata": {},
   "outputs": [],
   "source": [
    "# import the necessary library\n",
    "from transformers import pipeline\n",
    "\n",
    "# write your context (where model seeks the answer for the question)\n",
    "context = \"\"\"\n",
    "You can add your own context here. Try to write something or copy from other source.\n",
    "\"\"\"\n",
    "\n",
    "# write your own question\n",
    "question = \"\""
   ]
  },
  {
   "cell_type": "code",
   "execution_count": null,
   "id": "8b765e2f",
   "metadata": {},
   "outputs": [],
   "source": [
    "# initialize your model\n",
    "\"\"\"\n",
    "This is a pretrained model that we can get from huggingface\n",
    "There are more models that we can find there: https://huggingface.co/\n",
    "Go to this web page and import a model and a tokenizer by putting the model and tokenizer into the parameters\n",
    "\"\"\"\n",
    "# uncomment this code below\n",
    "\n",
    "# question_answering = pipeline('question-answering', model= , tokenizer=)"
   ]
  },
  {
   "cell_type": "code",
   "execution_count": null,
   "id": "f2677a7b",
   "metadata": {},
   "outputs": [],
   "source": [
    "# test the model (uncomment the code below)\n",
    "\n",
    "# result = question_answering(question=question, context=context)\n",
    "# print(\"Answer:\", result['answer'])\n",
    "# print(\"Score:\", result['score'])"
   ]
  }
 ],
 "metadata": {
  "kernelspec": {
   "display_name": "Python 3 (ipykernel)",
   "language": "python",
   "name": "python3"
  },
  "language_info": {
   "codemirror_mode": {
    "name": "ipython",
    "version": 3
   },
   "file_extension": ".py",
   "mimetype": "text/x-python",
   "name": "python",
   "nbconvert_exporter": "python",
   "pygments_lexer": "ipython3",
   "version": "3.9.6"
  }
 },
 "nbformat": 4,
 "nbformat_minor": 5
}
