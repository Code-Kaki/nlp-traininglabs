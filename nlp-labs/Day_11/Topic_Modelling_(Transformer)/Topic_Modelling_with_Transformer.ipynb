{
 "cells": [
  {
   "cell_type": "markdown",
   "metadata": {},
   "source": [
    "![license_header_logo](../../../images/license_header_logo.png)\n",
    "\n",
    "> **Copyright (c) 2021 CertifAI Sdn. Bhd.**<br>\n",
    "<br>\n",
    "This program is part of OSRFramework. You can redistribute it and/or modify\n",
    "<br>it under the terms of the GNU Affero General Public License as published by\n",
    "<br>the Free Software Foundation, either version 3 of the License, or\n",
    "<br>(at your option) any later version.\n",
    "<br>\n",
    "<br>This program is distributed in the hope that it will be useful\n",
    "<br>but WITHOUT ANY WARRANTY; without even the implied warranty of\n",
    "<br>MERCHANTABILITY or FITNESS FOR A PARTICULAR PURPOSE.  See the\n",
    "<br>GNU Affero General Public License for more details.\n",
    "<br>\n",
    "<br>You should have received a copy of the GNU Affero General Public License\n",
    "<br>along with this program.  If not, see <http://www.gnu.org/licenses/>.\n",
    "<br>"
   ]
  },
  {
   "cell_type": "markdown",
   "metadata": {},
   "source": [
    "# Introduction\n",
    "\n",
    "In this notebook, we are going to train a sequence-to-sequence model that uses the [nn.Transformer](https://pytorch.org/docs/stable/generated/torch.nn.Transformer.html) module on a language modeling task.\n",
    "\n",
    "![Language Modelling](../../../images/language_modelling.gif)"
   ]
  },
  {
   "cell_type": "markdown",
   "metadata": {},
   "source": [
    "# What will we accomplish?\n",
    "\n",
    "Steps to implement topic modelling using PyTorch Transformer:\n",
    "\n",
    "> Step 1: Understand and implement Transformer Architecture\n",
    "\n",
    "> Step 2: Load and batch data\n",
    "\n",
    "> Step 3: Train the transformer model\n",
    "\n",
    "> Step 4: Evaluate the trained model"
   ]
  },
  {
   "cell_type": "markdown",
   "metadata": {},
   "source": [
    "# Notebook Content\n",
    "\n",
    "* [Language Modelling with NN.TRANSFORMER and TORCHTEXT](#Language-Modelling-with-NN.TRANSFORMER-and-TORCHTEXT)\n",
    "\n",
    "\n",
    "* [Define the Model](#Define-the-Model)\n",
    "\n",
    "\n",
    "* [Load and Batch Data](#Load-and-Batch-Data)\n",
    "\n",
    "\n",
    "* [Generate Input and Target Sequence](#Generate-Input-and-Target-Sequence)\n",
    "\n",
    "\n",
    "* [Initiate an Instance](#Initiate-an-Instance)\n",
    "\n",
    "\n",
    "* [Run the Model](#Run-the-Model)\n",
    "\n",
    "\n",
    "* [Evaluate the Best Model on the Test Dataset](#Evaluate-the-Best-Model-on-the-Test-Dataset)"
   ]
  },
  {
   "cell_type": "markdown",
   "metadata": {},
   "source": [
    "# Language Modelling with NN.TRANSFORMER and TORCHTEXT\n",
    "\n",
    "The PyTorch 1.2 release includes a standard transformer module based on the paper [Attention is All You Need](https://arxiv.org/pdf/1706.03762.pdf).\n",
    "\n",
    "Compared to **Recurrent Neural Networks (RNNs)**, the transformer model has proven to be superior in quality for many sequence-to-sequence tasks while being more parallelizable. The `nn.Transformer` module relies entirely on an attention mechanism (implemented as [nn.MultiheadAttention](https://pytorch.org/docs/stable/generated/torch.nn.MultiheadAttention.html) to draw global dependencies between input and output. The `nn.Transformer` module is highly modularized such that a single component (e.g., [nn.TransformerEncoder](https://pytorch.org/docs/stable/generated/torch.nn.TransformerEncoder.html)) can be easily adapted/composed.\n",
    "\n",
    "![](../../../images/transformer_architecture.jpg)"
   ]
  },
  {
   "cell_type": "markdown",
   "metadata": {},
   "source": [
    "## Define the Model"
   ]
  },
  {
   "cell_type": "markdown",
   "metadata": {},
   "source": [
    "In this notebook, we train a `nn.TransformerEncoder` model on a **language modeling task**. The language modeling task is to assign a **probability** for the likelihood of a given word (or a sequence of words) to follow a sequence of words. A sequence of tokens are passed to the **embedding layer** first, followed by a **positional encoding layer** to account for the order of the word. The `nn.TransformerEncoder` consists of multiple layers of [nn.TransformerEncoderLayer](https://pytorch.org/docs/stable/generated/torch.nn.TransformerEncoderLayer.html).\n",
    "\n",
    "Along with the input sequence, a **square attention mask** is required because the **self-attention layers** in `nn.TransformerEncoder` are only allowed to attend the earlier positions in the sequence. For the language modeling task, any tokens on the future positions should be masked. To produce a probability distribution over output words, the output of the `nn.TransformerEncoder` model is passed through a **linear layer** followed by a **log-softmax function**."
   ]
  },
  {
   "cell_type": "code",
   "execution_count": 1,
   "metadata": {},
   "outputs": [],
   "source": [
    "import math\n",
    "from typing import Tuple\n",
    "\n",
    "import torch\n",
    "from torch import nn, Tensor\n",
    "import torch.nn.functional as F\n",
    "from torch.nn import TransformerEncoder, TransformerEncoderLayer\n",
    "from torch.utils.data import dataset\n",
    "\n",
    "class TransformerModel(nn.Module):\n",
    "\n",
    "    def __init__(self, ntoken: int, d_model: int, nhead: int, d_hid: int,\n",
    "                 nlayers: int, dropout: float = 0.5):\n",
    "        super().__init__()\n",
    "        self.model_type = 'Transformer'\n",
    "        self.pos_encoder = PositionalEncoding(d_model, dropout)\n",
    "        encoder_layers = TransformerEncoderLayer(d_model, nhead, d_hid, dropout)\n",
    "        self.transformer_encoder = TransformerEncoder(encoder_layers, nlayers)\n",
    "        self.encoder = nn.Embedding(ntoken, d_model)\n",
    "        self.d_model = d_model\n",
    "        self.decoder = nn.Linear(d_model, ntoken)\n",
    "\n",
    "        self.init_weights()\n",
    "\n",
    "    def init_weights(self) -> None:\n",
    "        initrange = 0.1\n",
    "        self.encoder.weight.data.uniform_(-initrange, initrange)\n",
    "        self.decoder.bias.data.zero_()\n",
    "        self.decoder.weight.data.uniform_(-initrange, initrange)\n",
    "\n",
    "    def forward(self, src: Tensor, src_mask: Tensor) -> Tensor:\n",
    "        \"\"\"\n",
    "        Args:\n",
    "            src: Tensor, shape [seq_len, batch_size]\n",
    "            src_mask: Tensor, shape [seq_len, seq_len]\n",
    "\n",
    "        Returns:\n",
    "            output Tensor of shape [seq_len, batch_size, ntoken]\n",
    "        \"\"\"\n",
    "        src = self.encoder(src) * math.sqrt(self.d_model)\n",
    "        src = self.pos_encoder(src)\n",
    "        output = self.transformer_encoder(src, src_mask)\n",
    "        output = self.decoder(output)\n",
    "        return output\n",
    "\n",
    "\n",
    "def generate_square_subsequent_mask(sz: int) -> Tensor:\n",
    "    \"\"\"Generates an upper-triangular matrix of -inf, with zeros on diag.\"\"\"\n",
    "    return torch.triu(torch.ones(sz, sz) * float('-inf'), diagonal=1)"
   ]
  },
  {
   "cell_type": "markdown",
   "metadata": {},
   "source": [
    "``PositionalEncoding`` module injects some information about the **relative or absolute position** of the tokens in the sequence. The positional encodings have the same dimension as the embeddings so that the two can be summed. Here, we use ``sine`` and ``cosine`` functions of different frequencies."
   ]
  },
  {
   "cell_type": "code",
   "execution_count": 2,
   "metadata": {},
   "outputs": [],
   "source": [
    "class PositionalEncoding(nn.Module):\n",
    "\n",
    "    def __init__(self, d_model: int, dropout: float = 0.1, max_len: int = 5000):\n",
    "        super().__init__()\n",
    "        self.dropout = nn.Dropout(p=dropout)\n",
    "\n",
    "        position = torch.arange(max_len).unsqueeze(1)\n",
    "        div_term = torch.exp(torch.arange(0, d_model, 2) * (-math.log(10000.0) / d_model))\n",
    "        pe = torch.zeros(max_len, 1, d_model)\n",
    "        pe[:, 0, 0::2] = torch.sin(position * div_term)\n",
    "        pe[:, 0, 1::2] = torch.cos(position * div_term)\n",
    "        self.register_buffer('pe', pe)\n",
    "\n",
    "    def forward(self, x: Tensor) -> Tensor:\n",
    "        \"\"\"\n",
    "        Args:\n",
    "            x: Tensor, shape [seq_len, batch_size, embedding_dim]\n",
    "        \"\"\"\n",
    "        x = x + self.pe[:x.size(0)]\n",
    "        return self.dropout(x)"
   ]
  },
  {
   "cell_type": "markdown",
   "metadata": {},
   "source": [
    "## Load and Batch Data"
   ]
  },
  {
   "cell_type": "markdown",
   "metadata": {},
   "source": [
    "This tutorial uses ``torchtext`` to generate Wikitext-2 dataset. The vocab object is built based on the train dataset and is used to numericalize tokens into tensors. Wikitext-2 represents rare tokens as `<unk>`.\n",
    "\n",
    "Given a 1-D vector of sequential data, ``batchify()`` arranges the data into ``batch_size`` columns. If the data does not divide evenly into ``batch_size`` columns, then the data is trimmed to fit. For instance, with the alphabet as the data (total length of 26) and ``batch_size=4``, we would divide the alphabet into 4 sequences of length 6:\n",
    "\n",
    "\\begin{align}\\begin{bmatrix}\n",
    "  \\text{A} & \\text{B} & \\text{C} & \\ldots & \\text{X} & \\text{Y} & \\text{Z}\n",
    "  \\end{bmatrix}\n",
    "  \\Rightarrow\n",
    "  \\begin{bmatrix}\n",
    "  \\begin{bmatrix}\\text{A} \\\\ \\text{B} \\\\ \\text{C} \\\\ \\text{D} \\\\ \\text{E} \\\\ \\text{F}\\end{bmatrix} &\n",
    "  \\begin{bmatrix}\\text{G} \\\\ \\text{H} \\\\ \\text{I} \\\\ \\text{J} \\\\ \\text{K} \\\\ \\text{L}\\end{bmatrix} &\n",
    "  \\begin{bmatrix}\\text{M} \\\\ \\text{N} \\\\ \\text{O} \\\\ \\text{P} \\\\ \\text{Q} \\\\ \\text{R}\\end{bmatrix} &\n",
    "  \\begin{bmatrix}\\text{S} \\\\ \\text{T} \\\\ \\text{U} \\\\ \\text{V} \\\\ \\text{W} \\\\ \\text{X}\\end{bmatrix}\n",
    "  \\end{bmatrix}\\end{align}\n",
    "\n",
    "Batching enables more parallelizable processing. However, batching means that the model treats each column independently; for example, the dependence of ``G`` and ``F`` can not be learned in the example above."
   ]
  },
  {
   "cell_type": "code",
   "execution_count": 3,
   "metadata": {},
   "outputs": [
    {
     "name": "stderr",
     "output_type": "stream",
     "text": [
      "C:\\Users\\tanch\\Desktop\\CheeLam\\Skymind\\NLP\\Certifai\\nlp-labs\\resources\\.data\\WikiText2\\wikitext-2-v1.zip: 100%|█| 4.48M\n"
     ]
    }
   ],
   "source": [
    "from torchtext.datasets import WikiText2\n",
    "from torchtext.data.utils import get_tokenizer\n",
    "from torchtext.vocab import build_vocab_from_iterator\n",
    "\n",
    "train_iter = WikiText2(root=\"../../../resources/.data\", split='train')\n",
    "tokenizer = get_tokenizer('basic_english')\n",
    "vocab = build_vocab_from_iterator(map(tokenizer, train_iter), specials=['<unk>'])\n",
    "vocab.set_default_index(vocab['<unk>']) \n",
    "\n",
    "def data_process(raw_text_iter: dataset.IterableDataset) -> Tensor:\n",
    "    \"\"\"Converts raw text into a flat Tensor.\"\"\"\n",
    "    data = [torch.tensor(vocab(tokenizer(item)), dtype=torch.long) for item in raw_text_iter]\n",
    "    return torch.cat(tuple(filter(lambda t: t.numel() > 0, data)))\n",
    "\n",
    "# train_iter was \"consumed\" by the process of building the vocab,\n",
    "# so we have to create it again\n",
    "train_iter, val_iter, test_iter = WikiText2(root=\"../../../resources/.data\")\n",
    "train_data = data_process(train_iter)\n",
    "val_data = data_process(val_iter)\n",
    "test_data = data_process(test_iter)\n",
    "\n",
    "device = torch.device('cuda' if torch.cuda.is_available() else 'cpu')\n",
    "\n",
    "def batchify(data: Tensor, bsz: int) -> Tensor:\n",
    "    \"\"\"Divides the data into bsz separate sequences, removing extra elements\n",
    "    that wouldn't cleanly fit.\n",
    "\n",
    "    Args:\n",
    "        data: Tensor, shape [N]\n",
    "        bsz: int, batch size\n",
    "\n",
    "    Returns:\n",
    "        Tensor of shape [N // bsz, bsz]\n",
    "    \"\"\"\n",
    "    seq_len = data.size(0) // bsz\n",
    "    data = data[:seq_len * bsz]\n",
    "    data = data.view(bsz, seq_len).t().contiguous()\n",
    "    return data.to(device)\n",
    "\n",
    "batch_size = 20\n",
    "eval_batch_size = 10\n",
    "train_data = batchify(train_data, batch_size)  # shape [seq_len, batch_size]\n",
    "val_data = batchify(val_data, eval_batch_size)\n",
    "test_data = batchify(test_data, eval_batch_size)"
   ]
  },
  {
   "cell_type": "markdown",
   "metadata": {},
   "source": [
    "## Generate Input and Target Sequence"
   ]
  },
  {
   "cell_type": "markdown",
   "metadata": {},
   "source": [
    "``get_batch()`` generates a pair of input-target sequences for the transformer model. It subdivides the source data into chunks of length ``bptt``. For the language modeling task, the model needs the following words as ``Target``. For example, with a ``bptt`` value of 2, we’d get following two Variables for ``i`` = 0:\n",
    "\n",
    "![](../../../images/transformer_input_target1.png)\n",
    "\n",
    "\n",
    "It should be noted that the chunks are along dimension 0, consistent with the ``S`` dimension in the Transformer model. The batch dimension ``N`` is along dimension 1."
   ]
  },
  {
   "cell_type": "code",
   "execution_count": 4,
   "metadata": {},
   "outputs": [],
   "source": [
    "bptt = 35\n",
    "def get_batch(source: Tensor, i: int) -> Tuple[Tensor, Tensor]:\n",
    "    \"\"\"\n",
    "    Args:\n",
    "        source: Tensor, shape [full_seq_len, batch_size]\n",
    "        i: int\n",
    "\n",
    "    Returns:\n",
    "        tuple (data, target), where data has shape [seq_len, batch_size] and\n",
    "        target has shape [seq_len * batch_size]\n",
    "    \"\"\"\n",
    "    seq_len = min(bptt, len(source) - 1 - i)\n",
    "    data = source[i:i+seq_len]\n",
    "    target = source[i+1:i+1+seq_len].reshape(-1)\n",
    "    return data, target"
   ]
  },
  {
   "cell_type": "markdown",
   "metadata": {},
   "source": [
    "## Initiate an Instance"
   ]
  },
  {
   "cell_type": "markdown",
   "metadata": {},
   "source": [
    "The model hyperparameters are defined below. The vocab size is equal to the length of the vocab object."
   ]
  },
  {
   "cell_type": "code",
   "execution_count": 5,
   "metadata": {},
   "outputs": [],
   "source": [
    "ntokens = len(vocab)  # size of vocabulary\n",
    "emsize = 200  # embedding dimension\n",
    "d_hid = 200  # dimension of the feedforward network model in nn.TransformerEncoder\n",
    "nlayers = 2  # number of nn.TransformerEncoderLayer in nn.TransformerEncoder\n",
    "nhead = 2  # number of heads in nn.MultiheadAttention\n",
    "dropout = 0.2  # dropout probability\n",
    "model = TransformerModel(ntokens, emsize, nhead, d_hid, nlayers, dropout).to(device)"
   ]
  },
  {
   "cell_type": "markdown",
   "metadata": {},
   "source": [
    "## Run the Model"
   ]
  },
  {
   "cell_type": "markdown",
   "metadata": {},
   "source": [
    "We use [CrossEntropyLoss](https://pytorch.org/docs/stable/generated/torch.nn.CrossEntropyLoss.html) with the [SGD](https://pytorch.org/docs/stable/generated/torch.optim.SGD.html) (stochastic gradient descent) optimizer. The learning rate is initially set to 5.0 and follows a [StepLR](https://pytorch.org/docs/stable/generated/torch.optim.lr_scheduler.StepLR.html) schedule. During training, we use [nn.utils.clip_grad_norm_](https://pytorch.org/docs/stable/generated/torch.nn.utils.clip_grad_norm_.html) to prevent gradients from exploding."
   ]
  },
  {
   "cell_type": "code",
   "execution_count": 6,
   "metadata": {},
   "outputs": [],
   "source": [
    "import copy\n",
    "import time\n",
    "\n",
    "criterion = nn.CrossEntropyLoss()\n",
    "lr = 5.0  # learning rate\n",
    "optimizer = torch.optim.SGD(model.parameters(), lr=lr)\n",
    "scheduler = torch.optim.lr_scheduler.StepLR(optimizer, 1.0, gamma=0.95)\n",
    "\n",
    "def train(model: nn.Module) -> None:\n",
    "    model.train()  # turn on train mode\n",
    "    total_loss = 0.\n",
    "    log_interval = 200\n",
    "    start_time = time.time()\n",
    "    src_mask = generate_square_subsequent_mask(bptt).to(device)\n",
    "\n",
    "    num_batches = len(train_data) // bptt\n",
    "    for batch, i in enumerate(range(0, train_data.size(0) - 1, bptt)):\n",
    "        data, targets = get_batch(train_data, i)\n",
    "        batch_size = data.size(0)\n",
    "        if batch_size != bptt:  # only on last batch\n",
    "            src_mask = src_mask[:batch_size, :batch_size]\n",
    "        output = model(data, src_mask)\n",
    "        loss = criterion(output.view(-1, ntokens), targets)\n",
    "\n",
    "        optimizer.zero_grad()\n",
    "        loss.backward()\n",
    "        torch.nn.utils.clip_grad_norm_(model.parameters(), 0.5)\n",
    "        optimizer.step()\n",
    "\n",
    "        total_loss += loss.item()\n",
    "        if batch % log_interval == 0 and batch > 0:\n",
    "            lr = scheduler.get_last_lr()[0]\n",
    "            ms_per_batch = (time.time() - start_time) * 1000 / log_interval\n",
    "            cur_loss = total_loss / log_interval\n",
    "            ppl = math.exp(cur_loss)\n",
    "            print(f'| epoch {epoch:3d} | {batch:5d}/{num_batches:5d} batches | '\n",
    "                  f'lr {lr:02.2f} | ms/batch {ms_per_batch:5.2f} | '\n",
    "                  f'loss {cur_loss:5.2f} | ppl {ppl:8.2f}')\n",
    "            total_loss = 0\n",
    "            start_time = time.time()\n",
    "\n",
    "def evaluate(model: nn.Module, eval_data: Tensor) -> float:\n",
    "    model.eval()  # turn on evaluation mode\n",
    "    total_loss = 0.\n",
    "    src_mask = generate_square_subsequent_mask(bptt).to(device)\n",
    "    with torch.no_grad():\n",
    "        for i in range(0, eval_data.size(0) - 1, bptt):\n",
    "            data, targets = get_batch(eval_data, i)\n",
    "            batch_size = data.size(0)\n",
    "            if batch_size != bptt:\n",
    "                src_mask = src_mask[:batch_size, :batch_size]\n",
    "            output = model(data, src_mask)\n",
    "            output_flat = output.view(-1, ntokens)\n",
    "            total_loss += batch_size * criterion(output_flat, targets).item()\n",
    "    return total_loss / (len(eval_data) - 1)"
   ]
  },
  {
   "cell_type": "markdown",
   "metadata": {},
   "source": [
    "Loop over epochs. Save the model if the validation loss is the best\n",
    "we've seen so far. Adjust the learning rate after each epoch.\n",
    "\n"
   ]
  },
  {
   "cell_type": "code",
   "execution_count": 7,
   "metadata": {},
   "outputs": [
    {
     "name": "stdout",
     "output_type": "stream",
     "text": [
      "| epoch   1 |   200/ 2928 batches | lr 5.00 | ms/batch 18.23 | loss  8.09 | ppl  3273.48\n",
      "| epoch   1 |   400/ 2928 batches | lr 5.00 | ms/batch 16.40 | loss  6.87 | ppl   963.58\n",
      "| epoch   1 |   600/ 2928 batches | lr 5.00 | ms/batch 16.56 | loss  6.43 | ppl   622.67\n",
      "| epoch   1 |   800/ 2928 batches | lr 5.00 | ms/batch 16.51 | loss  6.30 | ppl   543.93\n",
      "| epoch   1 |  1000/ 2928 batches | lr 5.00 | ms/batch 16.45 | loss  6.19 | ppl   485.98\n",
      "| epoch   1 |  1200/ 2928 batches | lr 5.00 | ms/batch 16.64 | loss  6.16 | ppl   471.36\n",
      "| epoch   1 |  1400/ 2928 batches | lr 5.00 | ms/batch 16.67 | loss  6.11 | ppl   449.83\n",
      "| epoch   1 |  1600/ 2928 batches | lr 5.00 | ms/batch 16.91 | loss  6.11 | ppl   448.16\n",
      "| epoch   1 |  1800/ 2928 batches | lr 5.00 | ms/batch 16.77 | loss  6.02 | ppl   412.51\n",
      "| epoch   1 |  2000/ 2928 batches | lr 5.00 | ms/batch 16.88 | loss  6.01 | ppl   406.05\n",
      "| epoch   1 |  2200/ 2928 batches | lr 5.00 | ms/batch 16.87 | loss  5.89 | ppl   362.57\n",
      "| epoch   1 |  2400/ 2928 batches | lr 5.00 | ms/batch 16.91 | loss  5.97 | ppl   390.99\n",
      "| epoch   1 |  2600/ 2928 batches | lr 5.00 | ms/batch 16.74 | loss  5.95 | ppl   383.00\n",
      "| epoch   1 |  2800/ 2928 batches | lr 5.00 | ms/batch 16.75 | loss  5.88 | ppl   357.24\n",
      "-----------------------------------------------------------------------------------------\n",
      "| end of epoch   1 | time: 51.33s | valid loss  5.76 | valid ppl   316.45\n",
      "-----------------------------------------------------------------------------------------\n",
      "| epoch   2 |   200/ 2928 batches | lr 4.75 | ms/batch 16.86 | loss  5.86 | ppl   349.11\n",
      "| epoch   2 |   400/ 2928 batches | lr 4.75 | ms/batch 16.87 | loss  5.84 | ppl   343.69\n",
      "| epoch   2 |   600/ 2928 batches | lr 4.75 | ms/batch 16.83 | loss  5.66 | ppl   288.45\n",
      "| epoch   2 |   800/ 2928 batches | lr 4.75 | ms/batch 16.90 | loss  5.71 | ppl   301.12\n",
      "| epoch   2 |  1000/ 2928 batches | lr 4.75 | ms/batch 17.30 | loss  5.65 | ppl   283.71\n",
      "| epoch   2 |  1200/ 2928 batches | lr 4.75 | ms/batch 16.95 | loss  5.68 | ppl   291.73\n",
      "| epoch   2 |  1400/ 2928 batches | lr 4.75 | ms/batch 16.97 | loss  5.69 | ppl   296.32\n",
      "| epoch   2 |  1600/ 2928 batches | lr 4.75 | ms/batch 17.31 | loss  5.71 | ppl   302.96\n",
      "| epoch   2 |  1800/ 2928 batches | lr 4.75 | ms/batch 17.00 | loss  5.65 | ppl   284.68\n",
      "| epoch   2 |  2000/ 2928 batches | lr 4.75 | ms/batch 17.10 | loss  5.68 | ppl   291.87\n",
      "| epoch   2 |  2200/ 2928 batches | lr 4.75 | ms/batch 17.07 | loss  5.55 | ppl   256.13\n",
      "| epoch   2 |  2400/ 2928 batches | lr 4.75 | ms/batch 17.13 | loss  5.64 | ppl   281.77\n",
      "| epoch   2 |  2600/ 2928 batches | lr 4.75 | ms/batch 17.17 | loss  5.65 | ppl   283.58\n",
      "| epoch   2 |  2800/ 2928 batches | lr 4.75 | ms/batch 17.07 | loss  5.58 | ppl   265.88\n",
      "-----------------------------------------------------------------------------------------\n",
      "| end of epoch   2 | time: 52.05s | valid loss  5.67 | valid ppl   290.15\n",
      "-----------------------------------------------------------------------------------------\n",
      "| epoch   3 |   200/ 2928 batches | lr 4.51 | ms/batch 17.21 | loss  5.60 | ppl   271.19\n",
      "| epoch   3 |   400/ 2928 batches | lr 4.51 | ms/batch 17.30 | loss  5.62 | ppl   275.02\n",
      "| epoch   3 |   600/ 2928 batches | lr 4.51 | ms/batch 17.21 | loss  5.42 | ppl   225.84\n",
      "| epoch   3 |   800/ 2928 batches | lr 4.51 | ms/batch 17.35 | loss  5.48 | ppl   240.20\n",
      "| epoch   3 |  1000/ 2928 batches | lr 4.51 | ms/batch 17.31 | loss  5.43 | ppl   229.05\n",
      "| epoch   3 |  1200/ 2928 batches | lr 4.51 | ms/batch 17.30 | loss  5.47 | ppl   238.18\n",
      "| epoch   3 |  1400/ 2928 batches | lr 4.51 | ms/batch 17.26 | loss  5.49 | ppl   241.46\n",
      "| epoch   3 |  1600/ 2928 batches | lr 4.51 | ms/batch 17.29 | loss  5.52 | ppl   249.93\n",
      "| epoch   3 |  1800/ 2928 batches | lr 4.51 | ms/batch 17.54 | loss  5.46 | ppl   234.99\n",
      "| epoch   3 |  2000/ 2928 batches | lr 4.51 | ms/batch 17.44 | loss  5.48 | ppl   239.75\n",
      "| epoch   3 |  2200/ 2928 batches | lr 4.51 | ms/batch 17.38 | loss  5.35 | ppl   210.77\n",
      "| epoch   3 |  2400/ 2928 batches | lr 4.51 | ms/batch 17.42 | loss  5.45 | ppl   233.57\n",
      "| epoch   3 |  2600/ 2928 batches | lr 4.51 | ms/batch 17.39 | loss  5.47 | ppl   237.50\n",
      "| epoch   3 |  2800/ 2928 batches | lr 4.51 | ms/batch 17.34 | loss  5.40 | ppl   222.27\n",
      "-----------------------------------------------------------------------------------------\n",
      "| end of epoch   3 | time: 53.30s | valid loss  5.63 | valid ppl   278.64\n",
      "-----------------------------------------------------------------------------------------\n"
     ]
    }
   ],
   "source": [
    "best_val_loss = float('inf')\n",
    "epochs = 3\n",
    "best_model = None\n",
    "\n",
    "for epoch in range(1, epochs + 1):\n",
    "    epoch_start_time = time.time()\n",
    "    train(model)\n",
    "    val_loss = evaluate(model, val_data)\n",
    "    val_ppl = math.exp(val_loss)\n",
    "    elapsed = time.time() - epoch_start_time\n",
    "    print('-' * 89)\n",
    "    print(f'| end of epoch {epoch:3d} | time: {elapsed:5.2f}s | '\n",
    "          f'valid loss {val_loss:5.2f} | valid ppl {val_ppl:8.2f}')\n",
    "    print('-' * 89)\n",
    "\n",
    "    if val_loss < best_val_loss:\n",
    "        best_val_loss = val_loss\n",
    "        best_model = copy.deepcopy(model)\n",
    "\n",
    "    scheduler.step()"
   ]
  },
  {
   "cell_type": "markdown",
   "metadata": {},
   "source": [
    "## Evaluate the Best Model on the Test Dataset"
   ]
  },
  {
   "cell_type": "code",
   "execution_count": 8,
   "metadata": {},
   "outputs": [
    {
     "name": "stdout",
     "output_type": "stream",
     "text": [
      "=========================================================================================\n",
      "| End of training | test loss  5.54 | test ppl   255.51\n",
      "=========================================================================================\n"
     ]
    }
   ],
   "source": [
    "test_loss = evaluate(best_model, test_data)\n",
    "test_ppl = math.exp(test_loss)\n",
    "print('=' * 89)\n",
    "print(f'| End of training | test loss {test_loss:5.2f} | '\n",
    "      f'test ppl {test_ppl:8.2f}')\n",
    "print('=' * 89)"
   ]
  },
  {
   "cell_type": "markdown",
   "metadata": {},
   "source": [
    "# Contributors\n",
    "\n",
    "**Author**\n",
    "<br>Chee Lam"
   ]
  },
  {
   "cell_type": "markdown",
   "metadata": {},
   "source": [
    "# References\n",
    "\n",
    "1. [PyTorch Transformer Tutorial](https://pytorch.org/tutorials/beginner/transformer_tutorial.html)"
   ]
  }
 ],
 "metadata": {
  "kernelspec": {
   "display_name": "Python 3 (ipykernel)",
   "language": "python",
   "name": "python3"
  },
  "language_info": {
   "codemirror_mode": {
    "name": "ipython",
    "version": 3
   },
   "file_extension": ".py",
   "mimetype": "text/x-python",
   "name": "python",
   "nbconvert_exporter": "python",
   "pygments_lexer": "ipython3",
   "version": "3.9.6"
  }
 },
 "nbformat": 4,
 "nbformat_minor": 1
}
