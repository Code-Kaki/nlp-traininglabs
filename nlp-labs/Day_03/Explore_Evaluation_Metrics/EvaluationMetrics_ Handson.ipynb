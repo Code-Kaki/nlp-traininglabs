{
 "cells": [
  {
   "cell_type": "markdown",
   "id": "81038191",
   "metadata": {},
   "source": [
    "![license_header_logo](../../../images/license_header_logo.png)\n",
    "\n",
    "> **Copyright (c) 2021 CertifAI Sdn. Bhd.**<br>\n",
    "<br>\n",
    "This program is part of OSRFramework. You can redistribute it and/or modify\n",
    "<br>it under the terms of the GNU Affero General Public License as published by\n",
    "<br>the Free Software Foundation, either version 3 of the License, or\n",
    "<br>(at your option) any later version.\n",
    "<br>\n",
    "<br>This program is distributed in the hope that it will be useful\n",
    "<br>but WITHOUT ANY WARRANTY; without even the implied warranty of\n",
    "<br>MERCHANTABILITY or FITNESS FOR A PARTICULAR PURPOSE.  See the\n",
    "<br>GNU Affero General Public License for more details.\n",
    "<br>\n",
    "<br>You should have received a copy of the GNU Affero General Public License\n",
    "<br>along with this program.  If not, see <http://www.gnu.org/licenses/>.\n",
    "<br>"
   ]
  },
  {
   "cell_type": "markdown",
   "id": "683b8ce4",
   "metadata": {},
   "source": [
    "# Introduction\n",
    "\n",
    "This handson is to get use to some of the evaluation metrics. You build a model, get feedback from metrics, make improvements and continue until you achieve a desirable accuracy. Evaluation metrics explain the performance of a model."
   ]
  },
  {
   "cell_type": "markdown",
   "id": "ebafbe9f",
   "metadata": {},
   "source": [
    "# What we will accomplish?\n",
    "\n",
    "1. Understand some of the evaluation metrics model\n",
    "2. Able to implement these evaluation metrics in your own model"
   ]
  },
  {
   "cell_type": "markdown",
   "id": "1803394e",
   "metadata": {},
   "source": [
    "# Instructions\n",
    "Read the code and execute them according to the instructions provided. Begin with the problem statement and follow the steps."
   ]
  },
  {
   "cell_type": "markdown",
   "id": "caadcab4",
   "metadata": {},
   "source": [
    "# Problem Statement:\n",
    "We have a classification model that predicts whether an image is a cat or a dog. Based on this dataset, we have trained the model and set it for a test run. After the test run, we have these following results:\n",
    "\n",
    "Correctly predicted dogs = 846\n",
    "Correctly predicted cats = 732\n",
    "\n",
    "Images of dogs = 1000\n",
    "Images of cats = 1000"
   ]
  },
  {
   "cell_type": "markdown",
   "id": "b33aead6",
   "metadata": {},
   "source": [
    "# Step 1: Accuracy\n",
    "You are required to calculate the accuracy of the model based on the information given in the problem statement.\n",
    "\n",
    "1) Accuracy of the model predicting a dog\n",
    "2) Accuracy of the model predicting a cat\n",
    "3) Overall accurary of the model\n",
    "\n",
    "Write a program that will print out the accurary metric listed above."
   ]
  },
  {
   "cell_type": "code",
   "execution_count": 6,
   "id": "0a95960f",
   "metadata": {},
   "outputs": [],
   "source": [
    "# write your program here\n",
    "\n",
    "dog_correct_count = 846\n",
    "cat_correct_count = 732\n",
    "\n",
    "dog_total_count = 1000\n",
    "cat_total_count = 1000\n",
    "\n",
    "# 1) Accuracy of the model predicting a dog\n",
    "\n",
    "\n",
    "\n",
    "# 2) Accuracy of the model predicting a cat\n",
    "\n",
    "\n",
    "\n",
    "# 3) Overall accurary of the model\n",
    "\n",
    "\n"
   ]
  },
  {
   "cell_type": "markdown",
   "id": "f42c8253",
   "metadata": {},
   "source": [
    "# Step 2: Precision\n",
    "Calculate the precision of this model.\n",
    "Write a program that will print out the precision of this model."
   ]
  },
  {
   "cell_type": "code",
   "execution_count": 7,
   "id": "5fbccdf0",
   "metadata": {},
   "outputs": [],
   "source": [
    "# write your program here\n",
    "\n",
    "dog_correct_count = 846\n",
    "cat_correct_count = 732\n",
    "\n",
    "dog_total_count = 1000\n",
    "cat_total_count = 1000\n",
    "\n",
    "# precision of model\n",
    "\n",
    "\n",
    "\n"
   ]
  },
  {
   "cell_type": "markdown",
   "id": "cbbe4be7",
   "metadata": {},
   "source": [
    "# Step 3: Recall\n",
    "Calculate the recall of this model.\n",
    "Write a program that will print out the recall of this model."
   ]
  },
  {
   "cell_type": "code",
   "execution_count": 8,
   "id": "a7619886",
   "metadata": {},
   "outputs": [],
   "source": [
    "# write your program here\n",
    "\n",
    "dog_correct_count = 846\n",
    "cat_correct_count = 732\n",
    "\n",
    "dog_total_count = 1000\n",
    "cat_total_count = 1000\n",
    "\n",
    "# recall of model\n",
    "\n",
    "\n"
   ]
  },
  {
   "cell_type": "markdown",
   "id": "643b6190",
   "metadata": {},
   "source": [
    "# Step 4: F1 Score\n",
    "Calculate the F1 Score and print it out.\n",
    "Use the precision and recall from previous steps."
   ]
  },
  {
   "cell_type": "code",
   "execution_count": 9,
   "id": "f212ce52",
   "metadata": {},
   "outputs": [],
   "source": [
    "# write your program here\n",
    "\n",
    "# precision =\n",
    "# recall =\n",
    "\n"
   ]
  },
  {
   "cell_type": "markdown",
   "id": "266eb8d0",
   "metadata": {},
   "source": [
    "# Other Evaluation Metrics\n",
    "## Area Under the ROC curve (AUC – ROC)\n",
    "Measuring the area under the ROC curve is also a very useful method for evaluating a model. By plotting the true positive rate (sensitivity) versus the false-positive rate (1 — specificity), we get the Receiver Operating Characteristic (ROC) curve. This curve allows us to visualize the trade-off between the true positive rate and the false positive rate.\n",
    "\n",
    "The following are examples of good ROC curves. The dashed line would be random guessing (no predictive value) and is used as a baseline; anything below that is considered worse than guessing. We want to be toward the top-left corner."
   ]
  },
  {
   "cell_type": "code",
   "execution_count": 10,
   "id": "90deee47",
   "metadata": {},
   "outputs": [
    {
     "name": "stdout",
     "output_type": "stream",
     "text": [
      "AUC - Test Set: 82.85%\n"
     ]
    },
    {
     "data": {
      "image/png": "[encoded data removed]",
      "text/plain": [
       "<Figure size 432x288 with 1 Axes>"
      ]
     },
     "metadata": {
      "needs_background": "light"
     },
     "output_type": "display_data"
    }
   ],
   "source": [
    "#Classification Area under curve\n",
    "import warnings\n",
    "import pandas\n",
    "from sklearn import model_selection\n",
    "from sklearn.linear_model import LogisticRegression\n",
    "from sklearn.metrics import roc_auc_score, roc_curve\n",
    "import matplotlib.pyplot as plt\n",
    "\n",
    "warnings.filterwarnings('ignore')\n",
    "\n",
    "url = \"https://raw.githubusercontent.com/jbrownlee/Datasets/master/pima-indians-diabetes.data.csv\"\n",
    "dataframe = pandas.read_csv(url)\n",
    "dat = dataframe.values\n",
    "X = dat[:,:-1]\n",
    "y = dat[:,-1]\n",
    "seed = 7\n",
    "#split data\n",
    "X_train, X_test, y_train, y_test = model_selection.train_test_split(X, y, test_size=0.33, random_state=seed)\n",
    "model = LogisticRegression()\n",
    "model.fit(X_train, y_train)\n",
    "\n",
    "# predict probabilities\n",
    "probs = model.predict_proba(X_test)\n",
    "# keep probabilities for the positive outcome only\n",
    "probs = probs[:, 1]\n",
    "\n",
    "auc = roc_auc_score(y_test, probs)\n",
    "print('AUC - Test Set: %.2f%%' % (auc*100))\n",
    "\n",
    "# calculate roc curve\n",
    "fpr, tpr, thresholds = roc_curve(y_test, probs)\n",
    "# plot no skill\n",
    "plt.plot([0, 1], [0, 1], linestyle='--')\n",
    "# plot the roc curve for the model\n",
    "plt.plot(fpr, tpr, marker='.')\n",
    "plt.xlabel('False positive rate')\n",
    "plt.ylabel('Sensitivity/ Recall')\n",
    "# show the plot\n",
    "plt.show()"
   ]
  },
  {
   "cell_type": "markdown",
   "id": "73f17f19",
   "metadata": {},
   "source": [
    "## Log Loss\n",
    "Log Loss measures the performance of a classification model where the prediction input is a probability value between 0 and 1. Log loss increases as the predicted probability diverge from the actual label. The goal of any machine learning model is to minimize this value. As such, smaller log loss is better, with a perfect model having a log loss of 0."
   ]
  },
  {
   "cell_type": "code",
   "execution_count": 11,
   "id": "82f3a45b",
   "metadata": {},
   "outputs": [
    {
     "name": "stdout",
     "output_type": "stream",
     "text": [
      "Logloss: 7.89\n"
     ]
    }
   ],
   "source": [
    "#Classification LogLoss\n",
    "import warnings\n",
    "import pandas\n",
    "from sklearn import model_selection\n",
    "from sklearn.linear_model import LogisticRegression\n",
    "from sklearn.metrics import log_loss\n",
    "\n",
    "warnings.filterwarnings('ignore')\n",
    "url = \"https://raw.githubusercontent.com/jbrownlee/Datasets/master/pima-indians-diabetes.data.csv\"\n",
    "dataframe = pandas.read_csv(url)\n",
    "dat = dataframe.values\n",
    "X = dat[:,:-1]\n",
    "y = dat[:,-1]\n",
    "seed = 7\n",
    "#split data\n",
    "X_train, X_test, y_train, y_test = model_selection.train_test_split(X, y, test_size=0.33, random_state=seed)\n",
    "model = LogisticRegression()\n",
    "model.fit(X_train, y_train)\n",
    "#predict and compute logloss\n",
    "pred = model.predict(X_test)\n",
    "accuracy = log_loss(y_test, pred)\n",
    "print(\"Logloss: %.2f\" % (accuracy))"
   ]
  },
  {
   "cell_type": "markdown",
   "id": "0099209a",
   "metadata": {},
   "source": [
    "## Kolomogorov Smirnov chart\n",
    "K-S or Kolmogorov-Smirnov chart measures the performance of classification models. More accurately, K-S is a measure of the degree of separation between positive and negative distributions.\n",
    "\n",
    "The K-S is 100 if the scores partition the population into two separate groups in which one group contains all the positives and the other all the negatives. On the other hand, If the model cannot differentiate between positives and negatives, then it is as if the model selects cases randomly from the population. The K-S would be 0.\n",
    "\n",
    "In most classification models the K-S will fall between 0 and 100, and that the higher the value the better the model is at separating the positive from negative cases.\n",
    "\n",
    "The K-S may also be used to test whether two underlying one-dimensional probability distributions differ. It is a very efficient way to determine if two samples are significantly different from each other."
   ]
  },
  {
   "cell_type": "code",
   "execution_count": 12,
   "id": "89519b4d",
   "metadata": {},
   "outputs": [
    {
     "name": "stdout",
     "output_type": "stream",
     "text": [
      "Enter outcomes: \n",
      "[0.6632947099640041, 0.48408882009609067, 0.16013005459368523, 0.5145874791931717, 0.42789809351642105, 0.7900004148453976, 0.830603462387187, 0.22832276986524014, 0.5925725251313937, 0.8256497488677509]\n",
      "KstestResult(statistic=0.563610686748064, pvalue=0.0015893703163507536)\n"
     ]
    }
   ],
   "source": [
    "from scipy.stats import kstest \n",
    "import random \n",
    "  \n",
    "# N = int(input(\"Enter number of random numbers: \")) \n",
    "N = 10\n",
    "  \n",
    "actual =[] \n",
    "print(\"Enter outcomes: \") \n",
    "  \n",
    "for i in range(N): \n",
    "    # x = float(input(\"Outcomes of class \"+str(i + 1)+\": \")) \n",
    "    actual.append(random.random()) \n",
    "  \n",
    "print(actual) \n",
    "x = kstest(actual, \"norm\")    \n",
    "print(x)"
   ]
  },
  {
   "cell_type": "markdown",
   "id": "2d6313a7",
   "metadata": {},
   "source": [
    "## Jaccard Similarity Score\n",
    "Jaccard Index or Jaccard similarity coefficient is a statistic used in understanding the similarities between sample sets. The measurement emphasizes the similarity between finite sample sets and is formally defined as the size of the intersection divided by the size of the union of the two labeled sets."
   ]
  },
  {
   "cell_type": "code",
   "execution_count": 13,
   "id": "b84d8dfe",
   "metadata": {},
   "outputs": [
    {
     "name": "stdout",
     "output_type": "stream",
     "text": [
      "Jaccard Similarity Score : 0.375\n"
     ]
    }
   ],
   "source": [
    "import numpy as np\n",
    "\n",
    "def compute_jaccard_similarity_score(x, y):\n",
    "    intersection_cardinality = len(set(x).intersection(set(y)))\n",
    "    union_cardinality = len(set(x).union(set(y)))\n",
    "    return intersection_cardinality / float(union_cardinality)\n",
    "\n",
    "score = compute_jaccard_similarity_score(np.array([0, 1, 2, 5, 6]), np.array([0, 2, 3, 5, 7, 9]))\n",
    "print(\"Jaccard Similarity Score : %s\" %score)"
   ]
  },
  {
   "cell_type": "markdown",
   "id": "d69b076d",
   "metadata": {},
   "source": [
    "# Summary\n",
    "Now you know how to evaluate your model in terms of:\n",
    "1) Accuracy: How accurate is your model predicting at an image.\n",
    "2) Precision: How good is your model labelling something correct (The degree of exactness)\n",
    "3) Recall: How well your model can recall the positive class.\n",
    "4) F1 Score: Getting precision and recall at a single metric.\n",
    "5) Discover other evaluation metrics - ROC, Log Loss, Kolomogorov Smirnov chart, Jaccard Similarity Score"
   ]
  },
  {
   "cell_type": "markdown",
   "id": "e9e65822",
   "metadata": {},
   "source": [
    "# Contributors\n",
    "Author\n",
    "Pahvindran Raj"
   ]
  }
 ],
 "metadata": {
  "kernelspec": {
   "display_name": "Python 3 (ipykernel)",
   "language": "python",
   "name": "python3"
  },
  "language_info": {
   "codemirror_mode": {
    "name": "ipython",
    "version": 3
   },
   "file_extension": ".py",
   "mimetype": "text/x-python",
   "name": "python",
   "nbconvert_exporter": "python",
   "pygments_lexer": "ipython3",
   "version": "3.9.6"
  }
 },
 "nbformat": 4,
 "nbformat_minor": 5
}
