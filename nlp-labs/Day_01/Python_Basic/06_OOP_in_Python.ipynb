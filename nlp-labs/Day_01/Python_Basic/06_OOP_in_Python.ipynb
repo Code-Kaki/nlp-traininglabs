{
 "cells": [
  {
   "cell_type": "markdown",
   "metadata": {},
   "source": [
    "> **Copyright (c) 2020 Skymind Holdings Berhad**<br><br>\n",
    "> **Copyright (c) 2021 Skymind Education Group Sdn. Bhd.**<br>\n",
    "<br>\n",
    "Licensed under the Apache License, Version 2.0 (the \\\"License\\\");\n",
    "<br>you may not use this file except in compliance with the License.\n",
    "<br>You may obtain a copy of the License at http://www.apache.org/licenses/LICENSE-2.0/\n",
    "<br>\n",
    "<br>Unless required by applicable law or agreed to in writing, software\n",
    "<br>distributed under the License is distributed on an \\\"AS IS\\\" BASIS,\n",
    "<br>WITHOUT WARRANTIES OR CONDITIONS OF ANY KIND, either express or implied.\n",
    "<br>See the License for the specific language governing permissions and\n",
    "<br>limitations under the License.\n",
    "<br>\n",
    "<br>\n",
    "**SPDX-License-Identifier: Apache-2.0**\n",
    "<br>"
   ]
  },
  {
   "cell_type": "markdown",
   "metadata": {},
   "source": [
    "# Introduction\n",
    "\n",
    "In this notebook, you will be introduced the concept of Object Oriented Programming and the implementation of OOP in Python"
   ]
  },
  {
   "cell_type": "markdown",
   "metadata": {},
   "source": [
    "# Notebook Content\n",
    "\n",
    "* [Object Oriented Programming Python](#Object-Oriented-Programming-Python)\n",
    "\n",
    "    * [What is Object Oriented Programming (OOP)?](#What-is-Object-Oriented-Programming-(OOP)?)\n",
    "    * [What are the advantages of OOP?](#What-are-the-advantages-of-OOP?)\n",
    "    * [4 Main Concepts of OOP](#4-Main-Concepts-of-OOP)\n",
    "    \n",
    "\n",
    "* [Implementation of OOP](#Implementation-of-OOP)\n",
    "    * [Classes](#Classes)\n",
    "    * [Objects](#Objects)\n",
    "    * [Private Instance Variables & Methods](#Private-Instance-Variables-&-Methods)\n",
    "    * [Inheritance](#Inheritance)\n",
    "    * [Polymorphism](#Polymorphism)\n",
    "    * [Advice](#Advice:)\n",
    "\n",
    "\n",
    "* [Advanced OOP Python](#Advanced-OOP-Python)"
   ]
  },
  {
   "cell_type": "markdown",
   "metadata": {
    "id": "K4M4QUPHqqEW"
   },
   "source": [
    "# Object Oriented Programming Python"
   ]
  },
  {
   "cell_type": "markdown",
   "metadata": {},
   "source": [
    "### What is Object Oriented Programming (OOP)?\n",
    "\n",
    "OOP is a method of structuring program based on the concept of \"**objects**\". An object consists of properties and behaviors which are unique and specific."
   ]
  },
  {
   "cell_type": "markdown",
   "metadata": {
    "id": "Q9ol_R7VqqEa"
   },
   "source": [
    "### What are the advantages of OOP?\n",
    "\n",
    "</br>\n",
    "\n",
    "1. Code usability\n",
    "2. Data redundancy\n",
    "3. Code maintenance\n",
    "4. Better code security\n",
    "5. Easy to implement\n",
    "6. Better productivity\n",
    "7. Easy troubleshooting\n",
    "8. Polymophism flexibility\n",
    "9. Problem solvings\n",
    "\n",
    "</br>\n",
    "\n",
    "Further reading: https://www.educba.com/advantages-of-oop/"
   ]
  },
  {
   "cell_type": "markdown",
   "metadata": {
    "id": "cbyKZoYWqqEb"
   },
   "source": [
    "### 4 Main Concepts of OOP\n",
    "</br>\n",
    "\n",
    "<h4>  \n",
    "    \n",
    "| No. | Concepts      | Definitions                                                             \n",
    "|:---:|:-------------:|:------------------------------------------------------------------------|\n",
    "|1.   | Encapsulation | Restricting the direct access to some components of an object.          |\n",
    "|2.   | Abstraction   | Reducing complexity of program by hiding unnecessary data of an object. |\n",
    "|3.   | Inheritance   | Declaring hierarchy of classes that share common attributes and methods.|\n",
    "|4.   | Polymorphism  | Defining object with multiple forms.                                    |\n",
    "\n",
    "</h4>\n",
    "</br>\n",
    "\n",
    "Further readings:\n",
    "- https://www.sumologic.com/glossary/encapsulation/\n",
    "- https://stackify.com/oop-concept-inheritance/\n",
    "- https://www.upgrad.com/blog/polymorphism-in-oops/"
   ]
  },
  {
   "cell_type": "markdown",
   "metadata": {
    "id": "9yINyQ8TqqEc"
   },
   "source": [
    "# Implementation of OOP"
   ]
  },
  {
   "cell_type": "markdown",
   "metadata": {
    "id": "TtgCLVLIqqEd"
   },
   "source": [
    "### Classes\n",
    "</br>\n",
    "\n",
    "A class is a blueprint of creating an object with consists of properties (**instance variables**) and behaviours (**methods**)"
   ]
  },
  {
   "cell_type": "code",
   "execution_count": 1,
   "metadata": {
    "id": "a8ffYWgyqqEe"
   },
   "outputs": [],
   "source": [
    "class Transportation:\n",
    "    # Class attribute\n",
    "    function = \"To carry people from place to place.\"\n",
    "    \n",
    "    # Constructor\n",
    "    def __init__(self, colour, tyres, doors):\n",
    "        # Instance variables\n",
    "        self.colour = colour\n",
    "        self.tyres = tyres\n",
    "        self.doors = doors\n",
    "    \n",
    "    # Instance methods\n",
    "    def startEngine(self):\n",
    "        print(\"Engine start...\")"
   ]
  },
  {
   "cell_type": "markdown",
   "metadata": {
    "id": "8waJMmV1qqEg"
   },
   "source": [
    "### Objects\n",
    "</br>\n",
    "\n",
    "An object is an instance of a class that has unique properties and behaviours"
   ]
  },
  {
   "cell_type": "code",
   "execution_count": 2,
   "metadata": {
    "id": "cUQBMxtDqqEj",
    "outputId": "13540ba0-b2c1-45b5-b2d9-eb81e5f9a70f"
   },
   "outputs": [
    {
     "name": "stdout",
     "output_type": "stream",
     "text": [
      "This transport has 4 tyres.\n",
      "Engine start...\n"
     ]
    }
   ],
   "source": [
    "# Creating transportation object\n",
    "transport = Transportation(\"red\", 4, 4)\n",
    "\n",
    "# Accessing instance variable\n",
    "print(f\"This transport has {transport.tyres} tyres.\")\n",
    "\n",
    "# Accessing instance method\n",
    "transport.startEngine()"
   ]
  },
  {
   "cell_type": "markdown",
   "metadata": {
    "id": "E5wF-Z4-qqEl"
   },
   "source": [
    "### Private Instance Variables & Methods\n",
    "</br>\n",
    "\n",
    "In actual terms (practically), python doesn’t have anything called private member variable in Python.\n",
    "\n",
    "However, to make a variable and method becomes **private**, you just have to put **__** (double underscore) in front of variable and method.\n",
    "\n",
    "**Note**: Private variables and methods cannot be accessed except inside an object."
   ]
  },
  {
   "cell_type": "code",
   "execution_count": 3,
   "metadata": {
    "id": "4O5rZOb0qqEm"
   },
   "outputs": [],
   "source": [
    "class Ferry:\n",
    "    def __init__(self, location):\n",
    "        self.location = location\n",
    "        # Private instance variable\n",
    "        self.__captain = \"John\"\n",
    "    \n",
    "    # Private method\n",
    "    def __repair(self):\n",
    "        print(\"Repairing ship...\")\n",
    "        \n",
    "    # Public method\n",
    "    def startRepair(self):\n",
    "        self.__repair()"
   ]
  },
  {
   "cell_type": "code",
   "execution_count": 4,
   "metadata": {
    "id": "Tmn7UFKUqqEn",
    "outputId": "0ef17ed3-cdc2-4714-a1be-d91adaafe12f"
   },
   "outputs": [
    {
     "name": "stdout",
     "output_type": "stream",
     "text": [
      "'Ferry' object has no attribute '__captain'\n",
      "'Ferry' object has no attribute '__repair'\n",
      "Repairing ship...\n"
     ]
    }
   ],
   "source": [
    "# Initialize object\n",
    "ferry = Ferry(\"Penang\")\n",
    "\n",
    "# Access private variable -> Return AttributeError\n",
    "try:\n",
    "    print(ferry.__captain)\n",
    "except AttributeError as e:\n",
    "    print(e)\n",
    "    \n",
    "# Access private method -> Return AttributeError\n",
    "try:\n",
    "    ferry.__repair()\n",
    "except AttributeError as e:\n",
    "    print(e)\n",
    "\n",
    "ferry.startRepair()"
   ]
  },
  {
   "cell_type": "markdown",
   "metadata": {
    "id": "C3QzaZ5tqqEn"
   },
   "source": [
    "### Inheritance\n",
    "</br>\n",
    "\n",
    "Reusability of code that inherits all the methods and properties from another class.\n",
    "\n",
    "**Parent**: Class being inherited from, also called base class. <br> </br>\n",
    "**Child** : Class that inherits from another class, also called derived class."
   ]
  },
  {
   "cell_type": "code",
   "execution_count": 5,
   "metadata": {
    "id": "NEWa5QrNqqEo"
   },
   "outputs": [],
   "source": [
    "# Derived from Transportation class\n",
    "class Car(Transportation):\n",
    "    def __init__(self, colour, tyres, doors, size):\n",
    "        # initialize superclass\n",
    "        super().__init__(colour, tyres, doors)\n",
    "        self.size = size\n",
    "    \n",
    "    def getDimension(self):\n",
    "        print(\"{} m (width) x {} m (height)\".format(*self.size))\n",
    "        \n",
    "    def description(self):\n",
    "        print(\"This car is in {} colour, has {} tyres and {} doors with size of {}m x {}m\".format(self.colour, self.tyres, self.doors, *self.size))"
   ]
  },
  {
   "cell_type": "code",
   "execution_count": 6,
   "metadata": {
    "id": "HiN3nKitqqEo",
    "outputId": "94adaa0a-6e58-4b65-deef-a7cc0dda6dd1"
   },
   "outputs": [
    {
     "name": "stdout",
     "output_type": "stream",
     "text": [
      "Engine start...\n",
      "5 m (width) x 15 m (height)\n",
      "This car is in blue colour, has 4 tyres and 4 doors with size of 5m x 15m\n"
     ]
    }
   ],
   "source": [
    "# Initialize car object\n",
    "car = Car(\"blue\", 4, 4, size=(5, 15))\n",
    "\n",
    "# Calling parent class method\n",
    "car.startEngine()\n",
    "\n",
    "# Calling instance method\n",
    "car.getDimension()\n",
    "\n",
    "car.description()"
   ]
  },
  {
   "cell_type": "markdown",
   "metadata": {
    "id": "GNfZxH2fqqEp"
   },
   "source": [
    "### Polymorphism\n",
    "</br>\n",
    "\n",
    "**Method Overriding**: Reimplementing a method inherited from the parent class in the child class."
   ]
  },
  {
   "cell_type": "code",
   "execution_count": 7,
   "metadata": {
    "id": "rXmmBRf5qqEp"
   },
   "outputs": [],
   "source": [
    "class Bike(Transportation):\n",
    "    def __init__(self, colour, tyres, doors, price):\n",
    "        super().__init__(colour, tyres, doors)\n",
    "        self.price = price\n",
    "    \n",
    "    # Override the inherited method\n",
    "    def startEngine(self):\n",
    "        print(\"Bike has no engine...\")"
   ]
  },
  {
   "cell_type": "code",
   "execution_count": 8,
   "metadata": {
    "id": "9ee9G6TrqqEp",
    "outputId": "79ff964a-99de-44cc-9fc9-11c041890c30"
   },
   "outputs": [
    {
     "name": "stdout",
     "output_type": "stream",
     "text": [
      "Bike has no engine...\n"
     ]
    }
   ],
   "source": [
    "# Initialize bike object\n",
    "bike = Bike(\"black\", 2, 0, price=587.00)\n",
    "\n",
    "# Calling overrided method\n",
    "bike.startEngine()"
   ]
  },
  {
   "cell_type": "markdown",
   "metadata": {
    "id": "o9aM725oqqEp"
   },
   "source": [
    "### Advice:\n",
    "</br>\n",
    "\n",
    "**Two leading underscores method** avoids method to be overridden by a subclass."
   ]
  },
  {
   "cell_type": "code",
   "execution_count": 9,
   "metadata": {
    "id": "rqb4rCVBqqEu"
   },
   "outputs": [],
   "source": [
    "class Parent:\n",
    "    def __whoAmI(self):\n",
    "        print(\"I am parent\")\n",
    "    \n",
    "    def describe(self):\n",
    "        self.__whoAmI()\n",
    "        \n",
    "# Inherit parent class\n",
    "class Child(Parent):\n",
    "    def __init__(self):\n",
    "        super().__init__()\n",
    "    \n",
    "    # Try to override the private method of parent class\n",
    "    def __whoAmI(self):\n",
    "        print(\"I am children\")"
   ]
  },
  {
   "cell_type": "code",
   "execution_count": 10,
   "metadata": {
    "id": "Ns2-U_3bqqEu",
    "outputId": "cf29f505-c3cb-4b14-be8d-403bb3cc86f6"
   },
   "outputs": [
    {
     "name": "stdout",
     "output_type": "stream",
     "text": [
      "I am parent\n",
      "I am parent\n"
     ]
    }
   ],
   "source": [
    "parent = Parent()\n",
    "parent.describe()\n",
    "\n",
    "child = Child()\n",
    "# __whoAmI method in subclass is not overrided\n",
    "child.describe()"
   ]
  },
  {
   "cell_type": "markdown",
   "metadata": {
    "id": "YpGeSSDZqqEv"
   },
   "source": [
    "# Advanced OOP Python"
   ]
  },
  {
   "cell_type": "markdown",
   "metadata": {
    "id": "0hPEEyXnqqEv"
   },
   "source": [
    "<h3> Dunder / Magic Method </h3>\n",
    "</br>\n",
    "\n",
    "Dunder method can override functionality for built-in functions for custom classes which in the form of  `__<methodname>__`\n",
    "</br>\n",
    "\n",
    "List of all dunder methods in python:\n",
    "\n",
    "**Basic Customizations**\n",
    "\n",
    "`__new__(self)` return a new object (an instance of that class). It is called before `__init__` method.\n",
    "\n",
    "`__init__(self)` is called when the object is initialized. It is the constructor of a class.\n",
    "\n",
    "`__del__(self)` for del() function. Called when the object is to be destroyed. Can be used to commit unsaved data or close connections.\n",
    "\n",
    "`__repr__(self)` for repr() function. It returns a string to print the object. Intended for developers to debug. Must be implemented in any class.\n",
    "\n",
    "`__str__(self)` for str() function. Return a string to print the object. Intended for users to see a pretty and useful output. If not implemented, `__repr__` will be used as a fallback.\n",
    "\n",
    "`__bytes__(self)` for bytes() function. Return a byte object which is the byte string representation of the object.\n",
    "\n",
    "`__format__(self)` for format() function. Evaluate formatted string literals like % for percentage format and ‘b’ for binary.\n",
    "\n",
    "`__lt__(self, anotherObj)` for < operator.\n",
    "\n",
    "`__le__(self, anotherObj)` for <= operator.\n",
    "\n",
    "`__eq__(self, anotherObj)` for == operator.\n",
    "\n",
    "`__ne__(self, anotherObj)` for != operator.\n",
    "\n",
    "`__gt__(self, anotherObj)` for > operator.\n",
    "\n",
    "`__ge__(self, anotherObj)` for >= operator.\n",
    "\n",
    "**Arithmetic Operators**\n",
    "\n",
    "`__add__(self, anotherObj)` for + operator.\n",
    "\n",
    "`__sub__(self, anotherObj)` for – operation on object.\n",
    "\n",
    "`__mul__(self, anotherObj)` for * operation on object.\n",
    "\n",
    "`__matmul__(self, anotherObj)` for @ operator (numpy matrix multiplication).\n",
    "\n",
    "`__truediv__(self, anotherObj)` for simple / division operation on object.\n",
    "\n",
    "`__floordiv__(self, anotherObj)` for // floor division operation on object.\n",
    "\n",
    "**Type Conversion**\n",
    "\n",
    "`__abs__(self)` make support for abs() function. Return absolute value.\n",
    "\n",
    "`__int__(self)` support for int() function. Returns the integer value of the object.\n",
    "\n",
    "`__float__(self)` for float() function support. Returns float equivalent of the object.\n",
    "\n",
    "`__complex__(self)` for complex() function support. Return complex value representation of the object.\n",
    "\n",
    "`__round__(self, nDigits)` for round() function. Round off float type to 2 digits and return it.\n",
    "\n",
    "`__trunc__(self)` for trunc() function of math module. Returns the real value of the object.\n",
    "\n",
    "`__ceil__(self)` for ceil() function of math module. The ceil function Return ceiling value of the object.\n",
    "\n",
    "`__floor__(self)` for floor() function of math module. Return floor value of the object.\n",
    "\n",
    "**Emulating Container Types**\n",
    "\n",
    "`__len__(self)` for len() function. Returns the total number in any container.\n",
    "\n",
    "`__getitem__(self, key)` to support indexing. Like `container[index]` calls `container.__getitem(key)` explicitly.\n",
    "\n",
    "`__setitem__(self, key, value)` makes item mutable (items can be changed by index), like `container[index] = otherElement`.\n",
    "\n",
    "`__delitem__(self, key)` for del() function. Delete the value at the index key.\n",
    "\n",
    "`__iter__(self)` returns an iterator when required that iterates all values in the container.\n",
    "\n",
    "<br></br>\n",
    "\n",
    "Further reading:\n",
    "https://holycoders.com/python-dunder-special-methods/"
   ]
  },
  {
   "cell_type": "code",
   "execution_count": 11,
   "metadata": {
    "id": "BmEOPYPyqqEx"
   },
   "outputs": [],
   "source": [
    "class Coordinate:\n",
    "    def __init__(self, x, y):\n",
    "        self.x = x\n",
    "        self.y = y\n",
    "    \n",
    "    def __str__(self):\n",
    "        return \"(x: {}, y: {})\".format(self.x, self.y)\n",
    "    \n",
    "    def __add__(self, coord):\n",
    "        assert isinstance(coord, Coordinate)\n",
    "        return Coordinate(self.x + coord.x, self.y + coord.y)\n",
    "    \n",
    "    def __sub__(self, coord):\n",
    "        assert isinstance(coord, Coordinate)\n",
    "        return Coordinate(self.x - coord.x, self.y - coord.y)\n",
    "    \n",
    "    def __len__(self):\n",
    "        return 2\n",
    "    \n",
    "    def distance(self, coord):\n",
    "        assert isinstance(coord, Coordinate)\n",
    "        return (self.y - coord.y) / (self.x - coord.x)"
   ]
  },
  {
   "cell_type": "code",
   "execution_count": 12,
   "metadata": {
    "id": "yXvl93XPqqEx",
    "outputId": "8de21cc8-2680-45d1-a729-0c829108f426"
   },
   "outputs": [
    {
     "name": "stdout",
     "output_type": "stream",
     "text": [
      "Coordinate 1: (x: 5, y: 10)\n",
      "Coordinate 2: (x: 9, y: 17)\n",
      "Sum of two coordinates = (x: 14, y: 27)\n",
      "Difference of two coordinates = (x: -4, y: -7)\n",
      "Distance between two coordinates = 1.75\n"
     ]
    }
   ],
   "source": [
    "# Initialize 2 coordinates\n",
    "coord1 = Coordinate(5, 10)\n",
    "coord2 = Coordinate(9, 17)\n",
    "\n",
    "print(\"Coordinate 1:\", coord1)\n",
    "print(\"Coordinate 2:\", coord2)\n",
    "\n",
    "# Add two coordinates\n",
    "ans = coord1 + coord2\n",
    "print(\"Sum of two coordinates =\", ans)\n",
    "\n",
    "# Substract two coordinates\n",
    "ans = coord1 - coord2\n",
    "print(\"Difference of two coordinates =\", ans)\n",
    "\n",
    "# Distance between two coordinates\n",
    "ans = coord1.distance(coord2)\n",
    "print(\"Distance between two coordinates =\", ans)"
   ]
  },
  {
   "cell_type": "markdown",
   "metadata": {},
   "source": [
    "# Contributors\n",
    "\n",
    "**Author**\n",
    "<br>Chee Lam"
   ]
  },
  {
   "cell_type": "markdown",
   "metadata": {},
   "source": [
    "# References\n",
    "\n",
    "1. [Python Documentation](https://docs.python.org/3/)\n",
    "2. [Object Oriented Programming Python 3](https://realpython.com/python3-object-oriented-programming/)\n",
    "3. [Python OOP](https://www.programiz.com/python-programming/object-oriented-programming)"
   ]
  }
 ],
 "metadata": {
  "colab": {
   "name": "06_OOP in Python.ipynb",
   "provenance": []
  },
  "kernelspec": {
   "display_name": "Python 3",
   "language": "python",
   "name": "python3"
  },
  "language_info": {
   "codemirror_mode": {
    "name": "ipython",
    "version": 3
   },
   "file_extension": ".py",
   "mimetype": "text/x-python",
   "name": "python",
   "nbconvert_exporter": "python",
   "pygments_lexer": "ipython3",
   "version": "3.8.8"
  }
 },
 "nbformat": 4,
 "nbformat_minor": 1
}
