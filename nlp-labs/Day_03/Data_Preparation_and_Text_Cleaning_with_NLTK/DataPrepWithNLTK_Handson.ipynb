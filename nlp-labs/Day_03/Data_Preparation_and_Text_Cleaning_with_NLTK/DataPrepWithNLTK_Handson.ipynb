{
 "cells": [
  {
   "cell_type": "markdown",
   "id": "3b2252e5",
   "metadata": {},
   "source": [
    "> **Copyright (c) 2020 Skymind Holdings Berhad**<br><br>\n",
    "> **Copyright (c) 2021 Skymind Education Group Sdn. Bhd.**<br>\n",
    "<br>\n",
    "Licensed under the Apache License, Version 2.0 (the \\\"License\\\");\n",
    "<br>you may not use this file except in compliance with the License.\n",
    "<br>You may obtain a copy of the License at http://www.apache.org/licenses/LICENSE-2.0/\n",
    "<br>\n",
    "<br>Unless required by applicable law or agreed to in writing, software\n",
    "<br>distributed under the License is distributed on an \\\"AS IS\\\" BASIS,\n",
    "<br>WITHOUT WARRANTIES OR CONDITIONS OF ANY KIND, either express or implied.\n",
    "<br>See the License for the specific language governing permissions and\n",
    "<br>limitations under the License.\n",
    "<br>\n",
    "<br>\n",
    "**SPDX-License-Identifier: Apache-2.0**\n",
    "<br>"
   ]
  },
  {
   "cell_type": "markdown",
   "id": "da766096",
   "metadata": {},
   "source": [
    "INSTRUCTION: Follow the steps in the commented line for each section and run the code."
   ]
  },
  {
   "cell_type": "code",
   "execution_count": 3,
   "id": "b7837394",
   "metadata": {},
   "outputs": [
    {
     "data": {
      "text/plain": [
       "'\\nHandson for Day_03 Data Preparation and Text Cleaning\\n\\nPart 1: NLTK\\nif you have not downloaded NLTK make sure to type in terminal - pip install nltk\\n'"
      ]
     },
     "execution_count": 3,
     "metadata": {},
     "output_type": "execute_result"
    }
   ],
   "source": [
    "\"\"\"\n",
    "Handson for Day_03 Data Preparation and Text Cleaning\n",
    "\n",
    "Part 1: NLTK\n",
    "if you have not downloaded NLTK make sure to type in terminal - pip install nltk\n",
    "\"\"\""
   ]
  },
  {
   "cell_type": "code",
   "execution_count": 4,
   "id": "97bcac48",
   "metadata": {},
   "outputs": [
    {
     "data": {
      "text/plain": [
       "'\\n1: LOWERCASE TEXT (uncomment block of code below)\\ncomplete the missing code (indicated by <missing code>) to lower a text\\n'"
      ]
     },
     "execution_count": 4,
     "metadata": {},
     "output_type": "execute_result"
    }
   ],
   "source": [
    "\"\"\"\n",
    "1: LOWERCASE TEXT (uncomment block of code below)\n",
    "complete the missing code (indicated by <missing code>) to lower a text\n",
    "\"\"\"\n",
    "# text = \"This is a SAMPLE TEXT\"\n",
    "# lowered_text = text.<missing code>\n",
    "# print(lowered_text)"
   ]
  },
  {
   "cell_type": "code",
   "execution_count": 5,
   "id": "70735091",
   "metadata": {},
   "outputs": [
    {
     "data": {
      "text/plain": [
       "'\\n2: TOKENIZE TEXT (uncomment block of code below)\\ncomplete the missing code (indicated by <missing code>) to tokenize the text\\n'"
      ]
     },
     "execution_count": 5,
     "metadata": {},
     "output_type": "execute_result"
    }
   ],
   "source": [
    "\"\"\"\n",
    "2: TOKENIZE TEXT (uncomment block of code below)\n",
    "complete the missing code (indicated by <missing code>) to tokenize the text\n",
    "\"\"\"\n",
    "# import nltk\n",
    "\n",
    "# text = \"This is a sentence.\"\n",
    "# tokenized_text = nltk.<missing code>\n",
    "\n",
    "# print(tokenized_text)"
   ]
  },
  {
   "cell_type": "code",
   "execution_count": 6,
   "id": "efdb7bd2",
   "metadata": {},
   "outputs": [
    {
     "data": {
      "text/plain": [
       "'\\n3: STEM TEXT (uncomment block of code below)\\ncomplete the missing code (indicated by <missing code>) to stem the text\\n'"
      ]
     },
     "execution_count": 6,
     "metadata": {},
     "output_type": "execute_result"
    }
   ],
   "source": [
    "\"\"\"\n",
    "3: STEM TEXT (uncomment block of code below)\n",
    "complete the missing code (indicated by <missing code>) to stem the text\n",
    "\"\"\"\n",
    "# from nltk.stem.porter import PorterStemmer\n",
    "# stemmer = PorterStemmer()\n",
    "\n",
    "# text = \"runs\"\n",
    "# stemmed_text = stemmer.<missing code>\n",
    "\n",
    "# print(stemmed_text)"
   ]
  },
  {
   "cell_type": "code",
   "execution_count": 7,
   "id": "a22b58f8",
   "metadata": {},
   "outputs": [
    {
     "data": {
      "text/plain": [
       "\"\\n4: LEMMATIZE TEXT (uncomment block of code below)\\ncomplete the missing code (indicated by <missing code>) to lemmatize the text\\n\\nif you have not downloaded wordnet, just uncomment nltk.download('wordnet'), you only need to download once\\n\""
      ]
     },
     "execution_count": 7,
     "metadata": {},
     "output_type": "execute_result"
    }
   ],
   "source": [
    "\"\"\"\n",
    "4: LEMMATIZE TEXT (uncomment block of code below)\n",
    "complete the missing code (indicated by <missing code>) to lemmatize the text\n",
    "\n",
    "if you have not downloaded wordnet, just uncomment nltk.download('wordnet'), you only need to download once\n",
    "\"\"\"\n",
    "# import nltk\n",
    "# # nltk.download('wordnet')\n",
    "# nltk.download('wordnet')\n",
    "\n",
    "# from nltk.stem import WordNetLemmatizer\n",
    "\n",
    "# lemmatizer = WordNetLemmatizer()\n",
    "\n",
    "# text = \"feet\"\n",
    "# lemmatized_text = lemmatizer.<missing code>\n",
    "# print(lemmatized_text)"
   ]
  },
  {
   "cell_type": "code",
   "execution_count": 8,
   "id": "af63b588",
   "metadata": {},
   "outputs": [
    {
     "data": {
      "text/plain": [
       "\"\\n5: REMOVE STOP WORDS (uncomment block of code below)\\ncomplete the missing code (indicated by <missing code>) to remove stop words from the text\\n\\nif you have not downloaded stopwords, just uncomment nltk.download('stopwords'), you only need to download once\\n\""
      ]
     },
     "execution_count": 8,
     "metadata": {},
     "output_type": "execute_result"
    }
   ],
   "source": [
    "\"\"\"\n",
    "5: REMOVE STOP WORDS (uncomment block of code below)\n",
    "complete the missing code (indicated by <missing code>) to remove stop words from the text\n",
    "\n",
    "if you have not downloaded stopwords, just uncomment nltk.download('stopwords'), you only need to download once\n",
    "\"\"\"\n",
    "# import nltk\n",
    "# # nltk.download('stopwords')\n",
    "# from nltk.corpus import stopwords\n",
    "\n",
    "# stop_words = set(stopwords.words('english'))\n",
    "\n",
    "# text = \"This is a sample text for testing stop words\"\n",
    "# filtered_sentence = []\n",
    "# for word in text.split():\n",
    "#     # lower case word and check if it is not a stop word\n",
    "#     if <missing code>:\n",
    "#         filtered_sentence.append(word)\n",
    "\n",
    "# print(filtered_sentence)"
   ]
  },
  {
   "cell_type": "code",
   "execution_count": 9,
   "id": "d2428926",
   "metadata": {},
   "outputs": [
    {
     "data": {
      "text/plain": [
       "'\\n6: REMOVE PUNCTUATION (uncomment block of code below)\\ncomplete the missing code (indicated by <missing code>) to remove punctuation from the text\\n'"
      ]
     },
     "execution_count": 9,
     "metadata": {},
     "output_type": "execute_result"
    }
   ],
   "source": [
    "\"\"\"\n",
    "6: REMOVE PUNCTUATION (uncomment block of code below)\n",
    "complete the missing code (indicated by <missing code>) to remove punctuation from the text\n",
    "\"\"\"\n",
    "# import nltk\n",
    "\n",
    "# sentence = \"This is, a sample text,! for .,testing purpose.\"\n",
    "\n",
    "# tokenizer = nltk.RegexpTokenizer(r\"\\w+\")\n",
    "# filtered_sentence = tokenizer.<missing code>\n",
    "\n",
    "# print(filtered_sentence)"
   ]
  }
 ],
 "metadata": {
  "kernelspec": {
   "display_name": "Python 3",
   "language": "python",
   "name": "python3"
  },
  "language_info": {
   "codemirror_mode": {
    "name": "ipython",
    "version": 3
   },
   "file_extension": ".py",
   "mimetype": "text/x-python",
   "name": "python",
   "nbconvert_exporter": "python",
   "pygments_lexer": "ipython3",
   "version": "3.8.8"
  }
 },
 "nbformat": 4,
 "nbformat_minor": 5
}
