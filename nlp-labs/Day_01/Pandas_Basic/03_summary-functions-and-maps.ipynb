{
 "cells": [
  {
   "cell_type": "markdown",
   "id": "854d4f5d",
   "metadata": {},
   "source": [
    "> **Copyright (c) 2020 Skymind Holdings Berhad**<br><br>\n",
    "> **Copyright (c) 2021 Skymind Education Group Sdn. Bhd.**<br>\n",
    "<br>\n",
    "Licensed under the Apache License, Version 2.0 (the \\\"License\\\");\n",
    "<br>you may not use this file except in compliance with the License.\n",
    "<br>You may obtain a copy of the License at http://www.apache.org/licenses/LICENSE-2.0/\n",
    "<br>\n",
    "<br>Unless required by applicable law or agreed to in writing, software\n",
    "<br>distributed under the License is distributed on an \\\"AS IS\\\" BASIS,\n",
    "<br>WITHOUT WARRANTIES OR CONDITIONS OF ANY KIND, either express or implied.\n",
    "<br>See the License for the specific language governing permissions and\n",
    "<br>limitations under the License.\n",
    "<br>\n",
    "<br>\n",
    "**SPDX-License-Identifier: Apache-2.0**\n",
    "<br>"
   ]
  },
  {
   "cell_type": "markdown",
   "id": "chubby-socket",
   "metadata": {
    "papermill": {
     "duration": 0.015708,
     "end_time": "2021-06-04T13:10:48.126905",
     "exception": false,
     "start_time": "2021-06-04T13:10:48.111197",
     "status": "completed"
    },
    "slideshow": {
     "slide_type": "slide"
    },
    "tags": []
   },
   "source": [
    "# Introduction\n",
    "\n",
    "In the last tutorial, we learned how to select relevant data out of a DataFrame or Series. Plucking the right data out of our data representation is critical to getting work done, as we demonstrated in the exercises.\n",
    "\n",
    "However, the data does not always come out of memory in the format we want it in right out of the bat. Sometimes we have to do some more work ourselves to reformat it for the task at hand.  This tutorial will cover different operations we can apply to our data to get the input \"just right\". "
   ]
  },
  {
   "cell_type": "markdown",
   "id": "6e3b5964",
   "metadata": {},
   "source": [
    "# Notebook Content\n",
    "\n",
    "* [Summary Functions](#Summary-functions)\n",
    "\n",
    "\n",
    "* [Maps](#Maps)"
   ]
  },
  {
   "cell_type": "code",
   "execution_count": 1,
   "id": "amateur-change",
   "metadata": {
    "_kg_hide-input": true,
    "execution": {
     "iopub.execute_input": "2021-06-04T13:10:48.163328Z",
     "iopub.status.busy": "2021-06-04T13:10:48.162645Z",
     "iopub.status.idle": "2021-06-04T13:10:49.934366Z",
     "shell.execute_reply": "2021-06-04T13:10:49.933436Z"
    },
    "papermill": {
     "duration": 1.792565,
     "end_time": "2021-06-04T13:10:49.934542",
     "exception": false,
     "start_time": "2021-06-04T13:10:48.141977",
     "status": "completed"
    },
    "slideshow": {
     "slide_type": "subslide"
    },
    "tags": []
   },
   "outputs": [],
   "source": [
    "import pandas as pd\n",
    "import numpy as np\n",
    "\n",
    "games = pd.read_csv(\"../../../resources/day_01/twitch_game_data.csv\", index_col=0)"
   ]
  },
  {
   "cell_type": "code",
   "execution_count": 2,
   "id": "ordered-desperate",
   "metadata": {
    "execution": {
     "iopub.execute_input": "2021-06-04T13:10:49.975247Z",
     "iopub.status.busy": "2021-06-04T13:10:49.974524Z",
     "iopub.status.idle": "2021-06-04T13:10:49.997615Z",
     "shell.execute_reply": "2021-06-04T13:10:49.998126Z"
    },
    "papermill": {
     "duration": 0.047213,
     "end_time": "2021-06-04T13:10:49.998286",
     "exception": false,
     "start_time": "2021-06-04T13:10:49.951073",
     "status": "completed"
    },
    "slideshow": {
     "slide_type": "subslide"
    },
    "tags": []
   },
   "outputs": [
    {
     "data": {
      "text/html": [
       "<div>\n",
       "<style scoped>\n",
       "    .dataframe tbody tr th:only-of-type {\n",
       "        vertical-align: middle;\n",
       "    }\n",
       "\n",
       "    .dataframe tbody tr th {\n",
       "        vertical-align: top;\n",
       "    }\n",
       "\n",
       "    .dataframe thead th {\n",
       "        text-align: right;\n",
       "    }\n",
       "</style>\n",
       "<table border=\"1\" class=\"dataframe\">\n",
       "  <thead>\n",
       "    <tr style=\"text-align: right;\">\n",
       "      <th></th>\n",
       "      <th>Game</th>\n",
       "      <th>Month</th>\n",
       "      <th>Year</th>\n",
       "      <th>Hours_watched</th>\n",
       "      <th>Hours_Streamed</th>\n",
       "      <th>Peak_viewers</th>\n",
       "      <th>Peak_channels</th>\n",
       "      <th>Streamers</th>\n",
       "      <th>Avg_viewers</th>\n",
       "      <th>Avg_channels</th>\n",
       "      <th>Avg_viewer_ratio</th>\n",
       "    </tr>\n",
       "    <tr>\n",
       "      <th>Rank</th>\n",
       "      <th></th>\n",
       "      <th></th>\n",
       "      <th></th>\n",
       "      <th></th>\n",
       "      <th></th>\n",
       "      <th></th>\n",
       "      <th></th>\n",
       "      <th></th>\n",
       "      <th></th>\n",
       "      <th></th>\n",
       "      <th></th>\n",
       "    </tr>\n",
       "  </thead>\n",
       "  <tbody>\n",
       "    <tr>\n",
       "      <th>1</th>\n",
       "      <td>League of Legends</td>\n",
       "      <td>1</td>\n",
       "      <td>2016</td>\n",
       "      <td>94377226</td>\n",
       "      <td>1362044 hours</td>\n",
       "      <td>530270</td>\n",
       "      <td>2903</td>\n",
       "      <td>129172</td>\n",
       "      <td>127021</td>\n",
       "      <td>1833</td>\n",
       "      <td>69.29</td>\n",
       "    </tr>\n",
       "    <tr>\n",
       "      <th>2</th>\n",
       "      <td>Counter-Strike: Global Offensive</td>\n",
       "      <td>1</td>\n",
       "      <td>2016</td>\n",
       "      <td>47832863</td>\n",
       "      <td>830105 hours</td>\n",
       "      <td>372654</td>\n",
       "      <td>2197</td>\n",
       "      <td>120849</td>\n",
       "      <td>64378</td>\n",
       "      <td>1117</td>\n",
       "      <td>57.62</td>\n",
       "    </tr>\n",
       "    <tr>\n",
       "      <th>3</th>\n",
       "      <td>Dota 2</td>\n",
       "      <td>1</td>\n",
       "      <td>2016</td>\n",
       "      <td>45185893</td>\n",
       "      <td>433397 hours</td>\n",
       "      <td>315083</td>\n",
       "      <td>1100</td>\n",
       "      <td>44074</td>\n",
       "      <td>60815</td>\n",
       "      <td>583</td>\n",
       "      <td>104.26</td>\n",
       "    </tr>\n",
       "    <tr>\n",
       "      <th>4</th>\n",
       "      <td>Hearthstone</td>\n",
       "      <td>1</td>\n",
       "      <td>2016</td>\n",
       "      <td>39936159</td>\n",
       "      <td>235903 hours</td>\n",
       "      <td>131357</td>\n",
       "      <td>517</td>\n",
       "      <td>36170</td>\n",
       "      <td>53749</td>\n",
       "      <td>317</td>\n",
       "      <td>169.29</td>\n",
       "    </tr>\n",
       "    <tr>\n",
       "      <th>5</th>\n",
       "      <td>Call of Duty: Black Ops III</td>\n",
       "      <td>1</td>\n",
       "      <td>2016</td>\n",
       "      <td>16153057</td>\n",
       "      <td>1151578 hours</td>\n",
       "      <td>71639</td>\n",
       "      <td>3620</td>\n",
       "      <td>214054</td>\n",
       "      <td>21740</td>\n",
       "      <td>1549</td>\n",
       "      <td>14.03</td>\n",
       "    </tr>\n",
       "    <tr>\n",
       "      <th>...</th>\n",
       "      <td>...</td>\n",
       "      <td>...</td>\n",
       "      <td>...</td>\n",
       "      <td>...</td>\n",
       "      <td>...</td>\n",
       "      <td>...</td>\n",
       "      <td>...</td>\n",
       "      <td>...</td>\n",
       "      <td>...</td>\n",
       "      <td>...</td>\n",
       "      <td>...</td>\n",
       "    </tr>\n",
       "    <tr>\n",
       "      <th>196</th>\n",
       "      <td>War Thunder</td>\n",
       "      <td>6</td>\n",
       "      <td>2021</td>\n",
       "      <td>704459</td>\n",
       "      <td>73613 hours</td>\n",
       "      <td>8812</td>\n",
       "      <td>223</td>\n",
       "      <td>7035</td>\n",
       "      <td>979</td>\n",
       "      <td>102</td>\n",
       "      <td>9.57</td>\n",
       "    </tr>\n",
       "    <tr>\n",
       "      <th>197</th>\n",
       "      <td>Muck</td>\n",
       "      <td>6</td>\n",
       "      <td>2021</td>\n",
       "      <td>701456</td>\n",
       "      <td>31741 hours</td>\n",
       "      <td>60091</td>\n",
       "      <td>112</td>\n",
       "      <td>8591</td>\n",
       "      <td>975</td>\n",
       "      <td>44</td>\n",
       "      <td>22.10</td>\n",
       "    </tr>\n",
       "    <tr>\n",
       "      <th>198</th>\n",
       "      <td>Trials Rising</td>\n",
       "      <td>6</td>\n",
       "      <td>2021</td>\n",
       "      <td>698899</td>\n",
       "      <td>4626 hours</td>\n",
       "      <td>217333</td>\n",
       "      <td>26</td>\n",
       "      <td>581</td>\n",
       "      <td>972</td>\n",
       "      <td>6</td>\n",
       "      <td>151.08</td>\n",
       "    </tr>\n",
       "    <tr>\n",
       "      <th>199</th>\n",
       "      <td>Little Nightmares II</td>\n",
       "      <td>6</td>\n",
       "      <td>2021</td>\n",
       "      <td>695130</td>\n",
       "      <td>27581 hours</td>\n",
       "      <td>43518</td>\n",
       "      <td>105</td>\n",
       "      <td>6128</td>\n",
       "      <td>966</td>\n",
       "      <td>38</td>\n",
       "      <td>25.20</td>\n",
       "    </tr>\n",
       "    <tr>\n",
       "      <th>200</th>\n",
       "      <td>Tabletop RPGs</td>\n",
       "      <td>6</td>\n",
       "      <td>2021</td>\n",
       "      <td>688130</td>\n",
       "      <td>23602 hours</td>\n",
       "      <td>20018</td>\n",
       "      <td>122</td>\n",
       "      <td>2567</td>\n",
       "      <td>957</td>\n",
       "      <td>32</td>\n",
       "      <td>29.16</td>\n",
       "    </tr>\n",
       "  </tbody>\n",
       "</table>\n",
       "<p>13200 rows × 11 columns</p>\n",
       "</div>"
      ],
      "text/plain": [
       "                                  Game  Month  Year  Hours_watched  \\\n",
       "Rank                                                                 \n",
       "1                    League of Legends      1  2016       94377226   \n",
       "2     Counter-Strike: Global Offensive      1  2016       47832863   \n",
       "3                               Dota 2      1  2016       45185893   \n",
       "4                          Hearthstone      1  2016       39936159   \n",
       "5          Call of Duty: Black Ops III      1  2016       16153057   \n",
       "...                                ...    ...   ...            ...   \n",
       "196                        War Thunder      6  2021         704459   \n",
       "197                               Muck      6  2021         701456   \n",
       "198                      Trials Rising      6  2021         698899   \n",
       "199               Little Nightmares II      6  2021         695130   \n",
       "200                      Tabletop RPGs      6  2021         688130   \n",
       "\n",
       "     Hours_Streamed  Peak_viewers  Peak_channels  Streamers  Avg_viewers  \\\n",
       "Rank                                                                       \n",
       "1     1362044 hours        530270           2903     129172       127021   \n",
       "2      830105 hours        372654           2197     120849        64378   \n",
       "3      433397 hours        315083           1100      44074        60815   \n",
       "4      235903 hours        131357            517      36170        53749   \n",
       "5     1151578 hours         71639           3620     214054        21740   \n",
       "...             ...           ...            ...        ...          ...   \n",
       "196     73613 hours          8812            223       7035          979   \n",
       "197     31741 hours         60091            112       8591          975   \n",
       "198      4626 hours        217333             26        581          972   \n",
       "199     27581 hours         43518            105       6128          966   \n",
       "200     23602 hours         20018            122       2567          957   \n",
       "\n",
       "      Avg_channels  Avg_viewer_ratio  \n",
       "Rank                                  \n",
       "1             1833             69.29  \n",
       "2             1117             57.62  \n",
       "3              583            104.26  \n",
       "4              317            169.29  \n",
       "5             1549             14.03  \n",
       "...            ...               ...  \n",
       "196            102              9.57  \n",
       "197             44             22.10  \n",
       "198              6            151.08  \n",
       "199             38             25.20  \n",
       "200             32             29.16  \n",
       "\n",
       "[13200 rows x 11 columns]"
      ]
     },
     "execution_count": 2,
     "metadata": {},
     "output_type": "execute_result"
    }
   ],
   "source": [
    "games"
   ]
  },
  {
   "cell_type": "markdown",
   "id": "patent-cursor",
   "metadata": {
    "papermill": {
     "duration": 0.015607,
     "end_time": "2021-06-04T13:10:50.029805",
     "exception": false,
     "start_time": "2021-06-04T13:10:50.014198",
     "status": "completed"
    },
    "slideshow": {
     "slide_type": "slide"
    },
    "tags": []
   },
   "source": [
    "# Summary functions\n",
    "\n",
    "Pandas provides many simple \"summary functions\" (not an official name) which restructure the data in some useful way. For example, consider the `describe()` method:"
   ]
  },
  {
   "cell_type": "code",
   "execution_count": 3,
   "id": "caroline-sponsorship",
   "metadata": {
    "execution": {
     "iopub.execute_input": "2021-06-04T13:10:50.065288Z",
     "iopub.status.busy": "2021-06-04T13:10:50.064296Z",
     "iopub.status.idle": "2021-06-04T13:10:50.079857Z",
     "shell.execute_reply": "2021-06-04T13:10:50.079350Z"
    },
    "papermill": {
     "duration": 0.034497,
     "end_time": "2021-06-04T13:10:50.079999",
     "exception": false,
     "start_time": "2021-06-04T13:10:50.045502",
     "status": "completed"
    },
    "slideshow": {
     "slide_type": "subslide"
    },
    "tags": []
   },
   "outputs": [
    {
     "data": {
      "text/plain": [
       "count    1.320000e+04\n",
       "mean     1.643152e+04\n",
       "std      5.400997e+04\n",
       "min      0.000000e+00\n",
       "25%      1.375750e+03\n",
       "50%      3.867500e+03\n",
       "75%      1.017375e+04\n",
       "max      1.013029e+06\n",
       "Name: Streamers, dtype: float64"
      ]
     },
     "execution_count": 3,
     "metadata": {},
     "output_type": "execute_result"
    }
   ],
   "source": [
    "games.Streamers.describe()"
   ]
  },
  {
   "cell_type": "markdown",
   "id": "molecular-saver",
   "metadata": {
    "papermill": {
     "duration": 0.017283,
     "end_time": "2021-06-04T13:10:50.113020",
     "exception": false,
     "start_time": "2021-06-04T13:10:50.095737",
     "status": "completed"
    },
    "slideshow": {
     "slide_type": "subslide"
    },
    "tags": []
   },
   "source": [
    "This method generates a high-level summary of the attributes of the given column. It is type-aware, meaning that its output changes based on the data type of the input. The output above only makes sense for numerical data; for string data here's what we get:"
   ]
  },
  {
   "cell_type": "code",
   "execution_count": 4,
   "id": "presidential-respondent",
   "metadata": {
    "execution": {
     "iopub.execute_input": "2021-06-04T13:10:50.166655Z",
     "iopub.status.busy": "2021-06-04T13:10:50.165737Z",
     "iopub.status.idle": "2021-06-04T13:10:50.208067Z",
     "shell.execute_reply": "2021-06-04T13:10:50.208526Z"
    },
    "papermill": {
     "duration": 0.07951,
     "end_time": "2021-06-04T13:10:50.208694",
     "exception": false,
     "start_time": "2021-06-04T13:10:50.129184",
     "status": "completed"
    },
    "slideshow": {
     "slide_type": "subslide"
    },
    "tags": []
   },
   "outputs": [
    {
     "data": {
      "text/plain": [
       "count                  13199\n",
       "unique                  1676\n",
       "top       Dungeons & Dragons\n",
       "freq                      67\n",
       "Name: Game, dtype: object"
      ]
     },
     "execution_count": 4,
     "metadata": {},
     "output_type": "execute_result"
    }
   ],
   "source": [
    "games.Game.describe()"
   ]
  },
  {
   "cell_type": "markdown",
   "id": "related-treaty",
   "metadata": {
    "papermill": {
     "duration": 0.01618,
     "end_time": "2021-06-04T13:10:50.241233",
     "exception": false,
     "start_time": "2021-06-04T13:10:50.225053",
     "status": "completed"
    },
    "slideshow": {
     "slide_type": "subslide"
    },
    "tags": []
   },
   "source": [
    "If you want to get some particular simple summary statistic about a column in a DataFrame or a Series, there is usually a helpful pandas function that makes it happen. \n",
    "\n",
    "For example, to see the mean of the hour watch, we can use the `mean()` function:"
   ]
  },
  {
   "cell_type": "code",
   "execution_count": 5,
   "id": "improved-essex",
   "metadata": {
    "execution": {
     "iopub.execute_input": "2021-06-04T13:10:50.277997Z",
     "iopub.status.busy": "2021-06-04T13:10:50.277023Z",
     "iopub.status.idle": "2021-06-04T13:10:50.283119Z",
     "shell.execute_reply": "2021-06-04T13:10:50.283637Z"
    },
    "papermill": {
     "duration": 0.026002,
     "end_time": "2021-06-04T13:10:50.283794",
     "exception": false,
     "start_time": "2021-06-04T13:10:50.257792",
     "status": "completed"
    },
    "slideshow": {
     "slide_type": "subslide"
    },
    "tags": []
   },
   "outputs": [
    {
     "data": {
      "text/plain": [
       "4427318.414848485"
      ]
     },
     "execution_count": 5,
     "metadata": {},
     "output_type": "execute_result"
    }
   ],
   "source": [
    "games.Hours_watched.mean()"
   ]
  },
  {
   "cell_type": "markdown",
   "id": "hollow-advantage",
   "metadata": {
    "papermill": {
     "duration": 0.016675,
     "end_time": "2021-06-04T13:10:50.317287",
     "exception": false,
     "start_time": "2021-06-04T13:10:50.300612",
     "status": "completed"
    },
    "slideshow": {
     "slide_type": "subslide"
    },
    "tags": []
   },
   "source": [
    "To see a list of unique values we can use the `unique()` function:"
   ]
  },
  {
   "cell_type": "code",
   "execution_count": 6,
   "id": "stunning-certificate",
   "metadata": {
    "execution": {
     "iopub.execute_input": "2021-06-04T13:10:50.355027Z",
     "iopub.status.busy": "2021-06-04T13:10:50.354092Z",
     "iopub.status.idle": "2021-06-04T13:10:50.372582Z",
     "shell.execute_reply": "2021-06-04T13:10:50.373126Z"
    },
    "papermill": {
     "duration": 0.039034,
     "end_time": "2021-06-04T13:10:50.373300",
     "exception": false,
     "start_time": "2021-06-04T13:10:50.334266",
     "status": "completed"
    },
    "slideshow": {
     "slide_type": "subslide"
    },
    "tags": []
   },
   "outputs": [
    {
     "data": {
      "text/plain": [
       "array(['League of Legends', 'Counter-Strike: Global Offensive', 'Dota 2',\n",
       "       ..., 'Phantasy Star Online 2 New Genesis', 'Phantom Abyss', 'Muck'],\n",
       "      dtype=object)"
      ]
     },
     "execution_count": 6,
     "metadata": {},
     "output_type": "execute_result"
    }
   ],
   "source": [
    "games.Game.unique()"
   ]
  },
  {
   "cell_type": "markdown",
   "id": "greek-sport",
   "metadata": {
    "papermill": {
     "duration": 0.017171,
     "end_time": "2021-06-04T13:10:50.407957",
     "exception": false,
     "start_time": "2021-06-04T13:10:50.390786",
     "status": "completed"
    },
    "slideshow": {
     "slide_type": "subslide"
    },
    "tags": []
   },
   "source": [
    "To see a list of unique values _and_ how often they occur in the dataset, we can use the `value_counts()` method:"
   ]
  },
  {
   "cell_type": "code",
   "execution_count": 7,
   "id": "severe-filename",
   "metadata": {
    "execution": {
     "iopub.execute_input": "2021-06-04T13:10:50.446394Z",
     "iopub.status.busy": "2021-06-04T13:10:50.445741Z",
     "iopub.status.idle": "2021-06-04T13:10:50.477817Z",
     "shell.execute_reply": "2021-06-04T13:10:50.477302Z"
    },
    "papermill": {
     "duration": 0.052279,
     "end_time": "2021-06-04T13:10:50.477971",
     "exception": false,
     "start_time": "2021-06-04T13:10:50.425692",
     "status": "completed"
    },
    "slideshow": {
     "slide_type": "subslide"
    },
    "tags": []
   },
   "outputs": [
    {
     "data": {
      "text/plain": [
       "Dungeons & Dragons           67\n",
       "League of Legends            66\n",
       "Dark Souls                   66\n",
       "Music                        66\n",
       "Path of Exile                66\n",
       "                             ..\n",
       "Space Hulk: Deathwing         1\n",
       "Transport Tycoon Deluxe       1\n",
       "CardLife                      1\n",
       "S.T.A.L.K.E.R.: Clear Sky     1\n",
       "Muck                          1\n",
       "Name: Game, Length: 1676, dtype: int64"
      ]
     },
     "execution_count": 7,
     "metadata": {},
     "output_type": "execute_result"
    }
   ],
   "source": [
    "games.Game.value_counts()"
   ]
  },
  {
   "cell_type": "markdown",
   "id": "silent-spectrum",
   "metadata": {
    "papermill": {
     "duration": 0.017575,
     "end_time": "2021-06-04T13:10:50.513407",
     "exception": false,
     "start_time": "2021-06-04T13:10:50.495832",
     "status": "completed"
    },
    "slideshow": {
     "slide_type": "slide"
    },
    "tags": []
   },
   "source": [
    "# Maps\n",
    "\n",
    "A **map** is a term, borrowed from mathematics, for a function that takes one set of values and \"maps\" them to another set of values. In data science we often have a need for creating new representations from existing data, or for transforming data from the format it is in now to the format that we want it to be in later. Maps are what handle this work, making them extremely important for getting your work done!\n",
    "\n",
    "There are two mapping methods that you will use often. \n",
    "\n",
    "[`map()`](https://pandas.pydata.org/pandas-docs/stable/generated/pandas.Series.map.html) is the first, and slightly simpler one. For example, suppose that we wanted to remean the average viewers to 0. We can do this as follows:"
   ]
  },
  {
   "cell_type": "code",
   "execution_count": 8,
   "id": "lightweight-narrative",
   "metadata": {
    "execution": {
     "iopub.execute_input": "2021-06-04T13:10:50.555808Z",
     "iopub.status.busy": "2021-06-04T13:10:50.554868Z",
     "iopub.status.idle": "2021-06-04T13:10:50.609995Z",
     "shell.execute_reply": "2021-06-04T13:10:50.609454Z"
    },
    "papermill": {
     "duration": 0.077631,
     "end_time": "2021-06-04T13:10:50.610131",
     "exception": false,
     "start_time": "2021-06-04T13:10:50.532500",
     "status": "completed"
    },
    "scrolled": true,
    "slideshow": {
     "slide_type": "subslide"
    },
    "tags": []
   },
   "outputs": [
    {
     "name": "stdout",
     "output_type": "stream",
     "text": [
      "Viewer Mean: 6075.140378787879\n"
     ]
    },
    {
     "data": {
      "text/plain": [
       "Rank\n",
       "1      120945.859621\n",
       "2       58302.859621\n",
       "3       54739.859621\n",
       "4       47673.859621\n",
       "5       15664.859621\n",
       "           ...      \n",
       "196     -5096.140379\n",
       "197     -5100.140379\n",
       "198     -5103.140379\n",
       "199     -5109.140379\n",
       "200     -5118.140379\n",
       "Name: Avg_viewers, Length: 13200, dtype: float64"
      ]
     },
     "execution_count": 8,
     "metadata": {},
     "output_type": "execute_result"
    }
   ],
   "source": [
    "viewer_mean = games.Avg_viewers.mean()\n",
    "print(\"Viewer Mean:\", viewer_mean)\n",
    "\n",
    "games.Avg_viewers.map(lambda v: v - viewer_mean)"
   ]
  },
  {
   "cell_type": "markdown",
   "id": "lucky-fifth",
   "metadata": {
    "papermill": {
     "duration": 0.018556,
     "end_time": "2021-06-04T13:10:50.646976",
     "exception": false,
     "start_time": "2021-06-04T13:10:50.628420",
     "status": "completed"
    },
    "slideshow": {
     "slide_type": "subslide"
    },
    "tags": []
   },
   "source": [
    "The function you pass to `map()` should expect a single value from the Series (a point value, in the above example), and return a transformed version of that value. `map()` returns a new Series where all the values have been transformed by your function.\n",
    "\n",
    "[`apply()`](https://pandas.pydata.org/pandas-docs/stable/generated/pandas.DataFrame.apply.html) is the equivalent method if we want to transform a whole DataFrame by calling a custom method on each row."
   ]
  },
  {
   "cell_type": "code",
   "execution_count": 9,
   "id": "allied-sociology",
   "metadata": {
    "execution": {
     "iopub.execute_input": "2021-06-04T13:10:50.688897Z",
     "iopub.status.busy": "2021-06-04T13:10:50.688267Z",
     "iopub.status.idle": "2021-06-04T13:11:06.147302Z",
     "shell.execute_reply": "2021-06-04T13:11:06.146774Z"
    },
    "papermill": {
     "duration": 15.481958,
     "end_time": "2021-06-04T13:11:06.147446",
     "exception": false,
     "start_time": "2021-06-04T13:10:50.665488",
     "status": "completed"
    },
    "slideshow": {
     "slide_type": "subslide"
    },
    "tags": []
   },
   "outputs": [
    {
     "data": {
      "text/html": [
       "<div>\n",
       "<style scoped>\n",
       "    .dataframe tbody tr th:only-of-type {\n",
       "        vertical-align: middle;\n",
       "    }\n",
       "\n",
       "    .dataframe tbody tr th {\n",
       "        vertical-align: top;\n",
       "    }\n",
       "\n",
       "    .dataframe thead th {\n",
       "        text-align: right;\n",
       "    }\n",
       "</style>\n",
       "<table border=\"1\" class=\"dataframe\">\n",
       "  <thead>\n",
       "    <tr style=\"text-align: right;\">\n",
       "      <th></th>\n",
       "      <th>Game</th>\n",
       "      <th>Month</th>\n",
       "      <th>Year</th>\n",
       "      <th>Hours_watched</th>\n",
       "      <th>Hours_Streamed</th>\n",
       "      <th>Peak_viewers</th>\n",
       "      <th>Peak_channels</th>\n",
       "      <th>Streamers</th>\n",
       "      <th>Avg_viewers</th>\n",
       "      <th>Avg_channels</th>\n",
       "      <th>Avg_viewer_ratio</th>\n",
       "    </tr>\n",
       "    <tr>\n",
       "      <th>Rank</th>\n",
       "      <th></th>\n",
       "      <th></th>\n",
       "      <th></th>\n",
       "      <th></th>\n",
       "      <th></th>\n",
       "      <th></th>\n",
       "      <th></th>\n",
       "      <th></th>\n",
       "      <th></th>\n",
       "      <th></th>\n",
       "      <th></th>\n",
       "    </tr>\n",
       "  </thead>\n",
       "  <tbody>\n",
       "    <tr>\n",
       "      <th>1</th>\n",
       "      <td>League of Legends</td>\n",
       "      <td>1</td>\n",
       "      <td>2016</td>\n",
       "      <td>94377226</td>\n",
       "      <td>1362044 hours</td>\n",
       "      <td>530270</td>\n",
       "      <td>2903</td>\n",
       "      <td>129172</td>\n",
       "      <td>120945.859621</td>\n",
       "      <td>1833</td>\n",
       "      <td>69.29</td>\n",
       "    </tr>\n",
       "    <tr>\n",
       "      <th>2</th>\n",
       "      <td>Counter-Strike: Global Offensive</td>\n",
       "      <td>1</td>\n",
       "      <td>2016</td>\n",
       "      <td>47832863</td>\n",
       "      <td>830105 hours</td>\n",
       "      <td>372654</td>\n",
       "      <td>2197</td>\n",
       "      <td>120849</td>\n",
       "      <td>58302.859621</td>\n",
       "      <td>1117</td>\n",
       "      <td>57.62</td>\n",
       "    </tr>\n",
       "    <tr>\n",
       "      <th>3</th>\n",
       "      <td>Dota 2</td>\n",
       "      <td>1</td>\n",
       "      <td>2016</td>\n",
       "      <td>45185893</td>\n",
       "      <td>433397 hours</td>\n",
       "      <td>315083</td>\n",
       "      <td>1100</td>\n",
       "      <td>44074</td>\n",
       "      <td>54739.859621</td>\n",
       "      <td>583</td>\n",
       "      <td>104.26</td>\n",
       "    </tr>\n",
       "    <tr>\n",
       "      <th>4</th>\n",
       "      <td>Hearthstone</td>\n",
       "      <td>1</td>\n",
       "      <td>2016</td>\n",
       "      <td>39936159</td>\n",
       "      <td>235903 hours</td>\n",
       "      <td>131357</td>\n",
       "      <td>517</td>\n",
       "      <td>36170</td>\n",
       "      <td>47673.859621</td>\n",
       "      <td>317</td>\n",
       "      <td>169.29</td>\n",
       "    </tr>\n",
       "    <tr>\n",
       "      <th>5</th>\n",
       "      <td>Call of Duty: Black Ops III</td>\n",
       "      <td>1</td>\n",
       "      <td>2016</td>\n",
       "      <td>16153057</td>\n",
       "      <td>1151578 hours</td>\n",
       "      <td>71639</td>\n",
       "      <td>3620</td>\n",
       "      <td>214054</td>\n",
       "      <td>15664.859621</td>\n",
       "      <td>1549</td>\n",
       "      <td>14.03</td>\n",
       "    </tr>\n",
       "    <tr>\n",
       "      <th>...</th>\n",
       "      <td>...</td>\n",
       "      <td>...</td>\n",
       "      <td>...</td>\n",
       "      <td>...</td>\n",
       "      <td>...</td>\n",
       "      <td>...</td>\n",
       "      <td>...</td>\n",
       "      <td>...</td>\n",
       "      <td>...</td>\n",
       "      <td>...</td>\n",
       "      <td>...</td>\n",
       "    </tr>\n",
       "    <tr>\n",
       "      <th>196</th>\n",
       "      <td>War Thunder</td>\n",
       "      <td>6</td>\n",
       "      <td>2021</td>\n",
       "      <td>704459</td>\n",
       "      <td>73613 hours</td>\n",
       "      <td>8812</td>\n",
       "      <td>223</td>\n",
       "      <td>7035</td>\n",
       "      <td>-5096.140379</td>\n",
       "      <td>102</td>\n",
       "      <td>9.57</td>\n",
       "    </tr>\n",
       "    <tr>\n",
       "      <th>197</th>\n",
       "      <td>Muck</td>\n",
       "      <td>6</td>\n",
       "      <td>2021</td>\n",
       "      <td>701456</td>\n",
       "      <td>31741 hours</td>\n",
       "      <td>60091</td>\n",
       "      <td>112</td>\n",
       "      <td>8591</td>\n",
       "      <td>-5100.140379</td>\n",
       "      <td>44</td>\n",
       "      <td>22.10</td>\n",
       "    </tr>\n",
       "    <tr>\n",
       "      <th>198</th>\n",
       "      <td>Trials Rising</td>\n",
       "      <td>6</td>\n",
       "      <td>2021</td>\n",
       "      <td>698899</td>\n",
       "      <td>4626 hours</td>\n",
       "      <td>217333</td>\n",
       "      <td>26</td>\n",
       "      <td>581</td>\n",
       "      <td>-5103.140379</td>\n",
       "      <td>6</td>\n",
       "      <td>151.08</td>\n",
       "    </tr>\n",
       "    <tr>\n",
       "      <th>199</th>\n",
       "      <td>Little Nightmares II</td>\n",
       "      <td>6</td>\n",
       "      <td>2021</td>\n",
       "      <td>695130</td>\n",
       "      <td>27581 hours</td>\n",
       "      <td>43518</td>\n",
       "      <td>105</td>\n",
       "      <td>6128</td>\n",
       "      <td>-5109.140379</td>\n",
       "      <td>38</td>\n",
       "      <td>25.20</td>\n",
       "    </tr>\n",
       "    <tr>\n",
       "      <th>200</th>\n",
       "      <td>Tabletop RPGs</td>\n",
       "      <td>6</td>\n",
       "      <td>2021</td>\n",
       "      <td>688130</td>\n",
       "      <td>23602 hours</td>\n",
       "      <td>20018</td>\n",
       "      <td>122</td>\n",
       "      <td>2567</td>\n",
       "      <td>-5118.140379</td>\n",
       "      <td>32</td>\n",
       "      <td>29.16</td>\n",
       "    </tr>\n",
       "  </tbody>\n",
       "</table>\n",
       "<p>13200 rows × 11 columns</p>\n",
       "</div>"
      ],
      "text/plain": [
       "                                  Game  Month  Year  Hours_watched  \\\n",
       "Rank                                                                 \n",
       "1                    League of Legends      1  2016       94377226   \n",
       "2     Counter-Strike: Global Offensive      1  2016       47832863   \n",
       "3                               Dota 2      1  2016       45185893   \n",
       "4                          Hearthstone      1  2016       39936159   \n",
       "5          Call of Duty: Black Ops III      1  2016       16153057   \n",
       "...                                ...    ...   ...            ...   \n",
       "196                        War Thunder      6  2021         704459   \n",
       "197                               Muck      6  2021         701456   \n",
       "198                      Trials Rising      6  2021         698899   \n",
       "199               Little Nightmares II      6  2021         695130   \n",
       "200                      Tabletop RPGs      6  2021         688130   \n",
       "\n",
       "     Hours_Streamed  Peak_viewers  Peak_channels  Streamers    Avg_viewers  \\\n",
       "Rank                                                                         \n",
       "1     1362044 hours        530270           2903     129172  120945.859621   \n",
       "2      830105 hours        372654           2197     120849   58302.859621   \n",
       "3      433397 hours        315083           1100      44074   54739.859621   \n",
       "4      235903 hours        131357            517      36170   47673.859621   \n",
       "5     1151578 hours         71639           3620     214054   15664.859621   \n",
       "...             ...           ...            ...        ...            ...   \n",
       "196     73613 hours          8812            223       7035   -5096.140379   \n",
       "197     31741 hours         60091            112       8591   -5100.140379   \n",
       "198      4626 hours        217333             26        581   -5103.140379   \n",
       "199     27581 hours         43518            105       6128   -5109.140379   \n",
       "200     23602 hours         20018            122       2567   -5118.140379   \n",
       "\n",
       "      Avg_channels  Avg_viewer_ratio  \n",
       "Rank                                  \n",
       "1             1833             69.29  \n",
       "2             1117             57.62  \n",
       "3              583            104.26  \n",
       "4              317            169.29  \n",
       "5             1549             14.03  \n",
       "...            ...               ...  \n",
       "196            102              9.57  \n",
       "197             44             22.10  \n",
       "198              6            151.08  \n",
       "199             38             25.20  \n",
       "200             32             29.16  \n",
       "\n",
       "[13200 rows x 11 columns]"
      ]
     },
     "execution_count": 9,
     "metadata": {},
     "output_type": "execute_result"
    }
   ],
   "source": [
    "def remean_viewers(row):\n",
    "    row.Avg_viewers = row.Avg_viewers - viewer_mean\n",
    "    return row\n",
    "\n",
    "games.apply(remean_viewers, axis='columns')"
   ]
  },
  {
   "cell_type": "markdown",
   "id": "outside-wrestling",
   "metadata": {
    "papermill": {
     "duration": 0.018959,
     "end_time": "2021-06-04T13:11:06.185772",
     "exception": false,
     "start_time": "2021-06-04T13:11:06.166813",
     "status": "completed"
    },
    "slideshow": {
     "slide_type": "subslide"
    },
    "tags": []
   },
   "source": [
    "If we had called `reviews.apply()` with `axis='index'`, then instead of passing a function to transform each row, we would need to give a function to transform each *column*.\n",
    "\n",
    "Note that `map()` and `apply()` return new, transformed Series and DataFrames, respectively. They don't modify the original data they're called on. If we look at the first row of `reviews`, we can see that it still has its original `points` value."
   ]
  },
  {
   "cell_type": "code",
   "execution_count": 10,
   "id": "musical-roman",
   "metadata": {
    "execution": {
     "iopub.execute_input": "2021-06-04T13:11:06.234244Z",
     "iopub.status.busy": "2021-06-04T13:11:06.233535Z",
     "iopub.status.idle": "2021-06-04T13:11:06.242244Z",
     "shell.execute_reply": "2021-06-04T13:11:06.242828Z"
    },
    "papermill": {
     "duration": 0.038069,
     "end_time": "2021-06-04T13:11:06.243008",
     "exception": false,
     "start_time": "2021-06-04T13:11:06.204939",
     "status": "completed"
    },
    "slideshow": {
     "slide_type": "subslide"
    },
    "tags": []
   },
   "outputs": [
    {
     "data": {
      "text/html": [
       "<div>\n",
       "<style scoped>\n",
       "    .dataframe tbody tr th:only-of-type {\n",
       "        vertical-align: middle;\n",
       "    }\n",
       "\n",
       "    .dataframe tbody tr th {\n",
       "        vertical-align: top;\n",
       "    }\n",
       "\n",
       "    .dataframe thead th {\n",
       "        text-align: right;\n",
       "    }\n",
       "</style>\n",
       "<table border=\"1\" class=\"dataframe\">\n",
       "  <thead>\n",
       "    <tr style=\"text-align: right;\">\n",
       "      <th></th>\n",
       "      <th>Game</th>\n",
       "      <th>Month</th>\n",
       "      <th>Year</th>\n",
       "      <th>Hours_watched</th>\n",
       "      <th>Hours_Streamed</th>\n",
       "      <th>Peak_viewers</th>\n",
       "      <th>Peak_channels</th>\n",
       "      <th>Streamers</th>\n",
       "      <th>Avg_viewers</th>\n",
       "      <th>Avg_channels</th>\n",
       "      <th>Avg_viewer_ratio</th>\n",
       "    </tr>\n",
       "    <tr>\n",
       "      <th>Rank</th>\n",
       "      <th></th>\n",
       "      <th></th>\n",
       "      <th></th>\n",
       "      <th></th>\n",
       "      <th></th>\n",
       "      <th></th>\n",
       "      <th></th>\n",
       "      <th></th>\n",
       "      <th></th>\n",
       "      <th></th>\n",
       "      <th></th>\n",
       "    </tr>\n",
       "  </thead>\n",
       "  <tbody>\n",
       "    <tr>\n",
       "      <th>1</th>\n",
       "      <td>League of Legends</td>\n",
       "      <td>1</td>\n",
       "      <td>2016</td>\n",
       "      <td>94377226</td>\n",
       "      <td>1362044 hours</td>\n",
       "      <td>530270</td>\n",
       "      <td>2903</td>\n",
       "      <td>129172</td>\n",
       "      <td>127021</td>\n",
       "      <td>1833</td>\n",
       "      <td>69.29</td>\n",
       "    </tr>\n",
       "  </tbody>\n",
       "</table>\n",
       "</div>"
      ],
      "text/plain": [
       "                   Game  Month  Year  Hours_watched Hours_Streamed  \\\n",
       "Rank                                                                 \n",
       "1     League of Legends      1  2016       94377226  1362044 hours   \n",
       "\n",
       "      Peak_viewers  Peak_channels  Streamers  Avg_viewers  Avg_channels  \\\n",
       "Rank                                                                      \n",
       "1           530270           2903     129172       127021          1833   \n",
       "\n",
       "      Avg_viewer_ratio  \n",
       "Rank                    \n",
       "1                69.29  "
      ]
     },
     "execution_count": 10,
     "metadata": {},
     "output_type": "execute_result"
    }
   ],
   "source": [
    "games.head(1)"
   ]
  },
  {
   "cell_type": "markdown",
   "id": "lonely-criterion",
   "metadata": {
    "papermill": {
     "duration": 0.020012,
     "end_time": "2021-06-04T13:11:06.282579",
     "exception": false,
     "start_time": "2021-06-04T13:11:06.262567",
     "status": "completed"
    },
    "slideshow": {
     "slide_type": "slide"
    },
    "tags": []
   },
   "source": [
    "Pandas provides many common mapping operations as built-ins. For example, here's a faster way of remeaning our points column:"
   ]
  },
  {
   "cell_type": "code",
   "execution_count": 11,
   "id": "dominant-conjunction",
   "metadata": {
    "execution": {
     "iopub.execute_input": "2021-06-04T13:11:06.325793Z",
     "iopub.status.busy": "2021-06-04T13:11:06.325171Z",
     "iopub.status.idle": "2021-06-04T13:11:06.336031Z",
     "shell.execute_reply": "2021-06-04T13:11:06.335433Z"
    },
    "papermill": {
     "duration": 0.033453,
     "end_time": "2021-06-04T13:11:06.336179",
     "exception": false,
     "start_time": "2021-06-04T13:11:06.302726",
     "status": "completed"
    },
    "scrolled": true,
    "slideshow": {
     "slide_type": "subslide"
    },
    "tags": []
   },
   "outputs": [
    {
     "data": {
      "text/plain": [
       "Rank\n",
       "1      120945.859621\n",
       "2       58302.859621\n",
       "3       54739.859621\n",
       "4       47673.859621\n",
       "5       15664.859621\n",
       "           ...      \n",
       "196     -5096.140379\n",
       "197     -5100.140379\n",
       "198     -5103.140379\n",
       "199     -5109.140379\n",
       "200     -5118.140379\n",
       "Name: Avg_viewers, Length: 13200, dtype: float64"
      ]
     },
     "execution_count": 11,
     "metadata": {},
     "output_type": "execute_result"
    }
   ],
   "source": [
    "viewers_mean = games.Avg_viewers.mean()\n",
    "games.Avg_viewers - viewer_mean"
   ]
  },
  {
   "cell_type": "code",
   "execution_count": 12,
   "id": "49a43ad9",
   "metadata": {
    "slideshow": {
     "slide_type": "subslide"
    }
   },
   "outputs": [
    {
     "data": {
      "text/html": [
       "<div>\n",
       "<style scoped>\n",
       "    .dataframe tbody tr th:only-of-type {\n",
       "        vertical-align: middle;\n",
       "    }\n",
       "\n",
       "    .dataframe tbody tr th {\n",
       "        vertical-align: top;\n",
       "    }\n",
       "\n",
       "    .dataframe thead th {\n",
       "        text-align: right;\n",
       "    }\n",
       "</style>\n",
       "<table border=\"1\" class=\"dataframe\">\n",
       "  <thead>\n",
       "    <tr style=\"text-align: right;\">\n",
       "      <th></th>\n",
       "      <th>Game</th>\n",
       "      <th>Month</th>\n",
       "      <th>Year</th>\n",
       "      <th>Hours_watched</th>\n",
       "      <th>Hours_Streamed</th>\n",
       "      <th>Peak_viewers</th>\n",
       "      <th>Peak_channels</th>\n",
       "      <th>Streamers</th>\n",
       "      <th>Avg_viewers</th>\n",
       "      <th>Avg_channels</th>\n",
       "      <th>Avg_viewer_ratio</th>\n",
       "    </tr>\n",
       "    <tr>\n",
       "      <th>Rank</th>\n",
       "      <th></th>\n",
       "      <th></th>\n",
       "      <th></th>\n",
       "      <th></th>\n",
       "      <th></th>\n",
       "      <th></th>\n",
       "      <th></th>\n",
       "      <th></th>\n",
       "      <th></th>\n",
       "      <th></th>\n",
       "      <th></th>\n",
       "    </tr>\n",
       "  </thead>\n",
       "  <tbody>\n",
       "    <tr>\n",
       "      <th>1</th>\n",
       "      <td>League of Legends</td>\n",
       "      <td>1</td>\n",
       "      <td>2016</td>\n",
       "      <td>94377226</td>\n",
       "      <td>1362044 hours</td>\n",
       "      <td>530270</td>\n",
       "      <td>2903</td>\n",
       "      <td>129172</td>\n",
       "      <td>127021</td>\n",
       "      <td>1833</td>\n",
       "      <td>69.29</td>\n",
       "    </tr>\n",
       "    <tr>\n",
       "      <th>2</th>\n",
       "      <td>Counter-Strike: Global Offensive</td>\n",
       "      <td>1</td>\n",
       "      <td>2016</td>\n",
       "      <td>47832863</td>\n",
       "      <td>830105 hours</td>\n",
       "      <td>372654</td>\n",
       "      <td>2197</td>\n",
       "      <td>120849</td>\n",
       "      <td>64378</td>\n",
       "      <td>1117</td>\n",
       "      <td>57.62</td>\n",
       "    </tr>\n",
       "    <tr>\n",
       "      <th>3</th>\n",
       "      <td>Dota 2</td>\n",
       "      <td>1</td>\n",
       "      <td>2016</td>\n",
       "      <td>45185893</td>\n",
       "      <td>433397 hours</td>\n",
       "      <td>315083</td>\n",
       "      <td>1100</td>\n",
       "      <td>44074</td>\n",
       "      <td>60815</td>\n",
       "      <td>583</td>\n",
       "      <td>104.26</td>\n",
       "    </tr>\n",
       "    <tr>\n",
       "      <th>4</th>\n",
       "      <td>Hearthstone</td>\n",
       "      <td>1</td>\n",
       "      <td>2016</td>\n",
       "      <td>39936159</td>\n",
       "      <td>235903 hours</td>\n",
       "      <td>131357</td>\n",
       "      <td>517</td>\n",
       "      <td>36170</td>\n",
       "      <td>53749</td>\n",
       "      <td>317</td>\n",
       "      <td>169.29</td>\n",
       "    </tr>\n",
       "    <tr>\n",
       "      <th>5</th>\n",
       "      <td>Call of Duty: Black Ops III</td>\n",
       "      <td>1</td>\n",
       "      <td>2016</td>\n",
       "      <td>16153057</td>\n",
       "      <td>1151578 hours</td>\n",
       "      <td>71639</td>\n",
       "      <td>3620</td>\n",
       "      <td>214054</td>\n",
       "      <td>21740</td>\n",
       "      <td>1549</td>\n",
       "      <td>14.03</td>\n",
       "    </tr>\n",
       "    <tr>\n",
       "      <th>...</th>\n",
       "      <td>...</td>\n",
       "      <td>...</td>\n",
       "      <td>...</td>\n",
       "      <td>...</td>\n",
       "      <td>...</td>\n",
       "      <td>...</td>\n",
       "      <td>...</td>\n",
       "      <td>...</td>\n",
       "      <td>...</td>\n",
       "      <td>...</td>\n",
       "      <td>...</td>\n",
       "    </tr>\n",
       "    <tr>\n",
       "      <th>196</th>\n",
       "      <td>War Thunder</td>\n",
       "      <td>6</td>\n",
       "      <td>2021</td>\n",
       "      <td>704459</td>\n",
       "      <td>73613 hours</td>\n",
       "      <td>8812</td>\n",
       "      <td>223</td>\n",
       "      <td>7035</td>\n",
       "      <td>979</td>\n",
       "      <td>102</td>\n",
       "      <td>9.57</td>\n",
       "    </tr>\n",
       "    <tr>\n",
       "      <th>197</th>\n",
       "      <td>Muck</td>\n",
       "      <td>6</td>\n",
       "      <td>2021</td>\n",
       "      <td>701456</td>\n",
       "      <td>31741 hours</td>\n",
       "      <td>60091</td>\n",
       "      <td>112</td>\n",
       "      <td>8591</td>\n",
       "      <td>975</td>\n",
       "      <td>44</td>\n",
       "      <td>22.10</td>\n",
       "    </tr>\n",
       "    <tr>\n",
       "      <th>198</th>\n",
       "      <td>Trials Rising</td>\n",
       "      <td>6</td>\n",
       "      <td>2021</td>\n",
       "      <td>698899</td>\n",
       "      <td>4626 hours</td>\n",
       "      <td>217333</td>\n",
       "      <td>26</td>\n",
       "      <td>581</td>\n",
       "      <td>972</td>\n",
       "      <td>6</td>\n",
       "      <td>151.08</td>\n",
       "    </tr>\n",
       "    <tr>\n",
       "      <th>199</th>\n",
       "      <td>Little Nightmares II</td>\n",
       "      <td>6</td>\n",
       "      <td>2021</td>\n",
       "      <td>695130</td>\n",
       "      <td>27581 hours</td>\n",
       "      <td>43518</td>\n",
       "      <td>105</td>\n",
       "      <td>6128</td>\n",
       "      <td>966</td>\n",
       "      <td>38</td>\n",
       "      <td>25.20</td>\n",
       "    </tr>\n",
       "    <tr>\n",
       "      <th>200</th>\n",
       "      <td>Tabletop RPGs</td>\n",
       "      <td>6</td>\n",
       "      <td>2021</td>\n",
       "      <td>688130</td>\n",
       "      <td>23602 hours</td>\n",
       "      <td>20018</td>\n",
       "      <td>122</td>\n",
       "      <td>2567</td>\n",
       "      <td>957</td>\n",
       "      <td>32</td>\n",
       "      <td>29.16</td>\n",
       "    </tr>\n",
       "  </tbody>\n",
       "</table>\n",
       "<p>13200 rows × 11 columns</p>\n",
       "</div>"
      ],
      "text/plain": [
       "                                  Game  Month  Year  Hours_watched  \\\n",
       "Rank                                                                 \n",
       "1                    League of Legends      1  2016       94377226   \n",
       "2     Counter-Strike: Global Offensive      1  2016       47832863   \n",
       "3                               Dota 2      1  2016       45185893   \n",
       "4                          Hearthstone      1  2016       39936159   \n",
       "5          Call of Duty: Black Ops III      1  2016       16153057   \n",
       "...                                ...    ...   ...            ...   \n",
       "196                        War Thunder      6  2021         704459   \n",
       "197                               Muck      6  2021         701456   \n",
       "198                      Trials Rising      6  2021         698899   \n",
       "199               Little Nightmares II      6  2021         695130   \n",
       "200                      Tabletop RPGs      6  2021         688130   \n",
       "\n",
       "     Hours_Streamed  Peak_viewers  Peak_channels  Streamers  Avg_viewers  \\\n",
       "Rank                                                                       \n",
       "1     1362044 hours        530270           2903     129172       127021   \n",
       "2      830105 hours        372654           2197     120849        64378   \n",
       "3      433397 hours        315083           1100      44074        60815   \n",
       "4      235903 hours        131357            517      36170        53749   \n",
       "5     1151578 hours         71639           3620     214054        21740   \n",
       "...             ...           ...            ...        ...          ...   \n",
       "196     73613 hours          8812            223       7035          979   \n",
       "197     31741 hours         60091            112       8591          975   \n",
       "198      4626 hours        217333             26        581          972   \n",
       "199     27581 hours         43518            105       6128          966   \n",
       "200     23602 hours         20018            122       2567          957   \n",
       "\n",
       "      Avg_channels  Avg_viewer_ratio  \n",
       "Rank                                  \n",
       "1             1833             69.29  \n",
       "2             1117             57.62  \n",
       "3              583            104.26  \n",
       "4              317            169.29  \n",
       "5             1549             14.03  \n",
       "...            ...               ...  \n",
       "196            102              9.57  \n",
       "197             44             22.10  \n",
       "198              6            151.08  \n",
       "199             38             25.20  \n",
       "200             32             29.16  \n",
       "\n",
       "[13200 rows x 11 columns]"
      ]
     },
     "execution_count": 12,
     "metadata": {},
     "output_type": "execute_result"
    }
   ],
   "source": [
    "games"
   ]
  },
  {
   "cell_type": "markdown",
   "id": "overhead-cooling",
   "metadata": {
    "papermill": {
     "duration": 0.020198,
     "end_time": "2021-06-04T13:11:06.376705",
     "exception": false,
     "start_time": "2021-06-04T13:11:06.356507",
     "status": "completed"
    },
    "slideshow": {
     "slide_type": "subslide"
    },
    "tags": []
   },
   "source": [
    "In this code we are performing an operation between a lot of values on the left-hand side (everything in the Series) and a single value on the right-hand side (the mean value). Pandas looks at this expression and figures out that we must mean to subtract that mean value from every value in the dataset.\n",
    "\n",
    "Pandas will also understand what to do if we perform these operations between Series of equal length. For example, an easy way of combining games and hours streamed information in the dataset would be to do the following:"
   ]
  },
  {
   "cell_type": "code",
   "execution_count": 13,
   "id": "incorrect-advisory",
   "metadata": {
    "execution": {
     "iopub.execute_input": "2021-06-04T13:11:06.434515Z",
     "iopub.status.busy": "2021-06-04T13:11:06.422609Z",
     "iopub.status.idle": "2021-06-04T13:11:06.501330Z",
     "shell.execute_reply": "2021-06-04T13:11:06.500765Z"
    },
    "papermill": {
     "duration": 0.104111,
     "end_time": "2021-06-04T13:11:06.501476",
     "exception": false,
     "start_time": "2021-06-04T13:11:06.397365",
     "status": "completed"
    },
    "slideshow": {
     "slide_type": "subslide"
    },
    "tags": []
   },
   "outputs": [
    {
     "data": {
      "text/plain": [
       "Rank\n",
       "1                    League of Legends : 1362044 hours\n",
       "2      Counter-Strike: Global Offensive : 830105 hours\n",
       "3                                Dota 2 : 433397 hours\n",
       "4                           Hearthstone : 235903 hours\n",
       "5          Call of Duty: Black Ops III : 1151578 hours\n",
       "                            ...                       \n",
       "196                          War Thunder : 73613 hours\n",
       "197                                 Muck : 31741 hours\n",
       "198                         Trials Rising : 4626 hours\n",
       "199                 Little Nightmares II : 27581 hours\n",
       "200                        Tabletop RPGs : 23602 hours\n",
       "Length: 13200, dtype: object"
      ]
     },
     "execution_count": 13,
     "metadata": {},
     "output_type": "execute_result"
    }
   ],
   "source": [
    "games.Game + \" : \" + games.Hours_Streamed"
   ]
  },
  {
   "cell_type": "markdown",
   "id": "selected-physiology",
   "metadata": {
    "papermill": {
     "duration": 0.020611,
     "end_time": "2021-06-04T13:11:06.543029",
     "exception": false,
     "start_time": "2021-06-04T13:11:06.522418",
     "status": "completed"
    },
    "slideshow": {
     "slide_type": "subslide"
    },
    "tags": []
   },
   "source": [
    "These operators are faster than `map()` or `apply()` because they uses speed ups built into pandas. All of the standard Python operators (`>`, `<`, `==`, and so on) work in this manner.\n",
    "\n",
    "However, they are not as flexible as `map()` or `apply()`, which can do more advanced things, like applying conditional logic, which cannot be done with addition and subtraction alone."
   ]
  },
  {
   "cell_type": "markdown",
   "id": "a0c25963",
   "metadata": {},
   "source": [
    "# Contributors\n",
    "\n",
    "**Author**\n",
    "<br>Chee Lam"
   ]
  },
  {
   "cell_type": "markdown",
   "id": "9a33468c",
   "metadata": {},
   "source": [
    "# References\n",
    "\n",
    "1. [Learning Pandas](https://www.kaggle.com/learn/pandas)\n",
    "2. [Pandas Documentation](https://pandas.pydata.org/docs/reference/index.html)"
   ]
  }
 ],
 "metadata": {
  "kernelspec": {
   "display_name": "Python 3",
   "language": "python",
   "name": "python3"
  },
  "language_info": {
   "codemirror_mode": {
    "name": "ipython",
    "version": 3
   },
   "file_extension": ".py",
   "mimetype": "text/x-python",
   "name": "python",
   "nbconvert_exporter": "python",
   "pygments_lexer": "ipython3",
   "version": "3.8.8"
  },
  "papermill": {
   "default_parameters": {},
   "duration": 25.024631,
   "end_time": "2021-06-04T13:11:07.214716",
   "environment_variables": {},
   "exception": null,
   "input_path": "__notebook__.ipynb",
   "output_path": "__notebook__.ipynb",
   "parameters": {},
   "start_time": "2021-06-04T13:10:42.190085",
   "version": "2.3.2"
  }
 },
 "nbformat": 4,
 "nbformat_minor": 5
}
