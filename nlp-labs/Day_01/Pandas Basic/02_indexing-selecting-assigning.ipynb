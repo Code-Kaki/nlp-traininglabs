{
 "cells": [
  {
   "cell_type": "markdown",
   "id": "35163bc2",
   "metadata": {},
   "source": [
    "![license_header_logo](../../../images/license_header_logo.png)\n",
    "\n",
    "> **Copyright (c) 2021 CertifAI Sdn. Bhd.**<br>\n",
    "<br>\n",
    "This program is part of OSRFramework. You can redistribute it and/or modify\n",
    "<br>it under the terms of the GNU Affero General Public License as published by\n",
    "<br>the Free Software Foundation, either version 3 of the License, or\n",
    "<br>(at your option) any later version.\n",
    "<br>\n",
    "<br>This program is distributed in the hope that it will be useful\n",
    "<br>but WITHOUT ANY WARRANTY; without even the implied warranty of\n",
    "<br>MERCHANTABILITY or FITNESS FOR A PARTICULAR PURPOSE.  See the\n",
    "<br>GNU Affero General Public License for more details.\n",
    "<br>\n",
    "<br>You should have received a copy of the GNU Affero General Public License\n",
    "<br>along with this program.  If not, see <http://www.gnu.org/licenses/>.\n",
    "<br>"
   ]
  },
  {
   "cell_type": "markdown",
   "id": "printable-motivation",
   "metadata": {
    "papermill": {
     "duration": 0.030845,
     "end_time": "2021-06-04T13:10:20.720042",
     "exception": false,
     "start_time": "2021-06-04T13:10:20.689197",
     "status": "completed"
    },
    "slideshow": {
     "slide_type": "slide"
    },
    "tags": []
   },
   "source": [
    "# Introduction\n",
    "\n",
    "Selecting specific values of a pandas DataFrame or Series to work on is an implicit step in almost any data operation you'll run, so one of the first things you need to learn in working with data in Python is how to go about selecting the data points relevant to you quickly and effectively."
   ]
  },
  {
   "cell_type": "markdown",
   "id": "631d2649",
   "metadata": {},
   "source": [
    "# Notebook Content\n",
    "\n",
    "* [Native Accessors](#Native-accessors)\n",
    "\n",
    "\n",
    "* [Indexing in Pandas](#Indexing-in-pandas)\n",
    "    * [Index-based Selection](#Index-based-selection)\n",
    "    * [Label-based Selection](#Label-based-selection)\n",
    "    \n",
    "    \n",
    "* [Manipulating the Index](#Manipulating-the-index)\n",
    "\n",
    "\n",
    "* [Conditional Selection](#Conditional-selection)\n",
    "\n",
    "\n",
    "* [Assigning Data](#Assigning-data)"
   ]
  },
  {
   "cell_type": "code",
   "execution_count": 1,
   "id": "eligible-treasure",
   "metadata": {
    "_kg_hide-input": true,
    "execution": {
     "iopub.execute_input": "2021-06-04T13:10:20.785680Z",
     "iopub.status.busy": "2021-06-04T13:10:20.785048Z",
     "iopub.status.idle": "2021-06-04T13:10:22.606050Z",
     "shell.execute_reply": "2021-06-04T13:10:22.606614Z"
    },
    "papermill": {
     "duration": 1.856161,
     "end_time": "2021-06-04T13:10:22.606975",
     "exception": false,
     "start_time": "2021-06-04T13:10:20.750814",
     "status": "completed"
    },
    "slideshow": {
     "slide_type": "subslide"
    },
    "tags": []
   },
   "outputs": [],
   "source": [
    "import pandas as pd\n",
    "water_potability = pd.read_csv(\"../../../resources/day_01/water_potability.csv\")"
   ]
  },
  {
   "cell_type": "markdown",
   "id": "lyric-bullet",
   "metadata": {
    "papermill": {
     "duration": 0.030227,
     "end_time": "2021-06-04T13:10:22.729355",
     "exception": false,
     "start_time": "2021-06-04T13:10:22.699128",
     "status": "completed"
    },
    "slideshow": {
     "slide_type": "subslide"
    },
    "tags": []
   },
   "source": [
    "# Native accessors\n",
    "\n",
    "Native Python objects provide  good ways of indexing data. Pandas carries all of these over, which helps make it easy to start with.\n",
    "\n",
    "Consider this DataFrame:"
   ]
  },
  {
   "cell_type": "code",
   "execution_count": 2,
   "id": "vanilla-covering",
   "metadata": {
    "execution": {
     "iopub.execute_input": "2021-06-04T13:10:22.794539Z",
     "iopub.status.busy": "2021-06-04T13:10:22.793822Z",
     "iopub.status.idle": "2021-06-04T13:10:22.823896Z",
     "shell.execute_reply": "2021-06-04T13:10:22.824469Z"
    },
    "jupyter": {
     "outputs_hidden": true
    },
    "papermill": {
     "duration": 0.064315,
     "end_time": "2021-06-04T13:10:22.824681",
     "exception": false,
     "start_time": "2021-06-04T13:10:22.760366",
     "status": "completed"
    },
    "slideshow": {
     "slide_type": "subslide"
    },
    "tags": []
   },
   "outputs": [
    {
     "data": {
      "text/html": [
       "<div>\n",
       "<style scoped>\n",
       "    .dataframe tbody tr th:only-of-type {\n",
       "        vertical-align: middle;\n",
       "    }\n",
       "\n",
       "    .dataframe tbody tr th {\n",
       "        vertical-align: top;\n",
       "    }\n",
       "\n",
       "    .dataframe thead th {\n",
       "        text-align: right;\n",
       "    }\n",
       "</style>\n",
       "<table border=\"1\" class=\"dataframe\">\n",
       "  <thead>\n",
       "    <tr style=\"text-align: right;\">\n",
       "      <th></th>\n",
       "      <th>ph</th>\n",
       "      <th>Hardness</th>\n",
       "      <th>Solids</th>\n",
       "      <th>Chloramines</th>\n",
       "      <th>Sulfate</th>\n",
       "      <th>Conductivity</th>\n",
       "      <th>Organic_carbon</th>\n",
       "      <th>Trihalomethanes</th>\n",
       "      <th>Turbidity</th>\n",
       "      <th>Potability</th>\n",
       "    </tr>\n",
       "  </thead>\n",
       "  <tbody>\n",
       "    <tr>\n",
       "      <th>0</th>\n",
       "      <td>NaN</td>\n",
       "      <td>204.890455</td>\n",
       "      <td>20791.318981</td>\n",
       "      <td>7.300212</td>\n",
       "      <td>368.516441</td>\n",
       "      <td>564.308654</td>\n",
       "      <td>10.379783</td>\n",
       "      <td>86.990970</td>\n",
       "      <td>2.963135</td>\n",
       "      <td>0</td>\n",
       "    </tr>\n",
       "    <tr>\n",
       "      <th>1</th>\n",
       "      <td>3.716080</td>\n",
       "      <td>129.422921</td>\n",
       "      <td>18630.057858</td>\n",
       "      <td>6.635246</td>\n",
       "      <td>NaN</td>\n",
       "      <td>592.885359</td>\n",
       "      <td>15.180013</td>\n",
       "      <td>56.329076</td>\n",
       "      <td>4.500656</td>\n",
       "      <td>0</td>\n",
       "    </tr>\n",
       "    <tr>\n",
       "      <th>2</th>\n",
       "      <td>8.099124</td>\n",
       "      <td>224.236259</td>\n",
       "      <td>19909.541732</td>\n",
       "      <td>9.275884</td>\n",
       "      <td>NaN</td>\n",
       "      <td>418.606213</td>\n",
       "      <td>16.868637</td>\n",
       "      <td>66.420093</td>\n",
       "      <td>3.055934</td>\n",
       "      <td>0</td>\n",
       "    </tr>\n",
       "    <tr>\n",
       "      <th>3</th>\n",
       "      <td>8.316766</td>\n",
       "      <td>214.373394</td>\n",
       "      <td>22018.417441</td>\n",
       "      <td>8.059332</td>\n",
       "      <td>356.886136</td>\n",
       "      <td>363.266516</td>\n",
       "      <td>18.436524</td>\n",
       "      <td>100.341674</td>\n",
       "      <td>4.628771</td>\n",
       "      <td>0</td>\n",
       "    </tr>\n",
       "    <tr>\n",
       "      <th>4</th>\n",
       "      <td>9.092223</td>\n",
       "      <td>181.101509</td>\n",
       "      <td>17978.986339</td>\n",
       "      <td>6.546600</td>\n",
       "      <td>310.135738</td>\n",
       "      <td>398.410813</td>\n",
       "      <td>11.558279</td>\n",
       "      <td>31.997993</td>\n",
       "      <td>4.075075</td>\n",
       "      <td>0</td>\n",
       "    </tr>\n",
       "    <tr>\n",
       "      <th>...</th>\n",
       "      <td>...</td>\n",
       "      <td>...</td>\n",
       "      <td>...</td>\n",
       "      <td>...</td>\n",
       "      <td>...</td>\n",
       "      <td>...</td>\n",
       "      <td>...</td>\n",
       "      <td>...</td>\n",
       "      <td>...</td>\n",
       "      <td>...</td>\n",
       "    </tr>\n",
       "    <tr>\n",
       "      <th>3271</th>\n",
       "      <td>4.668102</td>\n",
       "      <td>193.681735</td>\n",
       "      <td>47580.991603</td>\n",
       "      <td>7.166639</td>\n",
       "      <td>359.948574</td>\n",
       "      <td>526.424171</td>\n",
       "      <td>13.894419</td>\n",
       "      <td>66.687695</td>\n",
       "      <td>4.435821</td>\n",
       "      <td>1</td>\n",
       "    </tr>\n",
       "    <tr>\n",
       "      <th>3272</th>\n",
       "      <td>7.808856</td>\n",
       "      <td>193.553212</td>\n",
       "      <td>17329.802160</td>\n",
       "      <td>8.061362</td>\n",
       "      <td>NaN</td>\n",
       "      <td>392.449580</td>\n",
       "      <td>19.903225</td>\n",
       "      <td>NaN</td>\n",
       "      <td>2.798243</td>\n",
       "      <td>1</td>\n",
       "    </tr>\n",
       "    <tr>\n",
       "      <th>3273</th>\n",
       "      <td>9.419510</td>\n",
       "      <td>175.762646</td>\n",
       "      <td>33155.578218</td>\n",
       "      <td>7.350233</td>\n",
       "      <td>NaN</td>\n",
       "      <td>432.044783</td>\n",
       "      <td>11.039070</td>\n",
       "      <td>69.845400</td>\n",
       "      <td>3.298875</td>\n",
       "      <td>1</td>\n",
       "    </tr>\n",
       "    <tr>\n",
       "      <th>3274</th>\n",
       "      <td>5.126763</td>\n",
       "      <td>230.603758</td>\n",
       "      <td>11983.869376</td>\n",
       "      <td>6.303357</td>\n",
       "      <td>NaN</td>\n",
       "      <td>402.883113</td>\n",
       "      <td>11.168946</td>\n",
       "      <td>77.488213</td>\n",
       "      <td>4.708658</td>\n",
       "      <td>1</td>\n",
       "    </tr>\n",
       "    <tr>\n",
       "      <th>3275</th>\n",
       "      <td>7.874671</td>\n",
       "      <td>195.102299</td>\n",
       "      <td>17404.177061</td>\n",
       "      <td>7.509306</td>\n",
       "      <td>NaN</td>\n",
       "      <td>327.459760</td>\n",
       "      <td>16.140368</td>\n",
       "      <td>78.698446</td>\n",
       "      <td>2.309149</td>\n",
       "      <td>1</td>\n",
       "    </tr>\n",
       "  </tbody>\n",
       "</table>\n",
       "<p>3276 rows × 10 columns</p>\n",
       "</div>"
      ],
      "text/plain": [
       "            ph    Hardness        Solids  Chloramines     Sulfate  \\\n",
       "0          NaN  204.890455  20791.318981     7.300212  368.516441   \n",
       "1     3.716080  129.422921  18630.057858     6.635246         NaN   \n",
       "2     8.099124  224.236259  19909.541732     9.275884         NaN   \n",
       "3     8.316766  214.373394  22018.417441     8.059332  356.886136   \n",
       "4     9.092223  181.101509  17978.986339     6.546600  310.135738   \n",
       "...        ...         ...           ...          ...         ...   \n",
       "3271  4.668102  193.681735  47580.991603     7.166639  359.948574   \n",
       "3272  7.808856  193.553212  17329.802160     8.061362         NaN   \n",
       "3273  9.419510  175.762646  33155.578218     7.350233         NaN   \n",
       "3274  5.126763  230.603758  11983.869376     6.303357         NaN   \n",
       "3275  7.874671  195.102299  17404.177061     7.509306         NaN   \n",
       "\n",
       "      Conductivity  Organic_carbon  Trihalomethanes  Turbidity  Potability  \n",
       "0       564.308654       10.379783        86.990970   2.963135           0  \n",
       "1       592.885359       15.180013        56.329076   4.500656           0  \n",
       "2       418.606213       16.868637        66.420093   3.055934           0  \n",
       "3       363.266516       18.436524       100.341674   4.628771           0  \n",
       "4       398.410813       11.558279        31.997993   4.075075           0  \n",
       "...            ...             ...              ...        ...         ...  \n",
       "3271    526.424171       13.894419        66.687695   4.435821           1  \n",
       "3272    392.449580       19.903225              NaN   2.798243           1  \n",
       "3273    432.044783       11.039070        69.845400   3.298875           1  \n",
       "3274    402.883113       11.168946        77.488213   4.708658           1  \n",
       "3275    327.459760       16.140368        78.698446   2.309149           1  \n",
       "\n",
       "[3276 rows x 10 columns]"
      ]
     },
     "execution_count": 2,
     "metadata": {},
     "output_type": "execute_result"
    }
   ],
   "source": [
    "water_potability"
   ]
  },
  {
   "cell_type": "markdown",
   "id": "amended-hundred",
   "metadata": {
    "papermill": {
     "duration": 0.031287,
     "end_time": "2021-06-04T13:10:22.887586",
     "exception": false,
     "start_time": "2021-06-04T13:10:22.856299",
     "status": "completed"
    },
    "slideshow": {
     "slide_type": "slide"
    },
    "tags": []
   },
   "source": [
    "In Python, we can access the property of an object by accessing it as an attribute. A `book` object, for example, might have a `title` property, which we can access by calling `book.title`. Columns in a pandas DataFrame work in much the same way. \n",
    "\n",
    "Hence to access the `ph` property of `water_potability` we can use:"
   ]
  },
  {
   "cell_type": "code",
   "execution_count": 3,
   "id": "statutory-cutting",
   "metadata": {
    "execution": {
     "iopub.execute_input": "2021-06-04T13:10:22.959333Z",
     "iopub.status.busy": "2021-06-04T13:10:22.958312Z",
     "iopub.status.idle": "2021-06-04T13:10:22.962503Z",
     "shell.execute_reply": "2021-06-04T13:10:22.961995Z"
    },
    "jupyter": {
     "outputs_hidden": true
    },
    "papermill": {
     "duration": 0.044373,
     "end_time": "2021-06-04T13:10:22.962680",
     "exception": false,
     "start_time": "2021-06-04T13:10:22.918307",
     "status": "completed"
    },
    "slideshow": {
     "slide_type": "subslide"
    },
    "tags": []
   },
   "outputs": [
    {
     "data": {
      "text/plain": [
       "0            NaN\n",
       "1       3.716080\n",
       "2       8.099124\n",
       "3       8.316766\n",
       "4       9.092223\n",
       "          ...   \n",
       "3271    4.668102\n",
       "3272    7.808856\n",
       "3273    9.419510\n",
       "3274    5.126763\n",
       "3275    7.874671\n",
       "Name: ph, Length: 3276, dtype: float64"
      ]
     },
     "execution_count": 3,
     "metadata": {},
     "output_type": "execute_result"
    }
   ],
   "source": [
    "water_potability.ph"
   ]
  },
  {
   "cell_type": "markdown",
   "id": "accepted-cincinnati",
   "metadata": {
    "papermill": {
     "duration": 0.031759,
     "end_time": "2021-06-04T13:10:23.025659",
     "exception": false,
     "start_time": "2021-06-04T13:10:22.993900",
     "status": "completed"
    },
    "slideshow": {
     "slide_type": "subslide"
    },
    "tags": []
   },
   "source": [
    "If we have a Python dictionary, we can access its values using the indexing (`[]`) operator. We can do the same with columns in a DataFrame:"
   ]
  },
  {
   "cell_type": "code",
   "execution_count": 4,
   "id": "magnetic-despite",
   "metadata": {
    "execution": {
     "iopub.execute_input": "2021-06-04T13:10:23.097837Z",
     "iopub.status.busy": "2021-06-04T13:10:23.096970Z",
     "iopub.status.idle": "2021-06-04T13:10:23.101171Z",
     "shell.execute_reply": "2021-06-04T13:10:23.100511Z"
    },
    "jupyter": {
     "outputs_hidden": true
    },
    "papermill": {
     "duration": 0.043286,
     "end_time": "2021-06-04T13:10:23.101325",
     "exception": false,
     "start_time": "2021-06-04T13:10:23.058039",
     "status": "completed"
    },
    "slideshow": {
     "slide_type": "subslide"
    },
    "tags": []
   },
   "outputs": [
    {
     "data": {
      "text/plain": [
       "0            NaN\n",
       "1       3.716080\n",
       "2       8.099124\n",
       "3       8.316766\n",
       "4       9.092223\n",
       "          ...   \n",
       "3271    4.668102\n",
       "3272    7.808856\n",
       "3273    9.419510\n",
       "3274    5.126763\n",
       "3275    7.874671\n",
       "Name: ph, Length: 3276, dtype: float64"
      ]
     },
     "execution_count": 4,
     "metadata": {},
     "output_type": "execute_result"
    }
   ],
   "source": [
    "water_potability['ph']"
   ]
  },
  {
   "cell_type": "markdown",
   "id": "continuing-ballet",
   "metadata": {
    "papermill": {
     "duration": 0.031759,
     "end_time": "2021-06-04T13:10:23.165254",
     "exception": false,
     "start_time": "2021-06-04T13:10:23.133495",
     "status": "completed"
    },
    "slideshow": {
     "slide_type": "subslide"
    },
    "tags": []
   },
   "source": [
    "These are the two ways of selecting a specific Series out of a DataFrame. Neither of them is more or less syntactically valid than the other, but the indexing operator `[]` does have the advantage that it can handle column names with reserved characters in them (e.g. if we had a `ph values` column, `reviews.ph values` wouldn't work).\n",
    "\n",
    "Doesn't a pandas Series look kind of like a fancy dictionary? It pretty much is, so it's no surprise that, to drill down to a single specific value, we need only use the indexing operator `[]` once more:"
   ]
  },
  {
   "cell_type": "code",
   "execution_count": 5,
   "id": "reverse-newman",
   "metadata": {
    "execution": {
     "iopub.execute_input": "2021-06-04T13:10:23.236259Z",
     "iopub.status.busy": "2021-06-04T13:10:23.235205Z",
     "iopub.status.idle": "2021-06-04T13:10:23.245668Z",
     "shell.execute_reply": "2021-06-04T13:10:23.244954Z"
    },
    "jupyter": {
     "outputs_hidden": true
    },
    "papermill": {
     "duration": 0.048049,
     "end_time": "2021-06-04T13:10:23.245830",
     "exception": false,
     "start_time": "2021-06-04T13:10:23.197781",
     "status": "completed"
    },
    "slideshow": {
     "slide_type": "subslide"
    },
    "tags": []
   },
   "outputs": [
    {
     "data": {
      "text/plain": [
       "7.360640105838258"
      ]
     },
     "execution_count": 5,
     "metadata": {},
     "output_type": "execute_result"
    }
   ],
   "source": [
    "water_potability['ph'][10]"
   ]
  },
  {
   "cell_type": "markdown",
   "id": "abroad-navigator",
   "metadata": {
    "papermill": {
     "duration": 0.030968,
     "end_time": "2021-06-04T13:10:23.308042",
     "exception": false,
     "start_time": "2021-06-04T13:10:23.277074",
     "status": "completed"
    },
    "slideshow": {
     "slide_type": "slide"
    },
    "tags": []
   },
   "source": [
    "# Indexing in pandas\n",
    "\n",
    "The indexing operator and attribute selection are nice because they work just like they do in the rest of the Python ecosystem. As a novice, this makes them easy to pick up and use. However, pandas has its own accessor operators, `loc` and `iloc`. For more advanced operations, these are the ones you're supposed to be using.\n",
    "\n",
    "### Index-based selection\n",
    "\n",
    "Pandas indexing works in one of two paradigms. The first is **index-based selection**: selecting data based on its numerical position in the data. `iloc` follows this paradigm.\n",
    "\n",
    "To select the first row of data in a DataFrame, we may use the following:"
   ]
  },
  {
   "cell_type": "code",
   "execution_count": 6,
   "id": "collective-evans",
   "metadata": {
    "execution": {
     "iopub.execute_input": "2021-06-04T13:10:23.378948Z",
     "iopub.status.busy": "2021-06-04T13:10:23.377889Z",
     "iopub.status.idle": "2021-06-04T13:10:23.382405Z",
     "shell.execute_reply": "2021-06-04T13:10:23.383044Z"
    },
    "jupyter": {
     "outputs_hidden": true
    },
    "papermill": {
     "duration": 0.043976,
     "end_time": "2021-06-04T13:10:23.383233",
     "exception": false,
     "start_time": "2021-06-04T13:10:23.339257",
     "status": "completed"
    },
    "slideshow": {
     "slide_type": "subslide"
    },
    "tags": []
   },
   "outputs": [
    {
     "data": {
      "text/plain": [
       "ph                          NaN\n",
       "Hardness             204.890455\n",
       "Solids             20791.318981\n",
       "Chloramines            7.300212\n",
       "Sulfate              368.516441\n",
       "Conductivity         564.308654\n",
       "Organic_carbon        10.379783\n",
       "Trihalomethanes       86.990970\n",
       "Turbidity              2.963135\n",
       "Potability             0.000000\n",
       "Name: 0, dtype: float64"
      ]
     },
     "execution_count": 6,
     "metadata": {},
     "output_type": "execute_result"
    }
   ],
   "source": [
    "water_potability.iloc[0]"
   ]
  },
  {
   "cell_type": "markdown",
   "id": "anonymous-intervention",
   "metadata": {
    "papermill": {
     "duration": 0.032806,
     "end_time": "2021-06-04T13:10:23.449168",
     "exception": false,
     "start_time": "2021-06-04T13:10:23.416362",
     "status": "completed"
    },
    "slideshow": {
     "slide_type": "subslide"
    },
    "tags": []
   },
   "source": [
    "Both `loc` and `iloc` are row-first, column-second. This is the opposite of what we do in native Python, which is column-first, row-second.\n",
    "\n",
    "This means that it's marginally easier to retrieve rows, and marginally harder to get retrieve columns. To get a column with `iloc`, we can do the following:"
   ]
  },
  {
   "cell_type": "code",
   "execution_count": 7,
   "id": "cognitive-myanmar",
   "metadata": {
    "execution": {
     "iopub.execute_input": "2021-06-04T13:10:23.519945Z",
     "iopub.status.busy": "2021-06-04T13:10:23.518907Z",
     "iopub.status.idle": "2021-06-04T13:10:23.527415Z",
     "shell.execute_reply": "2021-06-04T13:10:23.528066Z"
    },
    "jupyter": {
     "outputs_hidden": true
    },
    "papermill": {
     "duration": 0.045914,
     "end_time": "2021-06-04T13:10:23.528265",
     "exception": false,
     "start_time": "2021-06-04T13:10:23.482351",
     "status": "completed"
    },
    "slideshow": {
     "slide_type": "subslide"
    },
    "tags": []
   },
   "outputs": [
    {
     "data": {
      "text/plain": [
       "0            NaN\n",
       "1       3.716080\n",
       "2       8.099124\n",
       "3       8.316766\n",
       "4       9.092223\n",
       "          ...   \n",
       "3271    4.668102\n",
       "3272    7.808856\n",
       "3273    9.419510\n",
       "3274    5.126763\n",
       "3275    7.874671\n",
       "Name: ph, Length: 3276, dtype: float64"
      ]
     },
     "execution_count": 7,
     "metadata": {},
     "output_type": "execute_result"
    }
   ],
   "source": [
    "water_potability.iloc[:, 0]"
   ]
  },
  {
   "cell_type": "markdown",
   "id": "proof-growth",
   "metadata": {
    "papermill": {
     "duration": 0.03279,
     "end_time": "2021-06-04T13:10:23.594874",
     "exception": false,
     "start_time": "2021-06-04T13:10:23.562084",
     "status": "completed"
    },
    "slideshow": {
     "slide_type": "subslide"
    },
    "tags": []
   },
   "source": [
    "On its own, the `:` operator, which also comes from native Python, means \"everything\". When combined with other selectors, however, it can be used to indicate a range of values. For example, to select the `ph` column from just the first, second, and third row, we would do:"
   ]
  },
  {
   "cell_type": "code",
   "execution_count": 8,
   "id": "quantitative-profession",
   "metadata": {
    "execution": {
     "iopub.execute_input": "2021-06-04T13:10:23.666366Z",
     "iopub.status.busy": "2021-06-04T13:10:23.665275Z",
     "iopub.status.idle": "2021-06-04T13:10:23.673284Z",
     "shell.execute_reply": "2021-06-04T13:10:23.673969Z"
    },
    "jupyter": {
     "outputs_hidden": true
    },
    "papermill": {
     "duration": 0.045644,
     "end_time": "2021-06-04T13:10:23.674176",
     "exception": false,
     "start_time": "2021-06-04T13:10:23.628532",
     "status": "completed"
    },
    "slideshow": {
     "slide_type": "subslide"
    },
    "tags": []
   },
   "outputs": [
    {
     "data": {
      "text/plain": [
       "0         NaN\n",
       "1    3.716080\n",
       "2    8.099124\n",
       "Name: ph, dtype: float64"
      ]
     },
     "execution_count": 8,
     "metadata": {},
     "output_type": "execute_result"
    }
   ],
   "source": [
    "water_potability.iloc[:3, 0]"
   ]
  },
  {
   "cell_type": "markdown",
   "id": "generic-grant",
   "metadata": {
    "papermill": {
     "duration": 0.034039,
     "end_time": "2021-06-04T13:10:23.742410",
     "exception": false,
     "start_time": "2021-06-04T13:10:23.708371",
     "status": "completed"
    },
    "slideshow": {
     "slide_type": "subslide"
    },
    "tags": []
   },
   "source": [
    "Or, to select just the second and third entries, we would do:"
   ]
  },
  {
   "cell_type": "code",
   "execution_count": 9,
   "id": "common-chapel",
   "metadata": {
    "execution": {
     "iopub.execute_input": "2021-06-04T13:10:23.814976Z",
     "iopub.status.busy": "2021-06-04T13:10:23.813976Z",
     "iopub.status.idle": "2021-06-04T13:10:23.823038Z",
     "shell.execute_reply": "2021-06-04T13:10:23.822276Z"
    },
    "jupyter": {
     "outputs_hidden": true
    },
    "papermill": {
     "duration": 0.04652,
     "end_time": "2021-06-04T13:10:23.823211",
     "exception": false,
     "start_time": "2021-06-04T13:10:23.776691",
     "status": "completed"
    },
    "slideshow": {
     "slide_type": "subslide"
    },
    "tags": []
   },
   "outputs": [
    {
     "data": {
      "text/plain": [
       "1    3.716080\n",
       "2    8.099124\n",
       "Name: ph, dtype: float64"
      ]
     },
     "execution_count": 9,
     "metadata": {},
     "output_type": "execute_result"
    }
   ],
   "source": [
    "water_potability.iloc[1:3, 0]"
   ]
  },
  {
   "cell_type": "markdown",
   "id": "revised-choir",
   "metadata": {
    "papermill": {
     "duration": 0.034266,
     "end_time": "2021-06-04T13:10:23.893018",
     "exception": false,
     "start_time": "2021-06-04T13:10:23.858752",
     "status": "completed"
    },
    "slideshow": {
     "slide_type": "subslide"
    },
    "tags": []
   },
   "source": [
    "It's also possible to pass a list:"
   ]
  },
  {
   "cell_type": "code",
   "execution_count": 10,
   "id": "assigned-circumstances",
   "metadata": {
    "execution": {
     "iopub.execute_input": "2021-06-04T13:10:23.971151Z",
     "iopub.status.busy": "2021-06-04T13:10:23.970055Z",
     "iopub.status.idle": "2021-06-04T13:10:23.975093Z",
     "shell.execute_reply": "2021-06-04T13:10:23.974540Z"
    },
    "jupyter": {
     "outputs_hidden": true
    },
    "papermill": {
     "duration": 0.046793,
     "end_time": "2021-06-04T13:10:23.975251",
     "exception": false,
     "start_time": "2021-06-04T13:10:23.928458",
     "status": "completed"
    },
    "slideshow": {
     "slide_type": "subslide"
    },
    "tags": []
   },
   "outputs": [
    {
     "data": {
      "text/plain": [
       "0         NaN\n",
       "1    3.716080\n",
       "2    8.099124\n",
       "Name: ph, dtype: float64"
      ]
     },
     "execution_count": 10,
     "metadata": {},
     "output_type": "execute_result"
    }
   ],
   "source": [
    "water_potability.iloc[[0, 1, 2], 0]"
   ]
  },
  {
   "cell_type": "markdown",
   "id": "martial-sport",
   "metadata": {
    "papermill": {
     "duration": 0.035275,
     "end_time": "2021-06-04T13:10:24.047389",
     "exception": false,
     "start_time": "2021-06-04T13:10:24.012114",
     "status": "completed"
    },
    "slideshow": {
     "slide_type": "subslide"
    },
    "tags": []
   },
   "source": [
    "Finally, it's worth knowing that negative numbers can be used in selection. This will start counting forwards from the _end_ of the values. So for example here are the last five elements of the dataset."
   ]
  },
  {
   "cell_type": "code",
   "execution_count": 11,
   "id": "relevant-tournament",
   "metadata": {
    "execution": {
     "iopub.execute_input": "2021-06-04T13:10:24.137543Z",
     "iopub.status.busy": "2021-06-04T13:10:24.136430Z",
     "iopub.status.idle": "2021-06-04T13:10:24.141650Z",
     "shell.execute_reply": "2021-06-04T13:10:24.140954Z"
    },
    "jupyter": {
     "outputs_hidden": true
    },
    "papermill": {
     "duration": 0.059734,
     "end_time": "2021-06-04T13:10:24.141813",
     "exception": false,
     "start_time": "2021-06-04T13:10:24.082079",
     "status": "completed"
    },
    "slideshow": {
     "slide_type": "subslide"
    },
    "tags": []
   },
   "outputs": [
    {
     "data": {
      "text/html": [
       "<div>\n",
       "<style scoped>\n",
       "    .dataframe tbody tr th:only-of-type {\n",
       "        vertical-align: middle;\n",
       "    }\n",
       "\n",
       "    .dataframe tbody tr th {\n",
       "        vertical-align: top;\n",
       "    }\n",
       "\n",
       "    .dataframe thead th {\n",
       "        text-align: right;\n",
       "    }\n",
       "</style>\n",
       "<table border=\"1\" class=\"dataframe\">\n",
       "  <thead>\n",
       "    <tr style=\"text-align: right;\">\n",
       "      <th></th>\n",
       "      <th>ph</th>\n",
       "      <th>Hardness</th>\n",
       "      <th>Solids</th>\n",
       "      <th>Chloramines</th>\n",
       "      <th>Sulfate</th>\n",
       "      <th>Conductivity</th>\n",
       "      <th>Organic_carbon</th>\n",
       "      <th>Trihalomethanes</th>\n",
       "      <th>Turbidity</th>\n",
       "      <th>Potability</th>\n",
       "    </tr>\n",
       "  </thead>\n",
       "  <tbody>\n",
       "    <tr>\n",
       "      <th>3271</th>\n",
       "      <td>4.668102</td>\n",
       "      <td>193.681735</td>\n",
       "      <td>47580.991603</td>\n",
       "      <td>7.166639</td>\n",
       "      <td>359.948574</td>\n",
       "      <td>526.424171</td>\n",
       "      <td>13.894419</td>\n",
       "      <td>66.687695</td>\n",
       "      <td>4.435821</td>\n",
       "      <td>1</td>\n",
       "    </tr>\n",
       "    <tr>\n",
       "      <th>3272</th>\n",
       "      <td>7.808856</td>\n",
       "      <td>193.553212</td>\n",
       "      <td>17329.802160</td>\n",
       "      <td>8.061362</td>\n",
       "      <td>NaN</td>\n",
       "      <td>392.449580</td>\n",
       "      <td>19.903225</td>\n",
       "      <td>NaN</td>\n",
       "      <td>2.798243</td>\n",
       "      <td>1</td>\n",
       "    </tr>\n",
       "    <tr>\n",
       "      <th>3273</th>\n",
       "      <td>9.419510</td>\n",
       "      <td>175.762646</td>\n",
       "      <td>33155.578218</td>\n",
       "      <td>7.350233</td>\n",
       "      <td>NaN</td>\n",
       "      <td>432.044783</td>\n",
       "      <td>11.039070</td>\n",
       "      <td>69.845400</td>\n",
       "      <td>3.298875</td>\n",
       "      <td>1</td>\n",
       "    </tr>\n",
       "    <tr>\n",
       "      <th>3274</th>\n",
       "      <td>5.126763</td>\n",
       "      <td>230.603758</td>\n",
       "      <td>11983.869376</td>\n",
       "      <td>6.303357</td>\n",
       "      <td>NaN</td>\n",
       "      <td>402.883113</td>\n",
       "      <td>11.168946</td>\n",
       "      <td>77.488213</td>\n",
       "      <td>4.708658</td>\n",
       "      <td>1</td>\n",
       "    </tr>\n",
       "    <tr>\n",
       "      <th>3275</th>\n",
       "      <td>7.874671</td>\n",
       "      <td>195.102299</td>\n",
       "      <td>17404.177061</td>\n",
       "      <td>7.509306</td>\n",
       "      <td>NaN</td>\n",
       "      <td>327.459760</td>\n",
       "      <td>16.140368</td>\n",
       "      <td>78.698446</td>\n",
       "      <td>2.309149</td>\n",
       "      <td>1</td>\n",
       "    </tr>\n",
       "  </tbody>\n",
       "</table>\n",
       "</div>"
      ],
      "text/plain": [
       "            ph    Hardness        Solids  Chloramines     Sulfate  \\\n",
       "3271  4.668102  193.681735  47580.991603     7.166639  359.948574   \n",
       "3272  7.808856  193.553212  17329.802160     8.061362         NaN   \n",
       "3273  9.419510  175.762646  33155.578218     7.350233         NaN   \n",
       "3274  5.126763  230.603758  11983.869376     6.303357         NaN   \n",
       "3275  7.874671  195.102299  17404.177061     7.509306         NaN   \n",
       "\n",
       "      Conductivity  Organic_carbon  Trihalomethanes  Turbidity  Potability  \n",
       "3271    526.424171       13.894419        66.687695   4.435821           1  \n",
       "3272    392.449580       19.903225              NaN   2.798243           1  \n",
       "3273    432.044783       11.039070        69.845400   3.298875           1  \n",
       "3274    402.883113       11.168946        77.488213   4.708658           1  \n",
       "3275    327.459760       16.140368        78.698446   2.309149           1  "
      ]
     },
     "execution_count": 11,
     "metadata": {},
     "output_type": "execute_result"
    }
   ],
   "source": [
    "water_potability.iloc[-5:]"
   ]
  },
  {
   "cell_type": "markdown",
   "id": "alert-measurement",
   "metadata": {
    "papermill": {
     "duration": 0.034908,
     "end_time": "2021-06-04T13:10:24.212995",
     "exception": false,
     "start_time": "2021-06-04T13:10:24.178087",
     "status": "completed"
    },
    "slideshow": {
     "slide_type": "slide"
    },
    "tags": []
   },
   "source": [
    "### Label-based selection\n",
    "\n",
    "The second paradigm for attribute selection is the one followed by the `loc` operator: **label-based selection**. In this paradigm, it's the data index value, not its position, which matters.\n",
    "\n",
    "For example, to get the first entry in `reviews`, we would now do the following:"
   ]
  },
  {
   "cell_type": "code",
   "execution_count": 12,
   "id": "alleged-application",
   "metadata": {
    "execution": {
     "iopub.execute_input": "2021-06-04T13:10:24.290111Z",
     "iopub.status.busy": "2021-06-04T13:10:24.289198Z",
     "iopub.status.idle": "2021-06-04T13:10:24.294154Z",
     "shell.execute_reply": "2021-06-04T13:10:24.293599Z"
    },
    "jupyter": {
     "outputs_hidden": true
    },
    "papermill": {
     "duration": 0.045819,
     "end_time": "2021-06-04T13:10:24.294311",
     "exception": false,
     "start_time": "2021-06-04T13:10:24.248492",
     "status": "completed"
    },
    "scrolled": true,
    "slideshow": {
     "slide_type": "subslide"
    },
    "tags": []
   },
   "outputs": [
    {
     "data": {
      "text/plain": [
       "nan"
      ]
     },
     "execution_count": 12,
     "metadata": {},
     "output_type": "execute_result"
    }
   ],
   "source": [
    "water_potability.loc[0, 'ph']"
   ]
  },
  {
   "cell_type": "markdown",
   "id": "touched-revision",
   "metadata": {
    "papermill": {
     "duration": 0.036204,
     "end_time": "2021-06-04T13:10:24.366969",
     "exception": false,
     "start_time": "2021-06-04T13:10:24.330765",
     "status": "completed"
    },
    "slideshow": {
     "slide_type": "subslide"
    },
    "tags": []
   },
   "source": [
    "`iloc` is conceptually simpler than `loc` because it ignores the dataset's indices. When we use `iloc` we treat the dataset like a big matrix (a list of lists), one that we have to index into by position. `loc`, by contrast, uses the information in the indices to do its work. Since your dataset usually has meaningful indices, it's usually easier to do things using `loc` instead. For example, here's one operation that's much easier using `loc`:"
   ]
  },
  {
   "cell_type": "code",
   "execution_count": 13,
   "id": "tamil-berry",
   "metadata": {
    "execution": {
     "iopub.execute_input": "2021-06-04T13:10:24.447432Z",
     "iopub.status.busy": "2021-06-04T13:10:24.446337Z",
     "iopub.status.idle": "2021-06-04T13:10:24.460530Z",
     "shell.execute_reply": "2021-06-04T13:10:24.459947Z"
    },
    "jupyter": {
     "outputs_hidden": true
    },
    "papermill": {
     "duration": 0.05567,
     "end_time": "2021-06-04T13:10:24.460699",
     "exception": false,
     "start_time": "2021-06-04T13:10:24.405029",
     "status": "completed"
    },
    "scrolled": true,
    "slideshow": {
     "slide_type": "subslide"
    },
    "tags": []
   },
   "outputs": [
    {
     "data": {
      "text/html": [
       "<div>\n",
       "<style scoped>\n",
       "    .dataframe tbody tr th:only-of-type {\n",
       "        vertical-align: middle;\n",
       "    }\n",
       "\n",
       "    .dataframe tbody tr th {\n",
       "        vertical-align: top;\n",
       "    }\n",
       "\n",
       "    .dataframe thead th {\n",
       "        text-align: right;\n",
       "    }\n",
       "</style>\n",
       "<table border=\"1\" class=\"dataframe\">\n",
       "  <thead>\n",
       "    <tr style=\"text-align: right;\">\n",
       "      <th></th>\n",
       "      <th>Solids</th>\n",
       "      <th>Conductivity</th>\n",
       "      <th>Turbidity</th>\n",
       "    </tr>\n",
       "  </thead>\n",
       "  <tbody>\n",
       "    <tr>\n",
       "      <th>0</th>\n",
       "      <td>20791.318981</td>\n",
       "      <td>564.308654</td>\n",
       "      <td>2.963135</td>\n",
       "    </tr>\n",
       "    <tr>\n",
       "      <th>1</th>\n",
       "      <td>18630.057858</td>\n",
       "      <td>592.885359</td>\n",
       "      <td>4.500656</td>\n",
       "    </tr>\n",
       "    <tr>\n",
       "      <th>2</th>\n",
       "      <td>19909.541732</td>\n",
       "      <td>418.606213</td>\n",
       "      <td>3.055934</td>\n",
       "    </tr>\n",
       "    <tr>\n",
       "      <th>3</th>\n",
       "      <td>22018.417441</td>\n",
       "      <td>363.266516</td>\n",
       "      <td>4.628771</td>\n",
       "    </tr>\n",
       "    <tr>\n",
       "      <th>4</th>\n",
       "      <td>17978.986339</td>\n",
       "      <td>398.410813</td>\n",
       "      <td>4.075075</td>\n",
       "    </tr>\n",
       "    <tr>\n",
       "      <th>...</th>\n",
       "      <td>...</td>\n",
       "      <td>...</td>\n",
       "      <td>...</td>\n",
       "    </tr>\n",
       "    <tr>\n",
       "      <th>3271</th>\n",
       "      <td>47580.991603</td>\n",
       "      <td>526.424171</td>\n",
       "      <td>4.435821</td>\n",
       "    </tr>\n",
       "    <tr>\n",
       "      <th>3272</th>\n",
       "      <td>17329.802160</td>\n",
       "      <td>392.449580</td>\n",
       "      <td>2.798243</td>\n",
       "    </tr>\n",
       "    <tr>\n",
       "      <th>3273</th>\n",
       "      <td>33155.578218</td>\n",
       "      <td>432.044783</td>\n",
       "      <td>3.298875</td>\n",
       "    </tr>\n",
       "    <tr>\n",
       "      <th>3274</th>\n",
       "      <td>11983.869376</td>\n",
       "      <td>402.883113</td>\n",
       "      <td>4.708658</td>\n",
       "    </tr>\n",
       "    <tr>\n",
       "      <th>3275</th>\n",
       "      <td>17404.177061</td>\n",
       "      <td>327.459760</td>\n",
       "      <td>2.309149</td>\n",
       "    </tr>\n",
       "  </tbody>\n",
       "</table>\n",
       "<p>3276 rows × 3 columns</p>\n",
       "</div>"
      ],
      "text/plain": [
       "            Solids  Conductivity  Turbidity\n",
       "0     20791.318981    564.308654   2.963135\n",
       "1     18630.057858    592.885359   4.500656\n",
       "2     19909.541732    418.606213   3.055934\n",
       "3     22018.417441    363.266516   4.628771\n",
       "4     17978.986339    398.410813   4.075075\n",
       "...            ...           ...        ...\n",
       "3271  47580.991603    526.424171   4.435821\n",
       "3272  17329.802160    392.449580   2.798243\n",
       "3273  33155.578218    432.044783   3.298875\n",
       "3274  11983.869376    402.883113   4.708658\n",
       "3275  17404.177061    327.459760   2.309149\n",
       "\n",
       "[3276 rows x 3 columns]"
      ]
     },
     "execution_count": 13,
     "metadata": {},
     "output_type": "execute_result"
    }
   ],
   "source": [
    "water_potability.loc[:, ['Solids', 'Conductivity', 'Turbidity']]"
   ]
  },
  {
   "cell_type": "markdown",
   "id": "caroline-basement",
   "metadata": {
    "papermill": {
     "duration": 0.036254,
     "end_time": "2021-06-04T13:10:24.532694",
     "exception": false,
     "start_time": "2021-06-04T13:10:24.496440",
     "status": "completed"
    },
    "slideshow": {
     "slide_type": "subslide"
    },
    "tags": []
   },
   "source": [
    "### Choosing between `loc` and `iloc`\n",
    "\n",
    "When choosing or transitioning between `loc` and `iloc`, there is one \"gotcha\" worth keeping in mind, which is that the two methods use slightly different indexing schemes.\n",
    "\n",
    "`iloc` uses the Python stdlib indexing scheme, where the first element of the range is included and the last one excluded. So `0:10` will select entries `0,...,9`. `loc`, meanwhile, indexes inclusively. So `0:10` will select entries `0,...,10`.\n",
    "\n",
    "Why the change? Remember that loc can index any stdlib type: strings, for example. If we have a DataFrame with index values `Apples, ..., Potatoes, ...`, and we want to select \"all the alphabetical fruit choices between Apples and Potatoes\", then it's a lot more convenient to index `df.loc['Apples':'Potatoes']` than it is to index something like `df.loc['Apples', 'Potatoet']` (`t` coming after `s` in the alphabet).\n",
    "\n",
    "This is particularly confusing when the DataFrame index is a simple numerical list, e.g. `0,...,1000`. In this case `df.iloc[0:1000]` will return 1000 entries, while `df.loc[0:1000]` return 1001 of them! To get 1000 elements using `loc`, you will need to go one lower and ask for `df.loc[0:999]`. \n",
    "\n",
    "Otherwise, the semantics of using `loc` are the same as those for `iloc`."
   ]
  },
  {
   "cell_type": "markdown",
   "id": "comparative-camera",
   "metadata": {
    "papermill": {
     "duration": 0.037061,
     "end_time": "2021-06-04T13:10:24.607195",
     "exception": false,
     "start_time": "2021-06-04T13:10:24.570134",
     "status": "completed"
    },
    "slideshow": {
     "slide_type": "slide"
    },
    "tags": []
   },
   "source": [
    "# Manipulating the index\n",
    "\n",
    "Label-based selection derives its power from the labels in the index. Critically, the index we use is not immutable. We can manipulate the index in any way we see fit.\n",
    "\n",
    "The `set_index()` method can be used to do the job. Here is what happens when we `set_index` to the `title` field:"
   ]
  },
  {
   "cell_type": "code",
   "execution_count": 14,
   "id": "legitimate-arcade",
   "metadata": {
    "execution": {
     "iopub.execute_input": "2021-06-04T13:10:24.685930Z",
     "iopub.status.busy": "2021-06-04T13:10:24.685143Z",
     "iopub.status.idle": "2021-06-04T13:10:24.754458Z",
     "shell.execute_reply": "2021-06-04T13:10:24.753896Z"
    },
    "jupyter": {
     "outputs_hidden": true
    },
    "papermill": {
     "duration": 0.110487,
     "end_time": "2021-06-04T13:10:24.754654",
     "exception": false,
     "start_time": "2021-06-04T13:10:24.644167",
     "status": "completed"
    },
    "scrolled": true,
    "slideshow": {
     "slide_type": "subslide"
    },
    "tags": []
   },
   "outputs": [
    {
     "data": {
      "text/html": [
       "<div>\n",
       "<style scoped>\n",
       "    .dataframe tbody tr th:only-of-type {\n",
       "        vertical-align: middle;\n",
       "    }\n",
       "\n",
       "    .dataframe tbody tr th {\n",
       "        vertical-align: top;\n",
       "    }\n",
       "\n",
       "    .dataframe thead th {\n",
       "        text-align: right;\n",
       "    }\n",
       "</style>\n",
       "<table border=\"1\" class=\"dataframe\">\n",
       "  <thead>\n",
       "    <tr style=\"text-align: right;\">\n",
       "      <th></th>\n",
       "      <th>Hardness</th>\n",
       "      <th>Solids</th>\n",
       "      <th>Chloramines</th>\n",
       "      <th>Sulfate</th>\n",
       "      <th>Conductivity</th>\n",
       "      <th>Organic_carbon</th>\n",
       "      <th>Trihalomethanes</th>\n",
       "      <th>Turbidity</th>\n",
       "      <th>Potability</th>\n",
       "    </tr>\n",
       "    <tr>\n",
       "      <th>ph</th>\n",
       "      <th></th>\n",
       "      <th></th>\n",
       "      <th></th>\n",
       "      <th></th>\n",
       "      <th></th>\n",
       "      <th></th>\n",
       "      <th></th>\n",
       "      <th></th>\n",
       "      <th></th>\n",
       "    </tr>\n",
       "  </thead>\n",
       "  <tbody>\n",
       "    <tr>\n",
       "      <th>NaN</th>\n",
       "      <td>204.890455</td>\n",
       "      <td>20791.318981</td>\n",
       "      <td>7.300212</td>\n",
       "      <td>368.516441</td>\n",
       "      <td>564.308654</td>\n",
       "      <td>10.379783</td>\n",
       "      <td>86.990970</td>\n",
       "      <td>2.963135</td>\n",
       "      <td>0</td>\n",
       "    </tr>\n",
       "    <tr>\n",
       "      <th>3.716080</th>\n",
       "      <td>129.422921</td>\n",
       "      <td>18630.057858</td>\n",
       "      <td>6.635246</td>\n",
       "      <td>NaN</td>\n",
       "      <td>592.885359</td>\n",
       "      <td>15.180013</td>\n",
       "      <td>56.329076</td>\n",
       "      <td>4.500656</td>\n",
       "      <td>0</td>\n",
       "    </tr>\n",
       "    <tr>\n",
       "      <th>8.099124</th>\n",
       "      <td>224.236259</td>\n",
       "      <td>19909.541732</td>\n",
       "      <td>9.275884</td>\n",
       "      <td>NaN</td>\n",
       "      <td>418.606213</td>\n",
       "      <td>16.868637</td>\n",
       "      <td>66.420093</td>\n",
       "      <td>3.055934</td>\n",
       "      <td>0</td>\n",
       "    </tr>\n",
       "    <tr>\n",
       "      <th>8.316766</th>\n",
       "      <td>214.373394</td>\n",
       "      <td>22018.417441</td>\n",
       "      <td>8.059332</td>\n",
       "      <td>356.886136</td>\n",
       "      <td>363.266516</td>\n",
       "      <td>18.436524</td>\n",
       "      <td>100.341674</td>\n",
       "      <td>4.628771</td>\n",
       "      <td>0</td>\n",
       "    </tr>\n",
       "    <tr>\n",
       "      <th>9.092223</th>\n",
       "      <td>181.101509</td>\n",
       "      <td>17978.986339</td>\n",
       "      <td>6.546600</td>\n",
       "      <td>310.135738</td>\n",
       "      <td>398.410813</td>\n",
       "      <td>11.558279</td>\n",
       "      <td>31.997993</td>\n",
       "      <td>4.075075</td>\n",
       "      <td>0</td>\n",
       "    </tr>\n",
       "    <tr>\n",
       "      <th>...</th>\n",
       "      <td>...</td>\n",
       "      <td>...</td>\n",
       "      <td>...</td>\n",
       "      <td>...</td>\n",
       "      <td>...</td>\n",
       "      <td>...</td>\n",
       "      <td>...</td>\n",
       "      <td>...</td>\n",
       "      <td>...</td>\n",
       "    </tr>\n",
       "    <tr>\n",
       "      <th>4.668102</th>\n",
       "      <td>193.681735</td>\n",
       "      <td>47580.991603</td>\n",
       "      <td>7.166639</td>\n",
       "      <td>359.948574</td>\n",
       "      <td>526.424171</td>\n",
       "      <td>13.894419</td>\n",
       "      <td>66.687695</td>\n",
       "      <td>4.435821</td>\n",
       "      <td>1</td>\n",
       "    </tr>\n",
       "    <tr>\n",
       "      <th>7.808856</th>\n",
       "      <td>193.553212</td>\n",
       "      <td>17329.802160</td>\n",
       "      <td>8.061362</td>\n",
       "      <td>NaN</td>\n",
       "      <td>392.449580</td>\n",
       "      <td>19.903225</td>\n",
       "      <td>NaN</td>\n",
       "      <td>2.798243</td>\n",
       "      <td>1</td>\n",
       "    </tr>\n",
       "    <tr>\n",
       "      <th>9.419510</th>\n",
       "      <td>175.762646</td>\n",
       "      <td>33155.578218</td>\n",
       "      <td>7.350233</td>\n",
       "      <td>NaN</td>\n",
       "      <td>432.044783</td>\n",
       "      <td>11.039070</td>\n",
       "      <td>69.845400</td>\n",
       "      <td>3.298875</td>\n",
       "      <td>1</td>\n",
       "    </tr>\n",
       "    <tr>\n",
       "      <th>5.126763</th>\n",
       "      <td>230.603758</td>\n",
       "      <td>11983.869376</td>\n",
       "      <td>6.303357</td>\n",
       "      <td>NaN</td>\n",
       "      <td>402.883113</td>\n",
       "      <td>11.168946</td>\n",
       "      <td>77.488213</td>\n",
       "      <td>4.708658</td>\n",
       "      <td>1</td>\n",
       "    </tr>\n",
       "    <tr>\n",
       "      <th>7.874671</th>\n",
       "      <td>195.102299</td>\n",
       "      <td>17404.177061</td>\n",
       "      <td>7.509306</td>\n",
       "      <td>NaN</td>\n",
       "      <td>327.459760</td>\n",
       "      <td>16.140368</td>\n",
       "      <td>78.698446</td>\n",
       "      <td>2.309149</td>\n",
       "      <td>1</td>\n",
       "    </tr>\n",
       "  </tbody>\n",
       "</table>\n",
       "<p>3276 rows × 9 columns</p>\n",
       "</div>"
      ],
      "text/plain": [
       "            Hardness        Solids  Chloramines     Sulfate  Conductivity  \\\n",
       "ph                                                                          \n",
       "NaN       204.890455  20791.318981     7.300212  368.516441    564.308654   \n",
       "3.716080  129.422921  18630.057858     6.635246         NaN    592.885359   \n",
       "8.099124  224.236259  19909.541732     9.275884         NaN    418.606213   \n",
       "8.316766  214.373394  22018.417441     8.059332  356.886136    363.266516   \n",
       "9.092223  181.101509  17978.986339     6.546600  310.135738    398.410813   \n",
       "...              ...           ...          ...         ...           ...   \n",
       "4.668102  193.681735  47580.991603     7.166639  359.948574    526.424171   \n",
       "7.808856  193.553212  17329.802160     8.061362         NaN    392.449580   \n",
       "9.419510  175.762646  33155.578218     7.350233         NaN    432.044783   \n",
       "5.126763  230.603758  11983.869376     6.303357         NaN    402.883113   \n",
       "7.874671  195.102299  17404.177061     7.509306         NaN    327.459760   \n",
       "\n",
       "          Organic_carbon  Trihalomethanes  Turbidity  Potability  \n",
       "ph                                                                \n",
       "NaN            10.379783        86.990970   2.963135           0  \n",
       "3.716080       15.180013        56.329076   4.500656           0  \n",
       "8.099124       16.868637        66.420093   3.055934           0  \n",
       "8.316766       18.436524       100.341674   4.628771           0  \n",
       "9.092223       11.558279        31.997993   4.075075           0  \n",
       "...                  ...              ...        ...         ...  \n",
       "4.668102       13.894419        66.687695   4.435821           1  \n",
       "7.808856       19.903225              NaN   2.798243           1  \n",
       "9.419510       11.039070        69.845400   3.298875           1  \n",
       "5.126763       11.168946        77.488213   4.708658           1  \n",
       "7.874671       16.140368        78.698446   2.309149           1  \n",
       "\n",
       "[3276 rows x 9 columns]"
      ]
     },
     "execution_count": 14,
     "metadata": {},
     "output_type": "execute_result"
    }
   ],
   "source": [
    "water_potability.set_index(\"ph\")"
   ]
  },
  {
   "cell_type": "markdown",
   "id": "jewish-colors",
   "metadata": {
    "papermill": {
     "duration": 0.036215,
     "end_time": "2021-06-04T13:10:24.828081",
     "exception": false,
     "start_time": "2021-06-04T13:10:24.791866",
     "status": "completed"
    },
    "slideshow": {
     "slide_type": "subslide"
    },
    "tags": []
   },
   "source": [
    "This is useful if you can come up with an index for the dataset which is better than the current one."
   ]
  },
  {
   "cell_type": "markdown",
   "id": "dying-discharge",
   "metadata": {
    "papermill": {
     "duration": 0.036151,
     "end_time": "2021-06-04T13:10:24.900815",
     "exception": false,
     "start_time": "2021-06-04T13:10:24.864664",
     "status": "completed"
    },
    "slideshow": {
     "slide_type": "slide"
    },
    "tags": []
   },
   "source": [
    "# Conditional selection\n",
    "\n",
    "So far we've been indexing various strides of data, using structural properties of the DataFrame itself. To do *interesting* things with the data, however, we often need to ask questions based on conditions. \n",
    "\n",
    "For example, suppose that we're interested specifically in soils that have potability == 1.\n",
    "\n",
    "We can start by checking if each soild has potability == 1:"
   ]
  },
  {
   "cell_type": "code",
   "execution_count": 15,
   "id": "differential-conservative",
   "metadata": {
    "execution": {
     "iopub.execute_input": "2021-06-04T13:10:25.001985Z",
     "iopub.status.busy": "2021-06-04T13:10:25.001114Z",
     "iopub.status.idle": "2021-06-04T13:10:25.004749Z",
     "shell.execute_reply": "2021-06-04T13:10:25.005460Z"
    },
    "jupyter": {
     "outputs_hidden": true
    },
    "papermill": {
     "duration": 0.066673,
     "end_time": "2021-06-04T13:10:25.005921",
     "exception": false,
     "start_time": "2021-06-04T13:10:24.939248",
     "status": "completed"
    },
    "scrolled": true,
    "slideshow": {
     "slide_type": "subslide"
    },
    "tags": []
   },
   "outputs": [
    {
     "data": {
      "text/plain": [
       "0       False\n",
       "1       False\n",
       "2       False\n",
       "3       False\n",
       "4       False\n",
       "        ...  \n",
       "3271     True\n",
       "3272     True\n",
       "3273     True\n",
       "3274     True\n",
       "3275     True\n",
       "Name: Potability, Length: 3276, dtype: bool"
      ]
     },
     "execution_count": 15,
     "metadata": {},
     "output_type": "execute_result"
    }
   ],
   "source": [
    "water_potability.Potability == 1"
   ]
  },
  {
   "cell_type": "markdown",
   "id": "powered-nation",
   "metadata": {
    "papermill": {
     "duration": 0.037731,
     "end_time": "2021-06-04T13:10:25.082404",
     "exception": false,
     "start_time": "2021-06-04T13:10:25.044673",
     "status": "completed"
    },
    "slideshow": {
     "slide_type": "subslide"
    },
    "tags": []
   },
   "source": [
    "This operation produced a Series of `True`/`False` booleans based on the `country` of each record.  This result can then be used inside of `loc` to select the relevant data:"
   ]
  },
  {
   "cell_type": "code",
   "execution_count": 16,
   "id": "adapted-scope",
   "metadata": {
    "execution": {
     "iopub.execute_input": "2021-06-04T13:10:25.162129Z",
     "iopub.status.busy": "2021-06-04T13:10:25.161429Z",
     "iopub.status.idle": "2021-06-04T13:10:25.211403Z",
     "shell.execute_reply": "2021-06-04T13:10:25.210614Z"
    },
    "jupyter": {
     "outputs_hidden": true
    },
    "papermill": {
     "duration": 0.091434,
     "end_time": "2021-06-04T13:10:25.211598",
     "exception": false,
     "start_time": "2021-06-04T13:10:25.120164",
     "status": "completed"
    },
    "scrolled": true,
    "slideshow": {
     "slide_type": "subslide"
    },
    "tags": []
   },
   "outputs": [
    {
     "data": {
      "text/html": [
       "<div>\n",
       "<style scoped>\n",
       "    .dataframe tbody tr th:only-of-type {\n",
       "        vertical-align: middle;\n",
       "    }\n",
       "\n",
       "    .dataframe tbody tr th {\n",
       "        vertical-align: top;\n",
       "    }\n",
       "\n",
       "    .dataframe thead th {\n",
       "        text-align: right;\n",
       "    }\n",
       "</style>\n",
       "<table border=\"1\" class=\"dataframe\">\n",
       "  <thead>\n",
       "    <tr style=\"text-align: right;\">\n",
       "      <th></th>\n",
       "      <th>ph</th>\n",
       "      <th>Hardness</th>\n",
       "      <th>Solids</th>\n",
       "      <th>Chloramines</th>\n",
       "      <th>Sulfate</th>\n",
       "      <th>Conductivity</th>\n",
       "      <th>Organic_carbon</th>\n",
       "      <th>Trihalomethanes</th>\n",
       "      <th>Turbidity</th>\n",
       "      <th>Potability</th>\n",
       "    </tr>\n",
       "  </thead>\n",
       "  <tbody>\n",
       "    <tr>\n",
       "      <th>250</th>\n",
       "      <td>9.445130</td>\n",
       "      <td>145.805402</td>\n",
       "      <td>13168.529156</td>\n",
       "      <td>9.444471</td>\n",
       "      <td>310.583374</td>\n",
       "      <td>592.659021</td>\n",
       "      <td>8.606397</td>\n",
       "      <td>77.577460</td>\n",
       "      <td>3.875165</td>\n",
       "      <td>1</td>\n",
       "    </tr>\n",
       "    <tr>\n",
       "      <th>251</th>\n",
       "      <td>9.024845</td>\n",
       "      <td>128.096691</td>\n",
       "      <td>19859.676476</td>\n",
       "      <td>8.016423</td>\n",
       "      <td>300.150377</td>\n",
       "      <td>451.143481</td>\n",
       "      <td>14.770863</td>\n",
       "      <td>73.778026</td>\n",
       "      <td>3.985251</td>\n",
       "      <td>1</td>\n",
       "    </tr>\n",
       "    <tr>\n",
       "      <th>252</th>\n",
       "      <td>NaN</td>\n",
       "      <td>169.974849</td>\n",
       "      <td>23403.637304</td>\n",
       "      <td>8.519730</td>\n",
       "      <td>NaN</td>\n",
       "      <td>475.573562</td>\n",
       "      <td>12.924107</td>\n",
       "      <td>50.861913</td>\n",
       "      <td>2.747313</td>\n",
       "      <td>1</td>\n",
       "    </tr>\n",
       "    <tr>\n",
       "      <th>253</th>\n",
       "      <td>6.800119</td>\n",
       "      <td>242.008082</td>\n",
       "      <td>39143.403329</td>\n",
       "      <td>9.501695</td>\n",
       "      <td>187.170714</td>\n",
       "      <td>376.456593</td>\n",
       "      <td>11.432466</td>\n",
       "      <td>73.777275</td>\n",
       "      <td>3.854940</td>\n",
       "      <td>1</td>\n",
       "    </tr>\n",
       "    <tr>\n",
       "      <th>254</th>\n",
       "      <td>7.174135</td>\n",
       "      <td>203.408935</td>\n",
       "      <td>20401.102461</td>\n",
       "      <td>7.681806</td>\n",
       "      <td>287.085679</td>\n",
       "      <td>315.549900</td>\n",
       "      <td>14.533510</td>\n",
       "      <td>74.405616</td>\n",
       "      <td>3.939896</td>\n",
       "      <td>1</td>\n",
       "    </tr>\n",
       "    <tr>\n",
       "      <th>...</th>\n",
       "      <td>...</td>\n",
       "      <td>...</td>\n",
       "      <td>...</td>\n",
       "      <td>...</td>\n",
       "      <td>...</td>\n",
       "      <td>...</td>\n",
       "      <td>...</td>\n",
       "      <td>...</td>\n",
       "      <td>...</td>\n",
       "      <td>...</td>\n",
       "    </tr>\n",
       "    <tr>\n",
       "      <th>3271</th>\n",
       "      <td>4.668102</td>\n",
       "      <td>193.681735</td>\n",
       "      <td>47580.991603</td>\n",
       "      <td>7.166639</td>\n",
       "      <td>359.948574</td>\n",
       "      <td>526.424171</td>\n",
       "      <td>13.894419</td>\n",
       "      <td>66.687695</td>\n",
       "      <td>4.435821</td>\n",
       "      <td>1</td>\n",
       "    </tr>\n",
       "    <tr>\n",
       "      <th>3272</th>\n",
       "      <td>7.808856</td>\n",
       "      <td>193.553212</td>\n",
       "      <td>17329.802160</td>\n",
       "      <td>8.061362</td>\n",
       "      <td>NaN</td>\n",
       "      <td>392.449580</td>\n",
       "      <td>19.903225</td>\n",
       "      <td>NaN</td>\n",
       "      <td>2.798243</td>\n",
       "      <td>1</td>\n",
       "    </tr>\n",
       "    <tr>\n",
       "      <th>3273</th>\n",
       "      <td>9.419510</td>\n",
       "      <td>175.762646</td>\n",
       "      <td>33155.578218</td>\n",
       "      <td>7.350233</td>\n",
       "      <td>NaN</td>\n",
       "      <td>432.044783</td>\n",
       "      <td>11.039070</td>\n",
       "      <td>69.845400</td>\n",
       "      <td>3.298875</td>\n",
       "      <td>1</td>\n",
       "    </tr>\n",
       "    <tr>\n",
       "      <th>3274</th>\n",
       "      <td>5.126763</td>\n",
       "      <td>230.603758</td>\n",
       "      <td>11983.869376</td>\n",
       "      <td>6.303357</td>\n",
       "      <td>NaN</td>\n",
       "      <td>402.883113</td>\n",
       "      <td>11.168946</td>\n",
       "      <td>77.488213</td>\n",
       "      <td>4.708658</td>\n",
       "      <td>1</td>\n",
       "    </tr>\n",
       "    <tr>\n",
       "      <th>3275</th>\n",
       "      <td>7.874671</td>\n",
       "      <td>195.102299</td>\n",
       "      <td>17404.177061</td>\n",
       "      <td>7.509306</td>\n",
       "      <td>NaN</td>\n",
       "      <td>327.459760</td>\n",
       "      <td>16.140368</td>\n",
       "      <td>78.698446</td>\n",
       "      <td>2.309149</td>\n",
       "      <td>1</td>\n",
       "    </tr>\n",
       "  </tbody>\n",
       "</table>\n",
       "<p>1278 rows × 10 columns</p>\n",
       "</div>"
      ],
      "text/plain": [
       "            ph    Hardness        Solids  Chloramines     Sulfate  \\\n",
       "250   9.445130  145.805402  13168.529156     9.444471  310.583374   \n",
       "251   9.024845  128.096691  19859.676476     8.016423  300.150377   \n",
       "252        NaN  169.974849  23403.637304     8.519730         NaN   \n",
       "253   6.800119  242.008082  39143.403329     9.501695  187.170714   \n",
       "254   7.174135  203.408935  20401.102461     7.681806  287.085679   \n",
       "...        ...         ...           ...          ...         ...   \n",
       "3271  4.668102  193.681735  47580.991603     7.166639  359.948574   \n",
       "3272  7.808856  193.553212  17329.802160     8.061362         NaN   \n",
       "3273  9.419510  175.762646  33155.578218     7.350233         NaN   \n",
       "3274  5.126763  230.603758  11983.869376     6.303357         NaN   \n",
       "3275  7.874671  195.102299  17404.177061     7.509306         NaN   \n",
       "\n",
       "      Conductivity  Organic_carbon  Trihalomethanes  Turbidity  Potability  \n",
       "250     592.659021        8.606397        77.577460   3.875165           1  \n",
       "251     451.143481       14.770863        73.778026   3.985251           1  \n",
       "252     475.573562       12.924107        50.861913   2.747313           1  \n",
       "253     376.456593       11.432466        73.777275   3.854940           1  \n",
       "254     315.549900       14.533510        74.405616   3.939896           1  \n",
       "...            ...             ...              ...        ...         ...  \n",
       "3271    526.424171       13.894419        66.687695   4.435821           1  \n",
       "3272    392.449580       19.903225              NaN   2.798243           1  \n",
       "3273    432.044783       11.039070        69.845400   3.298875           1  \n",
       "3274    402.883113       11.168946        77.488213   4.708658           1  \n",
       "3275    327.459760       16.140368        78.698446   2.309149           1  \n",
       "\n",
       "[1278 rows x 10 columns]"
      ]
     },
     "execution_count": 16,
     "metadata": {},
     "output_type": "execute_result"
    }
   ],
   "source": [
    "water_potability.loc[water_potability.Potability == 1]"
   ]
  },
  {
   "cell_type": "markdown",
   "id": "velvet-implement",
   "metadata": {
    "papermill": {
     "duration": 0.038133,
     "end_time": "2021-06-04T13:10:25.288109",
     "exception": false,
     "start_time": "2021-06-04T13:10:25.249976",
     "status": "completed"
    },
    "slideshow": {
     "slide_type": "subslide"
    },
    "tags": []
   },
   "source": [
    "This DataFrame has ~1,200 rows. The original had ~3,000. That means that around 40% of solid has potability == 1.\n",
    "\n",
    "We also wanted to know which ones are better solids. Solids which have ph values between 6.0 to 7.0 are consider good solids.\n",
    "\n",
    "We can use the ampersand (`&`) to bring the two questions together:"
   ]
  },
  {
   "cell_type": "code",
   "execution_count": 17,
   "id": "elder-appearance",
   "metadata": {
    "execution": {
     "iopub.execute_input": "2021-06-04T13:10:25.387949Z",
     "iopub.status.busy": "2021-06-04T13:10:25.387197Z",
     "iopub.status.idle": "2021-06-04T13:10:25.428651Z",
     "shell.execute_reply": "2021-06-04T13:10:25.429248Z"
    },
    "jupyter": {
     "outputs_hidden": true
    },
    "papermill": {
     "duration": 0.103349,
     "end_time": "2021-06-04T13:10:25.429500",
     "exception": false,
     "start_time": "2021-06-04T13:10:25.326151",
     "status": "completed"
    },
    "scrolled": true,
    "slideshow": {
     "slide_type": "subslide"
    },
    "tags": []
   },
   "outputs": [
    {
     "data": {
      "text/html": [
       "<div>\n",
       "<style scoped>\n",
       "    .dataframe tbody tr th:only-of-type {\n",
       "        vertical-align: middle;\n",
       "    }\n",
       "\n",
       "    .dataframe tbody tr th {\n",
       "        vertical-align: top;\n",
       "    }\n",
       "\n",
       "    .dataframe thead th {\n",
       "        text-align: right;\n",
       "    }\n",
       "</style>\n",
       "<table border=\"1\" class=\"dataframe\">\n",
       "  <thead>\n",
       "    <tr style=\"text-align: right;\">\n",
       "      <th></th>\n",
       "      <th>ph</th>\n",
       "      <th>Hardness</th>\n",
       "      <th>Solids</th>\n",
       "      <th>Chloramines</th>\n",
       "      <th>Sulfate</th>\n",
       "      <th>Conductivity</th>\n",
       "      <th>Organic_carbon</th>\n",
       "      <th>Trihalomethanes</th>\n",
       "      <th>Turbidity</th>\n",
       "      <th>Potability</th>\n",
       "    </tr>\n",
       "  </thead>\n",
       "  <tbody>\n",
       "    <tr>\n",
       "      <th>253</th>\n",
       "      <td>6.800119</td>\n",
       "      <td>242.008082</td>\n",
       "      <td>39143.403329</td>\n",
       "      <td>9.501695</td>\n",
       "      <td>187.170714</td>\n",
       "      <td>376.456593</td>\n",
       "      <td>11.432466</td>\n",
       "      <td>73.777275</td>\n",
       "      <td>3.854940</td>\n",
       "      <td>1</td>\n",
       "    </tr>\n",
       "    <tr>\n",
       "      <th>259</th>\n",
       "      <td>6.101955</td>\n",
       "      <td>215.268090</td>\n",
       "      <td>15976.926225</td>\n",
       "      <td>8.857160</td>\n",
       "      <td>308.482695</td>\n",
       "      <td>417.843553</td>\n",
       "      <td>13.147279</td>\n",
       "      <td>62.505642</td>\n",
       "      <td>3.535596</td>\n",
       "      <td>1</td>\n",
       "    </tr>\n",
       "    <tr>\n",
       "      <th>262</th>\n",
       "      <td>6.548021</td>\n",
       "      <td>278.585105</td>\n",
       "      <td>25508.386949</td>\n",
       "      <td>6.749378</td>\n",
       "      <td>366.871502</td>\n",
       "      <td>497.321753</td>\n",
       "      <td>16.563167</td>\n",
       "      <td>79.323678</td>\n",
       "      <td>3.611860</td>\n",
       "      <td>1</td>\n",
       "    </tr>\n",
       "    <tr>\n",
       "      <th>264</th>\n",
       "      <td>6.618011</td>\n",
       "      <td>233.661636</td>\n",
       "      <td>19598.860740</td>\n",
       "      <td>4.701049</td>\n",
       "      <td>432.556385</td>\n",
       "      <td>401.669791</td>\n",
       "      <td>11.766146</td>\n",
       "      <td>73.191921</td>\n",
       "      <td>4.437696</td>\n",
       "      <td>1</td>\n",
       "    </tr>\n",
       "    <tr>\n",
       "      <th>268</th>\n",
       "      <td>6.869639</td>\n",
       "      <td>251.293448</td>\n",
       "      <td>21728.821295</td>\n",
       "      <td>8.803175</td>\n",
       "      <td>279.776857</td>\n",
       "      <td>539.466877</td>\n",
       "      <td>12.994140</td>\n",
       "      <td>56.409708</td>\n",
       "      <td>4.726702</td>\n",
       "      <td>1</td>\n",
       "    </tr>\n",
       "    <tr>\n",
       "      <th>...</th>\n",
       "      <td>...</td>\n",
       "      <td>...</td>\n",
       "      <td>...</td>\n",
       "      <td>...</td>\n",
       "      <td>...</td>\n",
       "      <td>...</td>\n",
       "      <td>...</td>\n",
       "      <td>...</td>\n",
       "      <td>...</td>\n",
       "      <td>...</td>\n",
       "    </tr>\n",
       "    <tr>\n",
       "      <th>3257</th>\n",
       "      <td>6.683368</td>\n",
       "      <td>272.111698</td>\n",
       "      <td>18989.316768</td>\n",
       "      <td>5.336202</td>\n",
       "      <td>336.555100</td>\n",
       "      <td>307.725009</td>\n",
       "      <td>20.178716</td>\n",
       "      <td>75.402260</td>\n",
       "      <td>5.208061</td>\n",
       "      <td>1</td>\n",
       "    </tr>\n",
       "    <tr>\n",
       "      <th>3258</th>\n",
       "      <td>6.638411</td>\n",
       "      <td>180.826667</td>\n",
       "      <td>9772.504814</td>\n",
       "      <td>8.295983</td>\n",
       "      <td>NaN</td>\n",
       "      <td>401.111143</td>\n",
       "      <td>12.601517</td>\n",
       "      <td>61.051889</td>\n",
       "      <td>5.164057</td>\n",
       "      <td>1</td>\n",
       "    </tr>\n",
       "    <tr>\n",
       "      <th>3263</th>\n",
       "      <td>6.923636</td>\n",
       "      <td>260.593154</td>\n",
       "      <td>24792.525623</td>\n",
       "      <td>5.501164</td>\n",
       "      <td>332.232177</td>\n",
       "      <td>607.773567</td>\n",
       "      <td>15.483027</td>\n",
       "      <td>51.535867</td>\n",
       "      <td>4.013339</td>\n",
       "      <td>1</td>\n",
       "    </tr>\n",
       "    <tr>\n",
       "      <th>3268</th>\n",
       "      <td>6.702547</td>\n",
       "      <td>207.321086</td>\n",
       "      <td>17246.920347</td>\n",
       "      <td>7.708117</td>\n",
       "      <td>304.510230</td>\n",
       "      <td>329.266002</td>\n",
       "      <td>16.217303</td>\n",
       "      <td>28.878601</td>\n",
       "      <td>3.442983</td>\n",
       "      <td>1</td>\n",
       "    </tr>\n",
       "    <tr>\n",
       "      <th>3270</th>\n",
       "      <td>6.069616</td>\n",
       "      <td>186.659040</td>\n",
       "      <td>26138.780191</td>\n",
       "      <td>7.747547</td>\n",
       "      <td>345.700257</td>\n",
       "      <td>415.886955</td>\n",
       "      <td>12.067620</td>\n",
       "      <td>60.419921</td>\n",
       "      <td>3.669712</td>\n",
       "      <td>1</td>\n",
       "    </tr>\n",
       "  </tbody>\n",
       "</table>\n",
       "<p>304 rows × 10 columns</p>\n",
       "</div>"
      ],
      "text/plain": [
       "            ph    Hardness        Solids  Chloramines     Sulfate  \\\n",
       "253   6.800119  242.008082  39143.403329     9.501695  187.170714   \n",
       "259   6.101955  215.268090  15976.926225     8.857160  308.482695   \n",
       "262   6.548021  278.585105  25508.386949     6.749378  366.871502   \n",
       "264   6.618011  233.661636  19598.860740     4.701049  432.556385   \n",
       "268   6.869639  251.293448  21728.821295     8.803175  279.776857   \n",
       "...        ...         ...           ...          ...         ...   \n",
       "3257  6.683368  272.111698  18989.316768     5.336202  336.555100   \n",
       "3258  6.638411  180.826667   9772.504814     8.295983         NaN   \n",
       "3263  6.923636  260.593154  24792.525623     5.501164  332.232177   \n",
       "3268  6.702547  207.321086  17246.920347     7.708117  304.510230   \n",
       "3270  6.069616  186.659040  26138.780191     7.747547  345.700257   \n",
       "\n",
       "      Conductivity  Organic_carbon  Trihalomethanes  Turbidity  Potability  \n",
       "253     376.456593       11.432466        73.777275   3.854940           1  \n",
       "259     417.843553       13.147279        62.505642   3.535596           1  \n",
       "262     497.321753       16.563167        79.323678   3.611860           1  \n",
       "264     401.669791       11.766146        73.191921   4.437696           1  \n",
       "268     539.466877       12.994140        56.409708   4.726702           1  \n",
       "...            ...             ...              ...        ...         ...  \n",
       "3257    307.725009       20.178716        75.402260   5.208061           1  \n",
       "3258    401.111143       12.601517        61.051889   5.164057           1  \n",
       "3263    607.773567       15.483027        51.535867   4.013339           1  \n",
       "3268    329.266002       16.217303        28.878601   3.442983           1  \n",
       "3270    415.886955       12.067620        60.419921   3.669712           1  \n",
       "\n",
       "[304 rows x 10 columns]"
      ]
     },
     "execution_count": 17,
     "metadata": {},
     "output_type": "execute_result"
    }
   ],
   "source": [
    "water_potability.loc[(water_potability.Potability == 1) & (water_potability.ph >= 6.0) & (water_potability.ph <= 7.0)]"
   ]
  },
  {
   "cell_type": "markdown",
   "id": "promotional-transition",
   "metadata": {
    "papermill": {
     "duration": 0.040451,
     "end_time": "2021-06-04T13:10:25.510972",
     "exception": false,
     "start_time": "2021-06-04T13:10:25.470521",
     "status": "completed"
    },
    "slideshow": {
     "slide_type": "slide"
    },
    "tags": []
   },
   "source": [
    "Suppose we'll buy any solid that has high organic carbon (>18) or high turbidity (>5). For this we use a pipe (`|`):"
   ]
  },
  {
   "cell_type": "code",
   "execution_count": 18,
   "id": "particular-miami",
   "metadata": {
    "execution": {
     "iopub.execute_input": "2021-06-04T13:10:25.614836Z",
     "iopub.status.busy": "2021-06-04T13:10:25.614106Z",
     "iopub.status.idle": "2021-06-04T13:10:25.647485Z",
     "shell.execute_reply": "2021-06-04T13:10:25.648040Z"
    },
    "jupyter": {
     "outputs_hidden": true
    },
    "papermill": {
     "duration": 0.097511,
     "end_time": "2021-06-04T13:10:25.648260",
     "exception": false,
     "start_time": "2021-06-04T13:10:25.550749",
     "status": "completed"
    },
    "scrolled": true,
    "slideshow": {
     "slide_type": "subslide"
    },
    "tags": []
   },
   "outputs": [
    {
     "data": {
      "text/html": [
       "<div>\n",
       "<style scoped>\n",
       "    .dataframe tbody tr th:only-of-type {\n",
       "        vertical-align: middle;\n",
       "    }\n",
       "\n",
       "    .dataframe tbody tr th {\n",
       "        vertical-align: top;\n",
       "    }\n",
       "\n",
       "    .dataframe thead th {\n",
       "        text-align: right;\n",
       "    }\n",
       "</style>\n",
       "<table border=\"1\" class=\"dataframe\">\n",
       "  <thead>\n",
       "    <tr style=\"text-align: right;\">\n",
       "      <th></th>\n",
       "      <th>ph</th>\n",
       "      <th>Hardness</th>\n",
       "      <th>Solids</th>\n",
       "      <th>Chloramines</th>\n",
       "      <th>Sulfate</th>\n",
       "      <th>Conductivity</th>\n",
       "      <th>Organic_carbon</th>\n",
       "      <th>Trihalomethanes</th>\n",
       "      <th>Turbidity</th>\n",
       "      <th>Potability</th>\n",
       "    </tr>\n",
       "  </thead>\n",
       "  <tbody>\n",
       "    <tr>\n",
       "      <th>3</th>\n",
       "      <td>8.316766</td>\n",
       "      <td>214.373394</td>\n",
       "      <td>22018.417441</td>\n",
       "      <td>8.059332</td>\n",
       "      <td>356.886136</td>\n",
       "      <td>363.266516</td>\n",
       "      <td>18.436524</td>\n",
       "      <td>100.341674</td>\n",
       "      <td>4.628771</td>\n",
       "      <td>0</td>\n",
       "    </tr>\n",
       "    <tr>\n",
       "      <th>13</th>\n",
       "      <td>NaN</td>\n",
       "      <td>150.174923</td>\n",
       "      <td>27331.361962</td>\n",
       "      <td>6.838223</td>\n",
       "      <td>299.415781</td>\n",
       "      <td>379.761835</td>\n",
       "      <td>19.370807</td>\n",
       "      <td>76.509996</td>\n",
       "      <td>4.413974</td>\n",
       "      <td>0</td>\n",
       "    </tr>\n",
       "    <tr>\n",
       "      <th>16</th>\n",
       "      <td>7.051786</td>\n",
       "      <td>211.049406</td>\n",
       "      <td>30980.600787</td>\n",
       "      <td>10.094796</td>\n",
       "      <td>NaN</td>\n",
       "      <td>315.141267</td>\n",
       "      <td>20.397022</td>\n",
       "      <td>56.651604</td>\n",
       "      <td>4.268429</td>\n",
       "      <td>0</td>\n",
       "    </tr>\n",
       "    <tr>\n",
       "      <th>22</th>\n",
       "      <td>NaN</td>\n",
       "      <td>215.977859</td>\n",
       "      <td>17107.224226</td>\n",
       "      <td>5.607060</td>\n",
       "      <td>326.943978</td>\n",
       "      <td>436.256194</td>\n",
       "      <td>14.189062</td>\n",
       "      <td>59.855476</td>\n",
       "      <td>5.459251</td>\n",
       "      <td>0</td>\n",
       "    </tr>\n",
       "    <tr>\n",
       "      <th>25</th>\n",
       "      <td>6.514415</td>\n",
       "      <td>198.767351</td>\n",
       "      <td>21218.702871</td>\n",
       "      <td>8.670937</td>\n",
       "      <td>323.596349</td>\n",
       "      <td>413.290450</td>\n",
       "      <td>14.900000</td>\n",
       "      <td>79.847843</td>\n",
       "      <td>5.200885</td>\n",
       "      <td>0</td>\n",
       "    </tr>\n",
       "    <tr>\n",
       "      <th>...</th>\n",
       "      <td>...</td>\n",
       "      <td>...</td>\n",
       "      <td>...</td>\n",
       "      <td>...</td>\n",
       "      <td>...</td>\n",
       "      <td>...</td>\n",
       "      <td>...</td>\n",
       "      <td>...</td>\n",
       "      <td>...</td>\n",
       "      <td>...</td>\n",
       "    </tr>\n",
       "    <tr>\n",
       "      <th>3248</th>\n",
       "      <td>6.260111</td>\n",
       "      <td>211.594112</td>\n",
       "      <td>18577.623969</td>\n",
       "      <td>7.154891</td>\n",
       "      <td>340.792574</td>\n",
       "      <td>357.098395</td>\n",
       "      <td>7.992210</td>\n",
       "      <td>82.365378</td>\n",
       "      <td>5.403615</td>\n",
       "      <td>1</td>\n",
       "    </tr>\n",
       "    <tr>\n",
       "      <th>3257</th>\n",
       "      <td>6.683368</td>\n",
       "      <td>272.111698</td>\n",
       "      <td>18989.316768</td>\n",
       "      <td>5.336202</td>\n",
       "      <td>336.555100</td>\n",
       "      <td>307.725009</td>\n",
       "      <td>20.178716</td>\n",
       "      <td>75.402260</td>\n",
       "      <td>5.208061</td>\n",
       "      <td>1</td>\n",
       "    </tr>\n",
       "    <tr>\n",
       "      <th>3258</th>\n",
       "      <td>6.638411</td>\n",
       "      <td>180.826667</td>\n",
       "      <td>9772.504814</td>\n",
       "      <td>8.295983</td>\n",
       "      <td>NaN</td>\n",
       "      <td>401.111143</td>\n",
       "      <td>12.601517</td>\n",
       "      <td>61.051889</td>\n",
       "      <td>5.164057</td>\n",
       "      <td>1</td>\n",
       "    </tr>\n",
       "    <tr>\n",
       "      <th>3264</th>\n",
       "      <td>5.893103</td>\n",
       "      <td>239.269481</td>\n",
       "      <td>20526.666156</td>\n",
       "      <td>6.349561</td>\n",
       "      <td>341.256362</td>\n",
       "      <td>403.617560</td>\n",
       "      <td>18.963707</td>\n",
       "      <td>63.846319</td>\n",
       "      <td>4.390702</td>\n",
       "      <td>1</td>\n",
       "    </tr>\n",
       "    <tr>\n",
       "      <th>3272</th>\n",
       "      <td>7.808856</td>\n",
       "      <td>193.553212</td>\n",
       "      <td>17329.802160</td>\n",
       "      <td>8.061362</td>\n",
       "      <td>NaN</td>\n",
       "      <td>392.449580</td>\n",
       "      <td>19.903225</td>\n",
       "      <td>NaN</td>\n",
       "      <td>2.798243</td>\n",
       "      <td>1</td>\n",
       "    </tr>\n",
       "  </tbody>\n",
       "</table>\n",
       "<p>717 rows × 10 columns</p>\n",
       "</div>"
      ],
      "text/plain": [
       "            ph    Hardness        Solids  Chloramines     Sulfate  \\\n",
       "3     8.316766  214.373394  22018.417441     8.059332  356.886136   \n",
       "13         NaN  150.174923  27331.361962     6.838223  299.415781   \n",
       "16    7.051786  211.049406  30980.600787    10.094796         NaN   \n",
       "22         NaN  215.977859  17107.224226     5.607060  326.943978   \n",
       "25    6.514415  198.767351  21218.702871     8.670937  323.596349   \n",
       "...        ...         ...           ...          ...         ...   \n",
       "3248  6.260111  211.594112  18577.623969     7.154891  340.792574   \n",
       "3257  6.683368  272.111698  18989.316768     5.336202  336.555100   \n",
       "3258  6.638411  180.826667   9772.504814     8.295983         NaN   \n",
       "3264  5.893103  239.269481  20526.666156     6.349561  341.256362   \n",
       "3272  7.808856  193.553212  17329.802160     8.061362         NaN   \n",
       "\n",
       "      Conductivity  Organic_carbon  Trihalomethanes  Turbidity  Potability  \n",
       "3       363.266516       18.436524       100.341674   4.628771           0  \n",
       "13      379.761835       19.370807        76.509996   4.413974           0  \n",
       "16      315.141267       20.397022        56.651604   4.268429           0  \n",
       "22      436.256194       14.189062        59.855476   5.459251           0  \n",
       "25      413.290450       14.900000        79.847843   5.200885           0  \n",
       "...            ...             ...              ...        ...         ...  \n",
       "3248    357.098395        7.992210        82.365378   5.403615           1  \n",
       "3257    307.725009       20.178716        75.402260   5.208061           1  \n",
       "3258    401.111143       12.601517        61.051889   5.164057           1  \n",
       "3264    403.617560       18.963707        63.846319   4.390702           1  \n",
       "3272    392.449580       19.903225              NaN   2.798243           1  \n",
       "\n",
       "[717 rows x 10 columns]"
      ]
     },
     "execution_count": 18,
     "metadata": {},
     "output_type": "execute_result"
    }
   ],
   "source": [
    "water_potability.loc[(water_potability.Organic_carbon > 18) | (water_potability.Turbidity >= 5)]"
   ]
  },
  {
   "cell_type": "markdown",
   "id": "572b0cc8",
   "metadata": {
    "slideshow": {
     "slide_type": "subslide"
    }
   },
   "source": [
    "Get all the solids that have known sulfate value."
   ]
  },
  {
   "cell_type": "code",
   "execution_count": 19,
   "id": "individual-letter",
   "metadata": {
    "execution": {
     "iopub.execute_input": "2021-06-04T13:10:26.024017Z",
     "iopub.status.busy": "2021-06-04T13:10:26.023161Z",
     "iopub.status.idle": "2021-06-04T13:10:26.069819Z",
     "shell.execute_reply": "2021-06-04T13:10:26.070361Z"
    },
    "jupyter": {
     "outputs_hidden": true
    },
    "papermill": {
     "duration": 0.091841,
     "end_time": "2021-06-04T13:10:26.070608",
     "exception": false,
     "start_time": "2021-06-04T13:10:25.978767",
     "status": "completed"
    },
    "slideshow": {
     "slide_type": "subslide"
    },
    "tags": []
   },
   "outputs": [
    {
     "data": {
      "text/html": [
       "<div>\n",
       "<style scoped>\n",
       "    .dataframe tbody tr th:only-of-type {\n",
       "        vertical-align: middle;\n",
       "    }\n",
       "\n",
       "    .dataframe tbody tr th {\n",
       "        vertical-align: top;\n",
       "    }\n",
       "\n",
       "    .dataframe thead th {\n",
       "        text-align: right;\n",
       "    }\n",
       "</style>\n",
       "<table border=\"1\" class=\"dataframe\">\n",
       "  <thead>\n",
       "    <tr style=\"text-align: right;\">\n",
       "      <th></th>\n",
       "      <th>ph</th>\n",
       "      <th>Hardness</th>\n",
       "      <th>Solids</th>\n",
       "      <th>Chloramines</th>\n",
       "      <th>Sulfate</th>\n",
       "      <th>Conductivity</th>\n",
       "      <th>Organic_carbon</th>\n",
       "      <th>Trihalomethanes</th>\n",
       "      <th>Turbidity</th>\n",
       "      <th>Potability</th>\n",
       "    </tr>\n",
       "  </thead>\n",
       "  <tbody>\n",
       "    <tr>\n",
       "      <th>0</th>\n",
       "      <td>NaN</td>\n",
       "      <td>204.890455</td>\n",
       "      <td>20791.318981</td>\n",
       "      <td>7.300212</td>\n",
       "      <td>368.516441</td>\n",
       "      <td>564.308654</td>\n",
       "      <td>10.379783</td>\n",
       "      <td>86.990970</td>\n",
       "      <td>2.963135</td>\n",
       "      <td>0</td>\n",
       "    </tr>\n",
       "    <tr>\n",
       "      <th>3</th>\n",
       "      <td>8.316766</td>\n",
       "      <td>214.373394</td>\n",
       "      <td>22018.417441</td>\n",
       "      <td>8.059332</td>\n",
       "      <td>356.886136</td>\n",
       "      <td>363.266516</td>\n",
       "      <td>18.436524</td>\n",
       "      <td>100.341674</td>\n",
       "      <td>4.628771</td>\n",
       "      <td>0</td>\n",
       "    </tr>\n",
       "    <tr>\n",
       "      <th>4</th>\n",
       "      <td>9.092223</td>\n",
       "      <td>181.101509</td>\n",
       "      <td>17978.986339</td>\n",
       "      <td>6.546600</td>\n",
       "      <td>310.135738</td>\n",
       "      <td>398.410813</td>\n",
       "      <td>11.558279</td>\n",
       "      <td>31.997993</td>\n",
       "      <td>4.075075</td>\n",
       "      <td>0</td>\n",
       "    </tr>\n",
       "    <tr>\n",
       "      <th>5</th>\n",
       "      <td>5.584087</td>\n",
       "      <td>188.313324</td>\n",
       "      <td>28748.687739</td>\n",
       "      <td>7.544869</td>\n",
       "      <td>326.678363</td>\n",
       "      <td>280.467916</td>\n",
       "      <td>8.399735</td>\n",
       "      <td>54.917862</td>\n",
       "      <td>2.559708</td>\n",
       "      <td>0</td>\n",
       "    </tr>\n",
       "    <tr>\n",
       "      <th>6</th>\n",
       "      <td>10.223862</td>\n",
       "      <td>248.071735</td>\n",
       "      <td>28749.716544</td>\n",
       "      <td>7.513408</td>\n",
       "      <td>393.663396</td>\n",
       "      <td>283.651634</td>\n",
       "      <td>13.789695</td>\n",
       "      <td>84.603556</td>\n",
       "      <td>2.672989</td>\n",
       "      <td>0</td>\n",
       "    </tr>\n",
       "    <tr>\n",
       "      <th>...</th>\n",
       "      <td>...</td>\n",
       "      <td>...</td>\n",
       "      <td>...</td>\n",
       "      <td>...</td>\n",
       "      <td>...</td>\n",
       "      <td>...</td>\n",
       "      <td>...</td>\n",
       "      <td>...</td>\n",
       "      <td>...</td>\n",
       "      <td>...</td>\n",
       "    </tr>\n",
       "    <tr>\n",
       "      <th>3267</th>\n",
       "      <td>8.989900</td>\n",
       "      <td>215.047358</td>\n",
       "      <td>15921.412018</td>\n",
       "      <td>6.297312</td>\n",
       "      <td>312.931022</td>\n",
       "      <td>390.410231</td>\n",
       "      <td>9.899115</td>\n",
       "      <td>55.069304</td>\n",
       "      <td>4.613843</td>\n",
       "      <td>1</td>\n",
       "    </tr>\n",
       "    <tr>\n",
       "      <th>3268</th>\n",
       "      <td>6.702547</td>\n",
       "      <td>207.321086</td>\n",
       "      <td>17246.920347</td>\n",
       "      <td>7.708117</td>\n",
       "      <td>304.510230</td>\n",
       "      <td>329.266002</td>\n",
       "      <td>16.217303</td>\n",
       "      <td>28.878601</td>\n",
       "      <td>3.442983</td>\n",
       "      <td>1</td>\n",
       "    </tr>\n",
       "    <tr>\n",
       "      <th>3269</th>\n",
       "      <td>11.491011</td>\n",
       "      <td>94.812545</td>\n",
       "      <td>37188.826022</td>\n",
       "      <td>9.263166</td>\n",
       "      <td>258.930600</td>\n",
       "      <td>439.893618</td>\n",
       "      <td>16.172755</td>\n",
       "      <td>41.558501</td>\n",
       "      <td>4.369264</td>\n",
       "      <td>1</td>\n",
       "    </tr>\n",
       "    <tr>\n",
       "      <th>3270</th>\n",
       "      <td>6.069616</td>\n",
       "      <td>186.659040</td>\n",
       "      <td>26138.780191</td>\n",
       "      <td>7.747547</td>\n",
       "      <td>345.700257</td>\n",
       "      <td>415.886955</td>\n",
       "      <td>12.067620</td>\n",
       "      <td>60.419921</td>\n",
       "      <td>3.669712</td>\n",
       "      <td>1</td>\n",
       "    </tr>\n",
       "    <tr>\n",
       "      <th>3271</th>\n",
       "      <td>4.668102</td>\n",
       "      <td>193.681735</td>\n",
       "      <td>47580.991603</td>\n",
       "      <td>7.166639</td>\n",
       "      <td>359.948574</td>\n",
       "      <td>526.424171</td>\n",
       "      <td>13.894419</td>\n",
       "      <td>66.687695</td>\n",
       "      <td>4.435821</td>\n",
       "      <td>1</td>\n",
       "    </tr>\n",
       "  </tbody>\n",
       "</table>\n",
       "<p>2495 rows × 10 columns</p>\n",
       "</div>"
      ],
      "text/plain": [
       "             ph    Hardness        Solids  Chloramines     Sulfate  \\\n",
       "0           NaN  204.890455  20791.318981     7.300212  368.516441   \n",
       "3      8.316766  214.373394  22018.417441     8.059332  356.886136   \n",
       "4      9.092223  181.101509  17978.986339     6.546600  310.135738   \n",
       "5      5.584087  188.313324  28748.687739     7.544869  326.678363   \n",
       "6     10.223862  248.071735  28749.716544     7.513408  393.663396   \n",
       "...         ...         ...           ...          ...         ...   \n",
       "3267   8.989900  215.047358  15921.412018     6.297312  312.931022   \n",
       "3268   6.702547  207.321086  17246.920347     7.708117  304.510230   \n",
       "3269  11.491011   94.812545  37188.826022     9.263166  258.930600   \n",
       "3270   6.069616  186.659040  26138.780191     7.747547  345.700257   \n",
       "3271   4.668102  193.681735  47580.991603     7.166639  359.948574   \n",
       "\n",
       "      Conductivity  Organic_carbon  Trihalomethanes  Turbidity  Potability  \n",
       "0       564.308654       10.379783        86.990970   2.963135           0  \n",
       "3       363.266516       18.436524       100.341674   4.628771           0  \n",
       "4       398.410813       11.558279        31.997993   4.075075           0  \n",
       "5       280.467916        8.399735        54.917862   2.559708           0  \n",
       "6       283.651634       13.789695        84.603556   2.672989           0  \n",
       "...            ...             ...              ...        ...         ...  \n",
       "3267    390.410231        9.899115        55.069304   4.613843           1  \n",
       "3268    329.266002       16.217303        28.878601   3.442983           1  \n",
       "3269    439.893618       16.172755        41.558501   4.369264           1  \n",
       "3270    415.886955       12.067620        60.419921   3.669712           1  \n",
       "3271    526.424171       13.894419        66.687695   4.435821           1  \n",
       "\n",
       "[2495 rows x 10 columns]"
      ]
     },
     "execution_count": 19,
     "metadata": {},
     "output_type": "execute_result"
    }
   ],
   "source": [
    "water_potability.loc[water_potability.Sulfate.notnull()]"
   ]
  },
  {
   "cell_type": "markdown",
   "id": "exact-specification",
   "metadata": {
    "papermill": {
     "duration": 0.040517,
     "end_time": "2021-06-04T13:10:26.153686",
     "exception": false,
     "start_time": "2021-06-04T13:10:26.113169",
     "status": "completed"
    },
    "slideshow": {
     "slide_type": "slide"
    },
    "tags": []
   },
   "source": [
    "# Assigning data\n",
    "\n",
    "Going the other way, assigning data to a DataFrame is easy. You can assign either a constant value:"
   ]
  },
  {
   "cell_type": "code",
   "execution_count": 20,
   "id": "wrong-underground",
   "metadata": {
    "execution": {
     "iopub.execute_input": "2021-06-04T13:10:26.239847Z",
     "iopub.status.busy": "2021-06-04T13:10:26.239107Z",
     "iopub.status.idle": "2021-06-04T13:10:26.248340Z",
     "shell.execute_reply": "2021-06-04T13:10:26.248854Z"
    },
    "jupyter": {
     "outputs_hidden": true
    },
    "papermill": {
     "duration": 0.054072,
     "end_time": "2021-06-04T13:10:26.249071",
     "exception": false,
     "start_time": "2021-06-04T13:10:26.194999",
     "status": "completed"
    },
    "scrolled": true,
    "slideshow": {
     "slide_type": "subslide"
    },
    "tags": []
   },
   "outputs": [
    {
     "data": {
      "text/html": [
       "<div>\n",
       "<style scoped>\n",
       "    .dataframe tbody tr th:only-of-type {\n",
       "        vertical-align: middle;\n",
       "    }\n",
       "\n",
       "    .dataframe tbody tr th {\n",
       "        vertical-align: top;\n",
       "    }\n",
       "\n",
       "    .dataframe thead th {\n",
       "        text-align: right;\n",
       "    }\n",
       "</style>\n",
       "<table border=\"1\" class=\"dataframe\">\n",
       "  <thead>\n",
       "    <tr style=\"text-align: right;\">\n",
       "      <th></th>\n",
       "      <th>ph</th>\n",
       "      <th>Hardness</th>\n",
       "      <th>Solids</th>\n",
       "      <th>Chloramines</th>\n",
       "      <th>Sulfate</th>\n",
       "      <th>Conductivity</th>\n",
       "      <th>Organic_carbon</th>\n",
       "      <th>Trihalomethanes</th>\n",
       "      <th>Turbidity</th>\n",
       "      <th>Potability</th>\n",
       "    </tr>\n",
       "  </thead>\n",
       "  <tbody>\n",
       "    <tr>\n",
       "      <th>0</th>\n",
       "      <td>NaN</td>\n",
       "      <td>204.890455</td>\n",
       "      <td>20791.318981</td>\n",
       "      <td>7.300212</td>\n",
       "      <td>368.516441</td>\n",
       "      <td>564.308654</td>\n",
       "      <td>10.379783</td>\n",
       "      <td>86.990970</td>\n",
       "      <td>2.963135</td>\n",
       "      <td>1</td>\n",
       "    </tr>\n",
       "    <tr>\n",
       "      <th>1</th>\n",
       "      <td>3.716080</td>\n",
       "      <td>129.422921</td>\n",
       "      <td>18630.057858</td>\n",
       "      <td>6.635246</td>\n",
       "      <td>NaN</td>\n",
       "      <td>592.885359</td>\n",
       "      <td>15.180013</td>\n",
       "      <td>56.329076</td>\n",
       "      <td>4.500656</td>\n",
       "      <td>0</td>\n",
       "    </tr>\n",
       "    <tr>\n",
       "      <th>2</th>\n",
       "      <td>8.099124</td>\n",
       "      <td>224.236259</td>\n",
       "      <td>19909.541732</td>\n",
       "      <td>9.275884</td>\n",
       "      <td>NaN</td>\n",
       "      <td>418.606213</td>\n",
       "      <td>16.868637</td>\n",
       "      <td>66.420093</td>\n",
       "      <td>3.055934</td>\n",
       "      <td>0</td>\n",
       "    </tr>\n",
       "    <tr>\n",
       "      <th>3</th>\n",
       "      <td>8.316766</td>\n",
       "      <td>214.373394</td>\n",
       "      <td>22018.417441</td>\n",
       "      <td>8.059332</td>\n",
       "      <td>356.886136</td>\n",
       "      <td>363.266516</td>\n",
       "      <td>18.436524</td>\n",
       "      <td>100.341674</td>\n",
       "      <td>4.628771</td>\n",
       "      <td>0</td>\n",
       "    </tr>\n",
       "    <tr>\n",
       "      <th>4</th>\n",
       "      <td>9.092223</td>\n",
       "      <td>181.101509</td>\n",
       "      <td>17978.986339</td>\n",
       "      <td>6.546600</td>\n",
       "      <td>310.135738</td>\n",
       "      <td>398.410813</td>\n",
       "      <td>11.558279</td>\n",
       "      <td>31.997993</td>\n",
       "      <td>4.075075</td>\n",
       "      <td>0</td>\n",
       "    </tr>\n",
       "    <tr>\n",
       "      <th>...</th>\n",
       "      <td>...</td>\n",
       "      <td>...</td>\n",
       "      <td>...</td>\n",
       "      <td>...</td>\n",
       "      <td>...</td>\n",
       "      <td>...</td>\n",
       "      <td>...</td>\n",
       "      <td>...</td>\n",
       "      <td>...</td>\n",
       "      <td>...</td>\n",
       "    </tr>\n",
       "    <tr>\n",
       "      <th>3271</th>\n",
       "      <td>4.668102</td>\n",
       "      <td>193.681735</td>\n",
       "      <td>47580.991603</td>\n",
       "      <td>7.166639</td>\n",
       "      <td>359.948574</td>\n",
       "      <td>526.424171</td>\n",
       "      <td>13.894419</td>\n",
       "      <td>66.687695</td>\n",
       "      <td>4.435821</td>\n",
       "      <td>1</td>\n",
       "    </tr>\n",
       "    <tr>\n",
       "      <th>3272</th>\n",
       "      <td>7.808856</td>\n",
       "      <td>193.553212</td>\n",
       "      <td>17329.802160</td>\n",
       "      <td>8.061362</td>\n",
       "      <td>NaN</td>\n",
       "      <td>392.449580</td>\n",
       "      <td>19.903225</td>\n",
       "      <td>NaN</td>\n",
       "      <td>2.798243</td>\n",
       "      <td>1</td>\n",
       "    </tr>\n",
       "    <tr>\n",
       "      <th>3273</th>\n",
       "      <td>9.419510</td>\n",
       "      <td>175.762646</td>\n",
       "      <td>33155.578218</td>\n",
       "      <td>7.350233</td>\n",
       "      <td>NaN</td>\n",
       "      <td>432.044783</td>\n",
       "      <td>11.039070</td>\n",
       "      <td>69.845400</td>\n",
       "      <td>3.298875</td>\n",
       "      <td>1</td>\n",
       "    </tr>\n",
       "    <tr>\n",
       "      <th>3274</th>\n",
       "      <td>5.126763</td>\n",
       "      <td>230.603758</td>\n",
       "      <td>11983.869376</td>\n",
       "      <td>6.303357</td>\n",
       "      <td>NaN</td>\n",
       "      <td>402.883113</td>\n",
       "      <td>11.168946</td>\n",
       "      <td>77.488213</td>\n",
       "      <td>4.708658</td>\n",
       "      <td>1</td>\n",
       "    </tr>\n",
       "    <tr>\n",
       "      <th>3275</th>\n",
       "      <td>7.874671</td>\n",
       "      <td>195.102299</td>\n",
       "      <td>17404.177061</td>\n",
       "      <td>7.509306</td>\n",
       "      <td>NaN</td>\n",
       "      <td>327.459760</td>\n",
       "      <td>16.140368</td>\n",
       "      <td>78.698446</td>\n",
       "      <td>2.309149</td>\n",
       "      <td>1</td>\n",
       "    </tr>\n",
       "  </tbody>\n",
       "</table>\n",
       "<p>3276 rows × 10 columns</p>\n",
       "</div>"
      ],
      "text/plain": [
       "            ph    Hardness        Solids  Chloramines     Sulfate  \\\n",
       "0          NaN  204.890455  20791.318981     7.300212  368.516441   \n",
       "1     3.716080  129.422921  18630.057858     6.635246         NaN   \n",
       "2     8.099124  224.236259  19909.541732     9.275884         NaN   \n",
       "3     8.316766  214.373394  22018.417441     8.059332  356.886136   \n",
       "4     9.092223  181.101509  17978.986339     6.546600  310.135738   \n",
       "...        ...         ...           ...          ...         ...   \n",
       "3271  4.668102  193.681735  47580.991603     7.166639  359.948574   \n",
       "3272  7.808856  193.553212  17329.802160     8.061362         NaN   \n",
       "3273  9.419510  175.762646  33155.578218     7.350233         NaN   \n",
       "3274  5.126763  230.603758  11983.869376     6.303357         NaN   \n",
       "3275  7.874671  195.102299  17404.177061     7.509306         NaN   \n",
       "\n",
       "      Conductivity  Organic_carbon  Trihalomethanes  Turbidity  Potability  \n",
       "0       564.308654       10.379783        86.990970   2.963135           1  \n",
       "1       592.885359       15.180013        56.329076   4.500656           0  \n",
       "2       418.606213       16.868637        66.420093   3.055934           0  \n",
       "3       363.266516       18.436524       100.341674   4.628771           0  \n",
       "4       398.410813       11.558279        31.997993   4.075075           0  \n",
       "...            ...             ...              ...        ...         ...  \n",
       "3271    526.424171       13.894419        66.687695   4.435821           1  \n",
       "3272    392.449580       19.903225              NaN   2.798243           1  \n",
       "3273    432.044783       11.039070        69.845400   3.298875           1  \n",
       "3274    402.883113       11.168946        77.488213   4.708658           1  \n",
       "3275    327.459760       16.140368        78.698446   2.309149           1  \n",
       "\n",
       "[3276 rows x 10 columns]"
      ]
     },
     "execution_count": 20,
     "metadata": {},
     "output_type": "execute_result"
    }
   ],
   "source": [
    "water_potability.loc[0, \"Potability\"] = 1\n",
    "water_potability"
   ]
  },
  {
   "cell_type": "markdown",
   "id": "2a99d9ed",
   "metadata": {},
   "source": [
    "# Contributors\n",
    "\n",
    "**Author**\n",
    "<br>Chee Lam"
   ]
  },
  {
   "cell_type": "markdown",
   "id": "72754c27",
   "metadata": {},
   "source": [
    "# References\n",
    "\n",
    "1. [Learning Pandas](https://www.kaggle.com/learn/pandas)\n",
    "2. [Pandas Documentation](https://pandas.pydata.org/docs/reference/index.html)"
   ]
  }
 ],
 "metadata": {
  "kernelspec": {
   "display_name": "Python 3 (ipykernel)",
   "language": "python",
   "name": "python3"
  },
  "language_info": {
   "codemirror_mode": {
    "name": "ipython",
    "version": 3
   },
   "file_extension": ".py",
   "mimetype": "text/x-python",
   "name": "python",
   "nbconvert_exporter": "python",
   "pygments_lexer": "ipython3",
   "version": "3.9.6"
  },
  "papermill": {
   "default_parameters": {},
   "duration": 13.201609,
   "end_time": "2021-06-04T13:10:27.296671",
   "environment_variables": {},
   "exception": null,
   "input_path": "__notebook__.ipynb",
   "output_path": "__notebook__.ipynb",
   "parameters": {},
   "start_time": "2021-06-04T13:10:14.095062",
   "version": "2.3.2"
  }
 },
 "nbformat": 4,
 "nbformat_minor": 5
}
