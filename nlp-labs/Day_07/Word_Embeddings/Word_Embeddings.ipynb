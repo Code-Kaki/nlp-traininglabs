{
 "cells": [
  {
   "cell_type": "markdown",
   "id": "c730b369",
   "metadata": {},
   "source": [
    "![license_header_logo](../../../images/license_header_logo.png)\n",
    "\n",
    "> **Copyright (c) 2021 CertifAI Sdn. Bhd.**<br>\n",
    "<br>\n",
    "This program is part of OSRFramework. You can redistribute it and/or modify\n",
    "<br>it under the terms of the GNU Affero General Public License as published by\n",
    "<br>the Free Software Foundation, either version 3 of the License, or\n",
    "<br>(at your option) any later version.\n",
    "<br>\n",
    "<br>This program is distributed in the hope that it will be useful\n",
    "<br>but WITHOUT ANY WARRANTY; without even the implied warranty of\n",
    "<br>MERCHANTABILITY or FITNESS FOR A PARTICULAR PURPOSE.  See the\n",
    "<br>GNU Affero General Public License for more details.\n",
    "<br>\n",
    "<br>You should have received a copy of the GNU Affero General Public License\n",
    "<br>along with this program.  If not, see <http://www.gnu.org/licenses/>.\n",
    "<br>"
   ]
  },
  {
   "cell_type": "markdown",
   "id": "5c73a60f",
   "metadata": {},
   "source": [
    "# Introduction\n",
    "\n",
    "**Word embeddings** are a modern approach for **representing text** in natural language processing.\n",
    "\n",
    "[Word embedding](https://machinelearningmastery.com/what-are-word-embeddings/) algorithms like **word2vec**, **doc2vec** and **GloVe** are key to the state-of-the-art results achieved by neural network models on natural language processing problems like machine translation.\n",
    "\n",
    "In this notebook, you will discover how to **train and load word embedding models** for natural language processing applications in Python using **Gensim**."
   ]
  },
  {
   "cell_type": "markdown",
   "id": "48bdf409",
   "metadata": {},
   "source": [
    "# What will we accomplish?\n",
    "\n",
    "By the end of this tutorial, you will know:\n",
    "\n",
    "1. How to train your own word2vec word embedding model on text data.\n",
    "\n",
    "\n",
    "2. How to visualize a trained word embedding model using Principal Component Analysis.\n",
    "\n",
    "\n",
    "3. How to train simple doc2vec embeddings using Gensim\n",
    "\n",
    "\n",
    "4. How to load pre-trained word2vec and GloVe word embedding models from Google and Stanford."
   ]
  },
  {
   "cell_type": "markdown",
   "id": "327ff254",
   "metadata": {},
   "source": [
    "# Notebook Content\n",
    "\n",
    "* [Introduction to Word Embeddings](#Introduction-to-Word-Embeddings)\n",
    "\n",
    "\n",
    "* [Gensim Library](#Gensim-Python-Library)\n",
    "\n",
    "\n",
    "* [Develop Word2Vec Embedding](#Develop-Word2Vec-Embedding)\n",
    "\n",
    "\n",
    "* [Visualize Word Embedding](#Visualize-Word-Embedding)\n",
    "\n",
    "\n",
    "* [Load Google’s Word2Vec Embedding](#Load-Google’s-Word2Vec-Embedding)\n",
    "\n",
    "\n",
    "* [Load Stanford’s GloVe Embedding](#Load-Stanford’s-GloVe-Embedding)"
   ]
  },
  {
   "cell_type": "markdown",
   "id": "4a51012d",
   "metadata": {},
   "source": [
    "# Introduction to Word Embeddings\n",
    "\n",
    "A **word embedding** is an approach to provide a **dense vector representation** of words that capture something about their meaning.\n",
    "\n",
    "Word embeddings are an improvement over simpler bag-of-word model word encoding schemes like word counts and frequencies that result in large and sparse vectors (mostly 0 values) that describe documents but not the meaning of the words.\n",
    "\n",
    "Word embeddings work by using an algorithm to train a set of **fixed-length dense and continuous-valued vectors** based on a large corpus of text. Each word is represented by a point in the embedding space and these points are learned and moved around based on the words that surround the target word.\n",
    "\n",
    "It is defining a word by the company that it keeps that allows the word embedding to learn something about the **meaning of words**. The vector space representation of the words provides a projection where words with similar meanings are locally clustered within the space.\n",
    "\n",
    "The use of word embeddings over other text representations is one of the key methods that has led to breakthrough performance with deep neural networks on problems like machine translation.\n",
    "\n",
    "In this tutorial, we are going to look at how to implement **word2vec** and **doc2vec** algorithm using Gensim as well as use two different pretrained word embedding methods called **word2vec** by researchers at Google and **GloVe** by researchers at Stanford."
   ]
  },
  {
   "cell_type": "markdown",
   "id": "4c50b1c7",
   "metadata": {},
   "source": [
    "# Gensim Python Library\n",
    "\n",
    "[Gensim](https://radimrehurek.com/gensim/index.html) is an open source Python library for natural language processing, with a focus on topic modeling. It was developed and is maintained by the Czech natural language processing researcher Radim Řehůřek and his company RaRe Technologies.\n",
    "\n",
    "<img src=\"../../../images/gensim.png\" width=\"400\" height=\"500\"/>\n",
    "     \n",
    "It is not an everything-including-the-kitchen-sink NLP research library (like NLTK); instead, Gensim is a mature, focused, and efficient suite of NLP tools for **topic modeling**. Most notably for this tutorial, it supports an implementation of the Word2Vec and Doc2Vec embedding for learning new word vectors from text.\n",
    "\n",
    "It also provides tools for loading **pre-trained word embeddings** in a few formats and for making use and querying a loaded embedding.\n",
    "\n",
    "Now, we will use Gensim for word embeddings."
   ]
  },
  {
   "cell_type": "markdown",
   "id": "ea47342d",
   "metadata": {},
   "source": [
    "# Develop Word2Vec Embedding\n",
    "\n",
    "Word2vec is one algorithm for learning a word embedding from a text corpus.\n",
    "\n",
    "There are two main training algorithms that can be used to learn the embedding from text; they are **continuous bag of words (CBOW)** and **skip grams**.\n",
    "\n",
    "We will not get into the algorithms other than to say that they generally look at a **window of words** for each target word to provide context and in turn meaning for words. The approach was developed by Tomas Mikolov, formerly at Google and currently at Facebook.\n",
    "\n",
    "Word2Vec models require a lot of text, e.g. the entire Wikipedia corpus. Nevertheless, we will demonstrate the principles using a small in-memory example of text.\n",
    "\n",
    "Gensim provides the `Word2Vec` class for working with a Word2Vec model."
   ]
  },
  {
   "cell_type": "code",
   "execution_count": 1,
   "id": "f74db93e",
   "metadata": {},
   "outputs": [],
   "source": [
    "# Import Word2Vec model\n",
    "from gensim.models import Word2Vec"
   ]
  },
  {
   "cell_type": "markdown",
   "id": "3fd3a674",
   "metadata": {},
   "source": [
    "Specifically, each sentence must be **tokenized**, meaning divided into words and prepared (e.g. perhaps pre-filtered and perhaps converted to a preferred case).\n",
    "\n",
    "The sentences could be text loaded into memory, or an iterator that progressively loads text, required for very large text corpora."
   ]
  },
  {
   "cell_type": "code",
   "execution_count": 2,
   "id": "afca0c29",
   "metadata": {},
   "outputs": [],
   "source": [
    "# Define training data\n",
    "sentences = [['this', 'is', 'the', 'first', 'sentence', 'for', 'word2vec'],\n",
    "            ['this', 'is', 'the', 'second', 'sentence'],\n",
    "            ['yet', 'another', 'sentence'],\n",
    "            ['one', 'more', 'sentence'],\n",
    "            ['and', 'the', 'final', 'sentence']]"
   ]
  },
  {
   "cell_type": "markdown",
   "id": "65cbde38",
   "metadata": {},
   "source": [
    "There are many parameters on `Word2Vec` constructor; a few noteworthy arguments you may wish to configure are:\n",
    "\n",
    "* **size**: (default 100) The number of **dimensions** of the embedding,\n",
    "  </br>e.g. the length of the **dense vector** to represent each token (word).\n",
    "  \n",
    "  \n",
    "* **window**: (default 5) The maximum distance between a target word and words around the target word.\n",
    "\n",
    "\n",
    "* **min_count**: (default 5) The minimum count of words to consider when training the model; words with an occurrence less than this count will be ignored.\n",
    "\n",
    "\n",
    "* **workers**: (default 3) The number of threads to use while training.\n",
    "\n",
    "\n",
    "* **sg**: (default 0 or CBOW) The training algorithm, either CBOW (0) or skip gram (1).\n",
    "\n",
    "\n",
    "The defaults are often good enough when just getting started. If you have a lot of cores, as most modern computers do, I strongly encourage you to increase workers to match the number of cores (e.g. 8)."
   ]
  },
  {
   "cell_type": "code",
   "execution_count": 3,
   "id": "409acb79",
   "metadata": {},
   "outputs": [],
   "source": [
    "# Train model\n",
    "model = Word2Vec(sentences, min_count=1)"
   ]
  },
  {
   "cell_type": "code",
   "execution_count": 4,
   "id": "79a1db27",
   "metadata": {},
   "outputs": [
    {
     "name": "stdout",
     "output_type": "stream",
     "text": [
      "Word2Vec(vocab=14, vector_size=100, alpha=0.025)\n"
     ]
    }
   ],
   "source": [
    "# Summarize the loaded model\n",
    "print(model)"
   ]
  },
  {
   "cell_type": "markdown",
   "id": "f8c980e8",
   "metadata": {},
   "source": [
    "After the model is trained, it is accessible via the **`wv`** attribute. This is the actual **word vector model** in which queries can be made."
   ]
  },
  {
   "cell_type": "code",
   "execution_count": 5,
   "id": "e018bf7c",
   "metadata": {},
   "outputs": [
    {
     "name": "stdout",
     "output_type": "stream",
     "text": [
      "['sentence', 'the', 'is', 'this', 'final', 'and', 'more', 'one', 'another', 'yet', 'second', 'word2vec', 'for', 'first']\n"
     ]
    }
   ],
   "source": [
    "# Print the learned vocabulary of tokens (words)\n",
    "words = list(model.wv.key_to_index)\n",
    "print(words)"
   ]
  },
  {
   "cell_type": "markdown",
   "id": "dd5f721b",
   "metadata": {},
   "source": [
    "You also can review the **embedded vector** for a specific token."
   ]
  },
  {
   "cell_type": "code",
   "execution_count": 6,
   "id": "4cd335a3",
   "metadata": {},
   "outputs": [
    {
     "name": "stdout",
     "output_type": "stream",
     "text": [
      "[-5.3622725e-04  2.3643016e-04  5.1033497e-03  9.0092728e-03\n",
      " -9.3029495e-03 -7.1168090e-03  6.4588715e-03  8.9729885e-03\n",
      " -5.0154282e-03 -3.7633730e-03  7.3805046e-03 -1.5334726e-03\n",
      " -4.5366143e-03  6.5540504e-03 -4.8601604e-03 -1.8160177e-03\n",
      "  2.8765798e-03  9.9187379e-04 -8.2852151e-03 -9.4488189e-03\n",
      "  7.3117660e-03  5.0702621e-03  6.7576934e-03  7.6286553e-04\n",
      "  6.3508893e-03 -3.4053659e-03 -9.4640255e-04  5.7685734e-03\n",
      " -7.5216386e-03 -3.9361049e-03 -7.5115822e-03 -9.3004224e-04\n",
      "  9.5381187e-03 -7.3191668e-03 -2.3337698e-03 -1.9377422e-03\n",
      "  8.0774352e-03 -5.9308959e-03  4.5161247e-05 -4.7537349e-03\n",
      " -9.6035507e-03  5.0072931e-03 -8.7595871e-03 -4.3918253e-03\n",
      " -3.5099984e-05 -2.9618264e-04 -7.6612402e-03  9.6147414e-03\n",
      "  4.9820566e-03  9.2331432e-03 -8.1579182e-03  4.4957972e-03\n",
      " -4.1370774e-03  8.2453492e-04  8.4986184e-03 -4.4621779e-03\n",
      "  4.5175003e-03 -6.7869616e-03 -3.5484887e-03  9.3985079e-03\n",
      " -1.5776539e-03  3.2137157e-04 -4.1406299e-03 -7.6826881e-03\n",
      " -1.5080094e-03  2.4697948e-03 -8.8802812e-04  5.5336617e-03\n",
      " -2.7429771e-03  2.2600652e-03  5.4557943e-03  8.3459523e-03\n",
      " -1.4537406e-03 -9.2081428e-03  4.3705511e-03  5.7178497e-04\n",
      "  7.4419067e-03 -8.1328390e-04 -2.6384138e-03 -8.7530091e-03\n",
      " -8.5655687e-04  2.8265619e-03  5.4014279e-03  7.0526553e-03\n",
      " -5.7031228e-03  1.8588186e-03  6.0888622e-03 -4.7980524e-03\n",
      " -3.1072616e-03  6.7976285e-03  1.6314745e-03  1.8991709e-04\n",
      "  3.4736372e-03  2.1777629e-04  9.6188262e-03  5.0606038e-03\n",
      " -8.9173913e-03 -7.0415614e-03  9.0145587e-04  6.3925339e-03]\n"
     ]
    }
   ],
   "source": [
    "# Access vector for one word\n",
    "print(model.wv['sentence'])"
   ]
  },
  {
   "cell_type": "markdown",
   "id": "616c161a",
   "metadata": {},
   "source": [
    "Finally, a trained model can then be **saved to file** by calling the `save()` function on the **Word2Vec model**."
   ]
  },
  {
   "cell_type": "code",
   "execution_count": 7,
   "id": "6db0662d",
   "metadata": {},
   "outputs": [],
   "source": [
    "# Save model\n",
    "model.save('model/word2vec.model')"
   ]
  },
  {
   "cell_type": "markdown",
   "id": "6c9dcde4",
   "metadata": {},
   "source": [
    "When getting started, you can save the learned model in **ASCII format** and review the contents.\n",
    "\n",
    "You can do this by setting `binary=False` when calling the `save_word2vec_format()` function."
   ]
  },
  {
   "cell_type": "code",
   "execution_count": 8,
   "id": "0b0c4c5a",
   "metadata": {},
   "outputs": [],
   "source": [
    "# Save model as text\n",
    "model.wv.save_word2vec_format('model/word2vec.txt', binary=False)"
   ]
  },
  {
   "cell_type": "markdown",
   "id": "fd0f8324",
   "metadata": {},
   "source": [
    "The saved model can then be **loaded** again by calling the `Word2Vec.load()` function."
   ]
  },
  {
   "cell_type": "code",
   "execution_count": 9,
   "id": "dd88fd47",
   "metadata": {},
   "outputs": [],
   "source": [
    "# Load model\n",
    "loaded_model = Word2Vec.load('model/word2vec.model')"
   ]
  },
  {
   "cell_type": "markdown",
   "id": "d6091614",
   "metadata": {},
   "source": [
    "You can see that with a little work to prepare your text document, you can create your own word embedding very easily with Gensim."
   ]
  },
  {
   "cell_type": "markdown",
   "id": "f3289624",
   "metadata": {},
   "source": [
    "# Visualize Word Embedding\n",
    "\n",
    "After you learn word embedding for your text data, it can be nice to explore it with **visualization**.\n",
    "\n",
    "You can use classical projection methods to reduce the high-dimensional word vectors to two-dimensional plots and plot them on a graph.\n",
    "\n",
    "The visualizations can provide a qualitative diagnostic for your learned model."
   ]
  },
  {
   "cell_type": "code",
   "execution_count": 10,
   "id": "d5eb2212",
   "metadata": {},
   "outputs": [
    {
     "name": "stdout",
     "output_type": "stream",
     "text": [
      "[[-5.3622725e-04  2.3643016e-04  5.1033497e-03 ... -7.0415614e-03\n",
      "   9.0145587e-04  6.3925339e-03]\n",
      " [-8.6196875e-03  3.6657380e-03  5.1898835e-03 ... -2.3915148e-03\n",
      "  -9.5100952e-03  4.5058774e-03]\n",
      " [ 9.4563962e-05  3.0773187e-03 -6.8126465e-03 ...  5.1259040e-04\n",
      "   8.2130842e-03 -7.0190406e-03]\n",
      " ...\n",
      " [ 9.7702928e-03  8.1651136e-03  1.2809705e-03 ... -2.9727411e-03\n",
      "  -4.9318983e-03 -2.3151112e-03]\n",
      " [-1.9442177e-03 -5.2675223e-03  9.4471117e-03 ...  5.9827138e-03\n",
      "   6.8153618e-03  7.8225443e-03]\n",
      " [-9.5001198e-03  9.5622232e-03 -7.7707553e-03 ... -3.1351089e-03\n",
      "  -6.3388203e-03  9.8700766e-03]]\n"
     ]
    }
   ],
   "source": [
    "# Retrieve all of the vectors from a trained model\n",
    "\n",
    "X = model.wv[model.wv.key_to_index]\n",
    "\n",
    "print(X)"
   ]
  },
  {
   "cell_type": "markdown",
   "id": "66e5461a",
   "metadata": {},
   "source": [
    "We can then train a projection method on the vectors from those methods offered in **scikit-learn**, then use **matplotlib** to plot the projection as a scatter plot."
   ]
  },
  {
   "cell_type": "markdown",
   "id": "a3540e07",
   "metadata": {},
   "source": [
    "## Plot Word Vectors Using PCA\n",
    "\n",
    "We can create a **2-dimensional PCA model** of the word vectors using the scikit-learn `PCA` class."
   ]
  },
  {
   "cell_type": "code",
   "execution_count": 11,
   "id": "4228726e",
   "metadata": {},
   "outputs": [],
   "source": [
    "# Import PCA from sklearn\n",
    "from sklearn.decomposition import PCA"
   ]
  },
  {
   "cell_type": "code",
   "execution_count": 12,
   "id": "23b81546",
   "metadata": {},
   "outputs": [],
   "source": [
    "# Fit a 2d PCA model to the vectors\n",
    "pca = PCA(n_components=2)\n",
    "result = pca.fit_transform(X)"
   ]
  },
  {
   "cell_type": "code",
   "execution_count": 13,
   "id": "d634e56f",
   "metadata": {},
   "outputs": [
    {
     "data": {
      "text/plain": [
       "(14, 2)"
      ]
     },
     "execution_count": 13,
     "metadata": {},
     "output_type": "execute_result"
    }
   ],
   "source": [
    "result.shape"
   ]
  },
  {
   "cell_type": "markdown",
   "id": "75f374a9",
   "metadata": {},
   "source": [
    "The resulting projection can be plotted using **matplotlib** as follows, pulling out the two dimensions as **x** and **y** coordinates."
   ]
  },
  {
   "cell_type": "code",
   "execution_count": 14,
   "id": "292e3e01",
   "metadata": {},
   "outputs": [],
   "source": [
    "# Import pyplot as plt\n",
    "from matplotlib import pyplot as plt"
   ]
  },
  {
   "cell_type": "code",
   "execution_count": 15,
   "id": "e4748173",
   "metadata": {
    "scrolled": false
   },
   "outputs": [
    {
     "data": {
      "image/png": "[encoded data removed]",
      "text/plain": [
       "<Figure size 432x288 with 1 Axes>"
      ]
     },
     "metadata": {
      "needs_background": "light"
     },
     "output_type": "display_data"
    }
   ],
   "source": [
    "# Create a scatter plot of the projection\n",
    "plt.scatter(result[:, 0], result[:, 1])\n",
    "plt.show()"
   ]
  },
  {
   "cell_type": "markdown",
   "id": "175235cc",
   "metadata": {},
   "source": [
    "We can go one step further and **annotate the points** on the graph with the words themselves."
   ]
  },
  {
   "cell_type": "code",
   "execution_count": 16,
   "id": "dda8dca8",
   "metadata": {},
   "outputs": [
    {
     "data": {
      "image/png": "[encoded data removed]",
      "text/plain": [
       "<Figure size 432x288 with 1 Axes>"
      ]
     },
     "metadata": {
      "needs_background": "light"
     },
     "output_type": "display_data"
    }
   ],
   "source": [
    "words = list(model.wv.key_to_index)\n",
    "\n",
    "plt.scatter(result[:, 0], result[:, 1])\n",
    "for i, word in enumerate(words):\n",
    "    plt.annotate(word, xy=(result[i, 0], result[i, 1]))"
   ]
  },
  {
   "cell_type": "code",
   "execution_count": 17,
   "id": "349e709c",
   "metadata": {
    "scrolled": false
   },
   "outputs": [],
   "source": [
    "plt.show()"
   ]
  },
  {
   "cell_type": "markdown",
   "id": "77e408c9",
   "metadata": {},
   "source": [
    "**Note**: Your results may vary given the **stochastic nature** of the algorithm or evaluation procedure, or differences in numerical precision. Consider running the example a few times and compare the average outcome.\n",
    "\n",
    "It is hard to pull much meaning out of the graph given such a **tiny corpus** was used to fit the model."
   ]
  },
  {
   "cell_type": "markdown",
   "id": "093078ea",
   "metadata": {},
   "source": [
    "# Develop Doc2Vec Embedding\n",
    "\n",
    "Doc2vec (also known as: paragraph2vec or sentence embedding) is the modified version of word2vec. The main objective of doc2vec is to **convert sentence or paragraph to vector (numeric) form**. In Natural Language Processing, Doc2Vec is used to find related sentences for a given sentence.\n",
    "\n",
    "![Doc2Vec](../../../images/doc2vec.png)\n",
    "\n",
    "In this section, we are going to code a  **simple implementation of doc2vec** using Python and Gensim."
   ]
  },
  {
   "cell_type": "code",
   "execution_count": 18,
   "id": "20267e9f",
   "metadata": {},
   "outputs": [],
   "source": [
    "# Exapmple document (list of sentences)\n",
    "doc = [\"I love data science\",\n",
    "        \"I love coding in python\",\n",
    "        \"I love building NLP tool\",\n",
    "        \"This is a good phone\",\n",
    "        \"This is a good TV\",\n",
    "        \"This is a good laptop\"]"
   ]
  },
  {
   "cell_type": "markdown",
   "id": "c48c8f56",
   "metadata": {},
   "source": [
    "As in word2vec implementation, we need to tokenize each sentence into words. Here we are going to use `word_tokenize` function from `nltk` library to tokenize each sentence."
   ]
  },
  {
   "cell_type": "code",
   "execution_count": 19,
   "id": "d8e54377",
   "metadata": {},
   "outputs": [],
   "source": [
    "# Import word_tokenize function\n",
    "from nltk.tokenize import word_tokenize"
   ]
  },
  {
   "cell_type": "code",
   "execution_count": 20,
   "id": "8f6b5666",
   "metadata": {
    "scrolled": true
   },
   "outputs": [
    {
     "data": {
      "text/plain": [
       "[['i', 'love', 'data', 'science'],\n",
       " ['i', 'love', 'coding', 'in', 'python'],\n",
       " ['i', 'love', 'building', 'nlp', 'tool'],\n",
       " ['this', 'is', 'a', 'good', 'phone'],\n",
       " ['this', 'is', 'a', 'good', 'tv'],\n",
       " ['this', 'is', 'a', 'good', 'laptop']]"
      ]
     },
     "execution_count": 20,
     "metadata": {},
     "output_type": "execute_result"
    }
   ],
   "source": [
    "# Start tokenization\n",
    "tokenized_doc = []\n",
    "for d in doc:\n",
    "    tokenized_doc.append(word_tokenize(d.lower()))\n",
    "    \n",
    "tokenized_doc"
   ]
  },
  {
   "cell_type": "markdown",
   "id": "c68ec01e",
   "metadata": {},
   "source": [
    "![Doc2Vec Implementation](../../../images/doc2vec_implementation.gif)\n",
    "\n",
    "From the figure above, we can observe that there is a `document_id` inserted into the vector. This is the key implementation of Doc2Vec and here we using `TaggedDocument` function to assign tag (id) to each documents."
   ]
  },
  {
   "cell_type": "code",
   "execution_count": 21,
   "id": "bcc65d4c",
   "metadata": {},
   "outputs": [],
   "source": [
    "# Import TaggedDocument function\n",
    "from gensim.models.doc2vec import TaggedDocument"
   ]
  },
  {
   "cell_type": "code",
   "execution_count": 22,
   "id": "d08519cb",
   "metadata": {},
   "outputs": [
    {
     "data": {
      "text/plain": [
       "[TaggedDocument(words=['i', 'love', 'data', 'science'], tags=[0]),\n",
       " TaggedDocument(words=['i', 'love', 'coding', 'in', 'python'], tags=[1]),\n",
       " TaggedDocument(words=['i', 'love', 'building', 'nlp', 'tool'], tags=[2]),\n",
       " TaggedDocument(words=['this', 'is', 'a', 'good', 'phone'], tags=[3]),\n",
       " TaggedDocument(words=['this', 'is', 'a', 'good', 'tv'], tags=[4]),\n",
       " TaggedDocument(words=['this', 'is', 'a', 'good', 'laptop'], tags=[5])]"
      ]
     },
     "execution_count": 22,
     "metadata": {},
     "output_type": "execute_result"
    }
   ],
   "source": [
    "# Convert tokenized document into gensim formated tagged data\n",
    "tagged_data = [TaggedDocument(d, [i]) for i, d in enumerate(tokenized_doc)]\n",
    "\n",
    "tagged_data"
   ]
  },
  {
   "cell_type": "markdown",
   "id": "d27086c9",
   "metadata": {},
   "source": [
    "Now we are ready to train our doc2vec model.\n",
    "\n",
    "In this tutorial, we are using **distributed memory paragraph vector (PV-DM)** model as doc2vec.\n",
    "\n",
    "**Note**: `dm=1` **means distributed memory (PV-DM)** and `dm=0` means **distributed bag of words (PV-DBOW)**."
   ]
  },
  {
   "cell_type": "code",
   "execution_count": 23,
   "id": "52407bc6",
   "metadata": {},
   "outputs": [],
   "source": [
    "# Import Doc2Vec model\n",
    "from gensim.models.doc2vec import Doc2Vec"
   ]
  },
  {
   "cell_type": "code",
   "execution_count": 24,
   "id": "70ebf9e4",
   "metadata": {},
   "outputs": [],
   "source": [
    "# Train Doc2Vec model\n",
    "model = Doc2Vec(tagged_data, vector_size=20, window=2, min_count=1, workers=4, epochs = 100, dm=1)"
   ]
  },
  {
   "cell_type": "markdown",
   "id": "0b14113b",
   "metadata": {},
   "source": [
    "You can access the vocabulary list in the doc2vec using `wv` attributes."
   ]
  },
  {
   "cell_type": "code",
   "execution_count": 25,
   "id": "23e4428b",
   "metadata": {},
   "outputs": [
    {
     "data": {
      "text/plain": [
       "['i',\n",
       " 'love',\n",
       " 'good',\n",
       " 'a',\n",
       " 'is',\n",
       " 'this',\n",
       " 'in',\n",
       " 'data',\n",
       " 'science',\n",
       " 'coding',\n",
       " 'laptop',\n",
       " 'python',\n",
       " 'building',\n",
       " 'tv',\n",
       " 'tool',\n",
       " 'phone',\n",
       " 'nlp']"
      ]
     },
     "execution_count": 25,
     "metadata": {},
     "output_type": "execute_result"
    }
   ],
   "source": [
    "list(model.wv.key_to_index)"
   ]
  },
  {
   "cell_type": "markdown",
   "id": "3185ad3e",
   "metadata": {},
   "source": [
    "You also can easily find the most similar document using `model.docvecs.most_similar` function."
   ]
  },
  {
   "cell_type": "code",
   "execution_count": 26,
   "id": "98a450c4",
   "metadata": {},
   "outputs": [
    {
     "data": {
      "text/plain": [
       "[(3, 0.31323811411857605), (4, 0.1339501142501831), (1, 0.04293661192059517)]"
      ]
     },
     "execution_count": 26,
     "metadata": {},
     "output_type": "execute_result"
    }
   ],
   "source": [
    "# Find most similar doc \n",
    "test_doc = word_tokenize(\"That is a good device\".lower())\n",
    "\n",
    "model.dv.most_similar(positive=[model.infer_vector(test_doc)],topn=3)"
   ]
  },
  {
   "cell_type": "markdown",
   "id": "295d0521",
   "metadata": {},
   "source": [
    "Similar to word2vec, a trained model can then be saved to file by calling the `save()` function on the Doc2Vec model."
   ]
  },
  {
   "cell_type": "code",
   "execution_count": 27,
   "id": "c58b8382",
   "metadata": {},
   "outputs": [],
   "source": [
    "filename = \"model/doc2vec.model\"\n",
    "model.save(filename)"
   ]
  },
  {
   "cell_type": "markdown",
   "id": "a79e4617",
   "metadata": {},
   "source": [
    "The saved model can then be loaded again by calling the `Doc2Vec.load()` function."
   ]
  },
  {
   "cell_type": "code",
   "execution_count": 28,
   "id": "606fcc9a",
   "metadata": {},
   "outputs": [],
   "source": [
    "loaded_model = Doc2Vec.load(\"model/doc2vec.model\")"
   ]
  },
  {
   "cell_type": "markdown",
   "id": "4954ce4f",
   "metadata": {},
   "source": [
    "# Load Google’s Word2Vec Embedding\n",
    "\n",
    "Training your own word vectors may be the best approach for a given NLP problem.\n",
    "\n",
    "But it can take a long time, a fast computer with **a lot of RAM and disk space**, and perhaps some expertise in finessing the input data and training algorithm.\n",
    "\n",
    "An alternative is to simply use an existing **pre-trained word embedding**.\n",
    "\n",
    "Along with the paper and code for word2vec, Google also published a pre-trained word2vec model on the [Word2Vec Google Code Project](https://code.google.com/archive/p/word2vec/).\n",
    "\n",
    "A pre-trained model is nothing more than a file containing **tokens** and their **associated word vectors**. The pre-trained Google word2vec model was trained on **Google news data (about 100 billion words)**; it contains 3 million words and phrases and was fit using **300-dimensional word vectors**.\n",
    "\n",
    "It is a 1.53 Gigabytes file. You can download it from here:\n",
    "\n",
    "* [GoogleNews-vectors-negative300.bin.gz](https://drive.google.com/file/d/0B7XkCwpI5KDYNlNUTTlSS21pQmM/edit?resourcekey=0-wjGZdNAUop6WykTtMip30g)\n",
    "\n",
    "Unzipped, the binary file (GoogleNews-vectors-negative300.bin) is 3.4 Gigabytes.\n",
    "\n",
    "**Note**: You should have \"GoogleNews-vectors-negative300.bin`dataset` folder, else you may download it from the link above."
   ]
  },
  {
   "cell_type": "markdown",
   "id": "3b3c3ca5",
   "metadata": {},
   "source": [
    "Gensim library provides tools to load this file. Specifically, you can call the `KeyedVectors.load_word2vec_format()` function to load model into memory."
   ]
  },
  {
   "cell_type": "code",
   "execution_count": 29,
   "id": "ea36b252",
   "metadata": {},
   "outputs": [],
   "source": [
    "# Import KeyedVectors\n",
    "from gensim.models import KeyedVectors"
   ]
  },
  {
   "cell_type": "code",
   "execution_count": 30,
   "id": "b0255af6",
   "metadata": {},
   "outputs": [],
   "source": [
    "# Load the google word2vec model\n",
    "filename = '../../../resources/day_07/GoogleNews-vectors-negative300.bin'\n",
    "model = KeyedVectors.load_word2vec_format(filename, binary=True)"
   ]
  },
  {
   "cell_type": "markdown",
   "id": "fe045603",
   "metadata": {},
   "source": [
    "Another interesting thing that you can do is do a little **linear algebra arithmetic** with words. For example, a popular example described in lectures and introduction papers is:\n",
    "\n",
    "> queen = (king - man) + woman\n",
    "\n",
    "That is the word queen is the closest word given the subtraction of the notion of man from king and adding the word woman. The “man-ness” in king is replaced with “woman-ness” to give us queen. A very cool concept.\n",
    "\n",
    "Gensim provides an interface for performing these types of operations in the `most_similar()` function on the trained or loaded model."
   ]
  },
  {
   "cell_type": "code",
   "execution_count": 31,
   "id": "e2f0ed95",
   "metadata": {
    "scrolled": false
   },
   "outputs": [
    {
     "name": "stdout",
     "output_type": "stream",
     "text": [
      "[('queen', 0.7118193507194519)]\n"
     ]
    }
   ],
   "source": [
    "# Calculate: (king - man) + woman = ?\n",
    "result = model.most_similar(positive=['woman', 'king'], negative=['man'], topn=1)\n",
    "print(result)"
   ]
  },
  {
   "cell_type": "markdown",
   "id": "df278d76",
   "metadata": {},
   "source": [
    "# Load Stanford’s GloVe Embedding\n",
    "\n",
    "Stanford researchers also have their own word embedding algorithm like word2vec called **[Global Vectors for Word Representation](https://nlp.stanford.edu/projects/glove/)**, or **GloVe** for short.\n",
    "\n",
    "We won’t get into the details of the differences between word2vec and GloVe here, but generally, NLP practitioners seem to prefer GloVe at the moment based on results.\n",
    "\n",
    "Like word2vec, the GloVe researchers also provide **pre-trained word vectors**, in this case, a great selection to choose from.\n",
    "\n",
    "You can download the smallest GloVe pre-trained model from the [GloVe](https://nlp.stanford.edu/projects/glove/) website and load them easily with gensim. It an **822 Megabyte zip** file with 4 different models (50, 100, 200 and 300-dimensional vectors) trained on **Wikipedia data** with 6 billion tokens and a **400,000 word vocabulary**.\n",
    "\n",
    "The direct download link is here:\n",
    "\n",
    "* [glove.6B.zip](http://nlp.stanford.edu/data/glove.6B.zip)\n",
    "\n",
    "The distinct different between GloVe text vector and word2vec bin files is the header. To read the GolVe text vector, we use `KeyedVectors.load_word2vec_format` function with parameters `binary=False` and `no_header=True`."
   ]
  },
  {
   "cell_type": "code",
   "execution_count": 32,
   "id": "6994ce26",
   "metadata": {},
   "outputs": [],
   "source": [
    "# Import KeyedVectors\n",
    "from gensim.models import KeyedVectors"
   ]
  },
  {
   "cell_type": "markdown",
   "id": "27c1b1b3",
   "metadata": {},
   "source": [
    "Now we can load GolVe text vector and perform the same `(king – man) + woman = ?` test as in the previous section. \n",
    "\n",
    "Note that the converted file is **ASCII format**, not binary, so we set `binary=False` when loading."
   ]
  },
  {
   "cell_type": "code",
   "execution_count": 33,
   "id": "1b59be79",
   "metadata": {},
   "outputs": [
    {
     "name": "stdout",
     "output_type": "stream",
     "text": [
      "[('queen', 0.7698541283607483)]\n"
     ]
    }
   ],
   "source": [
    "from gensim.models import KeyedVectors\n",
    "# Load the Stanford GloVe model\n",
    "filename = '../../../resources/.vector_cache/glove.6B.100d.txt'\n",
    "model = KeyedVectors.load_word2vec_format(filename, binary=False, no_header=True)\n",
    "# calculate: (king - man) + woman = ?\n",
    "result = model.most_similar(positive=['woman', 'king'], negative=['man'], topn=1)\n",
    "print(result)"
   ]
  },
  {
   "cell_type": "markdown",
   "id": "aebb18f3",
   "metadata": {},
   "source": [
    "# Summary\n",
    "\n",
    "In this tutorial, you discovered how to develop and load word embedding layers in Python using **Gensim**.\n",
    "\n",
    "Specifically, you learned:\n",
    "\n",
    "* How to train your own word2vec and doc2vec word embedding model on text data.\n",
    "* How to visualize a trained word embedding model using Principal Component Analysis.\n",
    "* How to load pre-trained word2vec and GloVe word embedding models from Google and Stanford."
   ]
  },
  {
   "cell_type": "markdown",
   "id": "77d901d3",
   "metadata": {},
   "source": [
    "# Contributors\n",
    "\n",
    "**Author**\n",
    "<br>Chee Lam"
   ]
  },
  {
   "cell_type": "markdown",
   "id": "4eca230d",
   "metadata": {},
   "source": [
    "# References\n",
    "\n",
    "1. [How to Develop Word Embeddings in Python with Gensim](https://machinelearningmastery.com/develop-word-embeddings-python-gensim/)\n",
    "\n",
    "2. [Gensim Doc2Vec Python implementation](https://thinkinfi.com/gensim-doc2vec-python-implementation/)"
   ]
  }
 ],
 "metadata": {
  "kernelspec": {
   "display_name": "Python 3 (ipykernel)",
   "language": "python",
   "name": "python3"
  },
  "language_info": {
   "codemirror_mode": {
    "name": "ipython",
    "version": 3
   },
   "file_extension": ".py",
   "mimetype": "text/x-python",
   "name": "python",
   "nbconvert_exporter": "python",
   "pygments_lexer": "ipython3",
   "version": "3.9.6"
  }
 },
 "nbformat": 4,
 "nbformat_minor": 5
}
