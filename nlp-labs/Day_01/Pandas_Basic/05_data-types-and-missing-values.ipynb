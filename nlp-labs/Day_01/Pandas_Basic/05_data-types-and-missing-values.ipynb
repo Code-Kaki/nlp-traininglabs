{
 "cells": [
  {
   "cell_type": "markdown",
   "id": "c0598bfb",
   "metadata": {},
   "source": [
    "> **Copyright (c) 2020 Skymind Holdings Berhad**<br><br>\n",
    "> **Copyright (c) 2021 Skymind Education Group Sdn. Bhd.**<br>\n",
    "<br>\n",
    "Licensed under the Apache License, Version 2.0 (the \\\"License\\\");\n",
    "<br>you may not use this file except in compliance with the License.\n",
    "<br>You may obtain a copy of the License at http://www.apache.org/licenses/LICENSE-2.0/\n",
    "<br>\n",
    "<br>Unless required by applicable law or agreed to in writing, software\n",
    "<br>distributed under the License is distributed on an \\\"AS IS\\\" BASIS,\n",
    "<br>WITHOUT WARRANTIES OR CONDITIONS OF ANY KIND, either express or implied.\n",
    "<br>See the License for the specific language governing permissions and\n",
    "<br>limitations under the License.\n",
    "<br>\n",
    "<br>\n",
    "**SPDX-License-Identifier: Apache-2.0**\n",
    "<br>"
   ]
  },
  {
   "cell_type": "markdown",
   "id": "accessory-discrimination",
   "metadata": {
    "papermill": {
     "duration": 0.013316,
     "end_time": "2021-06-04T13:11:43.551416",
     "exception": false,
     "start_time": "2021-06-04T13:11:43.538100",
     "status": "completed"
    },
    "slideshow": {
     "slide_type": "slide"
    },
    "tags": []
   },
   "source": [
    "# Introduction\n",
    "\n",
    "In this tutorial, you'll learn how to investigate data types within a DataFrame or Series.  You'll also learn how to find and replace entries."
   ]
  },
  {
   "cell_type": "markdown",
   "id": "c3f47877",
   "metadata": {},
   "source": [
    "# Notebook Content\n",
    "\n",
    "* [Dtypes](#Dtypes)\n",
    "\n",
    "\n",
    "* [Missing Data](#Missing-data)"
   ]
  },
  {
   "cell_type": "markdown",
   "id": "427bacac",
   "metadata": {},
   "source": [
    "# Dtypes\n",
    "\n",
    "The data type for a column in a DataFrame or a Series is known as the **dtype**.\n",
    "\n",
    "You can use the `dtype` property to grab the type of a specific column.  For instance, we can get the dtype of the `Avg_viewer_ratio` column in the `Game` DataFrame:"
   ]
  },
  {
   "cell_type": "code",
   "execution_count": 1,
   "id": "bearing-contemporary",
   "metadata": {
    "_kg_hide-input": true,
    "execution": {
     "iopub.execute_input": "2021-06-04T13:11:43.582534Z",
     "iopub.status.busy": "2021-06-04T13:11:43.581923Z",
     "iopub.status.idle": "2021-06-04T13:11:45.525150Z",
     "shell.execute_reply": "2021-06-04T13:11:45.524408Z"
    },
    "papermill": {
     "duration": 1.962459,
     "end_time": "2021-06-04T13:11:45.525513",
     "exception": false,
     "start_time": "2021-06-04T13:11:43.563054",
     "status": "completed"
    },
    "slideshow": {
     "slide_type": "subslide"
    },
    "tags": []
   },
   "outputs": [],
   "source": [
    "import pandas as pd\n",
    "\n",
    "games = pd.read_csv(\"../../../resources/day_01/twitch_game_data.csv\", index_col=0)"
   ]
  },
  {
   "cell_type": "code",
   "execution_count": 2,
   "id": "4150407f",
   "metadata": {
    "slideshow": {
     "slide_type": "subslide"
    }
   },
   "outputs": [
    {
     "data": {
      "text/html": [
       "<div>\n",
       "<style scoped>\n",
       "    .dataframe tbody tr th:only-of-type {\n",
       "        vertical-align: middle;\n",
       "    }\n",
       "\n",
       "    .dataframe tbody tr th {\n",
       "        vertical-align: top;\n",
       "    }\n",
       "\n",
       "    .dataframe thead th {\n",
       "        text-align: right;\n",
       "    }\n",
       "</style>\n",
       "<table border=\"1\" class=\"dataframe\">\n",
       "  <thead>\n",
       "    <tr style=\"text-align: right;\">\n",
       "      <th></th>\n",
       "      <th>Game</th>\n",
       "      <th>Month</th>\n",
       "      <th>Year</th>\n",
       "      <th>Hours_watched</th>\n",
       "      <th>Hours_Streamed</th>\n",
       "      <th>Peak_viewers</th>\n",
       "      <th>Peak_channels</th>\n",
       "      <th>Streamers</th>\n",
       "      <th>Avg_viewers</th>\n",
       "      <th>Avg_channels</th>\n",
       "      <th>Avg_viewer_ratio</th>\n",
       "    </tr>\n",
       "    <tr>\n",
       "      <th>Rank</th>\n",
       "      <th></th>\n",
       "      <th></th>\n",
       "      <th></th>\n",
       "      <th></th>\n",
       "      <th></th>\n",
       "      <th></th>\n",
       "      <th></th>\n",
       "      <th></th>\n",
       "      <th></th>\n",
       "      <th></th>\n",
       "      <th></th>\n",
       "    </tr>\n",
       "  </thead>\n",
       "  <tbody>\n",
       "    <tr>\n",
       "      <th>1</th>\n",
       "      <td>League of Legends</td>\n",
       "      <td>1</td>\n",
       "      <td>2016</td>\n",
       "      <td>94377226</td>\n",
       "      <td>1362044 hours</td>\n",
       "      <td>530270</td>\n",
       "      <td>2903</td>\n",
       "      <td>129172</td>\n",
       "      <td>127021</td>\n",
       "      <td>1833</td>\n",
       "      <td>69.29</td>\n",
       "    </tr>\n",
       "    <tr>\n",
       "      <th>2</th>\n",
       "      <td>Counter-Strike: Global Offensive</td>\n",
       "      <td>1</td>\n",
       "      <td>2016</td>\n",
       "      <td>47832863</td>\n",
       "      <td>830105 hours</td>\n",
       "      <td>372654</td>\n",
       "      <td>2197</td>\n",
       "      <td>120849</td>\n",
       "      <td>64378</td>\n",
       "      <td>1117</td>\n",
       "      <td>57.62</td>\n",
       "    </tr>\n",
       "    <tr>\n",
       "      <th>3</th>\n",
       "      <td>Dota 2</td>\n",
       "      <td>1</td>\n",
       "      <td>2016</td>\n",
       "      <td>45185893</td>\n",
       "      <td>433397 hours</td>\n",
       "      <td>315083</td>\n",
       "      <td>1100</td>\n",
       "      <td>44074</td>\n",
       "      <td>60815</td>\n",
       "      <td>583</td>\n",
       "      <td>104.26</td>\n",
       "    </tr>\n",
       "    <tr>\n",
       "      <th>4</th>\n",
       "      <td>Hearthstone</td>\n",
       "      <td>1</td>\n",
       "      <td>2016</td>\n",
       "      <td>39936159</td>\n",
       "      <td>235903 hours</td>\n",
       "      <td>131357</td>\n",
       "      <td>517</td>\n",
       "      <td>36170</td>\n",
       "      <td>53749</td>\n",
       "      <td>317</td>\n",
       "      <td>169.29</td>\n",
       "    </tr>\n",
       "    <tr>\n",
       "      <th>5</th>\n",
       "      <td>Call of Duty: Black Ops III</td>\n",
       "      <td>1</td>\n",
       "      <td>2016</td>\n",
       "      <td>16153057</td>\n",
       "      <td>1151578 hours</td>\n",
       "      <td>71639</td>\n",
       "      <td>3620</td>\n",
       "      <td>214054</td>\n",
       "      <td>21740</td>\n",
       "      <td>1549</td>\n",
       "      <td>14.03</td>\n",
       "    </tr>\n",
       "    <tr>\n",
       "      <th>...</th>\n",
       "      <td>...</td>\n",
       "      <td>...</td>\n",
       "      <td>...</td>\n",
       "      <td>...</td>\n",
       "      <td>...</td>\n",
       "      <td>...</td>\n",
       "      <td>...</td>\n",
       "      <td>...</td>\n",
       "      <td>...</td>\n",
       "      <td>...</td>\n",
       "      <td>...</td>\n",
       "    </tr>\n",
       "    <tr>\n",
       "      <th>196</th>\n",
       "      <td>War Thunder</td>\n",
       "      <td>6</td>\n",
       "      <td>2021</td>\n",
       "      <td>704459</td>\n",
       "      <td>73613 hours</td>\n",
       "      <td>8812</td>\n",
       "      <td>223</td>\n",
       "      <td>7035</td>\n",
       "      <td>979</td>\n",
       "      <td>102</td>\n",
       "      <td>9.57</td>\n",
       "    </tr>\n",
       "    <tr>\n",
       "      <th>197</th>\n",
       "      <td>Muck</td>\n",
       "      <td>6</td>\n",
       "      <td>2021</td>\n",
       "      <td>701456</td>\n",
       "      <td>31741 hours</td>\n",
       "      <td>60091</td>\n",
       "      <td>112</td>\n",
       "      <td>8591</td>\n",
       "      <td>975</td>\n",
       "      <td>44</td>\n",
       "      <td>22.10</td>\n",
       "    </tr>\n",
       "    <tr>\n",
       "      <th>198</th>\n",
       "      <td>Trials Rising</td>\n",
       "      <td>6</td>\n",
       "      <td>2021</td>\n",
       "      <td>698899</td>\n",
       "      <td>4626 hours</td>\n",
       "      <td>217333</td>\n",
       "      <td>26</td>\n",
       "      <td>581</td>\n",
       "      <td>972</td>\n",
       "      <td>6</td>\n",
       "      <td>151.08</td>\n",
       "    </tr>\n",
       "    <tr>\n",
       "      <th>199</th>\n",
       "      <td>Little Nightmares II</td>\n",
       "      <td>6</td>\n",
       "      <td>2021</td>\n",
       "      <td>695130</td>\n",
       "      <td>27581 hours</td>\n",
       "      <td>43518</td>\n",
       "      <td>105</td>\n",
       "      <td>6128</td>\n",
       "      <td>966</td>\n",
       "      <td>38</td>\n",
       "      <td>25.20</td>\n",
       "    </tr>\n",
       "    <tr>\n",
       "      <th>200</th>\n",
       "      <td>Tabletop RPGs</td>\n",
       "      <td>6</td>\n",
       "      <td>2021</td>\n",
       "      <td>688130</td>\n",
       "      <td>23602 hours</td>\n",
       "      <td>20018</td>\n",
       "      <td>122</td>\n",
       "      <td>2567</td>\n",
       "      <td>957</td>\n",
       "      <td>32</td>\n",
       "      <td>29.16</td>\n",
       "    </tr>\n",
       "  </tbody>\n",
       "</table>\n",
       "<p>13200 rows × 11 columns</p>\n",
       "</div>"
      ],
      "text/plain": [
       "                                  Game  Month  Year  Hours_watched  \\\n",
       "Rank                                                                 \n",
       "1                    League of Legends      1  2016       94377226   \n",
       "2     Counter-Strike: Global Offensive      1  2016       47832863   \n",
       "3                               Dota 2      1  2016       45185893   \n",
       "4                          Hearthstone      1  2016       39936159   \n",
       "5          Call of Duty: Black Ops III      1  2016       16153057   \n",
       "...                                ...    ...   ...            ...   \n",
       "196                        War Thunder      6  2021         704459   \n",
       "197                               Muck      6  2021         701456   \n",
       "198                      Trials Rising      6  2021         698899   \n",
       "199               Little Nightmares II      6  2021         695130   \n",
       "200                      Tabletop RPGs      6  2021         688130   \n",
       "\n",
       "     Hours_Streamed  Peak_viewers  Peak_channels  Streamers  Avg_viewers  \\\n",
       "Rank                                                                       \n",
       "1     1362044 hours        530270           2903     129172       127021   \n",
       "2      830105 hours        372654           2197     120849        64378   \n",
       "3      433397 hours        315083           1100      44074        60815   \n",
       "4      235903 hours        131357            517      36170        53749   \n",
       "5     1151578 hours         71639           3620     214054        21740   \n",
       "...             ...           ...            ...        ...          ...   \n",
       "196     73613 hours          8812            223       7035          979   \n",
       "197     31741 hours         60091            112       8591          975   \n",
       "198      4626 hours        217333             26        581          972   \n",
       "199     27581 hours         43518            105       6128          966   \n",
       "200     23602 hours         20018            122       2567          957   \n",
       "\n",
       "      Avg_channels  Avg_viewer_ratio  \n",
       "Rank                                  \n",
       "1             1833             69.29  \n",
       "2             1117             57.62  \n",
       "3              583            104.26  \n",
       "4              317            169.29  \n",
       "5             1549             14.03  \n",
       "...            ...               ...  \n",
       "196            102              9.57  \n",
       "197             44             22.10  \n",
       "198              6            151.08  \n",
       "199             38             25.20  \n",
       "200             32             29.16  \n",
       "\n",
       "[13200 rows x 11 columns]"
      ]
     },
     "execution_count": 2,
     "metadata": {},
     "output_type": "execute_result"
    }
   ],
   "source": [
    "games"
   ]
  },
  {
   "cell_type": "code",
   "execution_count": 3,
   "id": "sought-dietary",
   "metadata": {
    "execution": {
     "iopub.execute_input": "2021-06-04T13:11:45.558517Z",
     "iopub.status.busy": "2021-06-04T13:11:45.557525Z",
     "iopub.status.idle": "2021-06-04T13:11:45.563652Z",
     "shell.execute_reply": "2021-06-04T13:11:45.563040Z"
    },
    "papermill": {
     "duration": 0.025879,
     "end_time": "2021-06-04T13:11:45.563881",
     "exception": false,
     "start_time": "2021-06-04T13:11:45.538002",
     "status": "completed"
    },
    "scrolled": true,
    "slideshow": {
     "slide_type": "slide"
    },
    "tags": []
   },
   "outputs": [
    {
     "data": {
      "text/plain": [
       "dtype('O')"
      ]
     },
     "execution_count": 3,
     "metadata": {},
     "output_type": "execute_result"
    }
   ],
   "source": [
    "games.Game.dtype"
   ]
  },
  {
   "cell_type": "code",
   "execution_count": 4,
   "id": "cc616bec",
   "metadata": {
    "slideshow": {
     "slide_type": "subslide"
    }
   },
   "outputs": [
    {
     "data": {
      "text/plain": [
       "dtype('float64')"
      ]
     },
     "execution_count": 4,
     "metadata": {},
     "output_type": "execute_result"
    }
   ],
   "source": [
    "games.Avg_viewer_ratio.dtype"
   ]
  },
  {
   "cell_type": "markdown",
   "id": "structural-campaign",
   "metadata": {
    "papermill": {
     "duration": 0.012188,
     "end_time": "2021-06-04T13:11:45.589271",
     "exception": false,
     "start_time": "2021-06-04T13:11:45.577083",
     "status": "completed"
    },
    "slideshow": {
     "slide_type": "subslide"
    },
    "tags": []
   },
   "source": [
    "Alternatively, the `dtypes` property returns the `dtype` of _every_ column in the DataFrame:"
   ]
  },
  {
   "cell_type": "code",
   "execution_count": 5,
   "id": "pacific-stream",
   "metadata": {
    "execution": {
     "iopub.execute_input": "2021-06-04T13:11:45.622973Z",
     "iopub.status.busy": "2021-06-04T13:11:45.622097Z",
     "iopub.status.idle": "2021-06-04T13:11:45.627454Z",
     "shell.execute_reply": "2021-06-04T13:11:45.626753Z"
    },
    "papermill": {
     "duration": 0.025815,
     "end_time": "2021-06-04T13:11:45.627619",
     "exception": false,
     "start_time": "2021-06-04T13:11:45.601804",
     "status": "completed"
    },
    "slideshow": {
     "slide_type": "subslide"
    },
    "tags": []
   },
   "outputs": [
    {
     "data": {
      "text/plain": [
       "Game                 object\n",
       "Month                 int64\n",
       "Year                  int64\n",
       "Hours_watched         int64\n",
       "Hours_Streamed       object\n",
       "Peak_viewers          int64\n",
       "Peak_channels         int64\n",
       "Streamers             int64\n",
       "Avg_viewers           int64\n",
       "Avg_channels          int64\n",
       "Avg_viewer_ratio    float64\n",
       "dtype: object"
      ]
     },
     "execution_count": 5,
     "metadata": {},
     "output_type": "execute_result"
    }
   ],
   "source": [
    "games.dtypes"
   ]
  },
  {
   "cell_type": "markdown",
   "id": "hydraulic-brazilian",
   "metadata": {
    "papermill": {
     "duration": 0.012412,
     "end_time": "2021-06-04T13:11:45.653017",
     "exception": false,
     "start_time": "2021-06-04T13:11:45.640605",
     "status": "completed"
    },
    "slideshow": {
     "slide_type": "slide"
    },
    "tags": []
   },
   "source": [
    "Data types tell us something about how pandas is storing the data internally. `float64` means that it's using a 64-bit floating point number; `int64` means a similarly sized integer instead, and so on.\n",
    "\n",
    "One peculiarity to keep in mind (and on display very clearly here) is that columns consisting entirely of strings do not get their own type; they are instead given the `object` type.\n",
    "\n",
    "It's possible to convert a column of one type into another wherever such a conversion makes sense by using the `astype()` function. For example, we may transform the `points` column from its existing `int64` data type into a `float64` data type:"
   ]
  },
  {
   "cell_type": "code",
   "execution_count": 6,
   "id": "pressing-custom",
   "metadata": {
    "execution": {
     "iopub.execute_input": "2021-06-04T13:11:45.686501Z",
     "iopub.status.busy": "2021-06-04T13:11:45.683115Z",
     "iopub.status.idle": "2021-06-04T13:11:45.691776Z",
     "shell.execute_reply": "2021-06-04T13:11:45.691255Z"
    },
    "papermill": {
     "duration": 0.026209,
     "end_time": "2021-06-04T13:11:45.691912",
     "exception": false,
     "start_time": "2021-06-04T13:11:45.665703",
     "status": "completed"
    },
    "scrolled": true,
    "slideshow": {
     "slide_type": "subslide"
    },
    "tags": []
   },
   "outputs": [
    {
     "data": {
      "text/plain": [
       "Rank\n",
       "1      127021.0\n",
       "2       64378.0\n",
       "3       60815.0\n",
       "4       53749.0\n",
       "5       21740.0\n",
       "         ...   \n",
       "196       979.0\n",
       "197       975.0\n",
       "198       972.0\n",
       "199       966.0\n",
       "200       957.0\n",
       "Name: Avg_viewers, Length: 13200, dtype: float64"
      ]
     },
     "execution_count": 6,
     "metadata": {},
     "output_type": "execute_result"
    }
   ],
   "source": [
    "games.Avg_viewers.astype('float64')"
   ]
  },
  {
   "cell_type": "markdown",
   "id": "small-berlin",
   "metadata": {
    "papermill": {
     "duration": 0.012882,
     "end_time": "2021-06-04T13:11:45.719431",
     "exception": false,
     "start_time": "2021-06-04T13:11:45.706549",
     "status": "completed"
    },
    "slideshow": {
     "slide_type": "subslide"
    },
    "tags": []
   },
   "source": [
    "A DataFrame or Series index has its own `dtype`, too:"
   ]
  },
  {
   "cell_type": "code",
   "execution_count": 7,
   "id": "heated-brave",
   "metadata": {
    "execution": {
     "iopub.execute_input": "2021-06-04T13:11:45.752620Z",
     "iopub.status.busy": "2021-06-04T13:11:45.751655Z",
     "iopub.status.idle": "2021-06-04T13:11:45.756872Z",
     "shell.execute_reply": "2021-06-04T13:11:45.756380Z"
    },
    "papermill": {
     "duration": 0.024309,
     "end_time": "2021-06-04T13:11:45.757012",
     "exception": false,
     "start_time": "2021-06-04T13:11:45.732703",
     "status": "completed"
    },
    "slideshow": {
     "slide_type": "subslide"
    },
    "tags": []
   },
   "outputs": [
    {
     "data": {
      "text/plain": [
       "dtype('int64')"
      ]
     },
     "execution_count": 7,
     "metadata": {},
     "output_type": "execute_result"
    }
   ],
   "source": [
    "games.index.dtype"
   ]
  },
  {
   "cell_type": "markdown",
   "id": "canadian-compilation",
   "metadata": {
    "papermill": {
     "duration": 0.018271,
     "end_time": "2021-06-04T13:11:45.789081",
     "exception": false,
     "start_time": "2021-06-04T13:11:45.770810",
     "status": "completed"
    },
    "slideshow": {
     "slide_type": "subslide"
    },
    "tags": []
   },
   "source": [
    "Pandas also supports more exotic data types, such as categorical data and timeseries data. Because these data types are more rarely used."
   ]
  },
  {
   "cell_type": "markdown",
   "id": "chinese-identifier",
   "metadata": {
    "papermill": {
     "duration": 0.015865,
     "end_time": "2021-06-04T13:11:45.823495",
     "exception": false,
     "start_time": "2021-06-04T13:11:45.807630",
     "status": "completed"
    },
    "slideshow": {
     "slide_type": "slide"
    },
    "tags": []
   },
   "source": [
    "# Missing data\n",
    "\n",
    "Entries missing values are given the value `NaN`, short for \"Not a Number\". For technical reasons these `NaN` values are always of the `float64` dtype.\n",
    "\n",
    "Pandas provides some methods specific to missing data. To select `NaN` entries you can use `pd.isnull()` (or its companion `pd.notnull()`). This is meant to be used thusly:"
   ]
  },
  {
   "cell_type": "code",
   "execution_count": 8,
   "id": "8b0e34d2",
   "metadata": {
    "slideshow": {
     "slide_type": "subslide"
    }
   },
   "outputs": [],
   "source": [
    "potability = pd.read_csv(\"../../../resources/day_01/water_potability.csv\", index_col=0)"
   ]
  },
  {
   "cell_type": "code",
   "execution_count": 9,
   "id": "fecbec36",
   "metadata": {
    "slideshow": {
     "slide_type": "subslide"
    }
   },
   "outputs": [
    {
     "data": {
      "text/html": [
       "<div>\n",
       "<style scoped>\n",
       "    .dataframe tbody tr th:only-of-type {\n",
       "        vertical-align: middle;\n",
       "    }\n",
       "\n",
       "    .dataframe tbody tr th {\n",
       "        vertical-align: top;\n",
       "    }\n",
       "\n",
       "    .dataframe thead th {\n",
       "        text-align: right;\n",
       "    }\n",
       "</style>\n",
       "<table border=\"1\" class=\"dataframe\">\n",
       "  <thead>\n",
       "    <tr style=\"text-align: right;\">\n",
       "      <th></th>\n",
       "      <th>Hardness</th>\n",
       "      <th>Solids</th>\n",
       "      <th>Chloramines</th>\n",
       "      <th>Sulfate</th>\n",
       "      <th>Conductivity</th>\n",
       "      <th>Organic_carbon</th>\n",
       "      <th>Trihalomethanes</th>\n",
       "      <th>Turbidity</th>\n",
       "      <th>Potability</th>\n",
       "    </tr>\n",
       "    <tr>\n",
       "      <th>ph</th>\n",
       "      <th></th>\n",
       "      <th></th>\n",
       "      <th></th>\n",
       "      <th></th>\n",
       "      <th></th>\n",
       "      <th></th>\n",
       "      <th></th>\n",
       "      <th></th>\n",
       "      <th></th>\n",
       "    </tr>\n",
       "  </thead>\n",
       "  <tbody>\n",
       "    <tr>\n",
       "      <th>NaN</th>\n",
       "      <td>204.890455</td>\n",
       "      <td>20791.318981</td>\n",
       "      <td>7.300212</td>\n",
       "      <td>368.516441</td>\n",
       "      <td>564.308654</td>\n",
       "      <td>10.379783</td>\n",
       "      <td>86.990970</td>\n",
       "      <td>2.963135</td>\n",
       "      <td>0</td>\n",
       "    </tr>\n",
       "    <tr>\n",
       "      <th>3.716080</th>\n",
       "      <td>129.422921</td>\n",
       "      <td>18630.057858</td>\n",
       "      <td>6.635246</td>\n",
       "      <td>NaN</td>\n",
       "      <td>592.885359</td>\n",
       "      <td>15.180013</td>\n",
       "      <td>56.329076</td>\n",
       "      <td>4.500656</td>\n",
       "      <td>0</td>\n",
       "    </tr>\n",
       "    <tr>\n",
       "      <th>8.099124</th>\n",
       "      <td>224.236259</td>\n",
       "      <td>19909.541732</td>\n",
       "      <td>9.275884</td>\n",
       "      <td>NaN</td>\n",
       "      <td>418.606213</td>\n",
       "      <td>16.868637</td>\n",
       "      <td>66.420093</td>\n",
       "      <td>3.055934</td>\n",
       "      <td>0</td>\n",
       "    </tr>\n",
       "    <tr>\n",
       "      <th>8.316766</th>\n",
       "      <td>214.373394</td>\n",
       "      <td>22018.417441</td>\n",
       "      <td>8.059332</td>\n",
       "      <td>356.886136</td>\n",
       "      <td>363.266516</td>\n",
       "      <td>18.436524</td>\n",
       "      <td>100.341674</td>\n",
       "      <td>4.628771</td>\n",
       "      <td>0</td>\n",
       "    </tr>\n",
       "    <tr>\n",
       "      <th>9.092223</th>\n",
       "      <td>181.101509</td>\n",
       "      <td>17978.986339</td>\n",
       "      <td>6.546600</td>\n",
       "      <td>310.135738</td>\n",
       "      <td>398.410813</td>\n",
       "      <td>11.558279</td>\n",
       "      <td>31.997993</td>\n",
       "      <td>4.075075</td>\n",
       "      <td>0</td>\n",
       "    </tr>\n",
       "    <tr>\n",
       "      <th>...</th>\n",
       "      <td>...</td>\n",
       "      <td>...</td>\n",
       "      <td>...</td>\n",
       "      <td>...</td>\n",
       "      <td>...</td>\n",
       "      <td>...</td>\n",
       "      <td>...</td>\n",
       "      <td>...</td>\n",
       "      <td>...</td>\n",
       "    </tr>\n",
       "    <tr>\n",
       "      <th>4.668102</th>\n",
       "      <td>193.681735</td>\n",
       "      <td>47580.991603</td>\n",
       "      <td>7.166639</td>\n",
       "      <td>359.948574</td>\n",
       "      <td>526.424171</td>\n",
       "      <td>13.894419</td>\n",
       "      <td>66.687695</td>\n",
       "      <td>4.435821</td>\n",
       "      <td>1</td>\n",
       "    </tr>\n",
       "    <tr>\n",
       "      <th>7.808856</th>\n",
       "      <td>193.553212</td>\n",
       "      <td>17329.802160</td>\n",
       "      <td>8.061362</td>\n",
       "      <td>NaN</td>\n",
       "      <td>392.449580</td>\n",
       "      <td>19.903225</td>\n",
       "      <td>NaN</td>\n",
       "      <td>2.798243</td>\n",
       "      <td>1</td>\n",
       "    </tr>\n",
       "    <tr>\n",
       "      <th>9.419510</th>\n",
       "      <td>175.762646</td>\n",
       "      <td>33155.578218</td>\n",
       "      <td>7.350233</td>\n",
       "      <td>NaN</td>\n",
       "      <td>432.044783</td>\n",
       "      <td>11.039070</td>\n",
       "      <td>69.845400</td>\n",
       "      <td>3.298875</td>\n",
       "      <td>1</td>\n",
       "    </tr>\n",
       "    <tr>\n",
       "      <th>5.126763</th>\n",
       "      <td>230.603758</td>\n",
       "      <td>11983.869376</td>\n",
       "      <td>6.303357</td>\n",
       "      <td>NaN</td>\n",
       "      <td>402.883113</td>\n",
       "      <td>11.168946</td>\n",
       "      <td>77.488213</td>\n",
       "      <td>4.708658</td>\n",
       "      <td>1</td>\n",
       "    </tr>\n",
       "    <tr>\n",
       "      <th>7.874671</th>\n",
       "      <td>195.102299</td>\n",
       "      <td>17404.177061</td>\n",
       "      <td>7.509306</td>\n",
       "      <td>NaN</td>\n",
       "      <td>327.459760</td>\n",
       "      <td>16.140368</td>\n",
       "      <td>78.698446</td>\n",
       "      <td>2.309149</td>\n",
       "      <td>1</td>\n",
       "    </tr>\n",
       "  </tbody>\n",
       "</table>\n",
       "<p>3276 rows × 9 columns</p>\n",
       "</div>"
      ],
      "text/plain": [
       "            Hardness        Solids  Chloramines     Sulfate  Conductivity  \\\n",
       "ph                                                                          \n",
       "NaN       204.890455  20791.318981     7.300212  368.516441    564.308654   \n",
       "3.716080  129.422921  18630.057858     6.635246         NaN    592.885359   \n",
       "8.099124  224.236259  19909.541732     9.275884         NaN    418.606213   \n",
       "8.316766  214.373394  22018.417441     8.059332  356.886136    363.266516   \n",
       "9.092223  181.101509  17978.986339     6.546600  310.135738    398.410813   \n",
       "...              ...           ...          ...         ...           ...   \n",
       "4.668102  193.681735  47580.991603     7.166639  359.948574    526.424171   \n",
       "7.808856  193.553212  17329.802160     8.061362         NaN    392.449580   \n",
       "9.419510  175.762646  33155.578218     7.350233         NaN    432.044783   \n",
       "5.126763  230.603758  11983.869376     6.303357         NaN    402.883113   \n",
       "7.874671  195.102299  17404.177061     7.509306         NaN    327.459760   \n",
       "\n",
       "          Organic_carbon  Trihalomethanes  Turbidity  Potability  \n",
       "ph                                                                \n",
       "NaN            10.379783        86.990970   2.963135           0  \n",
       "3.716080       15.180013        56.329076   4.500656           0  \n",
       "8.099124       16.868637        66.420093   3.055934           0  \n",
       "8.316766       18.436524       100.341674   4.628771           0  \n",
       "9.092223       11.558279        31.997993   4.075075           0  \n",
       "...                  ...              ...        ...         ...  \n",
       "4.668102       13.894419        66.687695   4.435821           1  \n",
       "7.808856       19.903225              NaN   2.798243           1  \n",
       "9.419510       11.039070        69.845400   3.298875           1  \n",
       "5.126763       11.168946        77.488213   4.708658           1  \n",
       "7.874671       16.140368        78.698446   2.309149           1  \n",
       "\n",
       "[3276 rows x 9 columns]"
      ]
     },
     "execution_count": 9,
     "metadata": {},
     "output_type": "execute_result"
    }
   ],
   "source": [
    "potability"
   ]
  },
  {
   "cell_type": "code",
   "execution_count": 10,
   "id": "rental-norway",
   "metadata": {
    "execution": {
     "iopub.execute_input": "2021-06-04T13:11:45.878972Z",
     "iopub.status.busy": "2021-06-04T13:11:45.877991Z",
     "iopub.status.idle": "2021-06-04T13:11:45.913477Z",
     "shell.execute_reply": "2021-06-04T13:11:45.914226Z"
    },
    "papermill": {
     "duration": 0.0736,
     "end_time": "2021-06-04T13:11:45.914485",
     "exception": false,
     "start_time": "2021-06-04T13:11:45.840885",
     "status": "completed"
    },
    "slideshow": {
     "slide_type": "subslide"
    },
    "tags": []
   },
   "outputs": [
    {
     "data": {
      "text/html": [
       "<div>\n",
       "<style scoped>\n",
       "    .dataframe tbody tr th:only-of-type {\n",
       "        vertical-align: middle;\n",
       "    }\n",
       "\n",
       "    .dataframe tbody tr th {\n",
       "        vertical-align: top;\n",
       "    }\n",
       "\n",
       "    .dataframe thead th {\n",
       "        text-align: right;\n",
       "    }\n",
       "</style>\n",
       "<table border=\"1\" class=\"dataframe\">\n",
       "  <thead>\n",
       "    <tr style=\"text-align: right;\">\n",
       "      <th></th>\n",
       "      <th>Hardness</th>\n",
       "      <th>Solids</th>\n",
       "      <th>Chloramines</th>\n",
       "      <th>Sulfate</th>\n",
       "      <th>Conductivity</th>\n",
       "      <th>Organic_carbon</th>\n",
       "      <th>Trihalomethanes</th>\n",
       "      <th>Turbidity</th>\n",
       "      <th>Potability</th>\n",
       "    </tr>\n",
       "    <tr>\n",
       "      <th>ph</th>\n",
       "      <th></th>\n",
       "      <th></th>\n",
       "      <th></th>\n",
       "      <th></th>\n",
       "      <th></th>\n",
       "      <th></th>\n",
       "      <th></th>\n",
       "      <th></th>\n",
       "      <th></th>\n",
       "    </tr>\n",
       "  </thead>\n",
       "  <tbody>\n",
       "    <tr>\n",
       "      <th>3.716080</th>\n",
       "      <td>129.422921</td>\n",
       "      <td>18630.057858</td>\n",
       "      <td>6.635246</td>\n",
       "      <td>NaN</td>\n",
       "      <td>592.885359</td>\n",
       "      <td>15.180013</td>\n",
       "      <td>56.329076</td>\n",
       "      <td>4.500656</td>\n",
       "      <td>0</td>\n",
       "    </tr>\n",
       "    <tr>\n",
       "      <th>8.099124</th>\n",
       "      <td>224.236259</td>\n",
       "      <td>19909.541732</td>\n",
       "      <td>9.275884</td>\n",
       "      <td>NaN</td>\n",
       "      <td>418.606213</td>\n",
       "      <td>16.868637</td>\n",
       "      <td>66.420093</td>\n",
       "      <td>3.055934</td>\n",
       "      <td>0</td>\n",
       "    </tr>\n",
       "    <tr>\n",
       "      <th>7.974522</th>\n",
       "      <td>218.693300</td>\n",
       "      <td>18767.656682</td>\n",
       "      <td>8.110385</td>\n",
       "      <td>NaN</td>\n",
       "      <td>364.098230</td>\n",
       "      <td>14.525746</td>\n",
       "      <td>76.485911</td>\n",
       "      <td>4.011718</td>\n",
       "      <td>0</td>\n",
       "    </tr>\n",
       "    <tr>\n",
       "      <th>7.496232</th>\n",
       "      <td>205.344982</td>\n",
       "      <td>28388.004887</td>\n",
       "      <td>5.072558</td>\n",
       "      <td>NaN</td>\n",
       "      <td>444.645352</td>\n",
       "      <td>13.228311</td>\n",
       "      <td>70.300213</td>\n",
       "      <td>4.777382</td>\n",
       "      <td>0</td>\n",
       "    </tr>\n",
       "    <tr>\n",
       "      <th>7.051786</th>\n",
       "      <td>211.049406</td>\n",
       "      <td>30980.600787</td>\n",
       "      <td>10.094796</td>\n",
       "      <td>NaN</td>\n",
       "      <td>315.141267</td>\n",
       "      <td>20.397022</td>\n",
       "      <td>56.651604</td>\n",
       "      <td>4.268429</td>\n",
       "      <td>0</td>\n",
       "    </tr>\n",
       "    <tr>\n",
       "      <th>...</th>\n",
       "      <td>...</td>\n",
       "      <td>...</td>\n",
       "      <td>...</td>\n",
       "      <td>...</td>\n",
       "      <td>...</td>\n",
       "      <td>...</td>\n",
       "      <td>...</td>\n",
       "      <td>...</td>\n",
       "      <td>...</td>\n",
       "    </tr>\n",
       "    <tr>\n",
       "      <th>8.372910</th>\n",
       "      <td>169.087052</td>\n",
       "      <td>14622.745494</td>\n",
       "      <td>7.547984</td>\n",
       "      <td>NaN</td>\n",
       "      <td>464.525552</td>\n",
       "      <td>11.083027</td>\n",
       "      <td>38.435151</td>\n",
       "      <td>4.906358</td>\n",
       "      <td>1</td>\n",
       "    </tr>\n",
       "    <tr>\n",
       "      <th>7.808856</th>\n",
       "      <td>193.553212</td>\n",
       "      <td>17329.802160</td>\n",
       "      <td>8.061362</td>\n",
       "      <td>NaN</td>\n",
       "      <td>392.449580</td>\n",
       "      <td>19.903225</td>\n",
       "      <td>NaN</td>\n",
       "      <td>2.798243</td>\n",
       "      <td>1</td>\n",
       "    </tr>\n",
       "    <tr>\n",
       "      <th>9.419510</th>\n",
       "      <td>175.762646</td>\n",
       "      <td>33155.578218</td>\n",
       "      <td>7.350233</td>\n",
       "      <td>NaN</td>\n",
       "      <td>432.044783</td>\n",
       "      <td>11.039070</td>\n",
       "      <td>69.845400</td>\n",
       "      <td>3.298875</td>\n",
       "      <td>1</td>\n",
       "    </tr>\n",
       "    <tr>\n",
       "      <th>5.126763</th>\n",
       "      <td>230.603758</td>\n",
       "      <td>11983.869376</td>\n",
       "      <td>6.303357</td>\n",
       "      <td>NaN</td>\n",
       "      <td>402.883113</td>\n",
       "      <td>11.168946</td>\n",
       "      <td>77.488213</td>\n",
       "      <td>4.708658</td>\n",
       "      <td>1</td>\n",
       "    </tr>\n",
       "    <tr>\n",
       "      <th>7.874671</th>\n",
       "      <td>195.102299</td>\n",
       "      <td>17404.177061</td>\n",
       "      <td>7.509306</td>\n",
       "      <td>NaN</td>\n",
       "      <td>327.459760</td>\n",
       "      <td>16.140368</td>\n",
       "      <td>78.698446</td>\n",
       "      <td>2.309149</td>\n",
       "      <td>1</td>\n",
       "    </tr>\n",
       "  </tbody>\n",
       "</table>\n",
       "<p>781 rows × 9 columns</p>\n",
       "</div>"
      ],
      "text/plain": [
       "            Hardness        Solids  Chloramines  Sulfate  Conductivity  \\\n",
       "ph                                                                       \n",
       "3.716080  129.422921  18630.057858     6.635246      NaN    592.885359   \n",
       "8.099124  224.236259  19909.541732     9.275884      NaN    418.606213   \n",
       "7.974522  218.693300  18767.656682     8.110385      NaN    364.098230   \n",
       "7.496232  205.344982  28388.004887     5.072558      NaN    444.645352   \n",
       "7.051786  211.049406  30980.600787    10.094796      NaN    315.141267   \n",
       "...              ...           ...          ...      ...           ...   \n",
       "8.372910  169.087052  14622.745494     7.547984      NaN    464.525552   \n",
       "7.808856  193.553212  17329.802160     8.061362      NaN    392.449580   \n",
       "9.419510  175.762646  33155.578218     7.350233      NaN    432.044783   \n",
       "5.126763  230.603758  11983.869376     6.303357      NaN    402.883113   \n",
       "7.874671  195.102299  17404.177061     7.509306      NaN    327.459760   \n",
       "\n",
       "          Organic_carbon  Trihalomethanes  Turbidity  Potability  \n",
       "ph                                                                \n",
       "3.716080       15.180013        56.329076   4.500656           0  \n",
       "8.099124       16.868637        66.420093   3.055934           0  \n",
       "7.974522       14.525746        76.485911   4.011718           0  \n",
       "7.496232       13.228311        70.300213   4.777382           0  \n",
       "7.051786       20.397022        56.651604   4.268429           0  \n",
       "...                  ...              ...        ...         ...  \n",
       "8.372910       11.083027        38.435151   4.906358           1  \n",
       "7.808856       19.903225              NaN   2.798243           1  \n",
       "9.419510       11.039070        69.845400   3.298875           1  \n",
       "5.126763       11.168946        77.488213   4.708658           1  \n",
       "7.874671       16.140368        78.698446   2.309149           1  \n",
       "\n",
       "[781 rows x 9 columns]"
      ]
     },
     "execution_count": 10,
     "metadata": {},
     "output_type": "execute_result"
    }
   ],
   "source": [
    "potability[pd.isnull(potability.Sulfate)]"
   ]
  },
  {
   "cell_type": "markdown",
   "id": "unable-single",
   "metadata": {
    "papermill": {
     "duration": 0.015109,
     "end_time": "2021-06-04T13:11:45.945259",
     "exception": false,
     "start_time": "2021-06-04T13:11:45.930150",
     "status": "completed"
    },
    "slideshow": {
     "slide_type": "slide"
    },
    "tags": []
   },
   "source": [
    "Replacing missing values is a common operation.  Pandas provides a really handy method for this problem: `fillna()`. `fillna()` provides a few different strategies for mitigating such data. For example, we can simply replace each `NaN` with an `\"Unknown\"`:"
   ]
  },
  {
   "cell_type": "code",
   "execution_count": 11,
   "id": "69aa046e",
   "metadata": {
    "slideshow": {
     "slide_type": "subslide"
    }
   },
   "outputs": [
    {
     "name": "stdout",
     "output_type": "stream",
     "text": [
      "Trihalomethanes: 66.39629294676803\n"
     ]
    }
   ],
   "source": [
    "trihalo_mean = potability.mean(axis=0, numeric_only=True).Trihalomethanes\n",
    "print(\"Trihalomethanes:\", trihalo_mean)"
   ]
  },
  {
   "cell_type": "code",
   "execution_count": 12,
   "id": "stunning-history",
   "metadata": {
    "execution": {
     "iopub.execute_input": "2021-06-04T13:11:45.980756Z",
     "iopub.status.busy": "2021-06-04T13:11:45.979953Z",
     "iopub.status.idle": "2021-06-04T13:11:45.997705Z",
     "shell.execute_reply": "2021-06-04T13:11:45.998345Z"
    },
    "papermill": {
     "duration": 0.036638,
     "end_time": "2021-06-04T13:11:45.998585",
     "exception": false,
     "start_time": "2021-06-04T13:11:45.961947",
     "status": "completed"
    },
    "slideshow": {
     "slide_type": "subslide"
    },
    "tags": []
   },
   "outputs": [],
   "source": [
    "potability.Trihalomethanes.fillna(\"unknown\", inplace=True)"
   ]
  },
  {
   "cell_type": "code",
   "execution_count": 13,
   "id": "aeb791b6",
   "metadata": {
    "slideshow": {
     "slide_type": "subslide"
    }
   },
   "outputs": [
    {
     "data": {
      "text/html": [
       "<div>\n",
       "<style scoped>\n",
       "    .dataframe tbody tr th:only-of-type {\n",
       "        vertical-align: middle;\n",
       "    }\n",
       "\n",
       "    .dataframe tbody tr th {\n",
       "        vertical-align: top;\n",
       "    }\n",
       "\n",
       "    .dataframe thead th {\n",
       "        text-align: right;\n",
       "    }\n",
       "</style>\n",
       "<table border=\"1\" class=\"dataframe\">\n",
       "  <thead>\n",
       "    <tr style=\"text-align: right;\">\n",
       "      <th></th>\n",
       "      <th>Hardness</th>\n",
       "      <th>Solids</th>\n",
       "      <th>Chloramines</th>\n",
       "      <th>Sulfate</th>\n",
       "      <th>Conductivity</th>\n",
       "      <th>Organic_carbon</th>\n",
       "      <th>Trihalomethanes</th>\n",
       "      <th>Turbidity</th>\n",
       "      <th>Potability</th>\n",
       "    </tr>\n",
       "    <tr>\n",
       "      <th>ph</th>\n",
       "      <th></th>\n",
       "      <th></th>\n",
       "      <th></th>\n",
       "      <th></th>\n",
       "      <th></th>\n",
       "      <th></th>\n",
       "      <th></th>\n",
       "      <th></th>\n",
       "      <th></th>\n",
       "    </tr>\n",
       "  </thead>\n",
       "  <tbody>\n",
       "    <tr>\n",
       "      <th>NaN</th>\n",
       "      <td>204.890455</td>\n",
       "      <td>20791.318981</td>\n",
       "      <td>7.300212</td>\n",
       "      <td>368.516441</td>\n",
       "      <td>564.308654</td>\n",
       "      <td>10.379783</td>\n",
       "      <td>86.99097</td>\n",
       "      <td>2.963135</td>\n",
       "      <td>0</td>\n",
       "    </tr>\n",
       "    <tr>\n",
       "      <th>3.716080</th>\n",
       "      <td>129.422921</td>\n",
       "      <td>18630.057858</td>\n",
       "      <td>6.635246</td>\n",
       "      <td>NaN</td>\n",
       "      <td>592.885359</td>\n",
       "      <td>15.180013</td>\n",
       "      <td>56.329076</td>\n",
       "      <td>4.500656</td>\n",
       "      <td>0</td>\n",
       "    </tr>\n",
       "    <tr>\n",
       "      <th>8.099124</th>\n",
       "      <td>224.236259</td>\n",
       "      <td>19909.541732</td>\n",
       "      <td>9.275884</td>\n",
       "      <td>NaN</td>\n",
       "      <td>418.606213</td>\n",
       "      <td>16.868637</td>\n",
       "      <td>66.420093</td>\n",
       "      <td>3.055934</td>\n",
       "      <td>0</td>\n",
       "    </tr>\n",
       "    <tr>\n",
       "      <th>8.316766</th>\n",
       "      <td>214.373394</td>\n",
       "      <td>22018.417441</td>\n",
       "      <td>8.059332</td>\n",
       "      <td>356.886136</td>\n",
       "      <td>363.266516</td>\n",
       "      <td>18.436524</td>\n",
       "      <td>100.341674</td>\n",
       "      <td>4.628771</td>\n",
       "      <td>0</td>\n",
       "    </tr>\n",
       "    <tr>\n",
       "      <th>9.092223</th>\n",
       "      <td>181.101509</td>\n",
       "      <td>17978.986339</td>\n",
       "      <td>6.546600</td>\n",
       "      <td>310.135738</td>\n",
       "      <td>398.410813</td>\n",
       "      <td>11.558279</td>\n",
       "      <td>31.997993</td>\n",
       "      <td>4.075075</td>\n",
       "      <td>0</td>\n",
       "    </tr>\n",
       "    <tr>\n",
       "      <th>...</th>\n",
       "      <td>...</td>\n",
       "      <td>...</td>\n",
       "      <td>...</td>\n",
       "      <td>...</td>\n",
       "      <td>...</td>\n",
       "      <td>...</td>\n",
       "      <td>...</td>\n",
       "      <td>...</td>\n",
       "      <td>...</td>\n",
       "    </tr>\n",
       "    <tr>\n",
       "      <th>4.668102</th>\n",
       "      <td>193.681735</td>\n",
       "      <td>47580.991603</td>\n",
       "      <td>7.166639</td>\n",
       "      <td>359.948574</td>\n",
       "      <td>526.424171</td>\n",
       "      <td>13.894419</td>\n",
       "      <td>66.687695</td>\n",
       "      <td>4.435821</td>\n",
       "      <td>1</td>\n",
       "    </tr>\n",
       "    <tr>\n",
       "      <th>7.808856</th>\n",
       "      <td>193.553212</td>\n",
       "      <td>17329.802160</td>\n",
       "      <td>8.061362</td>\n",
       "      <td>NaN</td>\n",
       "      <td>392.449580</td>\n",
       "      <td>19.903225</td>\n",
       "      <td>unknown</td>\n",
       "      <td>2.798243</td>\n",
       "      <td>1</td>\n",
       "    </tr>\n",
       "    <tr>\n",
       "      <th>9.419510</th>\n",
       "      <td>175.762646</td>\n",
       "      <td>33155.578218</td>\n",
       "      <td>7.350233</td>\n",
       "      <td>NaN</td>\n",
       "      <td>432.044783</td>\n",
       "      <td>11.039070</td>\n",
       "      <td>69.8454</td>\n",
       "      <td>3.298875</td>\n",
       "      <td>1</td>\n",
       "    </tr>\n",
       "    <tr>\n",
       "      <th>5.126763</th>\n",
       "      <td>230.603758</td>\n",
       "      <td>11983.869376</td>\n",
       "      <td>6.303357</td>\n",
       "      <td>NaN</td>\n",
       "      <td>402.883113</td>\n",
       "      <td>11.168946</td>\n",
       "      <td>77.488213</td>\n",
       "      <td>4.708658</td>\n",
       "      <td>1</td>\n",
       "    </tr>\n",
       "    <tr>\n",
       "      <th>7.874671</th>\n",
       "      <td>195.102299</td>\n",
       "      <td>17404.177061</td>\n",
       "      <td>7.509306</td>\n",
       "      <td>NaN</td>\n",
       "      <td>327.459760</td>\n",
       "      <td>16.140368</td>\n",
       "      <td>78.698446</td>\n",
       "      <td>2.309149</td>\n",
       "      <td>1</td>\n",
       "    </tr>\n",
       "  </tbody>\n",
       "</table>\n",
       "<p>3276 rows × 9 columns</p>\n",
       "</div>"
      ],
      "text/plain": [
       "            Hardness        Solids  Chloramines     Sulfate  Conductivity  \\\n",
       "ph                                                                          \n",
       "NaN       204.890455  20791.318981     7.300212  368.516441    564.308654   \n",
       "3.716080  129.422921  18630.057858     6.635246         NaN    592.885359   \n",
       "8.099124  224.236259  19909.541732     9.275884         NaN    418.606213   \n",
       "8.316766  214.373394  22018.417441     8.059332  356.886136    363.266516   \n",
       "9.092223  181.101509  17978.986339     6.546600  310.135738    398.410813   \n",
       "...              ...           ...          ...         ...           ...   \n",
       "4.668102  193.681735  47580.991603     7.166639  359.948574    526.424171   \n",
       "7.808856  193.553212  17329.802160     8.061362         NaN    392.449580   \n",
       "9.419510  175.762646  33155.578218     7.350233         NaN    432.044783   \n",
       "5.126763  230.603758  11983.869376     6.303357         NaN    402.883113   \n",
       "7.874671  195.102299  17404.177061     7.509306         NaN    327.459760   \n",
       "\n",
       "          Organic_carbon Trihalomethanes  Turbidity  Potability  \n",
       "ph                                                               \n",
       "NaN            10.379783        86.99097   2.963135           0  \n",
       "3.716080       15.180013       56.329076   4.500656           0  \n",
       "8.099124       16.868637       66.420093   3.055934           0  \n",
       "8.316766       18.436524      100.341674   4.628771           0  \n",
       "9.092223       11.558279       31.997993   4.075075           0  \n",
       "...                  ...             ...        ...         ...  \n",
       "4.668102       13.894419       66.687695   4.435821           1  \n",
       "7.808856       19.903225         unknown   2.798243           1  \n",
       "9.419510       11.039070         69.8454   3.298875           1  \n",
       "5.126763       11.168946       77.488213   4.708658           1  \n",
       "7.874671       16.140368       78.698446   2.309149           1  \n",
       "\n",
       "[3276 rows x 9 columns]"
      ]
     },
     "execution_count": 13,
     "metadata": {},
     "output_type": "execute_result"
    }
   ],
   "source": [
    "potability"
   ]
  },
  {
   "cell_type": "markdown",
   "id": "universal-adobe",
   "metadata": {
    "papermill": {
     "duration": 0.014974,
     "end_time": "2021-06-04T13:11:46.029160",
     "exception": false,
     "start_time": "2021-06-04T13:11:46.014186",
     "status": "completed"
    },
    "slideshow": {
     "slide_type": "subslide"
    },
    "tags": []
   },
   "source": [
    "Or we could fill each missing value with the mean of values respective to the columns in the database."
   ]
  },
  {
   "cell_type": "code",
   "execution_count": 14,
   "id": "recent-perspective",
   "metadata": {
    "execution": {
     "iopub.execute_input": "2021-06-04T13:11:46.098568Z",
     "iopub.status.busy": "2021-06-04T13:11:46.097831Z",
     "iopub.status.idle": "2021-06-04T13:11:46.112290Z",
     "shell.execute_reply": "2021-06-04T13:11:46.112796Z"
    },
    "papermill": {
     "duration": 0.035263,
     "end_time": "2021-06-04T13:11:46.113027",
     "exception": false,
     "start_time": "2021-06-04T13:11:46.077764",
     "status": "completed"
    },
    "scrolled": true,
    "slideshow": {
     "slide_type": "subslide"
    },
    "tags": []
   },
   "outputs": [
    {
     "data": {
      "text/plain": [
       "ph\n",
       "NaN          86.990970\n",
       "3.716080     56.329076\n",
       "8.099124     66.420093\n",
       "8.316766    100.341674\n",
       "9.092223     31.997993\n",
       "               ...    \n",
       "4.668102     66.687695\n",
       "7.808856     66.396293\n",
       "9.419510     69.845400\n",
       "5.126763     77.488213\n",
       "7.874671     78.698446\n",
       "Name: Trihalomethanes, Length: 3276, dtype: float64"
      ]
     },
     "execution_count": 14,
     "metadata": {},
     "output_type": "execute_result"
    }
   ],
   "source": [
    "potability.Trihalomethanes.replace(\"unknown\", trihalo_mean)"
   ]
  },
  {
   "cell_type": "markdown",
   "id": "architectural-temple",
   "metadata": {
    "papermill": {
     "duration": 0.015269,
     "end_time": "2021-06-04T13:11:46.144950",
     "exception": false,
     "start_time": "2021-06-04T13:11:46.129681",
     "status": "completed"
    },
    "slideshow": {
     "slide_type": "subslide"
    },
    "tags": []
   },
   "source": [
    "The `replace()` method is worth mentioning here because it's handy for replacing missing data which is given some kind of sentinel value in the dataset: things like `\"Unknown\"`, `\"Undisclosed\"`, `\"Invalid\"`, and so on."
   ]
  },
  {
   "cell_type": "markdown",
   "id": "8509727b",
   "metadata": {},
   "source": [
    "# Contributors\n",
    "\n",
    "**Author**\n",
    "<br>Chee Lam"
   ]
  },
  {
   "cell_type": "markdown",
   "id": "db15e602",
   "metadata": {},
   "source": [
    "# References\n",
    "\n",
    "1. [Learning Pandas](https://www.kaggle.com/learn/pandas)\n",
    "2. [Pandas Documentation](https://pandas.pydata.org/docs/reference/index.html)"
   ]
  }
 ],
 "metadata": {
  "kernelspec": {
   "display_name": "Python 3",
   "language": "python",
   "name": "python3"
  },
  "language_info": {
   "codemirror_mode": {
    "name": "ipython",
    "version": 3
   },
   "file_extension": ".py",
   "mimetype": "text/x-python",
   "name": "python",
   "nbconvert_exporter": "python",
   "pygments_lexer": "ipython3",
   "version": "3.8.8"
  },
  "papermill": {
   "default_parameters": {},
   "duration": 9.889188,
   "end_time": "2021-06-04T13:11:46.801838",
   "environment_variables": {},
   "exception": null,
   "input_path": "__notebook__.ipynb",
   "output_path": "__notebook__.ipynb",
   "parameters": {},
   "start_time": "2021-06-04T13:11:36.912650",
   "version": "2.3.2"
  }
 },
 "nbformat": 4,
 "nbformat_minor": 5
}
