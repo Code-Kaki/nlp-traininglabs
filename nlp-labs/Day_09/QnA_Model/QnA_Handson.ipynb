{
 "cells": [
  {
   "cell_type": "markdown",
   "id": "7433a297",
   "metadata": {},
   "source": [
    "> **Copyright (c) 2020 Skymind Holdings Berhad**<br><br>\n",
    "> **Copyright (c) 2021 Skymind Education Group Sdn. Bhd.**<br>\n",
    "<br>\n",
    "Licensed under the Apache License, Version 2.0 (the \\\"License\\\");\n",
    "<br>you may not use this file except in compliance with the License.\n",
    "<br>You may obtain a copy of the License at http://www.apache.org/licenses/LICENSE-2.0/\n",
    "<br>\n",
    "<br>Unless required by applicable law or agreed to in writing, software\n",
    "<br>distributed under the License is distributed on an \\\"AS IS\\\" BASIS,\n",
    "<br>WITHOUT WARRANTIES OR CONDITIONS OF ANY KIND, either express or implied.\n",
    "<br>See the License for the specific language governing permissions and\n",
    "<br>limitations under the License.\n",
    "<br>\n",
    "<br>\n",
    "**SPDX-License-Identifier: Apache-2.0**\n",
    "<br>"
   ]
  },
  {
   "cell_type": "markdown",
   "id": "937127ea",
   "metadata": {},
   "source": [
    "INSTRUCTION: Follow the steps in the commented line for each section and run the code."
   ]
  },
  {
   "cell_type": "code",
   "execution_count": null,
   "id": "8ed6f16d",
   "metadata": {},
   "outputs": [],
   "source": [
    "\"\"\"\n",
    "install torch(PyTorch) and transformers\n",
    "to install them type in your terminal:\n",
    "pip install torch\n",
    "pip install transformers\n",
    "\"\"\""
   ]
  },
  {
   "cell_type": "code",
   "execution_count": null,
   "id": "fe73c1d1",
   "metadata": {},
   "outputs": [],
   "source": [
    "# import the necessary library\n",
    "from transformers import pipeline\n",
    "\n",
    "# write your context (where model seeks the answer for the question)\n",
    "context = \"\"\"\n",
    "You can add your own context here. Try to write something or copy from other source.\n",
    "\"\"\"\n",
    "\n",
    "# write your own question\n",
    "question = \"\""
   ]
  },
  {
   "cell_type": "code",
   "execution_count": null,
   "id": "8b765e2f",
   "metadata": {},
   "outputs": [],
   "source": [
    "# initialize your model\n",
    "\"\"\"\n",
    "This is a pretrained model that we can get from huggingface\n",
    "There are more models that we can find there: https://huggingface.co/\n",
    "Go to this web page and import a model and a tokenizer by putting the model and tokenizer into the parameters\n",
    "\"\"\"\n",
    "# uncomment this code below\n",
    "\n",
    "# question_answering = pipeline('question-answering', model= , tokenizer=)"
   ]
  },
  {
   "cell_type": "code",
   "execution_count": null,
   "id": "f2677a7b",
   "metadata": {},
   "outputs": [],
   "source": [
    "# test the model (uncomment the code below)\n",
    "\n",
    "# result = question_answering(question=question, context=context)\n",
    "# print(\"Answer:\", result['answer'])\n",
    "# print(\"Score:\", result['score'])"
   ]
  }
 ],
 "metadata": {
  "kernelspec": {
   "display_name": "Python 3",
   "language": "python",
   "name": "python3"
  },
  "language_info": {
   "codemirror_mode": {
    "name": "ipython",
    "version": 3
   },
   "file_extension": ".py",
   "mimetype": "text/x-python",
   "name": "python",
   "nbconvert_exporter": "python",
   "pygments_lexer": "ipython3",
   "version": "3.8.8"
  }
 },
 "nbformat": 4,
 "nbformat_minor": 5
}
