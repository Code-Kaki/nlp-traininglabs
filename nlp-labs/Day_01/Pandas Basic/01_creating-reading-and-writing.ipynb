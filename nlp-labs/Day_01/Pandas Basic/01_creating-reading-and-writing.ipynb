{
 "cells": [
  {
   "cell_type": "markdown",
   "metadata": {
    "id": "WP5erxMlpsHj"
   },
   "source": [
    "![license_header_logo](../../../images/license_header_logo.png)\n",
    "\n",
    "> **Copyright (c) 2021 CertifAI Sdn. Bhd.**<br>\n",
    "<br>\n",
    "This program is part of OSRFramework. You can redistribute it and/or modify\n",
    "<br>it under the terms of the GNU Affero General Public License as published by\n",
    "<br>the Free Software Foundation, either version 3 of the License, or\n",
    "<br>(at your option) any later version.\n",
    "<br>\n",
    "<br>This program is distributed in the hope that it will be useful\n",
    "<br>but WITHOUT ANY WARRANTY; without even the implied warranty of\n",
    "<br>MERCHANTABILITY or FITNESS FOR A PARTICULAR PURPOSE.  See the\n",
    "<br>GNU Affero General Public License for more details.\n",
    "<br>\n",
    "<br>You should have received a copy of the GNU Affero General Public License\n",
    "<br>along with this program.  If not, see <http://www.gnu.org/licenses/>.\n",
    "<br>"
   ]
  },
  {
   "cell_type": "markdown",
   "metadata": {
    "id": "Pv8ahyH0psHm",
    "papermill": {
     "duration": 0.017203,
     "end_time": "2020-10-01T01:29:19.485044",
     "exception": false,
     "start_time": "2020-10-01T01:29:19.467841",
     "status": "completed"
    },
    "tags": []
   },
   "source": [
    "# Introduction\n",
    "\n",
    "In this notebook, you'll learn all about **[pandas](https://pandas.pydata.org)**, the most popular Python library for data analysis."
   ]
  },
  {
   "cell_type": "markdown",
   "metadata": {
    "id": "8Mje5U8_psHm"
   },
   "source": [
    "# Notebook Content\n",
    "\n",
    "* [Getting Started](#Getting-started)\n",
    "\n",
    "\n",
    "* [Creating data](#Creating-data)\n",
    "    * [DataFrame](#DataFrame)\n",
    "    * [Series](#Series)\n",
    "    \n",
    "    \n",
    "* [Reading Data File](#Reading-Data-File)\n",
    "\n",
    "\n",
    "* [Writing Data File](#Writing-Data-File)"
   ]
  },
  {
   "cell_type": "markdown",
   "metadata": {
    "id": "O6567xkcpsHn"
   },
   "source": [
    "# Getting started\n",
    "\n",
    "We will first import `pandas` library first and we usually named it as `pd`"
   ]
  },
  {
   "cell_type": "code",
   "execution_count": 1,
   "metadata": {
    "execution": {
     "iopub.execute_input": "2020-10-01T01:29:19.525075Z",
     "iopub.status.busy": "2020-10-01T01:29:19.523882Z",
     "iopub.status.idle": "2020-10-01T01:29:19.527977Z",
     "shell.execute_reply": "2020-10-01T01:29:19.527329Z"
    },
    "id": "k_koB5x3psHo",
    "papermill": {
     "duration": 0.026559,
     "end_time": "2020-10-01T01:29:19.528111",
     "exception": false,
     "start_time": "2020-10-01T01:29:19.501552",
     "status": "completed"
    },
    "tags": []
   },
   "outputs": [],
   "source": [
    "import pandas as pd"
   ]
  },
  {
   "cell_type": "markdown",
   "metadata": {
    "id": "_9GXKKL1psHo",
    "papermill": {
     "duration": 0.01634,
     "end_time": "2020-10-01T01:29:19.561320",
     "exception": false,
     "start_time": "2020-10-01T01:29:19.544980",
     "status": "completed"
    },
    "tags": []
   },
   "source": [
    "# Creating data\n",
    "\n",
    "There are two core objects in pandas: the **DataFrame** and the **Series**.\n",
    "\n",
    "### DataFrame\n",
    "\n",
    "A DataFrame is a table. It contains an array of individual *entries*, each of which has a certain *value*. Each entry corresponds to a row (or *record*) and a *column*.\n",
    "\n",
    "For example, consider the following simple DataFrame:"
   ]
  },
  {
   "cell_type": "code",
   "execution_count": 2,
   "metadata": {
    "execution": {
     "iopub.execute_input": "2020-10-01T01:29:19.615683Z",
     "iopub.status.busy": "2020-10-01T01:29:19.605461Z",
     "iopub.status.idle": "2020-10-01T01:29:19.625960Z",
     "shell.execute_reply": "2020-10-01T01:29:19.625226Z"
    },
    "id": "XyRKxFhFpsHp",
    "outputId": "f9ae14bb-c88f-440c-fefd-264b29487a82",
    "papermill": {
     "duration": 0.048214,
     "end_time": "2020-10-01T01:29:19.626094",
     "exception": false,
     "start_time": "2020-10-01T01:29:19.577880",
     "status": "completed"
    },
    "tags": []
   },
   "outputs": [
    {
     "data": {
      "text/html": [
       "<div>\n",
       "<style scoped>\n",
       "    .dataframe tbody tr th:only-of-type {\n",
       "        vertical-align: middle;\n",
       "    }\n",
       "\n",
       "    .dataframe tbody tr th {\n",
       "        vertical-align: top;\n",
       "    }\n",
       "\n",
       "    .dataframe thead th {\n",
       "        text-align: right;\n",
       "    }\n",
       "</style>\n",
       "<table border=\"1\" class=\"dataframe\">\n",
       "  <thead>\n",
       "    <tr style=\"text-align: right;\">\n",
       "      <th></th>\n",
       "      <th>Exam 1</th>\n",
       "      <th>Exam 2</th>\n",
       "    </tr>\n",
       "  </thead>\n",
       "  <tbody>\n",
       "    <tr>\n",
       "      <th>0</th>\n",
       "      <td>50</td>\n",
       "      <td>89</td>\n",
       "    </tr>\n",
       "    <tr>\n",
       "      <th>1</th>\n",
       "      <td>21</td>\n",
       "      <td>60</td>\n",
       "    </tr>\n",
       "  </tbody>\n",
       "</table>\n",
       "</div>"
      ],
      "text/plain": [
       "   Exam 1  Exam 2\n",
       "0      50      89\n",
       "1      21      60"
      ]
     },
     "execution_count": 2,
     "metadata": {},
     "output_type": "execute_result"
    }
   ],
   "source": [
    "pd.DataFrame({'Exam 1': [50, 21], 'Exam 2': [89, 60]})"
   ]
  },
  {
   "cell_type": "markdown",
   "metadata": {
    "id": "GlvVxCO3psHr",
    "papermill": {
     "duration": 0.01701,
     "end_time": "2020-10-01T01:29:19.660631",
     "exception": false,
     "start_time": "2020-10-01T01:29:19.643621",
     "status": "completed"
    },
    "tags": []
   },
   "source": [
    "In this example, the \"0, No\" entry has the value of 131. The \"0, Yes\" entry has a value of 50, and so on.\n",
    "\n",
    "DataFrame entries are not limited to integers. For instance, here's a DataFrame whose values are strings:"
   ]
  },
  {
   "cell_type": "code",
   "execution_count": 3,
   "metadata": {
    "execution": {
     "iopub.execute_input": "2020-10-01T01:29:19.707502Z",
     "iopub.status.busy": "2020-10-01T01:29:19.706541Z",
     "iopub.status.idle": "2020-10-01T01:29:19.711845Z",
     "shell.execute_reply": "2020-10-01T01:29:19.711159Z"
    },
    "id": "KtHB1dEmpsHr",
    "outputId": "d9e8c1aa-45fa-46a2-ae05-ac14c7e9d45d",
    "papermill": {
     "duration": 0.034018,
     "end_time": "2020-10-01T01:29:19.711982",
     "exception": false,
     "start_time": "2020-10-01T01:29:19.677964",
     "status": "completed"
    },
    "tags": []
   },
   "outputs": [
    {
     "data": {
      "text/html": [
       "<div>\n",
       "<style scoped>\n",
       "    .dataframe tbody tr th:only-of-type {\n",
       "        vertical-align: middle;\n",
       "    }\n",
       "\n",
       "    .dataframe tbody tr th {\n",
       "        vertical-align: top;\n",
       "    }\n",
       "\n",
       "    .dataframe thead th {\n",
       "        text-align: right;\n",
       "    }\n",
       "</style>\n",
       "<table border=\"1\" class=\"dataframe\">\n",
       "  <thead>\n",
       "    <tr style=\"text-align: right;\">\n",
       "      <th></th>\n",
       "      <th>Exam 1</th>\n",
       "      <th>Exam 2</th>\n",
       "      <th>Remark</th>\n",
       "    </tr>\n",
       "  </thead>\n",
       "  <tbody>\n",
       "    <tr>\n",
       "      <th>0</th>\n",
       "      <td>50</td>\n",
       "      <td>89</td>\n",
       "      <td>Performance increase</td>\n",
       "    </tr>\n",
       "    <tr>\n",
       "      <th>1</th>\n",
       "      <td>69</td>\n",
       "      <td>60</td>\n",
       "      <td>Performance decrease</td>\n",
       "    </tr>\n",
       "  </tbody>\n",
       "</table>\n",
       "</div>"
      ],
      "text/plain": [
       "   Exam 1  Exam 2                Remark\n",
       "0      50      89  Performance increase\n",
       "1      69      60  Performance decrease"
      ]
     },
     "execution_count": 3,
     "metadata": {},
     "output_type": "execute_result"
    }
   ],
   "source": [
    "pd.DataFrame({'Exam 1': [50, 69], 'Exam 2': [89, 60], 'Remark': ['Performance increase', 'Performance decrease']})"
   ]
  },
  {
   "cell_type": "markdown",
   "metadata": {
    "id": "gqvoS1VXpsHt",
    "papermill": {
     "duration": 0.017678,
     "end_time": "2020-10-01T01:29:19.748018",
     "exception": false,
     "start_time": "2020-10-01T01:29:19.730340",
     "status": "completed"
    },
    "tags": []
   },
   "source": [
    "We are using the `pd.DataFrame()` constructor to generate these DataFrame objects. The syntax for declaring a new one is a dictionary whose keys are the column names (`Exam 1` and `Exam 2` in this example), and whose values are a list of entries. This is the standard way of constructing a new DataFrame, and the one you are most likely to encounter."
   ]
  },
  {
   "cell_type": "markdown",
   "metadata": {
    "id": "b-u8L_9FpsHt",
    "papermill": {
     "duration": 0.018007,
     "end_time": "2020-10-01T01:29:19.784347",
     "exception": false,
     "start_time": "2020-10-01T01:29:19.766340",
     "status": "completed"
    },
    "tags": []
   },
   "source": [
    "The dictionary-list constructor assigns values to the *column labels*, but just uses an ascending count from 0 (0, 1, 2, 3, ...) for the *row labels*. Sometimes this is OK, but oftentimes we will want to assign these labels ourselves.\n",
    "\n",
    "The list of row labels used in a DataFrame is known as an **Index**. We can assign values to it by using an `index` parameter in our constructor:"
   ]
  },
  {
   "cell_type": "code",
   "execution_count": 4,
   "metadata": {
    "execution": {
     "iopub.execute_input": "2020-10-01T01:29:19.833908Z",
     "iopub.status.busy": "2020-10-01T01:29:19.833011Z",
     "iopub.status.idle": "2020-10-01T01:29:19.837612Z",
     "shell.execute_reply": "2020-10-01T01:29:19.836976Z"
    },
    "id": "sHrL0JxapsHt",
    "outputId": "9edb938a-2c0c-4d28-d0b1-f98bdff02985",
    "papermill": {
     "duration": 0.035161,
     "end_time": "2020-10-01T01:29:19.837736",
     "exception": false,
     "start_time": "2020-10-01T01:29:19.802575",
     "status": "completed"
    },
    "tags": []
   },
   "outputs": [
    {
     "data": {
      "text/html": [
       "<div>\n",
       "<style scoped>\n",
       "    .dataframe tbody tr th:only-of-type {\n",
       "        vertical-align: middle;\n",
       "    }\n",
       "\n",
       "    .dataframe tbody tr th {\n",
       "        vertical-align: top;\n",
       "    }\n",
       "\n",
       "    .dataframe thead th {\n",
       "        text-align: right;\n",
       "    }\n",
       "</style>\n",
       "<table border=\"1\" class=\"dataframe\">\n",
       "  <thead>\n",
       "    <tr style=\"text-align: right;\">\n",
       "      <th></th>\n",
       "      <th>Exam 1</th>\n",
       "      <th>Exam 2</th>\n",
       "      <th>Remark</th>\n",
       "    </tr>\n",
       "  </thead>\n",
       "  <tbody>\n",
       "    <tr>\n",
       "      <th>Student 1</th>\n",
       "      <td>50</td>\n",
       "      <td>89</td>\n",
       "      <td>Performance increase</td>\n",
       "    </tr>\n",
       "    <tr>\n",
       "      <th>Student 2</th>\n",
       "      <td>69</td>\n",
       "      <td>60</td>\n",
       "      <td>Performance decrease</td>\n",
       "    </tr>\n",
       "  </tbody>\n",
       "</table>\n",
       "</div>"
      ],
      "text/plain": [
       "           Exam 1  Exam 2                Remark\n",
       "Student 1      50      89  Performance increase\n",
       "Student 2      69      60  Performance decrease"
      ]
     },
     "execution_count": 4,
     "metadata": {},
     "output_type": "execute_result"
    }
   ],
   "source": [
    "pd.DataFrame({'Exam 1': [50, 69], 'Exam 2': [89, 60], 'Remark': ['Performance increase', 'Performance decrease']},\n",
    "             index=['Student 1', 'Student 2'])"
   ]
  },
  {
   "cell_type": "markdown",
   "metadata": {
    "id": "4DRIfowtpsHu",
    "papermill": {
     "duration": 0.018236,
     "end_time": "2020-10-01T01:29:19.874995",
     "exception": false,
     "start_time": "2020-10-01T01:29:19.856759",
     "status": "completed"
    },
    "tags": []
   },
   "source": [
    "### Series\n",
    "\n",
    "A Series, by contrast, is a sequence of data values. If a DataFrame is a table, a Series is a list. And in fact you can create one with nothing more than a list:"
   ]
  },
  {
   "cell_type": "code",
   "execution_count": 5,
   "metadata": {
    "execution": {
     "iopub.execute_input": "2020-10-01T01:29:19.920952Z",
     "iopub.status.busy": "2020-10-01T01:29:19.919938Z",
     "iopub.status.idle": "2020-10-01T01:29:19.924475Z",
     "shell.execute_reply": "2020-10-01T01:29:19.925004Z"
    },
    "id": "ex-KtugqpsHu",
    "outputId": "6a7416ec-24fa-42b5-e8f4-4bc9840f91ba",
    "papermill": {
     "duration": 0.03142,
     "end_time": "2020-10-01T01:29:19.925195",
     "exception": false,
     "start_time": "2020-10-01T01:29:19.893775",
     "status": "completed"
    },
    "tags": []
   },
   "outputs": [
    {
     "data": {
      "text/plain": [
       "0    1\n",
       "1    2\n",
       "2    3\n",
       "3    4\n",
       "4    5\n",
       "dtype: int64"
      ]
     },
     "execution_count": 5,
     "metadata": {},
     "output_type": "execute_result"
    }
   ],
   "source": [
    "pd.Series([1, 2, 3, 4, 5])"
   ]
  },
  {
   "cell_type": "markdown",
   "metadata": {
    "id": "sToK_w-OpsHu",
    "papermill": {
     "duration": 0.018805,
     "end_time": "2020-10-01T01:29:19.963242",
     "exception": false,
     "start_time": "2020-10-01T01:29:19.944437",
     "status": "completed"
    },
    "tags": []
   },
   "source": [
    "A Series is, in essence, a single column of a DataFrame. So you can assign column values to the Series the same way as before, using an `index` parameter. However, a Series does not have a column name, it only has one overall `name`:"
   ]
  },
  {
   "cell_type": "code",
   "execution_count": 6,
   "metadata": {
    "execution": {
     "iopub.execute_input": "2020-10-01T01:29:20.012092Z",
     "iopub.status.busy": "2020-10-01T01:29:20.011064Z",
     "iopub.status.idle": "2020-10-01T01:29:20.016158Z",
     "shell.execute_reply": "2020-10-01T01:29:20.015439Z"
    },
    "id": "CD0_tA9ppsHu",
    "outputId": "246a7774-b4be-4cd0-b2b0-0aafd2118dd4",
    "papermill": {
     "duration": 0.033445,
     "end_time": "2020-10-01T01:29:20.016302",
     "exception": false,
     "start_time": "2020-10-01T01:29:19.982857",
     "status": "completed"
    },
    "tags": []
   },
   "outputs": [
    {
     "data": {
      "text/plain": [
       "2015 Sales    30\n",
       "2016 Sales    35\n",
       "2017 Sales    40\n",
       "Name: Product A, dtype: int64"
      ]
     },
     "execution_count": 6,
     "metadata": {},
     "output_type": "execute_result"
    }
   ],
   "source": [
    "pd.Series([30, 35, 40], index=['2015 Sales', '2016 Sales', '2017 Sales'], name='Product A')"
   ]
  },
  {
   "cell_type": "markdown",
   "metadata": {
    "id": "dE_mu72rpsHv",
    "papermill": {
     "duration": 0.019619,
     "end_time": "2020-10-01T01:29:20.056183",
     "exception": false,
     "start_time": "2020-10-01T01:29:20.036564",
     "status": "completed"
    },
    "tags": []
   },
   "source": [
    "The Series and the DataFrame are intimately related. It's helpful to think of a DataFrame as actually being just a bunch of Series \"glued together\". We'll see more of this in the next section of this tutorial."
   ]
  },
  {
   "cell_type": "markdown",
   "metadata": {
    "id": "C3x0iQQ4psHv",
    "papermill": {
     "duration": 0.019488,
     "end_time": "2020-10-01T01:29:20.095667",
     "exception": false,
     "start_time": "2020-10-01T01:29:20.076179",
     "status": "completed"
    },
    "tags": []
   },
   "source": [
    "# Reading Data File\n",
    "\n",
    "Being able to create a DataFrame or Series by hand is handy. But, most of the time, we won't actually be creating our own data by hand. Instead, we'll be working with data that already exists.\n",
    "\n",
    "Data can be stored in any of a number of different forms and formats. By far the most basic of these is the humble CSV file. When you open a CSV file you get something that looks like this:\n",
    "\n",
    "```\n",
    "Product A,Product B,Product C,\n",
    "30,21,9,\n",
    "35,34,1,\n",
    "41,11,11\n",
    "```\n",
    "\n",
    "So a CSV file is a table of values separated by commas. Hence the name: \"Comma-Separated Values\", or CSV.\n",
    "\n",
    "Let's now set aside our toy datasets and see what a real dataset looks like when we read it into a DataFrame. We'll use the `pd.read_csv()` function to read the data into a DataFrame. This goes thusly:"
   ]
  },
  {
   "cell_type": "code",
   "execution_count": 7,
   "metadata": {
    "execution": {
     "iopub.execute_input": "2020-10-01T01:29:20.146457Z",
     "iopub.status.busy": "2020-10-01T01:29:20.145488Z",
     "iopub.status.idle": "2020-10-01T01:29:21.231318Z",
     "shell.execute_reply": "2020-10-01T01:29:21.230637Z"
    },
    "id": "8Nk2wNTUpsHv",
    "papermill": {
     "duration": 1.115661,
     "end_time": "2020-10-01T01:29:21.231464",
     "exception": false,
     "start_time": "2020-10-01T01:29:20.115803",
     "status": "completed"
    },
    "tags": []
   },
   "outputs": [],
   "source": [
    "water_potability = pd.read_csv(\"../../../resources/day_01/water_potability.csv\")"
   ]
  },
  {
   "cell_type": "markdown",
   "metadata": {
    "id": "2VdkC6SlpsHv",
    "papermill": {
     "duration": 0.019695,
     "end_time": "2020-10-01T01:29:21.272265",
     "exception": false,
     "start_time": "2020-10-01T01:29:21.252570",
     "status": "completed"
    },
    "tags": []
   },
   "source": [
    "We can use the `shape` attribute to check how large the resulting DataFrame is:"
   ]
  },
  {
   "cell_type": "code",
   "execution_count": 8,
   "metadata": {
    "execution": {
     "iopub.execute_input": "2020-10-01T01:29:21.318555Z",
     "iopub.status.busy": "2020-10-01T01:29:21.317493Z",
     "iopub.status.idle": "2020-10-01T01:29:21.322545Z",
     "shell.execute_reply": "2020-10-01T01:29:21.321802Z"
    },
    "id": "nMXDA2CypsHv",
    "outputId": "902d24be-e869-4ce5-8629-7a21386b857a",
    "papermill": {
     "duration": 0.030373,
     "end_time": "2020-10-01T01:29:21.322676",
     "exception": false,
     "start_time": "2020-10-01T01:29:21.292303",
     "status": "completed"
    },
    "scrolled": false,
    "tags": []
   },
   "outputs": [
    {
     "data": {
      "text/plain": [
       "(3276, 10)"
      ]
     },
     "execution_count": 8,
     "metadata": {},
     "output_type": "execute_result"
    }
   ],
   "source": [
    "# Return rows and columns\n",
    "\n",
    "water_potability.shape"
   ]
  },
  {
   "cell_type": "markdown",
   "metadata": {
    "id": "HB8tuk_spsHw"
   },
   "source": [
    "We can use the `size` to get all the cells in the DataFrame:"
   ]
  },
  {
   "cell_type": "code",
   "execution_count": 9,
   "metadata": {
    "id": "Imcacjt7psHw",
    "outputId": "0da871f7-2631-4957-d1da-1d79c60d2e22"
   },
   "outputs": [
    {
     "data": {
      "text/plain": [
       "32760"
      ]
     },
     "execution_count": 9,
     "metadata": {},
     "output_type": "execute_result"
    }
   ],
   "source": [
    "water_potability.size"
   ]
  },
  {
   "cell_type": "markdown",
   "metadata": {
    "id": "g89zvhrPpsHw",
    "papermill": {
     "duration": 0.020423,
     "end_time": "2020-10-01T01:29:21.363986",
     "exception": false,
     "start_time": "2020-10-01T01:29:21.343563",
     "status": "completed"
    },
    "tags": []
   },
   "source": [
    "So our new DataFrame has 130,000 records split across 14 different columns. That's almost 2 million entries!\n",
    "\n",
    "We can examine the contents of the resultant DataFrame using the `head()` command, which grabs the first five rows:"
   ]
  },
  {
   "cell_type": "code",
   "execution_count": 10,
   "metadata": {
    "execution": {
     "iopub.execute_input": "2020-10-01T01:29:21.429442Z",
     "iopub.status.busy": "2020-10-01T01:29:21.428322Z",
     "iopub.status.idle": "2020-10-01T01:29:21.434523Z",
     "shell.execute_reply": "2020-10-01T01:29:21.433842Z"
    },
    "id": "k5TRHT5ApsHw",
    "outputId": "dae0430c-9145-4607-fb52-eb1ea43d3fc7",
    "papermill": {
     "duration": 0.049828,
     "end_time": "2020-10-01T01:29:21.434671",
     "exception": false,
     "start_time": "2020-10-01T01:29:21.384843",
     "status": "completed"
    },
    "scrolled": true,
    "tags": []
   },
   "outputs": [
    {
     "data": {
      "text/html": [
       "<div>\n",
       "<style scoped>\n",
       "    .dataframe tbody tr th:only-of-type {\n",
       "        vertical-align: middle;\n",
       "    }\n",
       "\n",
       "    .dataframe tbody tr th {\n",
       "        vertical-align: top;\n",
       "    }\n",
       "\n",
       "    .dataframe thead th {\n",
       "        text-align: right;\n",
       "    }\n",
       "</style>\n",
       "<table border=\"1\" class=\"dataframe\">\n",
       "  <thead>\n",
       "    <tr style=\"text-align: right;\">\n",
       "      <th></th>\n",
       "      <th>ph</th>\n",
       "      <th>Hardness</th>\n",
       "      <th>Solids</th>\n",
       "      <th>Chloramines</th>\n",
       "      <th>Sulfate</th>\n",
       "      <th>Conductivity</th>\n",
       "      <th>Organic_carbon</th>\n",
       "      <th>Trihalomethanes</th>\n",
       "      <th>Turbidity</th>\n",
       "      <th>Potability</th>\n",
       "    </tr>\n",
       "  </thead>\n",
       "  <tbody>\n",
       "    <tr>\n",
       "      <th>0</th>\n",
       "      <td>NaN</td>\n",
       "      <td>204.890455</td>\n",
       "      <td>20791.318981</td>\n",
       "      <td>7.300212</td>\n",
       "      <td>368.516441</td>\n",
       "      <td>564.308654</td>\n",
       "      <td>10.379783</td>\n",
       "      <td>86.990970</td>\n",
       "      <td>2.963135</td>\n",
       "      <td>0</td>\n",
       "    </tr>\n",
       "    <tr>\n",
       "      <th>1</th>\n",
       "      <td>3.716080</td>\n",
       "      <td>129.422921</td>\n",
       "      <td>18630.057858</td>\n",
       "      <td>6.635246</td>\n",
       "      <td>NaN</td>\n",
       "      <td>592.885359</td>\n",
       "      <td>15.180013</td>\n",
       "      <td>56.329076</td>\n",
       "      <td>4.500656</td>\n",
       "      <td>0</td>\n",
       "    </tr>\n",
       "    <tr>\n",
       "      <th>2</th>\n",
       "      <td>8.099124</td>\n",
       "      <td>224.236259</td>\n",
       "      <td>19909.541732</td>\n",
       "      <td>9.275884</td>\n",
       "      <td>NaN</td>\n",
       "      <td>418.606213</td>\n",
       "      <td>16.868637</td>\n",
       "      <td>66.420093</td>\n",
       "      <td>3.055934</td>\n",
       "      <td>0</td>\n",
       "    </tr>\n",
       "    <tr>\n",
       "      <th>3</th>\n",
       "      <td>8.316766</td>\n",
       "      <td>214.373394</td>\n",
       "      <td>22018.417441</td>\n",
       "      <td>8.059332</td>\n",
       "      <td>356.886136</td>\n",
       "      <td>363.266516</td>\n",
       "      <td>18.436524</td>\n",
       "      <td>100.341674</td>\n",
       "      <td>4.628771</td>\n",
       "      <td>0</td>\n",
       "    </tr>\n",
       "    <tr>\n",
       "      <th>4</th>\n",
       "      <td>9.092223</td>\n",
       "      <td>181.101509</td>\n",
       "      <td>17978.986339</td>\n",
       "      <td>6.546600</td>\n",
       "      <td>310.135738</td>\n",
       "      <td>398.410813</td>\n",
       "      <td>11.558279</td>\n",
       "      <td>31.997993</td>\n",
       "      <td>4.075075</td>\n",
       "      <td>0</td>\n",
       "    </tr>\n",
       "  </tbody>\n",
       "</table>\n",
       "</div>"
      ],
      "text/plain": [
       "         ph    Hardness        Solids  Chloramines     Sulfate  Conductivity  \\\n",
       "0       NaN  204.890455  20791.318981     7.300212  368.516441    564.308654   \n",
       "1  3.716080  129.422921  18630.057858     6.635246         NaN    592.885359   \n",
       "2  8.099124  224.236259  19909.541732     9.275884         NaN    418.606213   \n",
       "3  8.316766  214.373394  22018.417441     8.059332  356.886136    363.266516   \n",
       "4  9.092223  181.101509  17978.986339     6.546600  310.135738    398.410813   \n",
       "\n",
       "   Organic_carbon  Trihalomethanes  Turbidity  Potability  \n",
       "0       10.379783        86.990970   2.963135           0  \n",
       "1       15.180013        56.329076   4.500656           0  \n",
       "2       16.868637        66.420093   3.055934           0  \n",
       "3       18.436524       100.341674   4.628771           0  \n",
       "4       11.558279        31.997993   4.075075           0  "
      ]
     },
     "execution_count": 10,
     "metadata": {},
     "output_type": "execute_result"
    }
   ],
   "source": [
    "water_potability.head()"
   ]
  },
  {
   "cell_type": "markdown",
   "metadata": {
    "id": "Zeydy0_cpsHw"
   },
   "source": [
    "# Writing Data File"
   ]
  },
  {
   "cell_type": "markdown",
   "metadata": {
    "id": "tPXsLzLBpsHx"
   },
   "source": [
    "We use `pandas.DataFrame.to_csv` function to write the pandas DataFrame into CSV format\n",
    "\n",
    "For more detail documentation, please refer to https://pandas.pydata.org/docs/reference/api/pandas.DataFrame.to_csv.html"
   ]
  },
  {
   "cell_type": "code",
   "execution_count": 11,
   "metadata": {
    "id": "5b_RP9qmpsHx"
   },
   "outputs": [],
   "source": [
    "exam_result = pd.DataFrame({'Student_name':[\"John\", \"Jason\", \"Jasmine\", \"Nik\"], \n",
    "                            'Exam 1': [66, 76, 59, 80], \n",
    "                            'Exam 2': [75, 48, 94, 78]})"
   ]
  },
  {
   "cell_type": "code",
   "execution_count": 12,
   "metadata": {
    "id": "aMdPM7appsHx",
    "outputId": "778449d9-b959-4781-c412-200f5c61e827",
    "scrolled": true
   },
   "outputs": [
    {
     "data": {
      "text/html": [
       "<div>\n",
       "<style scoped>\n",
       "    .dataframe tbody tr th:only-of-type {\n",
       "        vertical-align: middle;\n",
       "    }\n",
       "\n",
       "    .dataframe tbody tr th {\n",
       "        vertical-align: top;\n",
       "    }\n",
       "\n",
       "    .dataframe thead th {\n",
       "        text-align: right;\n",
       "    }\n",
       "</style>\n",
       "<table border=\"1\" class=\"dataframe\">\n",
       "  <thead>\n",
       "    <tr style=\"text-align: right;\">\n",
       "      <th></th>\n",
       "      <th>Student_name</th>\n",
       "      <th>Exam 1</th>\n",
       "      <th>Exam 2</th>\n",
       "    </tr>\n",
       "  </thead>\n",
       "  <tbody>\n",
       "    <tr>\n",
       "      <th>0</th>\n",
       "      <td>John</td>\n",
       "      <td>66</td>\n",
       "      <td>75</td>\n",
       "    </tr>\n",
       "    <tr>\n",
       "      <th>1</th>\n",
       "      <td>Jason</td>\n",
       "      <td>76</td>\n",
       "      <td>48</td>\n",
       "    </tr>\n",
       "    <tr>\n",
       "      <th>2</th>\n",
       "      <td>Jasmine</td>\n",
       "      <td>59</td>\n",
       "      <td>94</td>\n",
       "    </tr>\n",
       "    <tr>\n",
       "      <th>3</th>\n",
       "      <td>Nik</td>\n",
       "      <td>80</td>\n",
       "      <td>78</td>\n",
       "    </tr>\n",
       "  </tbody>\n",
       "</table>\n",
       "</div>"
      ],
      "text/plain": [
       "  Student_name  Exam 1  Exam 2\n",
       "0         John      66      75\n",
       "1        Jason      76      48\n",
       "2      Jasmine      59      94\n",
       "3          Nik      80      78"
      ]
     },
     "execution_count": 12,
     "metadata": {},
     "output_type": "execute_result"
    }
   ],
   "source": [
    "exam_result"
   ]
  },
  {
   "cell_type": "code",
   "execution_count": 13,
   "metadata": {
    "id": "xtRW7rmEpsHx"
   },
   "outputs": [],
   "source": [
    "exam_result.to_csv(\"../../../resources/day_01/exam_result.csv\", header=True)"
   ]
  },
  {
   "cell_type": "markdown",
   "metadata": {
    "id": "6FCh0V_OpsHy"
   },
   "source": [
    "# Contributors\n",
    "\n",
    "**Author**\n",
    "<br>Chee Lam"
   ]
  },
  {
   "cell_type": "markdown",
   "metadata": {
    "id": "a-FO358ZpsHy"
   },
   "source": [
    "# References\n",
    "\n",
    "1. [Learning Pandas](https://www.kaggle.com/learn/pandas)\n",
    "2. [Pandas Documentation](https://pandas.pydata.org/docs/reference/index.html)"
   ]
  }
 ],
 "metadata": {
  "colab": {
   "name": "01_creating-reading-and-writing.ipynb",
   "provenance": []
  },
  "kernelspec": {
   "display_name": "Python 3 (ipykernel)",
   "language": "python",
   "name": "python3"
  },
  "language_info": {
   "codemirror_mode": {
    "name": "ipython",
    "version": 3
   },
   "file_extension": ".py",
   "mimetype": "text/x-python",
   "name": "python",
   "nbconvert_exporter": "python",
   "pygments_lexer": "ipython3",
   "version": "3.9.6"
  },
  "papermill": {
   "duration": 8.261024,
   "end_time": "2020-10-01T01:29:22.791388",
   "environment_variables": {},
   "exception": null,
   "input_path": "__notebook__.ipynb",
   "output_path": "__notebook__.ipynb",
   "parameters": {},
   "start_time": "2020-10-01T01:29:14.530364",
   "version": "2.1.0"
  }
 },
 "nbformat": 4,
 "nbformat_minor": 1
}
